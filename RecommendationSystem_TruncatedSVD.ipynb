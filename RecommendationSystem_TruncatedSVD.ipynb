{
  "nbformat": 4,
  "nbformat_minor": 0,
  "metadata": {
    "kernelspec": {
      "display_name": "Python 3",
      "language": "python",
      "name": "python3"
    },
    "language_info": {
      "codemirror_mode": {
        "name": "ipython",
        "version": 3
      },
      "file_extension": ".py",
      "mimetype": "text/x-python",
      "name": "python",
      "nbconvert_exporter": "python",
      "pygments_lexer": "ipython3",
      "version": "3.6.8"
    },
    "colab": {
      "name": "RecommendationSystem_TruncatedSVD.ipynb",
      "provenance": [],
      "collapsed_sections": [],
      "include_colab_link": true
    }
  },
  "cells": [
    {
      "cell_type": "markdown",
      "metadata": {
        "id": "view-in-github",
        "colab_type": "text"
      },
      "source": [
        "<a href=\"https://colab.research.google.com/github/Amrith-ops/Identify-the-Sentiment/blob/master/RecommendationSystem_TruncatedSVD.ipynb\" target=\"_parent\"><img src=\"https://colab.research.google.com/assets/colab-badge.svg\" alt=\"Open In Colab\"/></a>"
      ]
    },
    {
      "cell_type": "markdown",
      "metadata": {
        "id": "LkXTlOM142FH",
        "colab_type": "text"
      },
      "source": [
        "\n",
        "\n",
        "\n",
        "\n",
        "\n",
        "\n",
        "\n",
        "\n",
        "\n",
        "\n",
        "\n",
        "\n",
        "\n",
        "\n",
        "\n",
        "\n",
        "\n",
        "\n",
        "\n",
        "\n",
        "\n",
        "\n",
        "\n",
        "\n",
        "\n",
        "\n",
        "\n",
        "\n",
        "\n",
        "\n",
        "\n",
        "\n",
        "\n",
        "\n",
        "\n",
        "\n",
        "\n",
        "\n",
        "\n",
        "\n",
        "\n",
        "\n",
        "\n",
        "\n",
        "\n",
        "\n",
        "\n",
        "\n",
        "\n",
        "\n",
        "\n",
        "\n",
        "\n",
        "\n",
        "\n",
        "\n",
        "\n",
        "\n",
        "\n",
        "\n",
        "\n",
        "\n",
        "\n",
        "\n",
        "\n",
        "\n",
        "\n",
        "\n",
        "\n",
        "\n",
        "\n",
        "\n",
        "\n",
        "\n",
        "\n",
        "\n",
        "\n",
        "\n",
        "\n",
        "\n",
        "\n",
        "\n",
        "\n",
        "\n",
        "\n",
        "\n",
        "\n",
        "\n",
        "\n",
        "\n",
        "\n",
        "\n",
        "\n",
        "\n",
        "\n",
        "\n",
        "\n",
        "\n",
        "\n",
        "\n",
        "\n",
        "\n",
        "\n",
        "\n",
        "\n",
        "\n",
        "\n",
        "\n",
        "\n",
        "\n",
        "\n",
        "\n",
        "\n",
        "\n",
        "\n",
        "\n",
        "# SGD Algorithm to predict movie ratings"
      ]
    },
    {
      "cell_type": "markdown",
      "metadata": {
        "id": "5pveXiAD42FJ",
        "colab_type": "text"
      },
      "source": [
        "<pre>\n",
        "1. Download the data from <a href='https://drive.google.com/open?id=1-1z7iDB52cB6_JpO7Dqa-eOYSs-mivpq'> here </a>\n",
        "2. the data will be of this formate, each data point is represented as a triplet of user_id, movie_id and rating \n",
        "<table>\n",
        "<tr><th>user_id</th><th>movie_id</th><th>rating</th></tr>\n",
        "<tr><td>77</td><td>236</td><td>3</td></tr>\n",
        "<tr><td>471</td><td>208</td><td>5</td></tr>\n",
        "<tr><td>641</td><td>401</td><td>4</td></tr>\n",
        "<tr><td>31</td><td>298</td><td>4</td></tr>\n",
        "<tr><td>58</td><td>504</td><td>5</td></tr>\n",
        "<tr><td>235</td><td>727</td><td>5</td></tr>\n",
        "</table>\n",
        "<h3>task 1: Predict the rating for a given (user_id, movie_id) pair</h3>\n",
        "</pre>\n",
        "<ul>\n",
        "<li><span class=\"math\">\\(\\mu\\)</span> : scalar mean rating</li>\n",
        "<li><span class=\"math\">\\(b_i\\)</span> : scalar bias term for user <span class=\"math\">\\(i\\)</span></li>\n",
        "<li><span class=\"math\">\\(c_j\\)</span> : scalar bias term for movie <span class=\"math\">\\(j\\)</span></li>\n",
        "<li><span class=\"math\">\\(u_i\\)</span> : K-dimensional vector for user <span class=\"math\">\\(i\\)</span></li>\n",
        "<li><span class=\"math\">\\(v_j\\)</span> : K-dimensional vector for movie <span class=\"math\">\\(j\\)</span></li>\n",
        "</ul>\n",
        "then the predicted rating $\\hat{y}_{ij}$ for user i, movied j pair is calcuated as $\\hat{y}_{ij} = \\mu + b_i + c_j + u_i^T v_j$ here we will be finding the best values of $b_{i}$ and $c_{j}$ using SGD algorithm with the optimization problem for N users and M movies is defined as\n",
        "\n",
        "\n",
        "$$\n",
        "L = \\min_{ b, c, \\{ u_i \\}_{i=1}^N, \\{ v_j \\}_{j=1}^M}\n",
        "\\quad\n",
        "\\alpha \\Big(\n",
        "    \\sum_{j} \\sum_{k} v_{jk}^2 \n",
        "    + \\sum_{i} \\sum_{k} u_{ik}^2 \n",
        "    + \\sum_{i} b_i^2\n",
        "    + \\sum_{j} c_i^2\n",
        "    \\Big)\n",
        "+ \\sum_{i,j \\in \\mathcal{I}^{\\text{train}}}\n",
        "    (y_{ij} - \\mu - b_i - c_j - u_i^T v_j)^2\n",
        "$$\n",
        "\n",
        "### TASK: 1\n",
        "__SGD Algorithm to minimize the loss__\n",
        "1. for each unique user initilize a bias value $B_{i}$ randomly, so if we have $N$ users $B$ will be a $N$ dimensional vector, the $i^{th}$ value of the $B$ will corresponds to the bias term for $i^{th}$ user\n",
        "\n",
        "2. for each unique movie initilize a bias value $C_{j}$ randomly, so if we have $M$ movies $C$ will be a $M$ dimensional vector, the $j^{th}$ value of the $C$ will corresponds to the bias term for $j^{th}$ movie\n",
        "\n",
        "3. Construct adjacency matrix with the given data, assumeing its  <a href='https://en.wikipedia.org/wiki/Bipartite_graph'> weighted un-directed bi-partited graph</a> and the weight of each edge is the rating given by user to the movie\n",
        "<img src='https://i.imgur.com/rmUCGMb.jpg' width=200>\n",
        "you can construct this matrix like $A[i][j]=r_{ij}$ here $i$ is user_id, $j$ is movie_id and $r_{ij}$ is rating given by user $i$ to the movie $j$\n",
        "\n",
        "4. we will Apply SVD decomposition on the Adjaceny matrix <a href='https://stackoverflow.com/a/31528944/4084039'>link1</a>, <a href='https://machinelearningmastery.com/singular-value-decomposition-for-machine-learning/'> link2</a> and get three matrices $U, \\sum, V$ such that $U \\times \\sum \\times V^T = A$, <br> \n",
        "if $A$ is of dimensions $N \\times M$ then <br>\n",
        "U is of $N \\times k$, <br>\n",
        "$\\sum$ is of $k \\times k$ and <br>\n",
        "$V$ is $M \\times k$ dimensions. <br>\n",
        "\n",
        "5. So the matrix $U$ can be represented as matrix representation of users, where each row $u_{i}$ represents a k-dimensional vector for a user\n",
        "\n",
        "6. So the matrix $V$ can be represented as matrix representation of movies, where each row $v_{j}$ represents a k-dimensional vector for a movie\n",
        "\n",
        "7. $\\mu$ represents the mean of all the rating given in the dataset\n",
        "</pre>\n",
        "\n",
        "<br>8.\n",
        "<pre>\n",
        "for each epoch:\n",
        "    for each pair of (user, movie):\n",
        "        b_i =  b_i - learning_rate * dL/db_i\n",
        "        c_j =  c_j - learning_rate * dL/dc_j\n",
        "    predict the ratings with formula</pre>$\\hat{y}_{ij} = \\mu + b_i + c_j + \\text{dot_product}(u_i , v_j) $\n",
        " <pre>\n",
        "    print the mean squared error with predicted ratings\n",
        "    </pre>\n",
        "\n",
        "9. you can choose any learning rate and regularization term in the range $10^{-3}  \\text{ to } 10^2$  <br>\n",
        "\n",
        "10. __bonus__: instead of using SVD decomposition you can learn the vectors $u_i$, $v_j$ with the help of SGD algo similar to $b_i$ and $c_j$ \n",
        "### TASK: 2\n",
        "\n",
        "As we know U is the learned matrix of user vectors, with its i-th row as the vector ui for user i. Each row of U can be seen as a \"feature vector\" for a particular user.\n",
        "\n",
        "The question we'd like to investigate is this: do our computed per-user features that are optimized for predicting movie ratings contain anything to do with gender?\n",
        "\n",
        "The provided data file <a href='https://drive.google.com/open?id=1PHFdJh_4gIPiLH5Q4UErH8GK71hTrzlY'>user_info.csv</a> contains an is_male column indicating which users in the dataset are male. Can you predict this signal given the features U?\n",
        "\n",
        "\n",
        "> __Note 1__ : there is no train test split in the data, the goal of this assignment is to give an intution about how to do matrix factorization with the help of SGD and application of truncated SVD. for better understanding of the collabarative fillerting please check netflix case study. <br><br>\n",
        "> __Note 2__ : Check if scaling of $U$, $V$ matrices improve the metric "
      ]
    },
    {
      "cell_type": "code",
      "metadata": {
        "id": "1GB_NZT542FL",
        "colab_type": "code",
        "colab": {},
        "outputId": "c33c2d4a-7af2-4c2c-9249-b0167a086a50"
      },
      "source": [
        "import pandas as pd\n",
        "data = pd.read_csv('ratings_train.csv')\n",
        "data.shape"
      ],
      "execution_count": null,
      "outputs": [
        {
          "output_type": "execute_result",
          "data": {
            "text/plain": [
              "(89992, 3)"
            ]
          },
          "metadata": {
            "tags": []
          },
          "execution_count": 22
        }
      ]
    },
    {
      "cell_type": "code",
      "metadata": {
        "id": "t_lHKVD342FP",
        "colab_type": "code",
        "colab": {},
        "outputId": "2d8b1b67-4692-4deb-99be-e65f821a017b"
      },
      "source": [
        "from sklearn.utils.extmath import randomized_svd\n",
        "import numpy as np \n",
        "matrix = np.random.random((20, 10))\n",
        "U, Sigma, VT = randomized_svd(matrix, n_components=5,n_iter=5, random_state=None)\n",
        "print(U.shape)\n",
        "print(Sigma.shape)\n",
        "print(VT.T.shape)"
      ],
      "execution_count": null,
      "outputs": [
        {
          "output_type": "stream",
          "text": [
            "(20, 5)\n",
            "(5,)\n",
            "(10, 5)\n"
          ],
          "name": "stdout"
        }
      ]
    },
    {
      "cell_type": "code",
      "metadata": {
        "id": "uvV92tMB_ew2",
        "colab_type": "code",
        "colab": {}
      },
      "source": [
        "!pip install -U -q PyDrive\n",
        "from pydrive.auth import GoogleAuth\n",
        "from pydrive.drive import GoogleDrive\n",
        "from google.colab import auth\n",
        "from oauth2client.client import GoogleCredentials"
      ],
      "execution_count": null,
      "outputs": []
    },
    {
      "cell_type": "code",
      "metadata": {
        "id": "6wXe9MCP_ixq",
        "colab_type": "code",
        "colab": {}
      },
      "source": [
        "auth.authenticate_user()\n",
        "gauth = GoogleAuth()\n",
        "gauth.credentials = GoogleCredentials.get_application_default()\n",
        "drive = GoogleDrive(gauth)"
      ],
      "execution_count": null,
      "outputs": []
    },
    {
      "cell_type": "code",
      "metadata": {
        "id": "8HlPH96k_prl",
        "colab_type": "code",
        "colab": {}
      },
      "source": [
        "downloaded = drive.CreateFile({'id':'1-1z7iDB52cB6_JpO7Dqa-eOYSs-mivpq'}) # replace the id with id of file you want to access\n",
        "downloaded.GetContentFile('ratings_train.csv')"
      ],
      "execution_count": null,
      "outputs": []
    },
    {
      "cell_type": "code",
      "metadata": {
        "id": "5hpAHl0sAATo",
        "colab_type": "code",
        "colab": {
          "base_uri": "https://localhost:8080/",
          "height": 221
        },
        "outputId": "b94bd23a-ce64-4236-d7b6-8abb38c521d8"
      },
      "source": [
        "import pandas as pd\n",
        "import numpy as np\n",
        "ratings=pd.read_csv('ratings_train.csv')\n",
        "print(ratings.shape)\n",
        "ratings.head()\n"
      ],
      "execution_count": null,
      "outputs": [
        {
          "output_type": "stream",
          "text": [
            "(89992, 3)\n"
          ],
          "name": "stdout"
        },
        {
          "output_type": "execute_result",
          "data": {
            "text/html": [
              "<div>\n",
              "<style scoped>\n",
              "    .dataframe tbody tr th:only-of-type {\n",
              "        vertical-align: middle;\n",
              "    }\n",
              "\n",
              "    .dataframe tbody tr th {\n",
              "        vertical-align: top;\n",
              "    }\n",
              "\n",
              "    .dataframe thead th {\n",
              "        text-align: right;\n",
              "    }\n",
              "</style>\n",
              "<table border=\"1\" class=\"dataframe\">\n",
              "  <thead>\n",
              "    <tr style=\"text-align: right;\">\n",
              "      <th></th>\n",
              "      <th>user_id</th>\n",
              "      <th>item_id</th>\n",
              "      <th>rating</th>\n",
              "    </tr>\n",
              "  </thead>\n",
              "  <tbody>\n",
              "    <tr>\n",
              "      <th>0</th>\n",
              "      <td>772</td>\n",
              "      <td>36</td>\n",
              "      <td>3</td>\n",
              "    </tr>\n",
              "    <tr>\n",
              "      <th>1</th>\n",
              "      <td>471</td>\n",
              "      <td>228</td>\n",
              "      <td>5</td>\n",
              "    </tr>\n",
              "    <tr>\n",
              "      <th>2</th>\n",
              "      <td>641</td>\n",
              "      <td>401</td>\n",
              "      <td>4</td>\n",
              "    </tr>\n",
              "    <tr>\n",
              "      <th>3</th>\n",
              "      <td>312</td>\n",
              "      <td>98</td>\n",
              "      <td>4</td>\n",
              "    </tr>\n",
              "    <tr>\n",
              "      <th>4</th>\n",
              "      <td>58</td>\n",
              "      <td>504</td>\n",
              "      <td>5</td>\n",
              "    </tr>\n",
              "  </tbody>\n",
              "</table>\n",
              "</div>"
            ],
            "text/plain": [
              "   user_id  item_id  rating\n",
              "0      772       36       3\n",
              "1      471      228       5\n",
              "2      641      401       4\n",
              "3      312       98       4\n",
              "4       58      504       5"
            ]
          },
          "metadata": {
            "tags": []
          },
          "execution_count": 14
        }
      ]
    },
    {
      "cell_type": "code",
      "metadata": {
        "id": "ggv6wUoZW0iS",
        "colab_type": "code",
        "colab": {}
      },
      "source": [
        "downloaded = drive.CreateFile({'id':'1RFjjrXS1qCWCc_yx8KDJJtVSxs_khLYS'}) # replace the id with id of file you want to access\n",
        "downloaded.GetContentFile('Copy of user_info.csv')"
      ],
      "execution_count": null,
      "outputs": []
    },
    {
      "cell_type": "code",
      "metadata": {
        "id": "xBXyxzF2aRXm",
        "colab_type": "code",
        "colab": {
          "base_uri": "https://localhost:8080/",
          "height": 204
        },
        "outputId": "6089c90e-7e06-460d-ee65-0a37d12e0946"
      },
      "source": [
        "user_male=pd.read_csv('Copy of user_info.csv',sep=',',header=None)\n",
        "user_male.columns=user_male.loc[0,:]\n",
        "user_male.head()\n",
        "user_male=user_male.loc[1:,:]\n",
        "user_male.head()"
      ],
      "execution_count": null,
      "outputs": [
        {
          "output_type": "execute_result",
          "data": {
            "text/html": [
              "<div>\n",
              "<style scoped>\n",
              "    .dataframe tbody tr th:only-of-type {\n",
              "        vertical-align: middle;\n",
              "    }\n",
              "\n",
              "    .dataframe tbody tr th {\n",
              "        vertical-align: top;\n",
              "    }\n",
              "\n",
              "    .dataframe thead th {\n",
              "        text-align: right;\n",
              "    }\n",
              "</style>\n",
              "<table border=\"1\" class=\"dataframe\">\n",
              "  <thead>\n",
              "    <tr style=\"text-align: right;\">\n",
              "      <th></th>\n",
              "      <th>user_id</th>\n",
              "      <th>age</th>\n",
              "      <th>is_male</th>\n",
              "      <th>orig_user_id</th>\n",
              "    </tr>\n",
              "  </thead>\n",
              "  <tbody>\n",
              "    <tr>\n",
              "      <th>1</th>\n",
              "      <td>0</td>\n",
              "      <td>24</td>\n",
              "      <td>1</td>\n",
              "      <td>1</td>\n",
              "    </tr>\n",
              "    <tr>\n",
              "      <th>2</th>\n",
              "      <td>1</td>\n",
              "      <td>53</td>\n",
              "      <td>0</td>\n",
              "      <td>2</td>\n",
              "    </tr>\n",
              "    <tr>\n",
              "      <th>3</th>\n",
              "      <td>2</td>\n",
              "      <td>23</td>\n",
              "      <td>1</td>\n",
              "      <td>3</td>\n",
              "    </tr>\n",
              "    <tr>\n",
              "      <th>4</th>\n",
              "      <td>3</td>\n",
              "      <td>24</td>\n",
              "      <td>1</td>\n",
              "      <td>4</td>\n",
              "    </tr>\n",
              "    <tr>\n",
              "      <th>5</th>\n",
              "      <td>4</td>\n",
              "      <td>33</td>\n",
              "      <td>0</td>\n",
              "      <td>5</td>\n",
              "    </tr>\n",
              "  </tbody>\n",
              "</table>\n",
              "</div>"
            ],
            "text/plain": [
              "0 user_id age is_male orig_user_id\n",
              "1       0  24       1            1\n",
              "2       1  53       0            2\n",
              "3       2  23       1            3\n",
              "4       3  24       1            4\n",
              "5       4  33       0            5"
            ]
          },
          "metadata": {
            "tags": []
          },
          "execution_count": 92
        }
      ]
    },
    {
      "cell_type": "code",
      "metadata": {
        "id": "48a3TkBjDVoN",
        "colab_type": "code",
        "colab": {
          "base_uri": "https://localhost:8080/",
          "height": 34
        },
        "outputId": "7d8dba9f-5854-4444-86c8-84a078abcda6"
      },
      "source": [
        "user=ratings['user_id'].values\n",
        "user_unique,user_count=np.unique(user,return_counts=True)\n",
        "print(len(user_unique),'total number of users')"
      ],
      "execution_count": null,
      "outputs": [
        {
          "output_type": "stream",
          "text": [
            "943 total number of users\n"
          ],
          "name": "stdout"
        }
      ]
    },
    {
      "cell_type": "markdown",
      "metadata": {
        "id": "M46VCT5rEPvK",
        "colab_type": "text"
      },
      "source": [
        "Do lot of people watch lots of movies or does only some people watch lots of movies?"
      ]
    },
    {
      "cell_type": "code",
      "metadata": {
        "id": "4iDJjLJ6EauF",
        "colab_type": "code",
        "colab": {
          "base_uri": "https://localhost:8080/",
          "height": 282
        },
        "outputId": "b41db9a0-acc5-461f-b8fe-5081b7d9c3bf"
      },
      "source": [
        "import matplotlib.pyplot as plt\n",
        "import seaborn as sb\n",
        "user_sb=sb.distplot(user_count)\n",
        "user_sb"
      ],
      "execution_count": null,
      "outputs": [
        {
          "output_type": "execute_result",
          "data": {
            "text/plain": [
              "<matplotlib.axes._subplots.AxesSubplot at 0x7f58cc936d68>"
            ]
          },
          "metadata": {
            "tags": []
          },
          "execution_count": 9
        },
        {
          "output_type": "display_data",
          "data": {
            "image/png": "[encoded data removed]",
            "text/plain": [
              "<Figure size 432x288 with 1 Axes>"
            ]
          },
          "metadata": {
            "tags": []
          }
        }
      ]
    },
    {
      "cell_type": "code",
      "metadata": {
        "id": "FkGNjJ2VFr5C",
        "colab_type": "code",
        "colab": {
          "base_uri": "https://localhost:8080/",
          "height": 405
        },
        "outputId": "e8df21bd-4002-48f2-f464-0bd126488438"
      },
      "source": [
        "percentile=np.percentile(user_count,np.arange(0,110,10))\n",
        "percent=np.arange(0,110,10)\n",
        "fig,(ax1,ax2)=plt.subplots(nrows=1,ncols=2,figsize=(10,6))\n",
        "ax1.plot(percent,percentile)\n",
        "ax1.set_xlabel('percentile')\n",
        "ax1.set_ylabel('No of movies watched by each user')\n",
        "percentile1=np.percentile(user_count,np.arange(90,101,1))\n",
        "percent1=np.arange(90,101,1)\n",
        "ax2.plot(percent1,percentile1)\n",
        "ax2.set_xlabel('percentile')\n",
        "ax2.set_ylabel('No of movies watched by each user')\n"
      ],
      "execution_count": null,
      "outputs": [
        {
          "output_type": "execute_result",
          "data": {
            "text/plain": [
              "Text(0, 0.5, 'No of movies watched by each user')"
            ]
          },
          "metadata": {
            "tags": []
          },
          "execution_count": 27
        },
        {
          "output_type": "display_data",
          "data": {
            "image/png": "[encoded data removed]",
            "text/plain": [
              "<Figure size 720x432 with 2 Axes>"
            ]
          },
          "metadata": {
            "tags": []
          }
        }
      ]
    },
    {
      "cell_type": "markdown",
      "metadata": {
        "id": "N-kPJP8JTE3W",
        "colab_type": "text"
      },
      "source": [
        "Observation:\n",
        "90 percent of the people watch less than or equal to 200 movies.\n",
        "5 percent of the people watch more than or equal to 300 movies.\n",
        "less than one percent of people watch more than 600 movies.\n",
        "Since most of the users watch very less movies,our user movie matrix will have lot of empty values so it will be a sparse matrix."
      ]
    },
    {
      "cell_type": "markdown",
      "metadata": {
        "id": "uKD-ANdfUEnT",
        "colab_type": "text"
      },
      "source": [
        "Do lot of movies watched by lot of people or does only few movies are watched by lots of users"
      ]
    },
    {
      "cell_type": "code",
      "metadata": {
        "id": "2vtlnhzUUd9_",
        "colab_type": "code",
        "colab": {
          "base_uri": "https://localhost:8080/",
          "height": 34
        },
        "outputId": "74a40491-cc2f-4287-ae4a-605846f55f03"
      },
      "source": [
        "movie_unique,count_movie=np.unique(ratings['item_id'].values,return_counts=True)\n",
        "print(len(movie_unique),'total number of movies')\n"
      ],
      "execution_count": null,
      "outputs": [
        {
          "output_type": "stream",
          "text": [
            "1662 total number of movies\n"
          ],
          "name": "stdout"
        }
      ]
    },
    {
      "cell_type": "code",
      "metadata": {
        "id": "8QAOXlBKU1sL",
        "colab_type": "code",
        "colab": {
          "base_uri": "https://localhost:8080/",
          "height": 34
        },
        "outputId": "92520d49-8787-418b-90c7-7ee34433d497"
      },
      "source": [
        "print(count_movie)"
      ],
      "execution_count": null,
      "outputs": [
        {
          "output_type": "stream",
          "text": [
            "[406 116  86 ...   1   1   1]\n"
          ],
          "name": "stdout"
        }
      ]
    },
    {
      "cell_type": "code",
      "metadata": {
        "id": "w8fLG1jqVCd_",
        "colab_type": "code",
        "colab": {
          "base_uri": "https://localhost:8080/",
          "height": 265
        },
        "outputId": "dd96669f-1b0e-41ae-8b5a-e83eec472674"
      },
      "source": [
        "movies_sb=sb.distplot(count_movie)"
      ],
      "execution_count": null,
      "outputs": [
        {
          "output_type": "display_data",
          "data": {
            "image/png": "[encoded data removed]",
            "text/plain": [
              "<Figure size 432x288 with 1 Axes>"
            ]
          },
          "metadata": {
            "tags": []
          }
        }
      ]
    },
    {
      "cell_type": "code",
      "metadata": {
        "id": "pK1NQNtdV2eR",
        "colab_type": "code",
        "colab": {
          "base_uri": "https://localhost:8080/",
          "height": 405
        },
        "outputId": "c6ccc953-63e6-4551-bdd0-958f32503d23"
      },
      "source": [
        "movie_percentile=np.percentile(count_movie,np.arange(0,110,10))\n",
        "per_movie=np.arange(0,110,10)\n",
        "movie_percentile1=np.percentile(count_movie,np.arange(90,101,1))\n",
        "per_movie1=np.arange(90,101,1)\n",
        "fig,(ax3,ax4)=plt.subplots(1,2,figsize=(10,6))\n",
        "ax3.plot(per_movie,movie_percentile)\n",
        "ax3.set_xlabel('Percentile')\n",
        "ax3.set_ylabel('No of users watched a given movie')\n",
        "ax4.plot(per_movie1,movie_percentile1)\n",
        "ax4.set_xlabel('Percentile')\n",
        "ax4.set_ylabel('No of users watched a given movie')"
      ],
      "execution_count": null,
      "outputs": [
        {
          "output_type": "execute_result",
          "data": {
            "text/plain": [
              "Text(0, 0.5, 'No of users watched a given movie')"
            ]
          },
          "metadata": {
            "tags": []
          },
          "execution_count": 35
        },
        {
          "output_type": "display_data",
          "data": {
            "image/png": "[encoded data removed]",
            "text/plain": [
              "<Figure size 720x432 with 2 Axes>"
            ]
          },
          "metadata": {
            "tags": []
          }
        }
      ]
    },
    {
      "cell_type": "markdown",
      "metadata": {
        "id": "NKgxaDrCYMxs",
        "colab_type": "text"
      },
      "source": [
        "Observation:\n",
        "85% of the movies are watched by less than 100 users.\n",
        "Only 3% of the movies are watched by 300 users.\n",
        "Less than one percent of the movies are watched by greater than 500 users"
      ]
    },
    {
      "cell_type": "markdown",
      "metadata": {
        "id": "FfCFrcSHYt3P",
        "colab_type": "text"
      },
      "source": [
        "#Which ratings are given most by the people?"
      ]
    },
    {
      "cell_type": "code",
      "metadata": {
        "id": "xE3yRYL_dCNy",
        "colab_type": "code",
        "colab": {
          "base_uri": "https://localhost:8080/",
          "height": 367
        },
        "outputId": "42f3301a-7914-4d10-917e-cd6d03b40972"
      },
      "source": [
        "count_rating=ratings['rating'].value_counts()\n",
        "print(count_rating)\n",
        "rating_sb=sb.barplot(x=count_rating.keys(),y=count_rating.values)"
      ],
      "execution_count": null,
      "outputs": [
        {
          "output_type": "stream",
          "text": [
            "4    30771\n",
            "3    24412\n",
            "5    19062\n",
            "2    10248\n",
            "1     5499\n",
            "Name: rating, dtype: int64\n"
          ],
          "name": "stdout"
        },
        {
          "output_type": "display_data",
          "data": {
            "image/png": "[encoded data removed]",
            "text/plain": [
              "<Figure size 432x288 with 1 Axes>"
            ]
          },
          "metadata": {
            "tags": []
          }
        }
      ]
    },
    {
      "cell_type": "code",
      "metadata": {
        "id": "CekoQgXAJzUP",
        "colab_type": "code",
        "colab": {
          "base_uri": "https://localhost:8080/",
          "height": 204
        },
        "outputId": "cbf98fe3-8c74-455b-b2cd-08ac21dfb645"
      },
      "source": [
        "ratings.head(20)\n",
        "ratings=ratings.reset_index(drop=True)\n",
        "ratings.head(10)\n",
        "movie_user=ratings\n",
        "y=movie_user['rating']\n",
        "movie_user.drop(columns='rating')\n",
        "movie_user.head()"
      ],
      "execution_count": null,
      "outputs": [
        {
          "output_type": "execute_result",
          "data": {
            "text/html": [
              "<div>\n",
              "<style scoped>\n",
              "    .dataframe tbody tr th:only-of-type {\n",
              "        vertical-align: middle;\n",
              "    }\n",
              "\n",
              "    .dataframe tbody tr th {\n",
              "        vertical-align: top;\n",
              "    }\n",
              "\n",
              "    .dataframe thead th {\n",
              "        text-align: right;\n",
              "    }\n",
              "</style>\n",
              "<table border=\"1\" class=\"dataframe\">\n",
              "  <thead>\n",
              "    <tr style=\"text-align: right;\">\n",
              "      <th></th>\n",
              "      <th>user_id</th>\n",
              "      <th>item_id</th>\n",
              "      <th>rating</th>\n",
              "    </tr>\n",
              "  </thead>\n",
              "  <tbody>\n",
              "    <tr>\n",
              "      <th>0</th>\n",
              "      <td>772</td>\n",
              "      <td>36</td>\n",
              "      <td>3</td>\n",
              "    </tr>\n",
              "    <tr>\n",
              "      <th>1</th>\n",
              "      <td>471</td>\n",
              "      <td>228</td>\n",
              "      <td>5</td>\n",
              "    </tr>\n",
              "    <tr>\n",
              "      <th>2</th>\n",
              "      <td>641</td>\n",
              "      <td>401</td>\n",
              "      <td>4</td>\n",
              "    </tr>\n",
              "    <tr>\n",
              "      <th>3</th>\n",
              "      <td>312</td>\n",
              "      <td>98</td>\n",
              "      <td>4</td>\n",
              "    </tr>\n",
              "    <tr>\n",
              "      <th>4</th>\n",
              "      <td>58</td>\n",
              "      <td>504</td>\n",
              "      <td>5</td>\n",
              "    </tr>\n",
              "  </tbody>\n",
              "</table>\n",
              "</div>"
            ],
            "text/plain": [
              "   user_id  item_id  rating\n",
              "0      772       36       3\n",
              "1      471      228       5\n",
              "2      641      401       4\n",
              "3      312       98       4\n",
              "4       58      504       5"
            ]
          },
          "metadata": {
            "tags": []
          },
          "execution_count": 15
        }
      ]
    },
    {
      "cell_type": "code",
      "metadata": {
        "id": "27hh-DXqqw3p",
        "colab_type": "code",
        "colab": {
          "base_uri": "https://localhost:8080/",
          "height": 136
        },
        "outputId": "7569ebb9-856b-4687-d253-54da020a124f"
      },
      "source": [
        "from sklearn.model_selection import train_test_split\n",
        "X_train,X_cv,y_train,y_cv=train_test_split(movie_user,y,test_size=0.3,random_state=21)\n",
        "print(X_train.shape,y_train.shape)\n",
        "print(X_cv.shape,y_cv.shape)\n",
        "X_trunique=np.unique(X_train['user_id'].values)\n",
        "X_trunique=set(X_trunique)\n",
        "X_cvunique=np.unique(X_cv['user_id'].values)\n",
        "X_cvunique=set(X_cvunique)\n",
        "X_diffuser=len(X_cvunique-X_trunique)\n",
        "print(X_diffuser)  #No of points which are there in test data but not in train data are Zero so no Coldstart problem\n",
        "print(len(X_trunique-X_cvunique)) #All points which are there in train data present in test data also for users\n",
        "X_movunique=np.unique(X_train['item_id'].values)\n",
        "Xcv_movunique=np.unique(X_cv['item_id'].values)\n",
        "X_movunique=set(X_movunique)\n",
        "Xcv_movunique=set(Xcv_movunique)\n",
        "print(len(Xcv_movunique-X_movunique))#No of points which are there in test data but not in train data\n",
        "print(len(X_movunique-Xcv_movunique)) #No of points which are there in train data but not in test data\n",
        "#Unfortunately there are 34 points in test data which are not even seen in train data so there is a Cold start w.r.t movies\n",
        "print((len(Xcv_movunique-X_movunique)/(X_cv.shape[0]))*100,'% of points present in the Test data but not in Train data')"
      ],
      "execution_count": null,
      "outputs": [
        {
          "output_type": "stream",
          "text": [
            "(62994, 3) (62994,)\n",
            "(26998, 3) (26998,)\n",
            "0\n",
            "0\n",
            "57\n",
            "183\n",
            "0.21112675012963925 % of points present in the Test data but not in Train data\n"
          ],
          "name": "stdout"
        }
      ]
    },
    {
      "cell_type": "code",
      "metadata": {
        "id": "L3N9mH9KiNPH",
        "colab_type": "code",
        "colab": {
          "base_uri": "https://localhost:8080/",
          "height": 419
        },
        "outputId": "6093d0c4-ed53-4bce-b728-81a88bd949ab"
      },
      "source": [
        "X_train.loc[1129]\n",
        "X_train[X_train['user_id']==238].reset_index().sort_values(by='index')"
      ],
      "execution_count": null,
      "outputs": [
        {
          "output_type": "execute_result",
          "data": {
            "text/html": [
              "<div>\n",
              "<style scoped>\n",
              "    .dataframe tbody tr th:only-of-type {\n",
              "        vertical-align: middle;\n",
              "    }\n",
              "\n",
              "    .dataframe tbody tr th {\n",
              "        vertical-align: top;\n",
              "    }\n",
              "\n",
              "    .dataframe thead th {\n",
              "        text-align: right;\n",
              "    }\n",
              "</style>\n",
              "<table border=\"1\" class=\"dataframe\">\n",
              "  <thead>\n",
              "    <tr style=\"text-align: right;\">\n",
              "      <th></th>\n",
              "      <th>index</th>\n",
              "      <th>user_id</th>\n",
              "      <th>item_id</th>\n",
              "      <th>rating</th>\n",
              "    </tr>\n",
              "  </thead>\n",
              "  <tbody>\n",
              "    <tr>\n",
              "      <th>76</th>\n",
              "      <td>325</td>\n",
              "      <td>238</td>\n",
              "      <td>526</td>\n",
              "      <td>5</td>\n",
              "    </tr>\n",
              "    <tr>\n",
              "      <th>54</th>\n",
              "      <td>430</td>\n",
              "      <td>238</td>\n",
              "      <td>310</td>\n",
              "      <td>2</td>\n",
              "    </tr>\n",
              "    <tr>\n",
              "      <th>91</th>\n",
              "      <td>503</td>\n",
              "      <td>238</td>\n",
              "      <td>203</td>\n",
              "      <td>3</td>\n",
              "    </tr>\n",
              "    <tr>\n",
              "      <th>32</th>\n",
              "      <td>615</td>\n",
              "      <td>238</td>\n",
              "      <td>237</td>\n",
              "      <td>5</td>\n",
              "    </tr>\n",
              "    <tr>\n",
              "      <th>93</th>\n",
              "      <td>1129</td>\n",
              "      <td>238</td>\n",
              "      <td>64</td>\n",
              "      <td>5</td>\n",
              "    </tr>\n",
              "    <tr>\n",
              "      <th>...</th>\n",
              "      <td>...</td>\n",
              "      <td>...</td>\n",
              "      <td>...</td>\n",
              "      <td>...</td>\n",
              "    </tr>\n",
              "    <tr>\n",
              "      <th>4</th>\n",
              "      <td>87725</td>\n",
              "      <td>238</td>\n",
              "      <td>631</td>\n",
              "      <td>5</td>\n",
              "    </tr>\n",
              "    <tr>\n",
              "      <th>19</th>\n",
              "      <td>87789</td>\n",
              "      <td>238</td>\n",
              "      <td>113</td>\n",
              "      <td>3</td>\n",
              "    </tr>\n",
              "    <tr>\n",
              "      <th>59</th>\n",
              "      <td>88184</td>\n",
              "      <td>238</td>\n",
              "      <td>133</td>\n",
              "      <td>5</td>\n",
              "    </tr>\n",
              "    <tr>\n",
              "      <th>85</th>\n",
              "      <td>88768</td>\n",
              "      <td>238</td>\n",
              "      <td>480</td>\n",
              "      <td>3</td>\n",
              "    </tr>\n",
              "    <tr>\n",
              "      <th>41</th>\n",
              "      <td>89315</td>\n",
              "      <td>238</td>\n",
              "      <td>41</td>\n",
              "      <td>5</td>\n",
              "    </tr>\n",
              "  </tbody>\n",
              "</table>\n",
              "<p>96 rows × 4 columns</p>\n",
              "</div>"
            ],
            "text/plain": [
              "    index  user_id  item_id  rating\n",
              "76    325      238      526       5\n",
              "54    430      238      310       2\n",
              "91    503      238      203       3\n",
              "32    615      238      237       5\n",
              "93   1129      238       64       5\n",
              "..    ...      ...      ...     ...\n",
              "4   87725      238      631       5\n",
              "19  87789      238      113       3\n",
              "59  88184      238      133       5\n",
              "85  88768      238      480       3\n",
              "41  89315      238       41       5\n",
              "\n",
              "[96 rows x 4 columns]"
            ]
          },
          "metadata": {
            "tags": []
          },
          "execution_count": 25
        }
      ]
    },
    {
      "cell_type": "code",
      "metadata": {
        "id": "Bh2NjR84ST3K",
        "colab_type": "code",
        "colab": {
          "base_uri": "https://localhost:8080/",
          "height": 204
        },
        "outputId": "6ed96631-224b-4188-ffe8-73ca89ae69ea"
      },
      "source": [
        "ratings.info()\n",
        "print(X_cv.shape)"
      ],
      "execution_count": null,
      "outputs": [
        {
          "output_type": "stream",
          "text": [
            "<class 'pandas.core.frame.DataFrame'>\n",
            "RangeIndex: 89992 entries, 0 to 89991\n",
            "Data columns (total 3 columns):\n",
            " #   Column   Non-Null Count  Dtype\n",
            "---  ------   --------------  -----\n",
            " 0   user_id  89992 non-null  int64\n",
            " 1   item_id  89992 non-null  int64\n",
            " 2   rating   89992 non-null  int64\n",
            "dtypes: int64(3)\n",
            "memory usage: 2.1 MB\n",
            "(26998, 3)\n"
          ],
          "name": "stdout"
        }
      ]
    },
    {
      "cell_type": "code",
      "metadata": {
        "id": "ID6sNtqmNtk0",
        "colab_type": "code",
        "colab": {
          "base_uri": "https://localhost:8080/",
          "height": 34
        },
        "outputId": "de3019df-ecce-46cc-83b4-4faf021f899f"
      },
      "source": [
        "from scipy.sparse import csr_matrix\n",
        "no_movies=len(np.unique(ratings['item_id'].values))\n",
        "user_movie=csr_matrix((ratings['rating'].values,(ratings['user_id'].values,ratings['item_id'].values)),)\n",
        "print(user_movie.shape)"
      ],
      "execution_count": null,
      "outputs": [
        {
          "output_type": "stream",
          "text": [
            "(943, 1681)\n"
          ],
          "name": "stdout"
        }
      ]
    },
    {
      "cell_type": "code",
      "metadata": {
        "id": "Z5LOjMNn0Tuq",
        "colab_type": "code",
        "colab": {
          "base_uri": "https://localhost:8080/",
          "height": 51
        },
        "outputId": "4cf6e50e-843e-4d3f-f18d-cb08af987a85"
      },
      "source": [
        "alpha=[0.001,0.01,0.1,1,10,50]\n",
        "latent_factors=[60,70,80,90,100,110]\n",
        "hyperparameters=list(zip(alpha,latent_factors))\n",
        "print(hyperparameters)\n",
        "average_rating=np.mean(X_train['rating'].values)\n",
        "print(average_rating)"
      ],
      "execution_count": null,
      "outputs": [
        {
          "output_type": "stream",
          "text": [
            "[(0.001, 60), (0.01, 70), (0.1, 80), (1, 90), (10, 100), (50, 110)]\n",
            "3.5332253865447503\n"
          ],
          "name": "stdout"
        }
      ]
    },
    {
      "cell_type": "markdown",
      "metadata": {
        "id": "AHuiblYXyuUq",
        "colab_type": "text"
      },
      "source": [
        "Step1:decide the train dataset and cv dataset and build it.\n",
        "Check whether the data which is present in train dataset is also present in test dataset,because the values which are learned for  different parameters in train dataset will be used in test data.\n",
        "If any row or instance which is present in test data but not in train data,then take the average of parameter values(i.e user_bias or movie_bias). \n",
        "\n",
        "Step2:Taking batch size=1 in sgd algorithm.\n",
        "\n",
        "Step3:Choose the hyperparameter range.Here the hyperparameters are latent factors(i.e no of features for user or movie matrix) and regularization strength alpha.\n",
        "Decide number of epochs\n",
        "\n",
        "Step4:calculate the predicted value\n",
        "\n",
        "Step5:Calculate the loss on train and cv once weights are updated\n",
        "\n",
        "Step6:Average the training loss and test loss for all the batches.\n",
        "\n",
        "So for every epoch you get the average training and cv loss.\n",
        "\n",
        "Step7:Append the average loss to the epoch list and again average it.\n",
        "\n",
        "Step8:Finally that gives us loss vs hyperparameter\n"
      ]
    },
    {
      "cell_type": "markdown",
      "metadata": {
        "id": "KEL_qDN8GSbI",
        "colab_type": "text"
      },
      "source": [
        "Understanding the Recommendation Problem:\n",
        "\n",
        "Comparing the Machine learning problem approach and recommendation problem approach.In machine learning problem approach given a row/observation and a particular feature our job is find the appropriate weight to it.\n",
        "In recommendation problem,given a user and movie what is the rating to be given to missing values?\n",
        "\n",
        "The difference in recommendation problem is unlike in machine learning problem,\n",
        "we dont have a feature vector(i.e X) instead given with Yi values as,hence our task is to convert the recomendation problem to machine learning problem i.e take ratings as actual Yi value.Then build two matrices which are feature vectors for user and feature vector for movie hence they represent X and W matrices.\n",
        "Using the Yi and predicted Yi we have to optimize the given problem.\n",
        "Note: In machine learning problem we are just optimizing W values here we have to optimize two matrices i.e User and movie matrix(thinking them like X and W) values.\n"
      ]
    },
    {
      "cell_type": "code",
      "metadata": {
        "id": "zPoHZcKln031",
        "colab_type": "code",
        "colab": {
          "base_uri": "https://localhost:8080/",
          "height": 1000
        },
        "outputId": "0a46803b-863d-4559-c1b1-c10c6b28cb44"
      },
      "source": [
        "from tqdm import tqdm\n",
        "def recommendation_system(hyperparameters,no_users,no_movies,X_train,X_cv,eta,epoch,average_rating):\n",
        "  user_bias=np.zeros(no_users) #Array index corresponds to user_id and value inside it corresponds to user bias\n",
        "  movie_bias=np.zeros(no_movies) #Array index corresponds to movie_id and the value inside it corresponds to movie bias\n",
        "  hyperparameter_tr=[]\n",
        "  hyperparameter_cv=[]\n",
        "  for alpha,latent_factors in tqdm(hyperparameters):\n",
        "    user_matrix=np.random.uniform(low=-1,high=1,size=no_users*latent_factors).reshape(no_users,latent_factors) #Initializing the user and movie matrix with the values taken at random from Uniform distribution.\n",
        "    movie_matrix=np.random.uniform(low=-1,high=1,size=no_movies*latent_factors).reshape(no_movies,latent_factors)\n",
        "    epoch_losstr=[]    #These lists store epoch loss for train and test/cv data.\n",
        "    epoch_losscv=[]\n",
        "    for j in range(epoch):\n",
        "      print(j,'epoch')\n",
        "      train_loss=0\n",
        "      count=0\n",
        "      for index,series in X_train.iterrows():\n",
        "          count+=1\n",
        "          user=int(series[0])\n",
        "          item=int(series[1])\n",
        "          rating=int(series[2])\n",
        "          user_biasval=user_bias[user]       #Picking the values from user_bias and movie_bias and user_row,movie_row\n",
        "          movie_biasval=movie_bias[item]\n",
        "          user_matrixval=user_matrix[user,:]\n",
        "          movie_matrixval=movie_matrix[item,:]\n",
        "          dot=user_matrixval.dot(movie_matrixval.T)\n",
        "          predicted=average_rating+user_biasval+movie_biasval  #Using the average and user/movie bias and dot product b/w user and movie row we can have predicted value.\n",
        "          predicted=predicted+dot\n",
        "          gradient_user=(2*(rating-predicted)-2*alpha*user_biasval)  #Finding gradient/slope for each user and movie and user row and movie row and adding it to initial values.\n",
        "          user_bias[user]=user_biasval+eta*gradient_user\n",
        "          gradient_movie=(2*(rating-predicted)-2*alpha*movie_biasval)\n",
        "          movie_bias[item]=movie_biasval+eta*gradient_movie\n",
        "          gradient_usermatrix=(2*(rating-predicted)*movie_matrixval-2*alpha*user_matrixval)\n",
        "          user_matrix[user,:]=user_matrixval+eta*gradient_usermatrix\n",
        "          gradient_moviematrix=(2*(rating-predicted)*user_matrixval-2*alpha*movie_matrixval)\n",
        "          movie_matrix[item,:]=movie_matrixval+eta*gradient_moviematrix\n",
        "          train_loss+=(rating-predicted)**2                             #Calculating square loss for all points and averaging it over all points gives train loss.\n",
        "      train_loss=train_loss/(X_train.shape[0])\n",
        "      epoch_losstr.append(train_loss)\n",
        "      print(epoch_losstr,'trainloss')\n",
        "      cv_loss=0\n",
        "      for index1,series1 in X_cv.iterrows():\n",
        "        user1=series1[0]\n",
        "        item1=series1[1]\n",
        "        rating1=series1[2]\n",
        "        if not any((X_train['item_id']==item1)):    #While doing data analysis i found that there are some movie items which are present in test data but not train data\n",
        "          moviecv_biasval=np.mean(movie_bias)       #Hence finding such values,filling it with average of all movie_bias values because these dont have any learned parameters while training.\n",
        "        else:\n",
        "          moviecv_biasval=movie_bias[item1]\n",
        "        usercv_biasval=user_bias[user1]\n",
        "        usercv_matrixval=user_matrix[user1]\n",
        "        moviecv_matrixval=movie_matrix[item1]\n",
        "        predictedcv=average_rating+usercv_biasval+moviecv_biasval+usercv_matrixval.dot(moviecv_matrixval.T)\n",
        "        cv_loss+=(rating1-predicted)**2\n",
        "      cv_loss=cv_loss/(X_cv.shape[0])\n",
        "      epoch_losscv.append(cv_loss)                    #Finding average cv loss and appending to epoch loss list\n",
        "      print(epoch_losscv,'losscv')\n",
        "    epochtr_average=np.array(epoch_losstr).mean()\n",
        "    epochcv_average=np.array(epoch_losscv).mean()\n",
        "  hyperparameter_tr.append(epochtr_average)          #Average all the epoch loss of train and cv to give the hyperparameters vs loss in train and test data.\n",
        "  hyperparameter_cv.append(epochcv_average)\n",
        "  return(hyperparameter_tr,hyperparameter_cv)\n",
        "\n",
        "hyperparameter_tr,hyperparameter_cv=recommendation_system(hyperparameters,943,1681,X_train,X_cv,0.001,10,average_rating)"
      ],
      "execution_count": null,
      "outputs": [
        {
          "output_type": "stream",
          "text": [
            "\n",
            "\n",
            "\n",
            "\n",
            "\n",
            "\n",
            "\n",
            "\n",
            "\n",
            "\n",
            "\n",
            "\n",
            "\n",
            "\n",
            "\n",
            "  0%|          | 0/6 [00:00<?, ?it/s]\u001b[A\u001b[A\u001b[A\u001b[A\u001b[A\u001b[A\u001b[A\u001b[A\u001b[A\u001b[A\u001b[A\u001b[A\u001b[A\u001b[A\u001b[A"
          ],
          "name": "stderr"
        },
        {
          "output_type": "stream",
          "text": [
            "0 epoch\n",
            "[6.947325033161882] trainloss\n",
            "[2.3032648411304524] losscv\n",
            "1 epoch\n",
            "[6.947325033161882, 4.819695506791063] trainloss\n",
            "[2.3032648411304524, 2.0841428009993006] losscv\n",
            "2 epoch\n",
            "[6.947325033161882, 4.819695506791063, 3.629980182440994] trainloss\n",
            "[2.3032648411304524, 2.0841428009993006, 1.9273692095650459] losscv\n",
            "3 epoch\n",
            "[6.947325033161882, 4.819695506791063, 3.629980182440994, 2.881578695377469] trainloss\n",
            "[2.3032648411304524, 2.0841428009993006, 1.9273692095650459, 1.8091704603724057] losscv\n",
            "4 epoch\n",
            "[6.947325033161882, 4.819695506791063, 3.629980182440994, 2.881578695377469, 2.3736989081110416] trainloss\n",
            "[2.3032648411304524, 2.0841428009993006, 1.9273692095650459, 1.8091704603724057, 1.7176735396557645] losscv\n",
            "5 epoch\n",
            "[6.947325033161882, 4.819695506791063, 3.629980182440994, 2.881578695377469, 2.3736989081110416, 2.01009081068581] trainloss\n",
            "[2.3032648411304524, 2.0841428009993006, 1.9273692095650459, 1.8091704603724057, 1.7176735396557645, 1.6457299032037351] losscv\n",
            "6 epoch\n",
            "[6.947325033161882, 4.819695506791063, 3.629980182440994, 2.881578695377469, 2.3736989081110416, 2.01009081068581, 1.7391272760082668] trainloss\n",
            "[2.3032648411304524, 2.0841428009993006, 1.9273692095650459, 1.8091704603724057, 1.7176735396557645, 1.6457299032037351, 1.588538637507863] losscv\n",
            "7 epoch\n",
            "[6.947325033161882, 4.819695506791063, 3.629980182440994, 2.881578695377469, 2.3736989081110416, 2.01009081068581, 1.7391272760082668, 1.5307880438986796] trainloss\n",
            "[2.3032648411304524, 2.0841428009993006, 1.9273692095650459, 1.8091704603724057, 1.7176735396557645, 1.6457299032037351, 1.588538637507863, 1.5426803406536458] losscv\n",
            "8 epoch\n",
            "[6.947325033161882, 4.819695506791063, 3.629980182440994, 2.881578695377469, 2.3736989081110416, 2.01009081068581, 1.7391272760082668, 1.5307880438986796, 1.3665142997141966] trainloss\n",
            "[2.3032648411304524, 2.0841428009993006, 1.9273692095650459, 1.8091704603724057, 1.7176735396557645, 1.6457299032037351, 1.588538637507863, 1.5426803406536458, 1.5056413861961913] losscv\n",
            "9 epoch\n",
            "[6.947325033161882, 4.819695506791063, 3.629980182440994, 2.881578695377469, 2.3736989081110416, 2.01009081068581, 1.7391272760082668, 1.5307880438986796, 1.3665142997141966, 1.2342655204696638] trainloss\n"
          ],
          "name": "stdout"
        },
        {
          "output_type": "stream",
          "text": [
            "\n",
            "\n",
            "\n",
            "\n",
            "\n",
            "\n",
            "\n",
            "\n",
            "\n",
            "\n",
            "\n",
            "\n",
            "\n",
            "\n",
            "\n",
            " 17%|█▋        | 1/6 [03:47<18:55, 227.14s/it]\u001b[A\u001b[A\u001b[A\u001b[A\u001b[A\u001b[A\u001b[A\u001b[A\u001b[A\u001b[A\u001b[A\u001b[A\u001b[A\u001b[A\u001b[A"
          ],
          "name": "stderr"
        },
        {
          "output_type": "stream",
          "text": [
            "[2.3032648411304524, 2.0841428009993006, 1.9273692095650459, 1.8091704603724057, 1.7176735396557645, 1.6457299032037351, 1.588538637507863, 1.5426803406536458, 1.5056413861961913, 1.4755396689229359] losscv\n",
            "0 epoch\n",
            "[7.71489912249437] trainloss\n",
            "[9.514243979327139] losscv\n",
            "1 epoch\n",
            "[7.71489912249437, 5.20337018211245] trainloss\n",
            "[9.514243979327139, 7.076152395214075] losscv\n",
            "2 epoch\n",
            "[7.71489912249437, 5.20337018211245, 3.8272589689520258] trainloss\n",
            "[9.514243979327139, 7.076152395214075, 5.546450286308447] losscv\n",
            "3 epoch\n",
            "[7.71489912249437, 5.20337018211245, 3.8272589689520258, 2.976361243028624] trainloss\n",
            "[9.514243979327139, 7.076152395214075, 5.546450286308447, 4.5256771293226254] losscv\n",
            "4 epoch\n",
            "[7.71489912249437, 5.20337018211245, 3.8272589689520258, 2.976361243028624, 2.407641402041763] trainloss\n",
            "[9.514243979327139, 7.076152395214075, 5.546450286308447, 4.5256771293226254, 3.814860271630049] losscv\n",
            "5 epoch\n",
            "[7.71489912249437, 5.20337018211245, 3.8272589689520258, 2.976361243028624, 2.407641402041763, 2.0060803702396264] trainloss\n",
            "[9.514243979327139, 7.076152395214075, 5.546450286308447, 4.5256771293226254, 3.814860271630049, 3.3035654926745948] losscv\n",
            "6 epoch\n",
            "[7.71489912249437, 5.20337018211245, 3.8272589689520258, 2.976361243028624, 2.407641402041763, 2.0060803702396264, 1.710662730064368] trainloss\n",
            "[9.514243979327139, 7.076152395214075, 5.546450286308447, 4.5256771293226254, 3.814860271630049, 3.3035654926745948, 2.925881969450883] losscv\n",
            "7 epoch\n",
            "[7.71489912249437, 5.20337018211245, 3.8272589689520258, 2.976361243028624, 2.407641402041763, 2.0060803702396264, 1.710662730064368, 1.4862536480855872] trainloss\n",
            "[9.514243979327139, 7.076152395214075, 5.546450286308447, 4.5256771293226254, 3.814860271630049, 3.3035654926745948, 2.925881969450883, 2.6404165106044197] losscv\n",
            "8 epoch\n",
            "[7.71489912249437, 5.20337018211245, 3.8272589689520258, 2.976361243028624, 2.407641402041763, 2.0060803702396264, 1.710662730064368, 1.4862536480855872, 1.3113239677284407] trainloss\n",
            "[9.514243979327139, 7.076152395214075, 5.546450286308447, 4.5256771293226254, 3.814860271630049, 3.3035654926745948, 2.925881969450883, 2.6404165106044197, 2.4201799256931436] losscv\n",
            "9 epoch\n",
            "[7.71489912249437, 5.20337018211245, 3.8272589689520258, 2.976361243028624, 2.407641402041763, 2.0060803702396264, 1.710662730064368, 1.4862536480855872, 1.3113239677284407, 1.172020947379244] trainloss\n"
          ],
          "name": "stdout"
        },
        {
          "output_type": "stream",
          "text": [
            "\n",
            "\n",
            "\n",
            "\n",
            "\n",
            "\n",
            "\n",
            "\n",
            "\n",
            "\n",
            "\n",
            "\n",
            "\n",
            "\n",
            "\n",
            " 33%|███▎      | 2/6 [07:30<15:03, 225.98s/it]\u001b[A\u001b[A\u001b[A\u001b[A\u001b[A\u001b[A\u001b[A\u001b[A\u001b[A\u001b[A\u001b[A\u001b[A\u001b[A\u001b[A\u001b[A"
          ],
          "name": "stderr"
        },
        {
          "output_type": "stream",
          "text": [
            "[9.514243979327139, 7.076152395214075, 5.546450286308447, 4.5256771293226254, 3.814860271630049, 3.3035654926745948, 2.925881969450883, 2.6404165106044197, 2.4201799256931436, 2.2470558877852183] losscv\n",
            "0 epoch\n",
            "[8.319365016480674] trainloss\n",
            "[1.5004589558662813] losscv\n",
            "1 epoch\n",
            "[8.319365016480674, 5.167359054134008] trainloss\n",
            "[1.5004589558662813, 1.2927665368167143] losscv\n",
            "2 epoch\n",
            "[8.319365016480674, 5.167359054134008, 3.5799317863453632] trainloss\n",
            "[1.5004589558662813, 1.2927665368167143, 1.2675926673769393] losscv\n",
            "3 epoch\n",
            "[8.319365016480674, 5.167359054134008, 3.5799317863453632, 2.6577671815926784] trainloss\n",
            "[1.5004589558662813, 1.2927665368167143, 1.2675926673769393, 1.288642246012485] losscv\n",
            "4 epoch\n",
            "[8.319365016480674, 5.167359054134008, 3.5799317863453632, 2.6577671815926784, 2.0725978275361685] trainloss\n",
            "[1.5004589558662813, 1.2927665368167143, 1.2675926673769393, 1.288642246012485, 1.3156399994710681] losscv\n",
            "5 epoch\n",
            "[8.319365016480674, 5.167359054134008, 3.5799317863453632, 2.6577671815926784, 2.0725978275361685, 1.6780612601426037] trainloss\n",
            "[1.5004589558662813, 1.2927665368167143, 1.2675926673769393, 1.288642246012485, 1.3156399994710681, 1.3372660702462849] losscv\n",
            "6 epoch\n",
            "[8.319365016480674, 5.167359054134008, 3.5799317863453632, 2.6577671815926784, 2.0725978275361685, 1.6780612601426037, 1.3999851580276113] trainloss\n",
            "[1.5004589558662813, 1.2927665368167143, 1.2675926673769393, 1.288642246012485, 1.3156399994710681, 1.3372660702462849, 1.351561370315395] losscv\n",
            "7 epoch\n",
            "[8.319365016480674, 5.167359054134008, 3.5799317863453632, 2.6577671815926784, 2.0725978275361685, 1.6780612601426037, 1.3999851580276113, 1.1972252662345673] trainloss\n",
            "[1.5004589558662813, 1.2927665368167143, 1.2675926673769393, 1.288642246012485, 1.3156399994710681, 1.3372660702462849, 1.351561370315395, 1.3594607004389683] losscv\n",
            "8 epoch\n",
            "[8.319365016480674, 5.167359054134008, 3.5799317863453632, 2.6577671815926784, 2.0725978275361685, 1.6780612601426037, 1.3999851580276113, 1.1972252662345673, 1.0453607881491354] trainloss\n",
            "[1.5004589558662813, 1.2927665368167143, 1.2675926673769393, 1.288642246012485, 1.3156399994710681, 1.3372660702462849, 1.351561370315395, 1.3594607004389683, 1.362553935486621] losscv\n",
            "9 epoch\n",
            "[8.319365016480674, 5.167359054134008, 3.5799317863453632, 2.6577671815926784, 2.0725978275361685, 1.6780612601426037, 1.3999851580276113, 1.1972252662345673, 1.0453607881491354, 0.9291127716668671] trainloss\n"
          ],
          "name": "stdout"
        },
        {
          "output_type": "stream",
          "text": [
            "\n",
            "\n",
            "\n",
            "\n",
            "\n",
            "\n",
            "\n",
            "\n",
            "\n",
            "\n",
            "\n",
            "\n",
            "\n",
            "\n",
            "\n",
            " 50%|█████     | 3/6 [11:17<11:19, 226.38s/it]\u001b[A\u001b[A\u001b[A\u001b[A\u001b[A\u001b[A\u001b[A\u001b[A\u001b[A\u001b[A\u001b[A\u001b[A\u001b[A\u001b[A\u001b[A"
          ],
          "name": "stderr"
        },
        {
          "output_type": "stream",
          "text": [
            "[1.5004589558662813, 1.2927665368167143, 1.2675926673769393, 1.288642246012485, 1.3156399994710681, 1.3372660702462849, 1.351561370315395, 1.3594607004389683, 1.362553935486621, 1.3623359292267292] losscv\n",
            "0 epoch\n",
            "[6.976221750682379] trainloss\n",
            "[1.6029515082244148] losscv\n",
            "1 epoch\n",
            "[6.976221750682379, 2.7669966787000195] trainloss\n",
            "[1.6029515082244148, 1.4888761409708469] losscv\n",
            "2 epoch\n",
            "[6.976221750682379, 2.7669966787000195, 1.6173812610403937] trainloss\n",
            "[1.6029515082244148, 1.4888761409708469, 1.4003411378339408] losscv\n",
            "3 epoch\n",
            "[6.976221750682379, 2.7669966787000195, 1.6173812610403937, 1.1984919131184977] trainloss\n",
            "[1.6029515082244148, 1.4888761409708469, 1.4003411378339408, 1.3460103444474805] losscv\n",
            "4 epoch\n",
            "[6.976221750682379, 2.7669966787000195, 1.6173812610403937, 1.1984919131184977, 1.0217100250883546] trainloss\n",
            "[1.6029515082244148, 1.4888761409708469, 1.4003411378339408, 1.3460103444474805, 1.3141937644661228] losscv\n",
            "5 epoch\n",
            "[6.976221750682379, 2.7669966787000195, 1.6173812610403937, 1.1984919131184977, 1.0217100250883546, 0.9407669779728022] trainloss\n",
            "[1.6029515082244148, 1.4888761409708469, 1.4003411378339408, 1.3460103444474805, 1.3141937644661228, 1.295368796674306] losscv\n",
            "6 epoch\n",
            "[6.976221750682379, 2.7669966787000195, 1.6173812610403937, 1.1984919131184977, 1.0217100250883546, 0.9407669779728022, 0.9023483184270467] trainloss\n",
            "[1.6029515082244148, 1.4888761409708469, 1.4003411378339408, 1.3460103444474805, 1.3141937644661228, 1.295368796674306, 1.2839195284999882] losscv\n",
            "7 epoch\n",
            "[6.976221750682379, 2.7669966787000195, 1.6173812610403937, 1.1984919131184977, 1.0217100250883546, 0.9407669779728022, 0.9023483184270467, 0.8843230664607669] trainloss\n",
            "[1.6029515082244148, 1.4888761409708469, 1.4003411378339408, 1.3460103444474805, 1.3141937644661228, 1.295368796674306, 1.2839195284999882, 1.2767791075190085] losscv\n",
            "8 epoch\n",
            "[6.976221750682379, 2.7669966787000195, 1.6173812610403937, 1.1984919131184977, 1.0217100250883546, 0.9407669779728022, 0.9023483184270467, 0.8843230664607669, 0.8766080222687771] trainloss\n",
            "[1.6029515082244148, 1.4888761409708469, 1.4003411378339408, 1.3460103444474805, 1.3141937644661228, 1.295368796674306, 1.2839195284999882, 1.2767791075190085, 1.2722787765566113] losscv\n",
            "9 epoch\n",
            "[6.976221750682379, 2.7669966787000195, 1.6173812610403937, 1.1984919131184977, 1.0217100250883546, 0.9407669779728022, 0.9023483184270467, 0.8843230664607669, 0.8766080222687771, 0.8742785286463649] trainloss\n"
          ],
          "name": "stdout"
        },
        {
          "output_type": "stream",
          "text": [
            "\n",
            "\n",
            "\n",
            "\n",
            "\n",
            "\n",
            "\n",
            "\n",
            "\n",
            "\n",
            "\n",
            "\n",
            "\n",
            "\n",
            "\n",
            " 67%|██████▋   | 4/6 [15:04<07:32, 226.45s/it]\u001b[A\u001b[A\u001b[A\u001b[A\u001b[A\u001b[A\u001b[A\u001b[A\u001b[A\u001b[A\u001b[A\u001b[A\u001b[A\u001b[A\u001b[A"
          ],
          "name": "stderr"
        },
        {
          "output_type": "stream",
          "text": [
            "[1.6029515082244148, 1.4888761409708469, 1.4003411378339408, 1.3460103444474805, 1.3141937644661228, 1.295368796674306, 1.2839195284999882, 1.2767791075190085, 1.2722787765566113, 1.2694811758782503] losscv\n",
            "0 epoch\n",
            "[2.5640549800752415] trainloss\n",
            "[1.2691255502091319] losscv\n",
            "1 epoch\n",
            "[2.5640549800752415, 1.1587932475349991] trainloss\n",
            "[1.2691255502091319, 1.267774364395636] losscv\n",
            "2 epoch\n",
            "[2.5640549800752415, 1.1587932475349991, 1.1594071209092855] trainloss\n",
            "[1.2691255502091319, 1.267774364395636, 1.2674957816288033] losscv\n",
            "3 epoch\n",
            "[2.5640549800752415, 1.1587932475349991, 1.1594071209092855, 1.1677578971321803] trainloss\n",
            "[1.2691255502091319, 1.267774364395636, 1.2674957816288033, 1.267336770688167] losscv\n",
            "4 epoch\n",
            "[2.5640549800752415, 1.1587932475349991, 1.1594071209092855, 1.1677578971321803, 1.1735993846646329] trainloss\n",
            "[1.2691255502091319, 1.267774364395636, 1.2674957816288033, 1.267336770688167, 1.2672572506976396] losscv\n",
            "5 epoch\n",
            "[2.5640549800752415, 1.1587932475349991, 1.1594071209092855, 1.1677578971321803, 1.1735993846646329, 1.1774668948206313] trainloss\n",
            "[1.2691255502091319, 1.267774364395636, 1.2674957816288033, 1.267336770688167, 1.2672572506976396, 1.2672175106422776] losscv\n",
            "6 epoch\n",
            "[2.5640549800752415, 1.1587932475349991, 1.1594071209092855, 1.1677578971321803, 1.1735993846646329, 1.1774668948206313, 1.1800822244719522] trainloss\n",
            "[1.2691255502091319, 1.267774364395636, 1.2674957816288033, 1.267336770688167, 1.2672572506976396, 1.2672175106422776, 1.2671968881171891] losscv\n",
            "7 epoch\n",
            "[2.5640549800752415, 1.1587932475349991, 1.1594071209092855, 1.1677578971321803, 1.1735993846646329, 1.1774668948206313, 1.1800822244719522, 1.181904210577654] trainloss\n",
            "[1.2691255502091319, 1.267774364395636, 1.2674957816288033, 1.267336770688167, 1.2672572506976396, 1.2672175106422776, 1.2671968881171891, 1.267185578026493] losscv\n",
            "8 epoch\n",
            "[2.5640549800752415, 1.1587932475349991, 1.1594071209092855, 1.1677578971321803, 1.1735993846646329, 1.1774668948206313, 1.1800822244719522, 1.181904210577654, 1.1832095899745334] trainloss\n",
            "[1.2691255502091319, 1.267774364395636, 1.2674957816288033, 1.267336770688167, 1.2672572506976396, 1.2672175106422776, 1.2671968881171891, 1.267185578026493, 1.26717895608247] losscv\n",
            "9 epoch\n",
            "[2.5640549800752415, 1.1587932475349991, 1.1594071209092855, 1.1677578971321803, 1.1735993846646329, 1.1774668948206313, 1.1800822244719522, 1.181904210577654, 1.1832095899745334, 1.1841681131208592] trainloss\n"
          ],
          "name": "stdout"
        },
        {
          "output_type": "stream",
          "text": [
            "\n",
            "\n",
            "\n",
            "\n",
            "\n",
            "\n",
            "\n",
            "\n",
            "\n",
            "\n",
            "\n",
            "\n",
            "\n",
            "\n",
            "\n",
            " 83%|████████▎ | 5/6 [18:52<03:46, 226.91s/it]\u001b[A\u001b[A\u001b[A\u001b[A\u001b[A\u001b[A\u001b[A\u001b[A\u001b[A\u001b[A\u001b[A\u001b[A\u001b[A\u001b[A\u001b[A"
          ],
          "name": "stderr"
        },
        {
          "output_type": "stream",
          "text": [
            "[1.2691255502091319, 1.267774364395636, 1.2674957816288033, 1.267336770688167, 1.2672572506976396, 1.2672175106422776, 1.2671968881171891, 1.267185578026493, 1.26717895608247, 1.2671748064047148] losscv\n",
            "0 epoch\n",
            "[1.5942582160697891] trainloss\n",
            "[1.2670961133286855] losscv\n",
            "1 epoch\n",
            "[1.5942582160697891, 1.2453833510432588] trainloss\n",
            "[1.2670961133286855, 1.2671249559974367] losscv\n",
            "2 epoch\n",
            "[1.5942582160697891, 1.2453833510432588, 1.2474000374198464] trainloss\n",
            "[1.2670961133286855, 1.2671249559974367, 1.2671251278670659] losscv\n",
            "3 epoch\n",
            "[1.5942582160697891, 1.2453833510432588, 1.2474000374198464, 1.2482650475221115] trainloss\n",
            "[1.2670961133286855, 1.2671249559974367, 1.2671251278670659, 1.267125044822247] losscv\n",
            "4 epoch\n",
            "[1.5942582160697891, 1.2453833510432588, 1.2474000374198464, 1.2482650475221115, 1.2487231909419119] trainloss\n",
            "[1.2670961133286855, 1.2671249559974367, 1.2671251278670659, 1.267125044822247, 1.2671250135018082] losscv\n",
            "5 epoch\n",
            "[1.5942582160697891, 1.2453833510432588, 1.2474000374198464, 1.2482650475221115, 1.2487231909419119, 1.2489993866709366] trainloss\n",
            "[1.2670961133286855, 1.2671249559974367, 1.2671251278670659, 1.267125044822247, 1.2671250135018082, 1.267125001600876] losscv\n",
            "6 epoch\n",
            "[1.5942582160697891, 1.2453833510432588, 1.2474000374198464, 1.2482650475221115, 1.2487231909419119, 1.2489993866709366, 1.249180374739175] trainloss\n",
            "[1.2670961133286855, 1.2671249559974367, 1.2671251278670659, 1.267125044822247, 1.2671250135018082, 1.267125001600876, 1.2671249969568286] losscv\n",
            "7 epoch\n",
            "[1.5942582160697891, 1.2453833510432588, 1.2474000374198464, 1.2482650475221115, 1.2487231909419119, 1.2489993866709366, 1.249180374739175, 1.2493060661129545] trainloss\n",
            "[1.2670961133286855, 1.2671249559974367, 1.2671251278670659, 1.267125044822247, 1.2671250135018082, 1.267125001600876, 1.2671249969568286, 1.267124995158969] losscv\n",
            "8 epoch\n",
            "[1.5942582160697891, 1.2453833510432588, 1.2474000374198464, 1.2482650475221115, 1.2487231909419119, 1.2489993866709366, 1.249180374739175, 1.2493060661129545, 1.2493971677816609] trainloss\n",
            "[1.2670961133286855, 1.2671249559974367, 1.2671251278670659, 1.267125044822247, 1.2671250135018082, 1.267125001600876, 1.2671249969568286, 1.267124995158969, 1.2671249944977743] losscv\n",
            "9 epoch\n",
            "[1.5942582160697891, 1.2453833510432588, 1.2474000374198464, 1.2482650475221115, 1.2487231909419119, 1.2489993866709366, 1.249180374739175, 1.2493060661129545, 1.2493971677816609, 1.2494654014313165] trainloss\n"
          ],
          "name": "stdout"
        },
        {
          "output_type": "stream",
          "text": [
            "\n",
            "\n",
            "\n",
            "\n",
            "\n",
            "\n",
            "\n",
            "\n",
            "\n",
            "\n",
            "\n",
            "\n",
            "\n",
            "\n",
            "\n",
            "100%|██████████| 6/6 [22:40<00:00, 226.74s/it]"
          ],
          "name": "stderr"
        },
        {
          "output_type": "stream",
          "text": [
            "[1.2670961133286855, 1.2671249559974367, 1.2671251278670659, 1.267125044822247, 1.2671250135018082, 1.267125001600876, 1.2671249969568286, 1.267124995158969, 1.2671249944977743, 1.2671249942877525] losscv\n"
          ],
          "name": "stdout"
        },
        {
          "output_type": "stream",
          "text": [
            "\n"
          ],
          "name": "stderr"
        }
      ]
    },
    {
      "cell_type": "code",
      "metadata": {
        "id": "dSI_xNuW9PBi",
        "colab_type": "code",
        "colab": {
          "base_uri": "https://localhost:8080/",
          "height": 51
        },
        "outputId": "86845967-1856-4185-c6aa-f9f18648ce43"
      },
      "source": [
        "print(hyperparameter_tr)\n",
        "print(hyperparameter_cv)"
      ],
      "execution_count": null,
      "outputs": [
        {
          "output_type": "stream",
          "text": [
            "[2.85330642, 2.98158725821265, 2.8046766110309673, 1.8059126542405401, 1.313044366328197, 1.2830378239732962]\n",
            "[1.75997507, 4.401448384801059, 1.3438278411257485, 1.355020028107097, 1.2674943456892522, 1.2671221238019441]\n"
          ],
          "name": "stdout"
        }
      ]
    },
    {
      "cell_type": "code",
      "metadata": {
        "id": "GozP84qH7n-A",
        "colab_type": "code",
        "colab": {
          "base_uri": "https://localhost:8080/",
          "height": 405
        },
        "outputId": "b7d6605c-8fe9-42e3-d963-e54ed491a11f"
      },
      "source": [
        "import matplotlib.pyplot as plt\n",
        "fig,(ax1,ax2)=plt.subplots(nrows=1,ncols=2,figsize=(10,6))\n",
        "ax1.plot(alpha,hyperparameter_tr,label='train_loss')\n",
        "ax1.plot(alpha,hyperparameter_cv,label='cv_loss')\n",
        "ax1.set_xlabel('Alpha Hyperparameter')\n",
        "ax1.set_ylabel('Mean Square error')\n",
        "ax1.legend()\n",
        "ax2.plot(latent_factors,hyperparameter_tr,label='train_loss')\n",
        "ax2.plot(latent_factors,hyperparameter_cv,label='cv_loss')\n",
        "ax2.set_xlabel('Latent Factors')\n",
        "ax2.set_ylabel('Mean Square error')\n",
        "ax2.legend()"
      ],
      "execution_count": null,
      "outputs": [
        {
          "output_type": "execute_result",
          "data": {
            "text/plain": [
              "<matplotlib.legend.Legend at 0x7f585ca47cf8>"
            ]
          },
          "metadata": {
            "tags": []
          },
          "execution_count": 59
        },
        {
          "output_type": "display_data",
          "data": {
            "image/png": "[encoded data removed]",
            "text/plain": [
              "<Figure size 720x432 with 2 Axes>"
            ]
          },
          "metadata": {
            "tags": [],
            "needs_background": "light"
          }
        }
      ]
    },
    {
      "cell_type": "markdown",
      "metadata": {
        "id": "iRjGRQu-NOs0",
        "colab_type": "text"
      },
      "source": [
        "Observation:\n",
        "Choosing the number of features i.e 100 features and alpha value to be 10 gives low mean square error(MSE)."
      ]
    },
    {
      "cell_type": "code",
      "metadata": {
        "id": "yOLCZTPKNjUZ",
        "colab_type": "code",
        "colab": {
          "base_uri": "https://localhost:8080/",
          "height": 1000
        },
        "outputId": "9b8aaca0-8d4a-4791-ad26-305147c069e5"
      },
      "source": [
        "def recommendation(no_users,no_movies,best_latentfactors,epoch,X_train,X_cv,eta,alpha,average_rating): #After finding the best hyperparameters now were finding user_bias,movie_bias,user/movie matrix.\n",
        "  user_bias=np.zeros(no_users) #Array index corresponds to user_id and value inside it corresponds to user bias\n",
        "  movie_bias=np.zeros(no_movies) #Array index corresponds to movie_id and the value inside it corresponds to movie bias\n",
        "  user_matrix=np.random.uniform(low=-1,high=1,size=no_users*best_latentfactors).reshape(no_users,best_latentfactors)\n",
        "  movie_matrix=np.random.uniform(low=-1,high=1,size=no_movies*best_latentfactors).reshape(no_movies,best_latentfactors)\n",
        "  epoch_losstr=[]\n",
        "  epoch_losscv=[]\n",
        "  for j in tqdm(range(epoch)):\n",
        "    print(j,'epoch')\n",
        "    train_loss=0\n",
        "    count=0\n",
        "    for index,series in X_train.iterrows():\n",
        "        count+=1\n",
        "        user=int(series[0])\n",
        "        item=int(series[1])\n",
        "        rating=int(series[2])\n",
        "        user_biasval=user_bias[user]\n",
        "        movie_biasval=movie_bias[item]\n",
        "        user_matrixval=user_matrix[user,:]\n",
        "        movie_matrixval=movie_matrix[item,:]\n",
        "        dot=user_matrixval.dot(movie_matrixval.T)\n",
        "        predicted=average_rating+user_biasval+movie_biasval\n",
        "        predicted=predicted+dot\n",
        "        gradient_user=(2*(rating-predicted)-2*alpha*user_biasval)\n",
        "        user_bias[user]=user_biasval+eta*gradient_user\n",
        "        gradient_movie=(2*(rating-predicted)-2*alpha*movie_biasval)\n",
        "        movie_bias[item]=movie_biasval+eta*gradient_movie\n",
        "        gradient_usermatrix=(2*(rating-predicted)*movie_matrixval-2*alpha*user_matrixval)\n",
        "        user_matrix[user,:]=user_matrixval+eta*gradient_usermatrix\n",
        "        gradient_moviematrix=(2*(rating-predicted)*user_matrixval-2*alpha*movie_matrixval)\n",
        "        movie_matrix[item,:]=movie_matrixval+eta*gradient_moviematrix\n",
        "        train_loss+=(rating-predicted)**2\n",
        "    train_loss=train_loss/(X_train.shape[0])\n",
        "    epoch_losstr.append(train_loss)\n",
        "    print(epoch_losstr,'trainloss')\n",
        "    cv_loss=0\n",
        "    for index1,series1 in X_cv.iterrows():\n",
        "      user1=series1[0]\n",
        "      item1=series1[1]\n",
        "      rating1=series1[2]\n",
        "      if not any((X_train['item_id']==item1)):\n",
        "        moviecv_biasval=np.mean(movie_bias)\n",
        "      else:\n",
        "        moviecv_biasval=movie_bias[item1]\n",
        "      usercv_biasval=user_bias[user1]\n",
        "      usercv_matrixval=user_matrix[user1]\n",
        "      moviecv_matrixval=movie_matrix[item1]\n",
        "      predictedcv=average_rating+usercv_biasval+moviecv_biasval+usercv_matrixval.dot(moviecv_matrixval.T)\n",
        "      cv_loss+=(rating1-predicted)**2\n",
        "    cv_loss=cv_loss/(X_cv.shape[0])\n",
        "    epoch_losscv.append(cv_loss)\n",
        "    print(epoch_losscv,'losscv')\n",
        "  return(epoch_losstr,epoch_losscv,user_bias,movie_bias,user_matrix,movie_matrix)\n",
        "epoch_losstr,epoch_losscv,user_bias,movie_bias,user_matrix,movie_matrix=recommendation(943,1681,100,15,X_train,X_cv,0.001,10,average_rating)"
      ],
      "execution_count": null,
      "outputs": [
        {
          "output_type": "stream",
          "text": [
            "\n",
            "\n",
            "\n",
            "\n",
            "\n",
            "\n",
            "\n",
            "\n",
            "\n",
            "\n",
            "\n",
            "\n",
            "\n",
            "\n",
            "\n",
            "  0%|          | 0/15 [00:00<?, ?it/s]\u001b[A\u001b[A\u001b[A\u001b[A\u001b[A\u001b[A\u001b[A\u001b[A\u001b[A\u001b[A\u001b[A\u001b[A\u001b[A\u001b[A\u001b[A"
          ],
          "name": "stderr"
        },
        {
          "output_type": "stream",
          "text": [
            "0 epoch\n",
            "[2.6998192131474816] trainloss\n"
          ],
          "name": "stdout"
        },
        {
          "output_type": "stream",
          "text": [
            "\n",
            "\n",
            "\n",
            "\n",
            "\n",
            "\n",
            "\n",
            "\n",
            "\n",
            "\n",
            "\n",
            "\n",
            "\n",
            "\n",
            "\n",
            "  7%|▋         | 1/15 [00:22<05:18, 22.73s/it]\u001b[A\u001b[A\u001b[A\u001b[A\u001b[A\u001b[A\u001b[A\u001b[A\u001b[A\u001b[A\u001b[A\u001b[A\u001b[A\u001b[A\u001b[A"
          ],
          "name": "stderr"
        },
        {
          "output_type": "stream",
          "text": [
            "[1.2669234738763393] losscv\n",
            "1 epoch\n",
            "[2.6998192131474816, 1.2246777857873508] trainloss\n"
          ],
          "name": "stdout"
        },
        {
          "output_type": "stream",
          "text": [
            "\n",
            "\n",
            "\n",
            "\n",
            "\n",
            "\n",
            "\n",
            "\n",
            "\n",
            "\n",
            "\n",
            "\n",
            "\n",
            "\n",
            "\n",
            " 13%|█▎        | 2/15 [00:45<04:55, 22.76s/it]\u001b[A\u001b[A\u001b[A\u001b[A\u001b[A\u001b[A\u001b[A\u001b[A\u001b[A\u001b[A\u001b[A\u001b[A\u001b[A\u001b[A\u001b[A"
          ],
          "name": "stderr"
        },
        {
          "output_type": "stream",
          "text": [
            "[1.2669234738763393, 1.2667294446758217] losscv\n",
            "2 epoch\n",
            "[2.6998192131474816, 1.2246777857873508, 1.1988218281922485] trainloss\n"
          ],
          "name": "stdout"
        },
        {
          "output_type": "stream",
          "text": [
            "\n",
            "\n",
            "\n",
            "\n",
            "\n",
            "\n",
            "\n",
            "\n",
            "\n",
            "\n",
            "\n",
            "\n",
            "\n",
            "\n",
            "\n",
            " 20%|██        | 3/15 [01:08<04:33, 22.78s/it]\u001b[A\u001b[A\u001b[A\u001b[A\u001b[A\u001b[A\u001b[A\u001b[A\u001b[A\u001b[A\u001b[A\u001b[A\u001b[A\u001b[A\u001b[A"
          ],
          "name": "stderr"
        },
        {
          "output_type": "stream",
          "text": [
            "[1.2669234738763393, 1.2667294446758217, 1.2668905399106294] losscv\n",
            "3 epoch\n",
            "[2.6998192131474816, 1.2246777857873508, 1.1988218281922485, 1.194199725889711] trainloss\n"
          ],
          "name": "stdout"
        },
        {
          "output_type": "stream",
          "text": [
            "\n",
            "\n",
            "\n",
            "\n",
            "\n",
            "\n",
            "\n",
            "\n",
            "\n",
            "\n",
            "\n",
            "\n",
            "\n",
            "\n",
            "\n",
            " 27%|██▋       | 4/15 [01:31<04:10, 22.79s/it]\u001b[A\u001b[A\u001b[A\u001b[A\u001b[A\u001b[A\u001b[A\u001b[A\u001b[A\u001b[A\u001b[A\u001b[A\u001b[A\u001b[A\u001b[A"
          ],
          "name": "stderr"
        },
        {
          "output_type": "stream",
          "text": [
            "[1.2669234738763393, 1.2667294446758217, 1.2668905399106294, 1.2670198643766752] losscv\n",
            "4 epoch\n",
            "[2.6998192131474816, 1.2246777857873508, 1.1988218281922485, 1.194199725889711, 1.1925842091720649] trainloss\n"
          ],
          "name": "stdout"
        },
        {
          "output_type": "stream",
          "text": [
            "\n",
            "\n",
            "\n",
            "\n",
            "\n",
            "\n",
            "\n",
            "\n",
            "\n",
            "\n",
            "\n",
            "\n",
            "\n",
            "\n",
            "\n",
            " 33%|███▎      | 5/15 [01:53<03:47, 22.74s/it]\u001b[A\u001b[A\u001b[A\u001b[A\u001b[A\u001b[A\u001b[A\u001b[A\u001b[A\u001b[A\u001b[A\u001b[A\u001b[A\u001b[A\u001b[A"
          ],
          "name": "stderr"
        },
        {
          "output_type": "stream",
          "text": [
            "[1.2669234738763393, 1.2667294446758217, 1.2668905399106294, 1.2670198643766752, 1.267092378176393] losscv\n",
            "5 epoch\n",
            "[2.6998192131474816, 1.2246777857873508, 1.1988218281922485, 1.194199725889711, 1.1925842091720649, 1.1917502135903866] trainloss\n"
          ],
          "name": "stdout"
        },
        {
          "output_type": "stream",
          "text": [
            "\n",
            "\n",
            "\n",
            "\n",
            "\n",
            "\n",
            "\n",
            "\n",
            "\n",
            "\n",
            "\n",
            "\n",
            "\n",
            "\n",
            "\n",
            " 40%|████      | 6/15 [02:16<03:24, 22.77s/it]\u001b[A\u001b[A\u001b[A\u001b[A\u001b[A\u001b[A\u001b[A\u001b[A\u001b[A\u001b[A\u001b[A\u001b[A\u001b[A\u001b[A\u001b[A"
          ],
          "name": "stderr"
        },
        {
          "output_type": "stream",
          "text": [
            "[1.2669234738763393, 1.2667294446758217, 1.2668905399106294, 1.2670198643766752, 1.267092378176393, 1.2671283957967197] losscv\n",
            "6 epoch\n",
            "[2.6998192131474816, 1.2246777857873508, 1.1988218281922485, 1.194199725889711, 1.1925842091720649, 1.1917502135903866, 1.1912080986880758] trainloss\n"
          ],
          "name": "stdout"
        },
        {
          "output_type": "stream",
          "text": [
            "\n",
            "\n",
            "\n",
            "\n",
            "\n",
            "\n",
            "\n",
            "\n",
            "\n",
            "\n",
            "\n",
            "\n",
            "\n",
            "\n",
            "\n",
            " 47%|████▋     | 7/15 [02:39<03:01, 22.73s/it]\u001b[A\u001b[A\u001b[A\u001b[A\u001b[A\u001b[A\u001b[A\u001b[A\u001b[A\u001b[A\u001b[A\u001b[A\u001b[A\u001b[A\u001b[A"
          ],
          "name": "stderr"
        },
        {
          "output_type": "stream",
          "text": [
            "[1.2669234738763393, 1.2667294446758217, 1.2668905399106294, 1.2670198643766752, 1.267092378176393, 1.2671283957967197, 1.267145505521961] losscv\n",
            "7 epoch\n",
            "[2.6998192131474816, 1.2246777857873508, 1.1988218281922485, 1.194199725889711, 1.1925842091720649, 1.1917502135903866, 1.1912080986880758, 1.1908081198205527] trainloss\n"
          ],
          "name": "stdout"
        },
        {
          "output_type": "stream",
          "text": [
            "\n",
            "\n",
            "\n",
            "\n",
            "\n",
            "\n",
            "\n",
            "\n",
            "\n",
            "\n",
            "\n",
            "\n",
            "\n",
            "\n",
            "\n",
            " 53%|█████▎    | 8/15 [03:02<02:39, 22.76s/it]\u001b[A\u001b[A\u001b[A\u001b[A\u001b[A\u001b[A\u001b[A\u001b[A\u001b[A\u001b[A\u001b[A\u001b[A\u001b[A\u001b[A\u001b[A"
          ],
          "name": "stderr"
        },
        {
          "output_type": "stream",
          "text": [
            "[1.2669234738763393, 1.2667294446758217, 1.2668905399106294, 1.2670198643766752, 1.267092378176393, 1.2671283957967197, 1.267145505521961, 1.2671535772243514] losscv\n",
            "8 epoch\n",
            "[2.6998192131474816, 1.2246777857873508, 1.1988218281922485, 1.194199725889711, 1.1925842091720649, 1.1917502135903866, 1.1912080986880758, 1.1908081198205527, 1.1904921428252733] trainloss\n"
          ],
          "name": "stdout"
        },
        {
          "output_type": "stream",
          "text": [
            "\n",
            "\n",
            "\n",
            "\n",
            "\n",
            "\n",
            "\n",
            "\n",
            "\n",
            "\n",
            "\n",
            "\n",
            "\n",
            "\n",
            "\n",
            " 60%|██████    | 9/15 [03:24<02:16, 22.70s/it]\u001b[A\u001b[A\u001b[A\u001b[A\u001b[A\u001b[A\u001b[A\u001b[A\u001b[A\u001b[A\u001b[A\u001b[A\u001b[A\u001b[A\u001b[A"
          ],
          "name": "stderr"
        },
        {
          "output_type": "stream",
          "text": [
            "[1.2669234738763393, 1.2667294446758217, 1.2668905399106294, 1.2670198643766752, 1.267092378176393, 1.2671283957967197, 1.267145505521961, 1.2671535772243514, 1.267157464094062] losscv\n",
            "9 epoch\n",
            "[2.6998192131474816, 1.2246777857873508, 1.1988218281922485, 1.194199725889711, 1.1925842091720649, 1.1917502135903866, 1.1912080986880758, 1.1908081198205527, 1.1904921428252733, 1.1902327178663874] trainloss\n"
          ],
          "name": "stdout"
        },
        {
          "output_type": "stream",
          "text": [
            "\n",
            "\n",
            "\n",
            "\n",
            "\n",
            "\n",
            "\n",
            "\n",
            "\n",
            "\n",
            "\n",
            "\n",
            "\n",
            "\n",
            "\n",
            " 67%|██████▋   | 10/15 [03:47<01:53, 22.67s/it]\u001b[A\u001b[A\u001b[A\u001b[A\u001b[A\u001b[A\u001b[A\u001b[A\u001b[A\u001b[A\u001b[A\u001b[A\u001b[A\u001b[A\u001b[A"
          ],
          "name": "stderr"
        },
        {
          "output_type": "stream",
          "text": [
            "[1.2669234738763393, 1.2667294446758217, 1.2668905399106294, 1.2670198643766752, 1.267092378176393, 1.2671283957967197, 1.267145505521961, 1.2671535772243514, 1.267157464094062, 1.2671594271809818] losscv\n",
            "10 epoch\n",
            "[2.6998192131474816, 1.2246777857873508, 1.1988218281922485, 1.194199725889711, 1.1925842091720649, 1.1917502135903866, 1.1912080986880758, 1.1908081198205527, 1.1904921428252733, 1.1902327178663874, 1.1900145965735938] trainloss\n"
          ],
          "name": "stdout"
        },
        {
          "output_type": "stream",
          "text": [
            "\n",
            "\n",
            "\n",
            "\n",
            "\n",
            "\n",
            "\n",
            "\n",
            "\n",
            "\n",
            "\n",
            "\n",
            "\n",
            "\n",
            "\n",
            " 73%|███████▎  | 11/15 [04:09<01:30, 22.66s/it]\u001b[A\u001b[A\u001b[A\u001b[A\u001b[A\u001b[A\u001b[A\u001b[A\u001b[A\u001b[A\u001b[A\u001b[A\u001b[A\u001b[A\u001b[A"
          ],
          "name": "stderr"
        },
        {
          "output_type": "stream",
          "text": [
            "[1.2669234738763393, 1.2667294446758217, 1.2668905399106294, 1.2670198643766752, 1.267092378176393, 1.2671283957967197, 1.267145505521961, 1.2671535772243514, 1.267157464094062, 1.2671594271809818, 1.2671604961991438] losscv\n",
            "11 epoch\n",
            "[2.6998192131474816, 1.2246777857873508, 1.1988218281922485, 1.194199725889711, 1.1925842091720649, 1.1917502135903866, 1.1912080986880758, 1.1908081198205527, 1.1904921428252733, 1.1902327178663874, 1.1900145965735938, 1.1898281785680007] trainloss\n"
          ],
          "name": "stdout"
        },
        {
          "output_type": "stream",
          "text": [
            "\n",
            "\n",
            "\n",
            "\n",
            "\n",
            "\n",
            "\n",
            "\n",
            "\n",
            "\n",
            "\n",
            "\n",
            "\n",
            "\n",
            "\n",
            " 80%|████████  | 12/15 [04:32<01:08, 22.68s/it]\u001b[A\u001b[A\u001b[A\u001b[A\u001b[A\u001b[A\u001b[A\u001b[A\u001b[A\u001b[A\u001b[A\u001b[A\u001b[A\u001b[A\u001b[A"
          ],
          "name": "stderr"
        },
        {
          "output_type": "stream",
          "text": [
            "[1.2669234738763393, 1.2667294446758217, 1.2668905399106294, 1.2670198643766752, 1.267092378176393, 1.2671283957967197, 1.267145505521961, 1.2671535772243514, 1.267157464094062, 1.2671594271809818, 1.2671604961991438, 1.2671611370533427] losscv\n",
            "12 epoch\n",
            "[2.6998192131474816, 1.2246777857873508, 1.1988218281922485, 1.194199725889711, 1.1925842091720649, 1.1917502135903866, 1.1912080986880758, 1.1908081198205527, 1.1904921428252733, 1.1902327178663874, 1.1900145965735938, 1.1898281785680007, 1.189666864567337] trainloss\n"
          ],
          "name": "stdout"
        },
        {
          "output_type": "stream",
          "text": [
            "\n",
            "\n",
            "\n",
            "\n",
            "\n",
            "\n",
            "\n",
            "\n",
            "\n",
            "\n",
            "\n",
            "\n",
            "\n",
            "\n",
            "\n",
            " 87%|████████▋ | 13/15 [04:55<00:45, 22.63s/it]\u001b[A\u001b[A\u001b[A\u001b[A\u001b[A\u001b[A\u001b[A\u001b[A\u001b[A\u001b[A\u001b[A\u001b[A\u001b[A\u001b[A\u001b[A"
          ],
          "name": "stderr"
        },
        {
          "output_type": "stream",
          "text": [
            "[1.2669234738763393, 1.2667294446758217, 1.2668905399106294, 1.2670198643766752, 1.267092378176393, 1.2671283957967197, 1.267145505521961, 1.2671535772243514, 1.267157464094062, 1.2671594271809818, 1.2671604961991438, 1.2671611370533427, 1.2671615616590632] losscv\n",
            "13 epoch\n",
            "[2.6998192131474816, 1.2246777857873508, 1.1988218281922485, 1.194199725889711, 1.1925842091720649, 1.1917502135903866, 1.1912080986880758, 1.1908081198205527, 1.1904921428252733, 1.1902327178663874, 1.1900145965735938, 1.1898281785680007, 1.189666864567337, 1.189525848597621] trainloss\n"
          ],
          "name": "stdout"
        },
        {
          "output_type": "stream",
          "text": [
            "\n",
            "\n",
            "\n",
            "\n",
            "\n",
            "\n",
            "\n",
            "\n",
            "\n",
            "\n",
            "\n",
            "\n",
            "\n",
            "\n",
            "\n",
            " 93%|█████████▎| 14/15 [05:17<00:22, 22.61s/it]\u001b[A\u001b[A\u001b[A\u001b[A\u001b[A\u001b[A\u001b[A\u001b[A\u001b[A\u001b[A\u001b[A\u001b[A\u001b[A\u001b[A\u001b[A"
          ],
          "name": "stderr"
        },
        {
          "output_type": "stream",
          "text": [
            "[1.2669234738763393, 1.2667294446758217, 1.2668905399106294, 1.2670198643766752, 1.267092378176393, 1.2671283957967197, 1.267145505521961, 1.2671535772243514, 1.267157464094062, 1.2671594271809818, 1.2671604961991438, 1.2671611370533427, 1.2671615616590632, 1.2671618681224475] losscv\n",
            "14 epoch\n",
            "[2.6998192131474816, 1.2246777857873508, 1.1988218281922485, 1.194199725889711, 1.1925842091720649, 1.1917502135903866, 1.1912080986880758, 1.1908081198205527, 1.1904921428252733, 1.1902327178663874, 1.1900145965735938, 1.1898281785680007, 1.189666864567337, 1.189525848597621, 1.189401497667484] trainloss\n"
          ],
          "name": "stdout"
        },
        {
          "output_type": "stream",
          "text": [
            "\n",
            "\n",
            "\n",
            "\n",
            "\n",
            "\n",
            "\n",
            "\n",
            "\n",
            "\n",
            "\n",
            "\n",
            "\n",
            "\n",
            "\n",
            "100%|██████████| 15/15 [05:40<00:00, 22.69s/it]"
          ],
          "name": "stderr"
        },
        {
          "output_type": "stream",
          "text": [
            "[1.2669234738763393, 1.2667294446758217, 1.2668905399106294, 1.2670198643766752, 1.267092378176393, 1.2671283957967197, 1.267145505521961, 1.2671535772243514, 1.267157464094062, 1.2671594271809818, 1.2671604961991438, 1.2671611370533427, 1.2671615616590632, 1.2671618681224475, 1.2671621034238223] losscv\n"
          ],
          "name": "stdout"
        },
        {
          "output_type": "stream",
          "text": [
            "\n"
          ],
          "name": "stderr"
        }
      ]
    },
    {
      "cell_type": "code",
      "metadata": {
        "id": "9Xd5eCrbUEB5",
        "colab_type": "code",
        "colab": {
          "base_uri": "https://localhost:8080/",
          "height": 279
        },
        "outputId": "a3f9fe5a-2017-4b40-dc31-e9a3eafee348"
      },
      "source": [
        "plt.plot(list(range(15)),epoch_losstr,label='train_loss')\n",
        "plt.plot(list(range(15)),epoch_losscv,label='cv_loss')\n",
        "plt.xlabel('Epochs')\n",
        "plt.ylabel('Mean square Error')\n",
        "plt.legend()\n",
        "plt.show()"
      ],
      "execution_count": null,
      "outputs": [
        {
          "output_type": "display_data",
          "data": {
            "image/png": "[encoded data removed]",
            "text/plain": [
              "<Figure size 432x288 with 1 Axes>"
            ]
          },
          "metadata": {
            "tags": [],
            "needs_background": "light"
          }
        }
      ]
    },
    {
      "cell_type": "code",
      "metadata": {
        "id": "GKvx5t_IU_nU",
        "colab_type": "code",
        "colab": {
          "base_uri": "https://localhost:8080/",
          "height": 85
        },
        "outputId": "03bd7775-b6c3-4663-bd59-8e38d1dc6aeb"
      },
      "source": [
        "print(user_bias.shape)\n",
        "print(movie_bias.shape)\n",
        "print(user_matrix.shape)\n",
        "print(movie_matrix.shape)"
      ],
      "execution_count": null,
      "outputs": [
        {
          "output_type": "stream",
          "text": [
            "(943,)\n",
            "(1681,)\n",
            "(943, 100)\n",
            "(1681, 100)\n"
          ],
          "name": "stdout"
        }
      ]
    },
    {
      "cell_type": "markdown",
      "metadata": {
        "id": "DqRMzo83VSnH",
        "colab_type": "text"
      },
      "source": [
        "#**TASK 2:**"
      ]
    },
    {
      "cell_type": "code",
      "metadata": {
        "id": "xp2ufNagVWBP",
        "colab_type": "code",
        "colab": {
          "base_uri": "https://localhost:8080/",
          "height": 68
        },
        "outputId": "b88028b4-fd44-41e7-9d4a-e1ce59000bd7"
      },
      "source": [
        "y=user_male['is_male']\n",
        "print(y.shape)\n",
        "y_class,y_count=np.unique(y,return_counts=True)\n",
        "print(y_class)\n",
        "print(y_count)"
      ],
      "execution_count": null,
      "outputs": [
        {
          "output_type": "stream",
          "text": [
            "(943,)\n",
            "['0' '1']\n",
            "[273 670]\n"
          ],
          "name": "stdout"
        }
      ]
    },
    {
      "cell_type": "code",
      "metadata": {
        "id": "fCBh3mqvg-4X",
        "colab_type": "code",
        "colab": {
          "base_uri": "https://localhost:8080/",
          "height": 51
        },
        "outputId": "a3b1f8c3-a391-4958-9811-4905abe8446d"
      },
      "source": [
        "from sklearn.model_selection import train_test_split\n",
        "Xtr,Xcv,ytr,ycv=train_test_split(user_matrix,y,test_size=0.1,random_state=9)\n",
        "print(Xtr.shape,ytr.shape)\n",
        "print(Xcv.shape,ycv.shape)"
      ],
      "execution_count": null,
      "outputs": [
        {
          "output_type": "stream",
          "text": [
            "(848, 100) (848,)\n",
            "(95, 100) (95,)\n"
          ],
          "name": "stdout"
        }
      ]
    },
    {
      "cell_type": "code",
      "metadata": {
        "id": "9f76pV_2gzrb",
        "colab_type": "code",
        "colab": {}
      },
      "source": [
        "from sklearn.linear_model import LogisticRegression\n",
        "log=LogisticRegression(C=1)\n",
        "log.fit(Xtr,ytr)\n",
        "result_tr=log.predict(Xtr)\n",
        "result_cv=log.predict(Xcv)"
      ],
      "execution_count": null,
      "outputs": []
    },
    {
      "cell_type": "code",
      "metadata": {
        "id": "fP1AU84YicXW",
        "colab_type": "code",
        "colab": {
          "base_uri": "https://localhost:8080/",
          "height": 85
        },
        "outputId": "a89b4d06-e76d-457c-a75b-5c46e6ced202"
      },
      "source": [
        "from sklearn.metrics import confusion_matrix\n",
        "confusion_tr=confusion_matrix(ytr,result_tr)\n",
        "confusion_cv=confusion_matrix(ycv,result_cv)\n",
        "print(confusion_tr)\n",
        "print(confusion_cv)"
      ],
      "execution_count": null,
      "outputs": [
        {
          "output_type": "stream",
          "text": [
            "[[  0 243]\n",
            " [  0 605]]\n",
            "[[ 0 30]\n",
            " [ 0 65]]\n"
          ],
          "name": "stdout"
        }
      ]
    },
    {
      "cell_type": "markdown",
      "metadata": {
        "id": "Mni_algiMtt7",
        "colab_type": "text"
      },
      "source": [
        "Observation:\n",
        "Tried with 100 features but the results are not good,since the model predicts everything to be positive its a bias model.Hence lets increase the number of features to 200 and see what happens.."
      ]
    },
    {
      "cell_type": "code",
      "metadata": {
        "id": "G5A9sIUEkarw",
        "colab_type": "code",
        "colab": {
          "base_uri": "https://localhost:8080/",
          "height": 1000
        },
        "outputId": "55bf376b-9ff9-4c17-fe75-288fe8b0353e"
      },
      "source": [
        "epoch_losstr1,epoch_losscv1,user_bias1,movie_bias1,user_matrix1,movie_matrix1=recommendation(943,1681,200,15,X_train,X_cv,0.001,10,average_rating)"
      ],
      "execution_count": null,
      "outputs": [
        {
          "output_type": "stream",
          "text": [
            "\n",
            "\n",
            "\n",
            "\n",
            "\n",
            "\n",
            "\n",
            "\n",
            "\n",
            "\n",
            "\n",
            "\n",
            "\n",
            "\n",
            "\n",
            "  0%|          | 0/15 [00:00<?, ?it/s]\u001b[A\u001b[A\u001b[A\u001b[A\u001b[A\u001b[A\u001b[A\u001b[A\u001b[A\u001b[A\u001b[A\u001b[A\u001b[A\u001b[A\u001b[A"
          ],
          "name": "stderr"
        },
        {
          "output_type": "stream",
          "text": [
            "0 epoch\n",
            "[4.228588020012037] trainloss\n"
          ],
          "name": "stdout"
        },
        {
          "output_type": "stream",
          "text": [
            "\n",
            "\n",
            "\n",
            "\n",
            "\n",
            "\n",
            "\n",
            "\n",
            "\n",
            "\n",
            "\n",
            "\n",
            "\n",
            "\n",
            "\n",
            "  7%|▋         | 1/15 [00:22<05:16, 22.59s/it]\u001b[A\u001b[A\u001b[A\u001b[A\u001b[A\u001b[A\u001b[A\u001b[A\u001b[A\u001b[A\u001b[A\u001b[A\u001b[A\u001b[A\u001b[A"
          ],
          "name": "stderr"
        },
        {
          "output_type": "stream",
          "text": [
            "[1.267070444795512] losscv\n",
            "1 epoch\n",
            "[4.228588020012037, 1.2346869067611188] trainloss\n"
          ],
          "name": "stdout"
        },
        {
          "output_type": "stream",
          "text": [
            "\n",
            "\n",
            "\n",
            "\n",
            "\n",
            "\n",
            "\n",
            "\n",
            "\n",
            "\n",
            "\n",
            "\n",
            "\n",
            "\n",
            "\n",
            " 13%|█▎        | 2/15 [00:45<04:54, 22.66s/it]\u001b[A\u001b[A\u001b[A\u001b[A\u001b[A\u001b[A\u001b[A\u001b[A\u001b[A\u001b[A\u001b[A\u001b[A\u001b[A\u001b[A\u001b[A"
          ],
          "name": "stderr"
        },
        {
          "output_type": "stream",
          "text": [
            "[1.267070444795512, 1.2667540470186918] losscv\n",
            "2 epoch\n",
            "[4.228588020012037, 1.2346869067611188, 1.1959336790082589] trainloss\n"
          ],
          "name": "stdout"
        },
        {
          "output_type": "stream",
          "text": [
            "\n",
            "\n",
            "\n",
            "\n",
            "\n",
            "\n",
            "\n",
            "\n",
            "\n",
            "\n",
            "\n",
            "\n",
            "\n",
            "\n",
            "\n",
            " 20%|██        | 3/15 [01:08<04:32, 22.72s/it]\u001b[A\u001b[A\u001b[A\u001b[A\u001b[A\u001b[A\u001b[A\u001b[A\u001b[A\u001b[A\u001b[A\u001b[A\u001b[A\u001b[A\u001b[A"
          ],
          "name": "stderr"
        },
        {
          "output_type": "stream",
          "text": [
            "[1.267070444795512, 1.2667540470186918, 1.266920324472425] losscv\n",
            "3 epoch\n",
            "[4.228588020012037, 1.2346869067611188, 1.1959336790082589, 1.1915464535306972] trainloss\n"
          ],
          "name": "stdout"
        },
        {
          "output_type": "stream",
          "text": [
            "\n",
            "\n",
            "\n",
            "\n",
            "\n",
            "\n",
            "\n",
            "\n",
            "\n",
            "\n",
            "\n",
            "\n",
            "\n",
            "\n",
            "\n",
            " 27%|██▋       | 4/15 [01:31<04:10, 22.75s/it]\u001b[A\u001b[A\u001b[A\u001b[A\u001b[A\u001b[A\u001b[A\u001b[A\u001b[A\u001b[A\u001b[A\u001b[A\u001b[A\u001b[A\u001b[A"
          ],
          "name": "stderr"
        },
        {
          "output_type": "stream",
          "text": [
            "[1.267070444795512, 1.2667540470186918, 1.266920324472425, 1.2670353458836872] losscv\n",
            "4 epoch\n",
            "[4.228588020012037, 1.2346869067611188, 1.1959336790082589, 1.1915464535306972, 1.1907145409246893] trainloss\n"
          ],
          "name": "stdout"
        },
        {
          "output_type": "stream",
          "text": [
            "\n",
            "\n",
            "\n",
            "\n",
            "\n",
            "\n",
            "\n",
            "\n",
            "\n",
            "\n",
            "\n",
            "\n",
            "\n",
            "\n",
            "\n",
            " 33%|███▎      | 5/15 [01:54<03:48, 22.80s/it]\u001b[A\u001b[A\u001b[A\u001b[A\u001b[A\u001b[A\u001b[A\u001b[A\u001b[A\u001b[A\u001b[A\u001b[A\u001b[A\u001b[A\u001b[A"
          ],
          "name": "stderr"
        },
        {
          "output_type": "stream",
          "text": [
            "[1.267070444795512, 1.2667540470186918, 1.266920324472425, 1.2670353458836872, 1.2670995267029028] losscv\n",
            "5 epoch\n",
            "[4.228588020012037, 1.2346869067611188, 1.1959336790082589, 1.1915464535306972, 1.1907145409246893, 1.1904349397533802] trainloss\n"
          ],
          "name": "stdout"
        },
        {
          "output_type": "stream",
          "text": [
            "\n",
            "\n",
            "\n",
            "\n",
            "\n",
            "\n",
            "\n",
            "\n",
            "\n",
            "\n",
            "\n",
            "\n",
            "\n",
            "\n",
            "\n",
            " 40%|████      | 6/15 [02:16<03:25, 22.83s/it]\u001b[A\u001b[A\u001b[A\u001b[A\u001b[A\u001b[A\u001b[A\u001b[A\u001b[A\u001b[A\u001b[A\u001b[A\u001b[A\u001b[A\u001b[A"
          ],
          "name": "stderr"
        },
        {
          "output_type": "stream",
          "text": [
            "[1.267070444795512, 1.2667540470186918, 1.266920324472425, 1.2670353458836872, 1.2670995267029028, 1.2671319357696897] losscv\n",
            "6 epoch\n",
            "[4.228588020012037, 1.2346869067611188, 1.1959336790082589, 1.1915464535306972, 1.1907145409246893, 1.1904349397533802, 1.1902498244871198] trainloss\n"
          ],
          "name": "stdout"
        },
        {
          "output_type": "stream",
          "text": [
            "\n",
            "\n",
            "\n",
            "\n",
            "\n",
            "\n",
            "\n",
            "\n",
            "\n",
            "\n",
            "\n",
            "\n",
            "\n",
            "\n",
            "\n",
            " 47%|████▋     | 7/15 [02:39<03:03, 22.88s/it]\u001b[A\u001b[A\u001b[A\u001b[A\u001b[A\u001b[A\u001b[A\u001b[A\u001b[A\u001b[A\u001b[A\u001b[A\u001b[A\u001b[A\u001b[A"
          ],
          "name": "stderr"
        },
        {
          "output_type": "stream",
          "text": [
            "[1.267070444795512, 1.2667540470186918, 1.266920324472425, 1.2670353458836872, 1.2670995267029028, 1.2671319357696897, 1.2671475419924412] losscv\n",
            "7 epoch\n",
            "[4.228588020012037, 1.2346869067611188, 1.1959336790082589, 1.1915464535306972, 1.1907145409246893, 1.1904349397533802, 1.1902498244871198, 1.1900825746428854] trainloss\n"
          ],
          "name": "stdout"
        },
        {
          "output_type": "stream",
          "text": [
            "\n",
            "\n",
            "\n",
            "\n",
            "\n",
            "\n",
            "\n",
            "\n",
            "\n",
            "\n",
            "\n",
            "\n",
            "\n",
            "\n",
            "\n",
            " 53%|█████▎    | 8/15 [03:02<02:40, 22.91s/it]\u001b[A\u001b[A\u001b[A\u001b[A\u001b[A\u001b[A\u001b[A\u001b[A\u001b[A\u001b[A\u001b[A\u001b[A\u001b[A\u001b[A\u001b[A"
          ],
          "name": "stderr"
        },
        {
          "output_type": "stream",
          "text": [
            "[1.267070444795512, 1.2667540470186918, 1.266920324472425, 1.2670353458836872, 1.2670995267029028, 1.2671319357696897, 1.2671475419924412, 1.2671549273660254] losscv\n",
            "8 epoch\n",
            "[4.228588020012037, 1.2346869067611188, 1.1959336790082589, 1.1915464535306972, 1.1907145409246893, 1.1904349397533802, 1.1902498244871198, 1.1900825746428854, 1.1899235864319393] trainloss\n"
          ],
          "name": "stdout"
        },
        {
          "output_type": "stream",
          "text": [
            "\n",
            "\n",
            "\n",
            "\n",
            "\n",
            "\n",
            "\n",
            "\n",
            "\n",
            "\n",
            "\n",
            "\n",
            "\n",
            "\n",
            "\n",
            " 60%|██████    | 9/15 [03:25<02:17, 22.85s/it]\u001b[A\u001b[A\u001b[A\u001b[A\u001b[A\u001b[A\u001b[A\u001b[A\u001b[A\u001b[A\u001b[A\u001b[A\u001b[A\u001b[A\u001b[A"
          ],
          "name": "stderr"
        },
        {
          "output_type": "stream",
          "text": [
            "[1.267070444795512, 1.2667540470186918, 1.266920324472425, 1.2670353458836872, 1.2670995267029028, 1.2671319357696897, 1.2671475419924412, 1.2671549273660254, 1.267158442003748] losscv\n",
            "9 epoch\n",
            "[4.228588020012037, 1.2346869067611188, 1.1959336790082589, 1.1915464535306972, 1.1907145409246893, 1.1904349397533802, 1.1902498244871198, 1.1900825746428854, 1.1899235864319393, 1.1897740685562508] trainloss\n"
          ],
          "name": "stdout"
        },
        {
          "output_type": "stream",
          "text": [
            "\n",
            "\n",
            "\n",
            "\n",
            "\n",
            "\n",
            "\n",
            "\n",
            "\n",
            "\n",
            "\n",
            "\n",
            "\n",
            "\n",
            "\n",
            " 67%|██████▋   | 10/15 [03:48<01:54, 22.85s/it]\u001b[A\u001b[A\u001b[A\u001b[A\u001b[A\u001b[A\u001b[A\u001b[A\u001b[A\u001b[A\u001b[A\u001b[A\u001b[A\u001b[A\u001b[A"
          ],
          "name": "stderr"
        },
        {
          "output_type": "stream",
          "text": [
            "[1.267070444795512, 1.2667540470186918, 1.266920324472425, 1.2670353458836872, 1.2670995267029028, 1.2671319357696897, 1.2671475419924412, 1.2671549273660254, 1.267158442003748, 1.2671601656433429] losscv\n",
            "10 epoch\n",
            "[4.228588020012037, 1.2346869067611188, 1.1959336790082589, 1.1915464535306972, 1.1907145409246893, 1.1904349397533802, 1.1902498244871198, 1.1900825746428854, 1.1899235864319393, 1.1897740685562508, 1.189635622037377] trainloss\n"
          ],
          "name": "stdout"
        },
        {
          "output_type": "stream",
          "text": [
            "\n",
            "\n",
            "\n",
            "\n",
            "\n",
            "\n",
            "\n",
            "\n",
            "\n",
            "\n",
            "\n",
            "\n",
            "\n",
            "\n",
            "\n",
            " 73%|███████▎  | 11/15 [04:11<01:31, 22.83s/it]\u001b[A\u001b[A\u001b[A\u001b[A\u001b[A\u001b[A\u001b[A\u001b[A\u001b[A\u001b[A\u001b[A\u001b[A\u001b[A\u001b[A\u001b[A"
          ],
          "name": "stderr"
        },
        {
          "output_type": "stream",
          "text": [
            "[1.267070444795512, 1.2667540470186918, 1.266920324472425, 1.2670353458836872, 1.2670995267029028, 1.2671319357696897, 1.2671475419924412, 1.2671549273660254, 1.267158442003748, 1.2671601656433429, 1.267161063036887] losscv\n",
            "11 epoch\n",
            "[4.228588020012037, 1.2346869067611188, 1.1959336790082589, 1.1915464535306972, 1.1907145409246893, 1.1904349397533802, 1.1902498244871198, 1.1900825746428854, 1.1899235864319393, 1.1897740685562508, 1.189635622037377, 1.1895087919139293] trainloss\n"
          ],
          "name": "stdout"
        },
        {
          "output_type": "stream",
          "text": [
            "\n",
            "\n",
            "\n",
            "\n",
            "\n",
            "\n",
            "\n",
            "\n",
            "\n",
            "\n",
            "\n",
            "\n",
            "\n",
            "\n",
            "\n",
            " 80%|████████  | 12/15 [04:34<01:08, 22.83s/it]\u001b[A\u001b[A\u001b[A\u001b[A\u001b[A\u001b[A\u001b[A\u001b[A\u001b[A\u001b[A\u001b[A\u001b[A\u001b[A\u001b[A\u001b[A"
          ],
          "name": "stderr"
        },
        {
          "output_type": "stream",
          "text": [
            "[1.267070444795512, 1.2667540470186918, 1.266920324472425, 1.2670353458836872, 1.2670995267029028, 1.2671319357696897, 1.2671475419924412, 1.2671549273660254, 1.267158442003748, 1.2671601656433429, 1.267161063036887, 1.2671615747035538] losscv\n",
            "12 epoch\n",
            "[4.228588020012037, 1.2346869067611188, 1.1959336790082589, 1.1915464535306972, 1.1907145409246893, 1.1904349397533802, 1.1902498244871198, 1.1900825746428854, 1.1899235864319393, 1.1897740685562508, 1.189635622037377, 1.1895087919139293, 1.1893932804531269] trainloss\n"
          ],
          "name": "stdout"
        },
        {
          "output_type": "stream",
          "text": [
            "\n",
            "\n",
            "\n",
            "\n",
            "\n",
            "\n",
            "\n",
            "\n",
            "\n",
            "\n",
            "\n",
            "\n",
            "\n",
            "\n",
            "\n",
            " 87%|████████▋ | 13/15 [04:57<00:45, 22.87s/it]\u001b[A\u001b[A\u001b[A\u001b[A\u001b[A\u001b[A\u001b[A\u001b[A\u001b[A\u001b[A\u001b[A\u001b[A\u001b[A\u001b[A\u001b[A"
          ],
          "name": "stderr"
        },
        {
          "output_type": "stream",
          "text": [
            "[1.267070444795512, 1.2667540470186918, 1.266920324472425, 1.2670353458836872, 1.2670995267029028, 1.2671319357696897, 1.2671475419924412, 1.2671549273660254, 1.267158442003748, 1.2671601656433429, 1.267161063036887, 1.2671615747035538, 1.2671619004190044] losscv\n",
            "13 epoch\n",
            "[4.228588020012037, 1.2346869067611188, 1.1959336790082589, 1.1915464535306972, 1.1907145409246893, 1.1904349397533802, 1.1902498244871198, 1.1900825746428854, 1.1899235864319393, 1.1897740685562508, 1.189635622037377, 1.1895087919139293, 1.1893932804531269, 1.1892883210049083] trainloss\n"
          ],
          "name": "stdout"
        },
        {
          "output_type": "stream",
          "text": [
            "\n",
            "\n",
            "\n",
            "\n",
            "\n",
            "\n",
            "\n",
            "\n",
            "\n",
            "\n",
            "\n",
            "\n",
            "\n",
            "\n",
            "\n",
            " 93%|█████████▎| 14/15 [05:19<00:22, 22.85s/it]\u001b[A\u001b[A\u001b[A\u001b[A\u001b[A\u001b[A\u001b[A\u001b[A\u001b[A\u001b[A\u001b[A\u001b[A\u001b[A\u001b[A\u001b[A"
          ],
          "name": "stderr"
        },
        {
          "output_type": "stream",
          "text": [
            "[1.267070444795512, 1.2667540470186918, 1.266920324472425, 1.2670353458836872, 1.2670995267029028, 1.2671319357696897, 1.2671475419924412, 1.2671549273660254, 1.267158442003748, 1.2671601656433429, 1.267161063036887, 1.2671615747035538, 1.2671619004190044, 1.2671621308827183] losscv\n",
            "14 epoch\n",
            "[4.228588020012037, 1.2346869067611188, 1.1959336790082589, 1.1915464535306972, 1.1907145409246893, 1.1904349397533802, 1.1902498244871198, 1.1900825746428854, 1.1899235864319393, 1.1897740685562508, 1.189635622037377, 1.1895087919139293, 1.1893932804531269, 1.1892883210049083, 1.1891929480692305] trainloss\n"
          ],
          "name": "stdout"
        },
        {
          "output_type": "stream",
          "text": [
            "\n",
            "\n",
            "\n",
            "\n",
            "\n",
            "\n",
            "\n",
            "\n",
            "\n",
            "\n",
            "\n",
            "\n",
            "\n",
            "\n",
            "\n",
            "100%|██████████| 15/15 [05:42<00:00, 22.84s/it]"
          ],
          "name": "stderr"
        },
        {
          "output_type": "stream",
          "text": [
            "[1.267070444795512, 1.2667540470186918, 1.266920324472425, 1.2670353458836872, 1.2670995267029028, 1.2671319357696897, 1.2671475419924412, 1.2671549273660254, 1.267158442003748, 1.2671601656433429, 1.267161063036887, 1.2671615747035538, 1.2671619004190044, 1.2671621308827183, 1.267162307755515] losscv\n"
          ],
          "name": "stdout"
        },
        {
          "output_type": "stream",
          "text": [
            "\n"
          ],
          "name": "stderr"
        }
      ]
    },
    {
      "cell_type": "code",
      "metadata": {
        "id": "NGL3Uh53m16r",
        "colab_type": "code",
        "colab": {
          "base_uri": "https://localhost:8080/",
          "height": 51
        },
        "outputId": "6dfb8f7b-a33b-44ac-fc2b-74015d94e987"
      },
      "source": [
        "Xtr1,Xcv1,ytr1,ycv1=train_test_split(user_matrix1,y,test_size=0.1,random_state=9)\n",
        "print(Xtr1.shape,ytr1.shape)\n",
        "print(Xcv1.shape,ycv1.shape)"
      ],
      "execution_count": null,
      "outputs": [
        {
          "output_type": "stream",
          "text": [
            "(848, 200) (848,)\n",
            "(95, 200) (95,)\n"
          ],
          "name": "stdout"
        }
      ]
    },
    {
      "cell_type": "code",
      "metadata": {
        "id": "FFs3FYrrnlEb",
        "colab_type": "code",
        "colab": {}
      },
      "source": [
        "log1=LogisticRegression()\n",
        "log1.fit(Xtr1,ytr1)\n",
        "result_tr1=log1.predict(Xtr1)\n",
        "result_cv1=log1.predict(Xcv1)"
      ],
      "execution_count": null,
      "outputs": []
    },
    {
      "cell_type": "code",
      "metadata": {
        "id": "iOgXwo2Cn4p0",
        "colab_type": "code",
        "colab": {
          "base_uri": "https://localhost:8080/",
          "height": 85
        },
        "outputId": "3f91b1f2-437e-4654-e623-c76b36b33c8f"
      },
      "source": [
        "confusion1_tr=confusion_matrix(ytr1,result_tr1)\n",
        "confusion_cv=confusion_matrix(ycv1,result_cv1)\n",
        "print(confusion1_tr)\n",
        "print(confusion_cv)"
      ],
      "execution_count": null,
      "outputs": [
        {
          "output_type": "stream",
          "text": [
            "[[  0 243]\n",
            " [  0 605]]\n",
            "[[ 0 30]\n",
            " [ 0 65]]\n"
          ],
          "name": "stdout"
        }
      ]
    },
    {
      "cell_type": "markdown",
      "metadata": {
        "id": "UbJ2JhiLND4_",
        "colab_type": "text"
      },
      "source": [
        "Observation:\n",
        "Even tried with 200 features but still the results didnt changed,its predicting everything to be as one,its a biased model,maybe i assume the user features has got nothing to do with gender.\n"
      ]
    }
  ]
}