{
  "nbformat": 4,
  "nbformat_minor": 0,
  "metadata": {
    "colab": {
      "name": "Predicting links/relationship between Friends in Facebook.ipynb",
      "provenance": [],
      "collapsed_sections": [],
      "include_colab_link": true
    },
    "kernelspec": {
      "name": "python3",
      "display_name": "Python 3"
    }
  },
  "cells": [
    {
      "cell_type": "markdown",
      "metadata": {
        "id": "view-in-github",
        "colab_type": "text"
      },
      "source": [
        "<a href=\"https://colab.research.google.com/github/Amrith-ops/Identify-the-Sentiment/blob/master/Predicting_links_relationship_between_Friends_in_Facebook.ipynb\" target=\"_parent\"><img src=\"https://colab.research.google.com/assets/colab-badge.svg\" alt=\"Open In Colab\"/></a>"
      ]
    },
    {
      "cell_type": "code",
      "metadata": {
        "id": "SkCZGAkTLvKu",
        "colab_type": "code",
        "colab": {}
      },
      "source": [
        "import pandas as pd\n",
        "import numpy as np\n",
        "import matplotlib.pyplot as plt\n",
        "import seaborn as sb\n",
        "import warnings\n",
        "warnings.filterwarnings('ignore')\n",
        "import networkx as nx\n",
        "import xgboost as xgb\n",
        "import math\n"
      ],
      "execution_count": null,
      "outputs": []
    },
    {
      "cell_type": "code",
      "metadata": {
        "id": "85oeQpPrMden",
        "colab_type": "code",
        "colab": {}
      },
      "source": [
        "!pip install -U -q PyDrive\n",
        "from pydrive.auth import GoogleAuth\n",
        "from pydrive.drive import GoogleDrive\n",
        "from google.colab import auth\n",
        "from oauth2client.client import GoogleCredentials"
      ],
      "execution_count": null,
      "outputs": []
    },
    {
      "cell_type": "code",
      "metadata": {
        "id": "QnPpfUtyNxnf",
        "colab_type": "code",
        "colab": {}
      },
      "source": [
        "\n",
        "auth.authenticate_user()\n",
        "gauth = GoogleAuth()\n",
        "gauth.credentials = GoogleCredentials.get_application_default()\n",
        "drive = GoogleDrive(gauth)\n"
      ],
      "execution_count": null,
      "outputs": []
    },
    {
      "cell_type": "code",
      "metadata": {
        "id": "5_NyF5yZN1F6",
        "colab_type": "code",
        "colab": {}
      },
      "source": [
        "downloaded = drive.CreateFile({'id':'1uDrvP0cxFnIkNvSOTeq-AERak60uaqdF'}) # replace the id with id of file you want to access\n",
        "downloaded.GetContentFile('Copy of train.csv') \n"
      ],
      "execution_count": null,
      "outputs": []
    },
    {
      "cell_type": "code",
      "metadata": {
        "id": "DUSY7vx6OVad",
        "colab_type": "code",
        "colab": {
          "base_uri": "https://localhost:8080/",
          "height": 359
        },
        "outputId": "558ec4eb-79f0-44e7-eaac-20311f6b1dfd"
      },
      "source": [
        "fb=pd.read_csv('Copy of train.csv')\n",
        "fb.head(10)"
      ],
      "execution_count": null,
      "outputs": [
        {
          "output_type": "execute_result",
          "data": {
            "text/html": [
              "<div>\n",
              "<style scoped>\n",
              "    .dataframe tbody tr th:only-of-type {\n",
              "        vertical-align: middle;\n",
              "    }\n",
              "\n",
              "    .dataframe tbody tr th {\n",
              "        vertical-align: top;\n",
              "    }\n",
              "\n",
              "    .dataframe thead th {\n",
              "        text-align: right;\n",
              "    }\n",
              "</style>\n",
              "<table border=\"1\" class=\"dataframe\">\n",
              "  <thead>\n",
              "    <tr style=\"text-align: right;\">\n",
              "      <th></th>\n",
              "      <th>source_node</th>\n",
              "      <th>destination_node</th>\n",
              "    </tr>\n",
              "  </thead>\n",
              "  <tbody>\n",
              "    <tr>\n",
              "      <th>0</th>\n",
              "      <td>1</td>\n",
              "      <td>690569</td>\n",
              "    </tr>\n",
              "    <tr>\n",
              "      <th>1</th>\n",
              "      <td>1</td>\n",
              "      <td>315892</td>\n",
              "    </tr>\n",
              "    <tr>\n",
              "      <th>2</th>\n",
              "      <td>1</td>\n",
              "      <td>189226</td>\n",
              "    </tr>\n",
              "    <tr>\n",
              "      <th>3</th>\n",
              "      <td>2</td>\n",
              "      <td>834328</td>\n",
              "    </tr>\n",
              "    <tr>\n",
              "      <th>4</th>\n",
              "      <td>2</td>\n",
              "      <td>1615927</td>\n",
              "    </tr>\n",
              "    <tr>\n",
              "      <th>5</th>\n",
              "      <td>2</td>\n",
              "      <td>1194519</td>\n",
              "    </tr>\n",
              "    <tr>\n",
              "      <th>6</th>\n",
              "      <td>2</td>\n",
              "      <td>470294</td>\n",
              "    </tr>\n",
              "    <tr>\n",
              "      <th>7</th>\n",
              "      <td>2</td>\n",
              "      <td>961886</td>\n",
              "    </tr>\n",
              "    <tr>\n",
              "      <th>8</th>\n",
              "      <td>2</td>\n",
              "      <td>626040</td>\n",
              "    </tr>\n",
              "    <tr>\n",
              "      <th>9</th>\n",
              "      <td>3</td>\n",
              "      <td>176995</td>\n",
              "    </tr>\n",
              "  </tbody>\n",
              "</table>\n",
              "</div>"
            ],
            "text/plain": [
              "   source_node  destination_node\n",
              "0            1            690569\n",
              "1            1            315892\n",
              "2            1            189226\n",
              "3            2            834328\n",
              "4            2           1615927\n",
              "5            2           1194519\n",
              "6            2            470294\n",
              "7            2            961886\n",
              "8            2            626040\n",
              "9            3            176995"
            ]
          },
          "metadata": {
            "tags": []
          },
          "execution_count": 10
        }
      ]
    },
    {
      "cell_type": "code",
      "metadata": {
        "id": "x0CyOwRIbDuI",
        "colab_type": "code",
        "colab": {}
      },
      "source": [
        "print(fb.shape)\n",
        "unique_nodes=np.unique(fb['source_node'].values)\n",
        "unique_dest=np.unique(fb['destination_node'].values)\n",
        "print(len(unique_nodes))\n",
        "print(len(unique_dest))\n",
        "print('percentage of unique number of nodes in a given dataset',len(unique_nodes)/fb.shape[0])#This means 84 percent of points in a source-node are repeating\n",
        "print(len(unique_dest)-len(unique_nodes),'differnce in no of points b/w source and destination node')\n",
        "#What are those points which are present in destination node but not in source node\n",
        "diff=set(unique_dest)-set(unique_nodes)\n",
        "print(diff)"
      ],
      "execution_count": null,
      "outputs": []
    },
    {
      "cell_type": "code",
      "metadata": {
        "id": "LX1mosnwgejH",
        "colab_type": "code",
        "colab": {
          "base_uri": "https://localhost:8080/",
          "height": 102
        },
        "outputId": "f51268eb-63c1-400a-ada1-828a1a86aee4"
      },
      "source": [
        "print(fb[fb['source_node']==16])\n",
        "print(fb[fb['destination_node']==16])\n",
        "#I checked whether the point 16 present in source node>>it gave me empty rows\n",
        "#On the other hand i checked whether 16 present in destination node>>it gave me a row which is followed by some source node\n",
        "#Conclusion is there are some points in this dataset which are having (followers) but arent following back>>(obviously such things can be seen in Instagram)."
      ],
      "execution_count": null,
      "outputs": [
        {
          "output_type": "stream",
          "text": [
            "Empty DataFrame\n",
            "Columns: [source_node, destination_node]\n",
            "Index: []\n",
            "         source_node  destination_node\n",
            "9380725      1851097                16\n"
          ],
          "name": "stdout"
        }
      ]
    },
    {
      "cell_type": "code",
      "metadata": {
        "id": "-BUd60hNiqTm",
        "colab_type": "code",
        "colab": {
          "base_uri": "https://localhost:8080/",
          "height": 221
        },
        "outputId": "b80c72c2-ad0f-4736-9da0-81e3f6304482"
      },
      "source": [
        "#I also want to check how many person each person is following\n",
        "following=fb['source_node'].value_counts()\n",
        "print((following))"
      ],
      "execution_count": null,
      "outputs": [
        {
          "output_type": "stream",
          "text": [
            "1492489    1566\n",
            "4850        895\n",
            "141489      759\n",
            "735020      652\n",
            "1855498     587\n",
            "           ... \n",
            "683013        1\n",
            "10084         1\n",
            "112934        1\n",
            "6418          1\n",
            "16376         1\n",
            "Name: source_node, Length: 1587708, dtype: int64\n"
          ],
          "name": "stdout"
        }
      ]
    },
    {
      "cell_type": "code",
      "metadata": {
        "id": "8PftbJU6O0lS",
        "colab_type": "code",
        "colab": {
          "base_uri": "https://localhost:8080/",
          "height": 80
        },
        "outputId": "3e1980a9-5b9b-4c9b-d0b1-e04e922fdec2"
      },
      "source": [
        "fb[(fb['source_node']==690569) & (fb['destination_node']==1)]"
      ],
      "execution_count": null,
      "outputs": [
        {
          "output_type": "execute_result",
          "data": {
            "text/html": [
              "<div>\n",
              "<style scoped>\n",
              "    .dataframe tbody tr th:only-of-type {\n",
              "        vertical-align: middle;\n",
              "    }\n",
              "\n",
              "    .dataframe tbody tr th {\n",
              "        vertical-align: top;\n",
              "    }\n",
              "\n",
              "    .dataframe thead th {\n",
              "        text-align: right;\n",
              "    }\n",
              "</style>\n",
              "<table border=\"1\" class=\"dataframe\">\n",
              "  <thead>\n",
              "    <tr style=\"text-align: right;\">\n",
              "      <th></th>\n",
              "      <th>source_node</th>\n",
              "      <th>destination_node</th>\n",
              "    </tr>\n",
              "  </thead>\n",
              "  <tbody>\n",
              "    <tr>\n",
              "      <th>3506359</th>\n",
              "      <td>690569</td>\n",
              "      <td>1</td>\n",
              "    </tr>\n",
              "  </tbody>\n",
              "</table>\n",
              "</div>"
            ],
            "text/plain": [
              "         source_node  destination_node\n",
              "3506359       690569                 1"
            ]
          },
          "metadata": {
            "tags": []
          },
          "execution_count": 11
        }
      ]
    },
    {
      "cell_type": "code",
      "metadata": {
        "id": "_-gmqq7RU2zI",
        "colab_type": "code",
        "colab": {
          "base_uri": "https://localhost:8080/",
          "height": 34
        },
        "outputId": "98b5a217-024e-47f2-a901-4cc07c01001e"
      },
      "source": [
        "fb1=nx.read_edgelist('Copy of train.csv',delimiter=',',create_using=nx.DiGraph)\n",
        "fb1 "
      ],
      "execution_count": null,
      "outputs": [
        {
          "output_type": "execute_result",
          "data": {
            "text/plain": [
              "<networkx.classes.digraph.DiGraph at 0x7f67fda6f4e0>"
            ]
          },
          "metadata": {
            "tags": []
          },
          "execution_count": 12
        }
      ]
    },
    {
      "cell_type": "code",
      "metadata": {
        "id": "MV5exgcuwtx1",
        "colab_type": "code",
        "colab": {}
      },
      "source": [
        "p=('source_node','destination_node')\n",
        "fb1.remove_edge(*p)"
      ],
      "execution_count": null,
      "outputs": []
    },
    {
      "cell_type": "code",
      "metadata": {
        "id": "qc9kaUk3agmB",
        "colab_type": "code",
        "colab": {}
      },
      "source": [
        "fb1.remove_node('source_node')\n",
        "fb1.remove_node('destination_node')"
      ],
      "execution_count": null,
      "outputs": []
    },
    {
      "cell_type": "code",
      "metadata": {
        "id": "pfcUQeFyY9pR",
        "colab_type": "code",
        "colab": {
          "base_uri": "https://localhost:8080/",
          "height": 88
        },
        "outputId": "b5e07626-d477-4030-ad43-159be9a195e7"
      },
      "source": [
        "print(list(fb1.edges())[:40])\n",
        "print(fb1.number_of_nodes())\n",
        "print(fb1.number_of_edges())"
      ],
      "execution_count": null,
      "outputs": [
        {
          "output_type": "stream",
          "text": [
            "[('1', '690569'), ('1', '315892'), ('1', '189226'), ('690569', '663369'), ('690569', '603627'), ('690569', '799834'), ('690569', '530257'), ('690569', '1362910'), ('690569', '1434984'), ('690569', '366100'), ('690569', '533878'), ('690569', '798473'), ('690569', '327217'), ('690569', '315892'), ('690569', '583208'), ('690569', '353091'), ('690569', '834718'), ('690569', '189226'), ('690569', '1'), ('690569', '1658788'), ('690569', '1413310'), ('690569', '1465653'), ('690569', '1629462'), ('690569', '687321'), ('315892', '1642294'), ('315892', '865354'), ('315892', '1810969'), ('315892', '1028735'), ('315892', '324385'), ('315892', '772853'), ('315892', '1083438'), ('315892', '94256'), ('315892', '1626389'), ('315892', '1615316'), ('315892', '644564'), ('315892', '446503'), ('315892', '1434984'), ('315892', '915136'), ('315892', '724619'), ('315892', '1132075')]\n",
            "1862220\n",
            "9437519\n"
          ],
          "name": "stdout"
        }
      ]
    },
    {
      "cell_type": "code",
      "metadata": {
        "id": "ZtcWnXjIzJRD",
        "colab_type": "code",
        "colab": {
          "base_uri": "https://localhost:8080/",
          "height": 514
        },
        "outputId": "068bbfa5-5b32-433c-ca92-92d127c8451e"
      },
      "source": [
        "following1=fb1.out_degree()\n",
        "following_val=(list(dict(following1).values()))\n",
        "following_key=list(dict(following1).keys())\n",
        "a=np.percentile(following_val,np.arange(0,100))\n",
        "fig,(ax1,ax2)=plt.subplots(nrows=1,ncols=2,figsize=(10,8))\n",
        "ax1.plot(np.arange(0,100),a)\n",
        "ax1.set_xlabel('Percentile')\n",
        "ax1.set_ylabel('No of followings/person')\n",
        "b=np.percentile(following_val,np.arange(95,100,1))\n",
        "ax2.plot(np.arange(95,100,1),b)\n",
        "ax2.set_xlabel('percentile')\n",
        "ax2.set_ylabel('No of followings/person')\n"
      ],
      "execution_count": null,
      "outputs": [
        {
          "output_type": "execute_result",
          "data": {
            "text/plain": [
              "Text(0, 0.5, 'No of followings/person')"
            ]
          },
          "metadata": {
            "tags": []
          },
          "execution_count": 14
        },
        {
          "output_type": "display_data",
          "data": {
            "image/png": "[encoded data removed]",
            "text/plain": [
              "<Figure size 720x576 with 2 Axes>"
            ]
          },
          "metadata": {
            "tags": []
          }
        }
      ]
    },
    {
      "cell_type": "code",
      "metadata": {
        "id": "OvGMgv4I2NGh",
        "colab_type": "code",
        "colab": {
          "base_uri": "https://localhost:8080/",
          "height": 282
        },
        "outputId": "27659ac2-d72f-4858-84de-111d06dd2654"
      },
      "source": [
        "a=np.percentile(following_val,np.linspace(99.8,100,100))\n",
        "plt.plot(np.linspace(99.8,100,100),a)"
      ],
      "execution_count": null,
      "outputs": [
        {
          "output_type": "execute_result",
          "data": {
            "text/plain": [
              "[<matplotlib.lines.Line2D at 0x7fb004fd2a90>]"
            ]
          },
          "metadata": {
            "tags": []
          },
          "execution_count": 15
        },
        {
          "output_type": "display_data",
          "data": {
            "image/png": "[encoded data removed]",
            "text/plain": [
              "<Figure size 432x288 with 1 Axes>"
            ]
          },
          "metadata": {
            "tags": []
          }
        }
      ]
    },
    {
      "cell_type": "markdown",
      "metadata": {
        "id": "WI-vrAPCTWcg",
        "colab_type": "text"
      },
      "source": [
        "Observation:\n",
        "From the above graphs,we can conclude that 99.8 percent of the people are following below 100 persons.\n",
        "Only 0.01 percent of the people are following more than 1600 people"
      ]
    },
    {
      "cell_type": "code",
      "metadata": {
        "id": "-n9WA6OhT3QX",
        "colab_type": "code",
        "colab": {
          "base_uri": "https://localhost:8080/",
          "height": 405
        },
        "outputId": "e77441e7-31c9-4fca-e01d-cd4c5d753542"
      },
      "source": [
        "followers=dict(fb1.in_degree())\n",
        "followers_val=list(followers.values())\n",
        "a1=np.percentile(followers_val,np.arange(0,100,10))\n",
        "fig1,(ax3,ax4)=plt.subplots(nrows=1,ncols=2,figsize=(10,6))\n",
        "ax3.plot(np.arange(0,100,10),a1)\n",
        "ax3.set_xlabel('Percentile')\n",
        "ax3.set_ylabel('No of followers/each person')\n",
        "b1=np.percentile(followers_val,np.arange(95,100,1))\n",
        "ax4.plot(np.arange(95,100,1),b1)\n",
        "ax4.set_xlabel('Percentile')\n",
        "ax4.set_ylabel('No of followers/each person')"
      ],
      "execution_count": null,
      "outputs": [
        {
          "output_type": "execute_result",
          "data": {
            "text/plain": [
              "Text(0, 0.5, 'No of followers/each person')"
            ]
          },
          "metadata": {
            "tags": []
          },
          "execution_count": 16
        },
        {
          "output_type": "display_data",
          "data": {
            "image/png": "[encoded data removed]",
            "text/plain": [
              "<Figure size 720x432 with 2 Axes>"
            ]
          },
          "metadata": {
            "tags": []
          }
        }
      ]
    },
    {
      "cell_type": "code",
      "metadata": {
        "id": "nbElCUA1V9Mz",
        "colab_type": "code",
        "colab": {
          "base_uri": "https://localhost:8080/",
          "height": 296
        },
        "outputId": "3c0d7cb6-287c-48b8-e3a8-3deafdc45ef2"
      },
      "source": [
        "a3=np.percentile(followers_val,np.linspace(99.8,100,100))\n",
        "plt.plot(np.linspace(99.8,100,100),a3)\n",
        "plt.xlabel('Percentile')\n",
        "plt.ylabel('No of followers/each person')"
      ],
      "execution_count": null,
      "outputs": [
        {
          "output_type": "execute_result",
          "data": {
            "text/plain": [
              "Text(0, 0.5, 'No of followers/each person')"
            ]
          },
          "metadata": {
            "tags": []
          },
          "execution_count": 40
        },
        {
          "output_type": "display_data",
          "data": {
            "image/png": "[encoded data removed]",
            "text/plain": [
              "<Figure size 432x288 with 1 Axes>"
            ]
          },
          "metadata": {
            "tags": []
          }
        }
      ]
    },
    {
      "cell_type": "markdown",
      "metadata": {
        "id": "5-2XmoNxWh5b",
        "colab_type": "text"
      },
      "source": [
        "Observation:\n",
        "From the above two graphs we can observe that 99.800 percent of the people has less than 100 followers on the other hand 0.0275 percent people has followers more than 500 people."
      ]
    },
    {
      "cell_type": "code",
      "metadata": {
        "id": "m2NQ0QOIXks3",
        "colab_type": "code",
        "colab": {
          "base_uri": "https://localhost:8080/",
          "height": 54
        },
        "outputId": "7efd52d7-16ce-4b23-a6bb-411eca30a453"
      },
      "source": [
        "#Does most of the people follow back others if followed?\n",
        "#Out of all followers for a given person how many persons does he follow back\n",
        "#(following/followers) ratio\n",
        "def func(a,b):\n",
        "  return(a/(b+0.0001))\n",
        "follow_ratio=list(map(func,following_val,followers_val))\n",
        "print(follow_ratio[:40])"
      ],
      "execution_count": null,
      "outputs": [
        {
          "output_type": "stream",
          "text": [
            "[0.9999666677777407, 0.7241354340157448, 1.142853061239067, 1.3332888903703208, 1.4999625009374766, 0.8732382067067511, 0.7222202160549553, 0.8235245675025441, 1.3333269841572184, 0.9166590278414347, 1.1999760004799904, 0.545449586821938, 0.8235245675025441, 1.1794841551688329, 0.8749945312841795, 0.7999960000199999, 1.2499687507812305, 0.999980000399992, 1.9998000199980002, 1.0689618311660993, 0.5555493827846357, 0.9999500024998749, 0.9166590278414347, 1.2499687507812305, 0.9999000099990001, 0.9499952500237498, 0.9999666677777407, 0.0, 0.9999666677777407, 1.3332888903703208, 0.9999000099990001, 1.4999250037498124, 0.9999500024998749, 1.1249859376757791, 1.2499687507812305, 10000.0, 0.4222212839527023, 10000.0, 0.14285612245626816, 0.9999666677777407]\n"
          ],
          "name": "stdout"
        }
      ]
    },
    {
      "cell_type": "code",
      "metadata": {
        "id": "B7Df3hNKfXe6",
        "colab_type": "code",
        "colab": {
          "base_uri": "https://localhost:8080/",
          "height": 405
        },
        "outputId": "c9b7e4e1-7729-45db-bcbd-146795bf7ccc"
      },
      "source": [
        "folratio_percent=np.percentile(follow_ratio,np.arange(0,90,10))\n",
        "fig,(ax5,ax6)=plt.subplots(nrows=1,ncols=2,figsize=(10,6))\n",
        "ax5.plot(np.arange(0,90,10),folratio_percent)\n",
        "ax5.set_xlabel('Percentile')\n",
        "ax5.set_ylabel('following/followers ratio')\n",
        "c1=np.percentile(follow_ratio,np.arange(80,100,10))\n",
        "ax6.plot(np.arange(80,100,10),c1)\n",
        "ax6.set_xlabel('Percentile')"
      ],
      "execution_count": null,
      "outputs": [
        {
          "output_type": "execute_result",
          "data": {
            "text/plain": [
              "Text(0.5, 0, 'Percentile')"
            ]
          },
          "metadata": {
            "tags": []
          },
          "execution_count": 52
        },
        {
          "output_type": "display_data",
          "data": {
            "image/png": "[encoded data removed]",
            "text/plain": [
              "<Figure size 720x432 with 2 Axes>"
            ]
          },
          "metadata": {
            "tags": []
          }
        }
      ]
    },
    {
      "cell_type": "markdown",
      "metadata": {
        "id": "ZvV9ofWvja_r",
        "colab_type": "text"
      },
      "source": [
        "Observation:\n",
        "For the 25th percentile the value is 0.5,which means 25 percent of values has less than 0.5 which further indicates there are 25 percent of people who follows back with (<50%chance) if followed.\n",
        "On the other hand,there are 75 percent values which are greater than '1' which tells that 75 percent of people follows back the person if followed."
      ]
    },
    {
      "cell_type": "code",
      "metadata": {
        "id": "CxOvFiFUkhwX",
        "colab_type": "code",
        "colab": {
          "base_uri": "https://localhost:8080/",
          "height": 68
        },
        "outputId": "c4e60694-96a2-465d-8e70-1921ce4d3fcf"
      },
      "source": [
        "#How many people are there who dont follow but still followed by others?\n",
        "print('no of people who are not following anyone is',sum(np.array(following_val)==0))\n",
        "print('no of people who got zero followers is',sum(np.array(followers_val)==0))\n",
        "print('no of people who are not following anyone but still followed by others',sum((np.array(following_val)==0) & (np.array(followers_val)==1)))\n"
      ],
      "execution_count": null,
      "outputs": [
        {
          "output_type": "stream",
          "text": [
            "no of people who are not following anyone is 274512\n",
            "no of people who got zero followers is 188043\n",
            "no of people who are not following anyone but still followed by others 185443\n"
          ],
          "name": "stdout"
        }
      ]
    },
    {
      "cell_type": "code",
      "metadata": {
        "id": "8CfXDho6ACS9",
        "colab_type": "code",
        "colab": {}
      },
      "source": [
        "import csv\n",
        "r=csv.reader(open('Copy of train.csv','r'))\n",
        "edge=dict()\n",
        "for e in r:\n",
        "  edge[e[0],e[1]]=1\n",
        "missing_edges=set([])\n",
        "while(len(missing_edges)<fb.shape[0]):\n",
        "  d1=np.random.randint(0,fb1.number_of_nodes())\n",
        "  t=np.random.randint(0,fb1.number_of_nodes())\n",
        "  l=edge.get((d1,t),-1)\n",
        "  if (l==-1) and d1!=t:\n",
        "    try:\n",
        "      if(nx.shortest_path_length(fb1,source=d1,target=t))>2:\n",
        "        missing_edges.add((d1,t))\n",
        "      else:\n",
        "        continue\n",
        "    except:\n",
        "      missing_edges.add((d1,t))\n"
      ],
      "execution_count": null,
      "outputs": []
    },
    {
      "cell_type": "code",
      "metadata": {
        "id": "CgH15QhJGe-3",
        "colab_type": "code",
        "colab": {
          "base_uri": "https://localhost:8080/",
          "height": 34
        },
        "outputId": "60d87161-b471-4447-982f-a530725956a3"
      },
      "source": [
        "print(len(missing_edges))"
      ],
      "execution_count": null,
      "outputs": [
        {
          "output_type": "stream",
          "text": [
            "9437519\n"
          ],
          "name": "stdout"
        }
      ]
    },
    {
      "cell_type": "code",
      "metadata": {
        "id": "01PwjnvRKZ8r",
        "colab_type": "code",
        "colab": {
          "base_uri": "https://localhost:8080/",
          "height": 85
        },
        "outputId": "891f33e7-bad2-4c19-fdf6-71f29eff721c"
      },
      "source": [
        "from sklearn.model_selection import train_test_split\n",
        "fb_pos=fb\n",
        "fb_neg=pd.DataFrame(list(missing_edges),columns=['source_node','destination_node'])\n",
        "X_trainpos,X_testpos,y_trainpos,y_testpos=train_test_split(fb_pos,np.ones(fb.shape[0]),test_size=0.2,random_state=14)\n",
        "print(X_trainpos.shape,y_trainpos.shape,'X_trainpos')\n",
        "print(X_testpos.shape,y_testpos.shape,'X_testpos')\n",
        "X_trainneg,X_testneg,y_trainneg,y_testneg=train_test_split(fb_neg,np.zeros(fb.shape[0]),test_size=0.2,random_state=14)\n",
        "print(X_trainneg.shape,y_trainneg.shape,'X_trainneg')\n",
        "print(X_testneg.shape,y_testneg.shape,'Xtest_neg')\n"
      ],
      "execution_count": null,
      "outputs": [
        {
          "output_type": "stream",
          "text": [
            "(7550015, 2) (7550015,) X_trainpos\n",
            "(1887504, 2) (1887504,) X_testpos\n",
            "(7550015, 2) (7550015,) X_trainneg\n",
            "(1887504, 2) (1887504,) Xtest_neg\n"
          ],
          "name": "stdout"
        }
      ]
    },
    {
      "cell_type": "code",
      "metadata": {
        "id": "zD0ddM6Jb-M_",
        "colab_type": "code",
        "colab": {}
      },
      "source": [
        "X_trainpos.to_csv('X_trainpos.csv',header=True,index=True)\n",
        "X_testpos.to_csv('X_testpos.csv',header=False,index=False)\n",
        "X_trainneg.to_csv('X_trainneg.csv',header=False,index=False)\n",
        "X_testneg.to_csv('X_testneg.csv',header=False,index=False)"
      ],
      "execution_count": null,
      "outputs": []
    },
    {
      "cell_type": "code",
      "metadata": {
        "id": "jEsI6M-tSLwh",
        "colab_type": "code",
        "colab": {
          "base_uri": "https://localhost:8080/",
          "height": 51
        },
        "outputId": "5779d9c2-b944-4c70-fc13-514e0caf1d92"
      },
      "source": [
        "import numpy as np\n",
        "X_train=pd.concat((X_trainpos,X_trainneg),axis=0)\n",
        "y_train=pd.concat((pd.Series(y_trainpos),pd.Series(y_trainneg)),axis=0)\n",
        "y_test=pd.concat((pd.Series(y_testpos),pd.Series(y_testneg)),axis=0)\n",
        "print(X_train.shape,y_train.shape,'X_train')\n",
        "X_test=pd.concat((X_testpos,X_testneg),axis=0)\n",
        "print(X_test.shape,y_test.shape,'X_test')"
      ],
      "execution_count": null,
      "outputs": [
        {
          "output_type": "stream",
          "text": [
            "(15100030, 2) (15100030,) X_train\n",
            "(3775008, 2) (3775008,) X_test\n"
          ],
          "name": "stdout"
        }
      ]
    },
    {
      "cell_type": "code",
      "metadata": {
        "id": "dDQLUOvynwZR",
        "colab_type": "code",
        "colab": {}
      },
      "source": [
        "X_train.to_csv('X_train.csv',header=False,index=False)\n",
        "X_test.to_csv('X_test.csv',header=False,index=False)\n",
        "y_train.to_csv('y-train.csv',header=False,index=False)\n",
        "y_test.to_csv('y_test.csv',header=False,index=False)"
      ],
      "execution_count": null,
      "outputs": []
    },
    {
      "cell_type": "code",
      "metadata": {
        "id": "RzyvWEmsa-h4",
        "colab_type": "code",
        "colab": {
          "base_uri": "https://localhost:8080/",
          "height": 51
        },
        "outputId": "25a40958-f473-4cc5-f8b2-36e81fe320b5"
      },
      "source": [
        "\n",
        "test_graph=nx.read_edgelist('X_testpos.csv',delimiter=',',create_using=nx.DiGraph,nodetype=int)\n",
        "train_nodes=set(list(train_graph.nodes()))\n",
        "test_nodes=set(list(test_graph.nodes()))\n",
        "train_com_test=len(train_nodes.intersection(test_nodes))\n",
        "test_train_diff=len(test_nodes-train_nodes)\n",
        "print(test_train_diff)\n",
        "print('no of points which are present in test data but not in train data are {}'.format(test_train_diff))"
      ],
      "execution_count": null,
      "outputs": [
        {
          "output_type": "stream",
          "text": [
            "81482\n",
            "no of points which are present in test data but not in train data are 81482\n"
          ],
          "name": "stdout"
        }
      ]
    },
    {
      "cell_type": "code",
      "metadata": {
        "id": "Mg0D4SrnheZ0",
        "colab_type": "code",
        "colab": {
          "base_uri": "https://localhost:8080/",
          "height": 34
        },
        "outputId": "01efef97-3303-4c3d-e8ff-ae7fbb5ccdb9"
      },
      "source": [
        "print('Percentage of points which are present in test data but not present in train data are {}'.format((test_train_diff/len(test_nodes))*100))\n",
        "#So im asking my model to predict for 7 percent of points which it has never seen before or learned before,this is Cold start problem."
      ],
      "execution_count": null,
      "outputs": [
        {
          "output_type": "stream",
          "text": [
            "Percentage of points which are present in test data but not present in train data are 7.120604240273422\n"
          ],
          "name": "stdout"
        }
      ]
    },
    {
      "cell_type": "code",
      "metadata": {
        "id": "lleKO_sz-1M9",
        "colab_type": "code",
        "colab": {
          "base_uri": "https://localhost:8080/",
          "height": 51
        },
        "outputId": "eb6da4e6-c644-4d48-b92f-064e77e11adc"
      },
      "source": [
        "print(nx.is_strongly_connected(train_graph))\n",
        "print(nx.is_weakly_connected(train_graph))"
      ],
      "execution_count": null,
      "outputs": [
        {
          "output_type": "stream",
          "text": [
            "False\n",
            "False\n"
          ],
          "name": "stdout"
        }
      ]
    },
    {
      "cell_type": "code",
      "metadata": {
        "id": "pw79UU2iAmjY",
        "colab_type": "code",
        "colab": {
          "base_uri": "https://localhost:8080/",
          "height": 51
        },
        "outputId": "dd835d7b-a63e-417c-ab88-c2f9448f4dae"
      },
      "source": [
        "print(nx.number_strongly_connected_components(train_graph))\n",
        "print(nx.number_weakly_connected_components(train_graph))"
      ],
      "execution_count": null,
      "outputs": [
        {
          "output_type": "stream",
          "text": [
            "610591\n",
            "48755\n"
          ],
          "name": "stdout"
        }
      ]
    },
    {
      "cell_type": "code",
      "metadata": {
        "id": "NsnTLx-DjFgf",
        "colab_type": "code",
        "colab": {
          "base_uri": "https://localhost:8080/",
          "height": 54
        },
        "outputId": "2d4baac9-da4c-43a7-ba0f-967fd4c5ea5b"
      },
      "source": [
        "from collections import Counter\n",
        "xw=list(map(len,list(nx.weakly_connected_components(train_graph))))\n",
        "print((xw))\n"
      ],
      "execution_count": null,
      "outputs": [
        {
          "output_type": "stream",
          "text": [
            "[1649365, 2, 16, 5, 3, 16, 20, 27, 2, 23, 10, 37, 2, 3, 2, 5, 2, 5, 29, 2, 2, 19, 5, 4, 30, 15, 51, 2, 8, 2, 6, 8, 23, 4, 3, 2, 3, 4, 2, 10, 2, 3, 3, 2, 7, 13, 9, 3, 13, 2, 5, 2, 5, 3, 2, 10, 4, 15, 2, 30, 26, 7, 2, 4, 7, 3, 12, 11, 2, 2, 10, 7, 25, 4, 2, 3, 2, 20, 3, 4, 3, 3, 26, 52, 59, 9, 3, 3, 3, 2, 5, 4, 16, 15, 4, 4, 6, 31, 2, 22, 6, 6, 12, 40, 3, 16, 6, 5, 3, 9, 36, 68, 2, 12, 12, 4, 3, 3, 2, 17, 2, 6, 18, 3, 7, 2, 12, 9, 13, 8, 2, 3, 3, 4, 3, 6, 22, 2, 12, 2, 13, 56, 3, 14, 2, 4, 4, 2, 12, 2, 11, 11, 29, 3, 14, 11, 38, 2, 2, 2, 22, 2, 2, 2, 2, 6, 2, 5, 6, 2, 29, 3, 15, 19, 5, 7, 10, 2, 2, 2, 10, 2, 11, 7, 3, 7, 16, 4, 13, 4, 14, 5, 20, 2, 13, 13, 2, 14, 13, 3, 2, 3, 6, 2, 23, 2, 4, 10, 2, 14, 2, 4, 2, 7, 2, 4, 4, 19, 18, 4, 11, 7, 28, 2, 2, 3, 2, 21, 2, 3, 9, 8, 4, 19, 3, 8, 2, 4, 2, 3, 4, 13, 11, 2, 4, 2, 18, 18, 3, 3, 17, 39, 10, 3, 5, 2, 2, 2, 3, 4, 6, 2, 12, 10, 26, 5, 7, 2, 5, 2, 30, 2, 13, 26, 25, 2, 2, 16, 9, 21, 7, 12, 2, 3, 4, 7, 2, 2, 3, 4, 11, 2, 2, 9, 3, 4, 3, 2, 2, 26, 4, 2, 3, 15, 2, 5, 2, 8, 8, 5, 4, 3, 18, 15, 2, 2, 2, 2, 4, 9, 2, 2, 3, 40, 7, 24, 5, 3, 4, 4, 2, 2, 2, 3, 9, 4, 12, 3, 2, 15, 4, 2, 2, 19, 3, 2, 3, 12, 29, 3, 10, 2, 7, 5, 2, 2, 3, 2, 4, 2, 2, 9, 15, 8, 3, 2, 18, 2, 27, 13, 33, 5, 2, 7, 3, 4, 2, 25, 2, 3, 2, 2, 3, 4, 4, 3, 2, 2, 11, 3, 11, 2, 2, 3, 2, 9, 12, 41, 2, 3, 8, 4, 9, 8, 16, 42, 13, 4, 2, 6, 28, 7, 2, 2, 26, 2, 6, 2, 2, 6, 21, 3, 41, 12, 14, 13, 6, 4, 3, 35, 2, 8, 22, 3, 5, 3, 9, 2, 2, 9, 23, 2, 2, 9, 2, 5, 2, 4, 11, 6, 19, 8, 2, 32, 6, 2, 3, 30, 21, 15, 6, 4, 4, 6, 4, 24, 5, 5, 6, 2, 2, 2, 31, 54, 2, 2, 2, 3, 4, 10, 12, 5, 6, 6, 8, 5, 15, 4, 18, 4, 2, 5, 3, 3, 9, 3, 3, 2, 3, 2, 3, 3, 3, 2, 5, 4, 2, 2, 2, 4, 10, 2, 4, 8, 48, 2, 2, 4, 3, 2, 4, 2, 17, 3, 4, 2, 14, 2, 3, 2, 2, 3, 9, 2, 3, 2, 9, 24, 7, 2, 2, 3, 8, 6, 10, 2, 3, 2, 3, 2, 4, 3, 10, 8, 4, 5, 4, 3, 2, 13, 10, 5, 2, 9, 2, 3, 3, 4, 4, 3, 3, 8, 2, 21, 4, 28, 8, 5, 7, 12, 2, 6, 3, 30, 5, 4, 5, 2, 11, 9, 49, 4, 12, 5, 4, 4, 3, 6, 4, 12, 3, 4, 3, 4, 2, 4, 5, 4, 12, 2, 5, 17, 23, 4, 4, 15, 2, 3, 11, 3, 8, 2, 6, 2, 5, 28, 3, 2, 16, 21, 10, 2, 2, 3, 2, 3, 11, 18, 2, 25, 6, 8, 2, 33, 3, 17, 21, 2, 3, 3, 3, 54, 5, 3, 4, 5, 2, 33, 2, 6, 3, 3, 3, 2, 3, 3, 14, 3, 2, 3, 4, 2, 2, 2, 5, 2, 2, 9, 4, 5, 3, 2, 10, 2, 11, 7, 5, 10, 2, 5, 3, 27, 2, 14, 3, 5, 2, 13, 4, 3, 3, 3, 8, 3, 19, 2, 2, 23, 2, 4, 2, 2, 10, 3, 3, 2, 15, 5, 3, 2, 11, 3, 2, 17, 3, 7, 3, 19, 3, 2, 17, 53, 3, 15, 15, 75, 4, 4, 2, 18, 2, 3, 3, 5, 6, 15, 16, 2, 39, 2, 3, 22, 10, 2, 3, 30, 2, 8, 3, 3, 3, 2, 2, 2, 2, 7, 2, 4, 3, 2, 3, 4, 5, 6, 2, 2, 3, 2, 2, 39, 12, 2, 18, 2, 2, 18, 2, 2, 15, 5, 16, 13, 2, 14, 2, 2, 10, 3, 3, 5, 14, 21, 2, 18, 9, 21, 14, 7, 11, 2, 5, 5, 9, 3, 3, 17, 4, 11, 2, 2, 3, 2, 2, 3, 14, 7, 3, 2, 2, 2, 7, 5, 2, 3, 2, 3, 5, 2, 2, 2, 3, 3, 10, 2, 3, 2, 2, 7, 4, 10, 5, 6, 11, 2, 7, 3, 10, 4, 9, 13, 4, 30, 2, 6, 5, 18, 2, 10, 24, 2, 7, 5, 3, 18, 5, 4, 2, 3, 3, 2, 7, 2, 14, 2, 2, 4, 29, 3, 5, 5, 5, 2, 5, 8, 24, 2, 2, 2, 8, 2, 3, 4, 2, 2, 3, 5, 2, 3, 5, 29, 6, 10, 7, 7, 8, 4, 4, 4, 2, 28, 3, 2, 4, 2, 2, 2, 3, 8, 16, 4, 3, 2, 14, 7, 3, 3, 4, 9, 3, 14, 3, 10, 9, 2, 3, 3, 19, 3, 3, 2, 16, 16, 2, 4, 4, 2, 8, 9, 4, 2, 5, 6, 10, 2, 2, 14, 5, 3, 3, 5, 2, 25, 4, 5, 2, 9, 48, 14, 4, 2, 5, 2, 10, 2, 7, 3, 3, 3, 2, 7, 29, 3, 2, 5, 2, 3, 3, 17, 2, 10, 2, 2, 2, 6, 11, 4, 2, 2, 10, 2, 4, 8, 9, 4, 8, 2, 2, 3, 28, 6, 16, 2, 3, 2, 9, 2, 4, 9, 2, 8, 3, 3, 2, 2, 8, 3, 8, 2, 10, 6, 3, 18, 2, 3, 2, 12, 5, 2, 4, 3, 2, 2, 6, 4, 6, 2, 7, 2, 2, 24, 6, 2, 2, 7, 2, 6, 3, 3, 2, 9, 6, 6, 3, 2, 4, 5, 7, 2, 2, 2, 6, 10, 5, 3, 4, 3, 7, 3, 4, 3, 4, 6, 8, 2, 6, 2, 2, 3, 14, 2, 5, 2, 2, 2, 8, 2, 2, 16, 2, 2, 2, 4, 2, 6, 15, 3, 9, 2, 2, 4, 2, 2, 6, 11, 8, 5, 5, 2, 2, 5, 3, 5, 12, 4, 2, 3, 3, 3, 2, 2, 4, 2, 3, 3, 7, 4, 2, 10, 9, 3, 2, 2, 3, 2, 2, 9, 2, 6, 2, 2, 3, 3, 28, 2, 3, 6, 2, 3, 5, 2, 2, 2, 2, 10, 10, 5, 2, 2, 4, 2, 2, 21, 2, 4, 4, 2, 2, 7, 11, 3, 2, 2, 2, 2, 2, 3, 2, 2, 2, 13, 2, 2, 2, 10, 5, 4, 6, 2, 6, 3, 2, 2, 28, 2, 9, 2, 3, 2, 2, 2, 4, 2, 2, 2, 2, 2, 8, 3, 2, 3, 10, 5, 2, 2, 9, 2, 2, 2, 2, 6, 2, 10, 2, 2, 5, 3, 7, 3, 3, 2, 14, 4, 5, 2, 2, 7, 2, 3, 7, 3, 3, 6, 2, 9, 18, 3, 11, 7, 2, 3, 4, 2, 17, 2, 4, 7, 21, 2, 6, 3, 3, 9, 11, 5, 2, 2, 9, 3, 3, 3, 2, 2, 9, 2, 2, 3, 2, 2, 5, 2, 3, 2, 8, 8, 7, 2, 2, 5, 2, 2, 2, 3, 8, 2, 5, 6, 9, 3, 4, 2, 3, 2, 17, 2, 3, 3, 13, 2, 2, 9, 2, 3, 2, 6, 10, 3, 6, 8, 15, 5, 2, 2, 3, 3, 2, 6, 11, 3, 2, 5, 3, 8, 3, 2, 5, 3, 10, 3, 3, 4, 24, 3, 3, 3, 14, 2, 3, 6, 2, 7, 6, 12, 4, 7, 3, 2, 2, 2, 3, 2, 4, 6, 8, 2, 5, 29, 14, 11, 2, 11, 2, 13, 4, 4, 21, 2, 3, 7, 2, 67, 7, 4, 2, 2, 2, 3, 2, 7, 2, 9, 2, 3, 7, 2, 2, 2, 2, 4, 2, 2, 2, 2, 3, 14, 2, 2, 3, 4, 2, 2, 8, 3, 2, 7, 4, 3, 10, 3, 5, 11, 2, 12, 3, 2, 5, 2, 2, 6, 2, 6, 16, 2, 8, 2, 4, 3, 2, 4, 2, 3, 7, 8, 3, 3, 7, 28, 12, 3, 5, 3, 2, 2, 7, 2, 3, 2, 2, 2, 2, 24, 3, 3, 3, 3, 3, 16, 3, 24, 2, 3, 4, 17, 2, 4, 2, 2, 2, 14, 5, 2, 2, 6, 2, 2, 3, 2, 2, 5, 7, 2, 28, 2, 2, 3, 4, 10, 3, 2, 2, 3, 15, 3, 3, 10, 15, 4, 2, 2, 2, 4, 3, 4, 3, 4, 7, 3, 3, 8, 2, 10, 2, 7, 5, 7, 3, 11, 8, 4, 3, 14, 4, 5, 3, 2, 2, 3, 7, 3, 3, 6, 2, 2, 2, 6, 11, 2, 2, 3, 2, 5, 2, 6, 3, 7, 2, 14, 2, 3, 5, 3, 10, 3, 5, 6, 2, 3, 3, 4, 2, 3, 3, 14, 2, 7, 2, 3, 2, 2, 2, 2, 2, 23, 4, 10, 15, 2, 2, 3, 12, 2, 14, 2, 2, 2, 2, 9, 2, 4, 2, 4, 19, 2, 5, 11, 2, 2, 2, 4, 7, 11, 3, 15, 2, 10, 6, 3, 3, 3, 5, 6, 10, 4, 15, 2, 12, 4, 11, 2, 2, 2, 2, 6, 3, 3, 5, 2, 10, 2, 2, 2, 19, 3, 10, 3, 4, 2, 2, 4, 4, 2, 5, 2, 2, 2, 3, 3, 4, 2, 7, 7, 3, 4, 3, 3, 3, 7, 17, 2, 8, 2, 11, 3, 2, 7, 2, 5, 5, 3, 2, 5, 2, 2, 2, 6, 2, 5, 6, 2, 2, 2, 3, 18, 7, 2, 3, 2, 2, 36, 3, 2, 3, 2, 3, 2, 3, 11, 2, 2, 7, 4, 2, 2, 9, 2, 3, 7, 2, 10, 5, 6, 10, 2, 6, 3, 2, 2, 11, 2, 5, 9, 2, 2, 3, 4, 9, 2, 5, 3, 2, 18, 3, 11, 2, 2, 13, 2, 5, 3, 2, 2, 5, 8, 15, 3, 13, 22, 17, 2, 8, 4, 8, 4, 2, 4, 2, 4, 5, 11, 3, 2, 2, 2, 2, 4, 2, 2, 2, 9, 4, 2, 2, 2, 2, 2, 5, 3, 9, 3, 2, 9, 7, 5, 2, 2, 2, 10, 11, 3, 9, 5, 9, 2, 2, 12, 2, 8, 6, 4, 3, 3, 17, 6, 3, 3, 2, 4, 2, 2, 3, 2, 3, 2, 2, 3, 4, 5, 4, 2, 4, 6, 2, 3, 6, 2, 3, 2, 12, 2, 3, 2, 5, 2, 9, 3, 2, 6, 15, 3, 3, 2, 2, 2, 2, 4, 2, 9, 5, 2, 2, 13, 2, 7, 4, 2, 4, 6, 11, 2, 12, 2, 5, 4, 8, 2, 19, 16, 13, 5, 5, 15, 7, 4, 2, 2, 2, 13, 4, 2, 5, 7, 2, 8, 2, 2, 5, 4, 15, 6, 6, 2, 2, 4, 2, 2, 2, 2, 10, 4, 3, 10, 2, 2, 2, 11, 2, 2, 3, 10, 4, 5, 3, 20, 2, 11, 2, 9, 8, 2, 3, 8, 3, 3, 2, 2, 3, 2, 5, 5, 2, 3, 3, 2, 2, 2, 4, 2, 3, 3, 2, 2, 9, 4, 4, 2, 3, 4, 12, 2, 2, 3, 4, 10, 2, 2, 3, 2, 2, 8, 3, 2, 17, 3, 13, 3, 2, 3, 2, 4, 10, 7, 2, 3, 3, 4, 2, 5, 2, 7, 6, 2, 2, 2, 10, 4, 3, 2, 4, 7, 8, 2, 5, 4, 3, 4, 4, 2, 2, 2, 2, 4, 9, 2, 2, 2, 2, 2, 2, 2, 2, 2, 4, 5, 8, 5, 2, 2, 2, 3, 2, 2, 5, 2, 3, 3, 16, 2, 2, 2, 2, 3, 9, 2, 13, 2, 2, 4, 2, 4, 3, 3, 4, 4, 9, 8, 6, 2, 4, 2, 7, 7, 18, 2, 3, 21, 2, 3, 4, 3, 2, 2, 12, 13, 4, 10, 4, 2, 14, 7, 2, 6, 2, 19, 11, 3, 7, 2, 2, 12, 2, 9, 11, 2, 2, 6, 11, 7, 4, 7, 2, 2, 2, 3, 2, 11, 10, 8, 3, 2, 2, 2, 3, 3, 23, 10, 6, 4, 2, 13, 6, 3, 6, 5, 5, 2, 3, 2, 8, 2, 5, 2, 29, 8, 2, 7, 3, 5, 2, 3, 2, 7, 3, 5, 3, 2, 2, 9, 3, 3, 6, 2, 4, 2, 6, 11, 2, 3, 2, 3, 2, 2, 18, 2, 6, 3, 3, 5, 4, 3, 4, 4, 2, 7, 4, 2, 2, 2, 2, 4, 6, 4, 3, 3, 2, 9, 2, 3, 4, 5, 8, 6, 2, 6, 2, 3, 12, 2, 3, 2, 2, 3, 9, 3, 3, 2, 2, 2, 3, 2, 2, 6, 2, 2, 3, 5, 4, 2, 2, 8, 2, 3, 11, 3, 13, 10, 7, 2, 2, 15, 5, 6, 8, 2, 2, 2, 7, 2, 4, 10, 5, 2, 3, 2, 5, 2, 2, 2, 7, 2, 4, 2, 16, 5, 8, 2, 2, 7, 2, 11, 2, 2, 3, 2, 3, 4, 2, 2, 2, 11, 6, 2, 14, 2, 3, 2, 18, 2, 12, 4, 8, 10, 2, 3, 2, 3, 3, 4, 2, 2, 5, 4, 2, 5, 2, 9, 4, 3, 4, 3, 3, 3, 8, 6, 2, 2, 4, 6, 2, 2, 6, 3, 2, 4, 3, 3, 5, 2, 4, 2, 2, 2, 2, 2, 2, 3, 3, 2, 6, 11, 3, 2, 2, 3, 2, 2, 8, 2, 3, 2, 3, 4, 5, 2, 7, 2, 2, 2, 3, 2, 9, 6, 2, 2, 2, 2, 2, 2, 6, 2, 2, 2, 3, 4, 6, 4, 2, 8, 3, 8, 2, 2, 2, 9, 8, 5, 2, 3, 4, 4, 2, 2, 2, 3, 7, 2, 2, 14, 2, 3, 3, 3, 3, 3, 4, 3, 13, 5, 23, 4, 4, 4, 2, 4, 12, 2, 11, 7, 2, 2, 2, 11, 2, 3, 5, 4, 3, 7, 2, 4, 2, 2, 10, 2, 2, 2, 2, 2, 3, 4, 6, 2, 3, 2, 2, 4, 2, 2, 6, 11, 4, 2, 4, 2, 2, 4, 3, 2, 7, 7, 3, 5, 3, 5, 2, 6, 3, 5, 2, 2, 5, 4, 14, 3, 3, 3, 2, 5, 9, 2, 7, 3, 2, 2, 2, 4, 3, 3, 2, 3, 15, 2, 8, 2, 2, 4, 2, 3, 3, 2, 8, 2, 3, 3, 4, 2, 2, 2, 3, 2, 3, 11, 6, 2, 25, 2, 2, 2, 11, 5, 12, 3, 2, 6, 2, 2, 2, 9, 3, 3, 7, 3, 3, 2, 9, 3, 3, 2, 17, 6, 3, 6, 2, 4, 3, 2, 2, 4, 3, 5, 2, 2, 4, 21, 13, 4, 2, 2, 2, 3, 3, 6, 2, 3, 4, 2, 8, 6, 7, 3, 14, 2, 8, 2, 2, 2, 3, 2, 8, 4, 7, 8, 3, 2, 2, 3, 2, 5, 2, 3, 10, 9, 2, 5, 5, 5, 3, 2, 2, 4, 3, 4, 4, 5, 7, 4, 4, 8, 5, 4, 2, 2, 2, 3, 12, 2, 2, 3, 3, 2, 6, 4, 2, 7, 8, 2, 5, 2, 2, 3, 2, 2, 2, 2, 3, 2, 3, 4, 3, 3, 2, 2, 4, 18, 5, 2, 12, 2, 2, 3, 2, 3, 3, 5, 3, 2, 2, 5, 3, 4, 2, 3, 5, 8, 11, 4, 2, 10, 2, 2, 2, 6, 9, 2, 8, 7, 7, 6, 5, 2, 5, 2, 5, 2, 10, 2, 2, 7, 13, 2, 2, 5, 2, 3, 4, 2, 3, 2, 6, 2, 9, 6, 2, 2, 6, 6, 5, 2, 2, 4, 3, 2, 2, 2, 5, 2, 8, 5, 3, 5, 8, 3, 2, 3, 2, 5, 3, 2, 3, 4, 5, 2, 3, 2, 2, 3, 7, 2, 2, 9, 4, 6, 2, 2, 25, 5, 3, 2, 3, 6, 2, 2, 2, 8, 2, 4, 2, 2, 2, 2, 2, 2, 4, 5, 4, 2, 4, 10, 3, 10, 6, 6, 2, 2, 2, 2, 2, 3, 3, 2, 14, 4, 5, 2, 3, 24, 5, 5, 7, 4, 2, 2, 3, 2, 6, 4, 2, 3, 2, 2, 2, 6, 4, 13, 4, 2, 3, 2, 3, 3, 2, 6, 4, 12, 3, 3, 2, 2, 10, 5, 4, 2, 2, 2, 3, 2, 2, 4, 7, 5, 3, 9, 2, 8, 5, 3, 3, 4, 6, 2, 5, 2, 2, 2, 2, 2, 2, 2, 7, 2, 2, 2, 6, 6, 6, 4, 2, 4, 4, 2, 4, 2, 2, 3, 2, 2, 2, 2, 2, 2, 2, 3, 2, 2, 2, 6, 2, 3, 2, 3, 4, 2, 2, 3, 7, 6, 4, 2, 11, 2, 2, 3, 3, 2, 2, 6, 7, 4, 2, 2, 4, 3, 2, 5, 7, 3, 3, 2, 3, 2, 5, 5, 4, 2, 6, 5, 4, 4, 10, 3, 2, 2, 12, 3, 3, 2, 2, 2, 4, 2, 2, 7, 3, 3, 3, 6, 4, 5, 4, 4, 2, 9, 2, 4, 2, 2, 2, 2, 2, 2, 10, 4, 4, 5, 2, 5, 7, 2, 4, 5, 3, 2, 14, 3, 2, 2, 5, 4, 2, 2, 3, 9, 9, 2, 2, 23, 2, 4, 6, 3, 17, 2, 6, 2, 7, 3, 2, 3, 2, 2, 3, 3, 2, 2, 3, 3, 5, 7, 36, 7, 2, 5, 3, 2, 3, 7, 9, 3, 3, 3, 2, 6, 8, 8, 4, 2, 2, 2, 6, 3, 14, 2, 7, 4, 5, 3, 3, 6, 7, 2, 2, 2, 7, 2, 2, 2, 2, 3, 5, 5, 4, 6, 2, 2, 4, 8, 4, 4, 3, 2, 3, 2, 5, 3, 3, 4, 3, 4, 2, 2, 3, 5, 9, 7, 9, 3, 5, 3, 3, 2, 2, 2, 2, 3, 2, 2, 3, 3, 2, 2, 3, 2, 2, 2, 2, 2, 4, 4, 2, 2, 4, 2, 4, 6, 4, 4, 5, 3, 3, 4, 2, 3, 11, 2, 8, 2, 3, 5, 2, 2, 4, 2, 3, 6, 3, 2, 3, 2, 2, 5, 2, 2, 2, 7, 6, 8, 3, 2, 2, 3, 2, 2, 7, 2, 3, 2, 3, 2, 3, 2, 2, 7, 2, 3, 2, 2, 7, 4, 3, 2, 5, 2, 2, 4, 5, 2, 2, 2, 4, 5, 4, 3, 2, 3, 3, 3, 2, 3, 2, 7, 6, 2, 2, 4, 2, 4, 3, 2, 6, 2, 3, 2, 2, 8, 4, 2, 2, 7, 2, 3, 4, 4, 3, 4, 2, 3, 6, 3, 2, 2, 2, 13, 2, 3, 2, 2, 2, 2, 2, 3, 5, 8, 2, 3, 2, 2, 2, 2, 2, 2, 9, 5, 3, 2, 4, 2, 7, 2, 2, 2, 3, 2, 5, 5, 2, 14, 2, 3, 5, 4, 2, 2, 2, 4, 3, 2, 6, 4, 7, 3, 3, 2, 2, 3, 4, 3, 5, 2, 2, 2, 4, 2, 2, 3, 4, 4, 2, 2, 2, 3, 2, 16, 5, 3, 16, 2, 4, 11, 2, 7, 5, 2, 3, 8, 2, 3, 4, 3, 2, 3, 5, 2, 2, 11, 4, 2, 4, 2, 3, 2, 5, 3, 9, 5, 4, 12, 3, 2, 2, 3, 3, 3, 15, 2, 2, 2, 2, 7, 6, 7, 13, 2, 9, 4, 6, 2, 2, 2, 6, 7, 4, 4, 2, 4, 3, 2, 3, 5, 3, 4, 5, 2, 6, 2, 2, 2, 2, 5, 4, 2, 2, 2, 2, 5, 12, 3, 9, 4, 2, 2, 3, 3, 5, 5, 3, 2, 2, 2, 3, 5, 2, 3, 3, 7, 2, 13, 2, 5, 3, 11, 5, 2, 3, 4, 2, 5, 2, 3, 2, 6, 7, 2, 2, 3, 4, 3, 2, 2, 2, 4, 2, 9, 2, 5, 2, 2, 3, 2, 3, 2, 2, 4, 2, 2, 7, 3, 3, 2, 3, 16, 2, 4, 2, 2, 3, 3, 2, 3, 2, 2, 3, 2, 2, 2, 4, 3, 8, 2, 3, 2, 3, 3, 2, 7, 2, 3, 2, 3, 3, 2, 2, 2, 2, 8, 3, 3, 4, 6, 2, 5, 2, 8, 2, 9, 2, 2, 2, 10, 9, 5, 4, 3, 3, 2, 3, 9, 2, 2, 2, 2, 2, 3, 4, 2, 8, 2, 2, 2, 3, 3, 3, 2, 4, 5, 3, 2, 3, 2, 2, 3, 7, 2, 4, 2, 2, 4, 2, 2, 2, 6, 2, 14, 6, 3, 3, 2, 14, 16, 3, 2, 5, 2, 2, 6, 2, 2, 8, 5, 6, 4, 3, 5, 4, 2, 14, 2, 4, 5, 4, 4, 4, 2, 3, 2, 2, 8, 3, 2, 2, 4, 8, 5, 2, 2, 3, 2, 2, 5, 5, 2, 2, 2, 2, 2, 2, 3, 2, 3, 5, 2, 2, 3, 2, 7, 2, 2, 6, 2, 2, 2, 3, 3, 3, 2, 4, 9, 2, 2, 3, 4, 12, 7, 2, 3, 7, 5, 2, 2, 2, 2, 2, 2, 2, 2, 3, 6, 3, 2, 6, 15, 14, 2, 5, 2, 3, 3, 9, 3, 3, 3, 5, 2, 3, 2, 6, 6, 4, 6, 2, 6, 2, 3, 2, 4, 3, 2, 8, 2, 20, 3, 6, 7, 8, 3, 6, 5, 2, 8, 3, 8, 8, 2, 3, 2, 8, 2, 2, 2, 4, 2, 4, 2, 2, 5, 2, 2, 11, 2, 4, 2, 8, 3, 5, 2, 3, 2, 3, 8, 2, 5, 2, 2, 2, 3, 2, 2, 5, 2, 2, 13, 2, 2, 9, 18, 3, 11, 2, 2, 2, 2, 2, 6, 3, 2, 2, 2, 2, 3, 2, 5, 3, 4, 2, 5, 2, 3, 3, 5, 4, 2, 2, 3, 17, 4, 9, 2, 3, 6, 2, 3, 2, 2, 4, 4, 3, 6, 4, 2, 2, 3, 2, 5, 2, 2, 6, 6, 2, 2, 2, 3, 4, 3, 2, 4, 9, 2, 2, 2, 2, 2, 2, 2, 3, 2, 4, 2, 2, 3, 6, 2, 2, 3, 2, 2, 4, 7, 2, 9, 5, 2, 3, 8, 2, 4, 2, 2, 2, 2, 2, 9, 3, 2, 10, 2, 2, 2, 3, 4, 3, 3, 8, 13, 3, 2, 2, 2, 2, 4, 2, 2, 2, 4, 9, 2, 2, 3, 2, 2, 2, 2, 3, 4, 7, 2, 3, 2, 3, 2, 3, 2, 13, 3, 6, 2, 3, 4, 3, 2, 6, 7, 3, 4, 7, 2, 5, 2, 3, 11, 7, 9, 17, 2, 2, 4, 3, 2, 2, 2, 2, 3, 2, 2, 2, 3, 2, 3, 2, 7, 7, 2, 3, 5, 2, 8, 2, 5, 3, 2, 4, 2, 3, 6, 4, 2, 2, 3, 2, 4, 6, 2, 4, 2, 4, 3, 2, 6, 3, 4, 3, 2, 11, 4, 2, 8, 4, 3, 2, 11, 2, 6, 2, 2, 3, 3, 2, 2, 3, 3, 2, 2, 2, 2, 10, 7, 2, 4, 2, 14, 4, 2, 4, 3, 4, 3, 12, 5, 2, 9, 7, 3, 2, 4, 4, 2, 5, 6, 2, 3, 10, 5, 3, 3, 3, 6, 7, 3, 2, 3, 5, 6, 8, 2, 2, 5, 3, 3, 2, 2, 2, 2, 16, 5, 2, 2, 3, 5, 3, 2, 5, 2, 3, 3, 4, 3, 2, 2, 7, 2, 3, 2, 2, 9, 2, 2, 3, 3, 2, 4, 5, 5, 3, 4, 12, 2, 2, 2, 4, 3, 2, 2, 9, 2, 7, 2, 2, 2, 2, 2, 9, 2, 2, 2, 14, 3, 15, 8, 7, 2, 2, 2, 2, 2, 17, 2, 2, 2, 4, 8, 4, 2, 8, 2, 4, 4, 2, 4, 3, 2, 2, 4, 3, 2, 2, 3, 4, 4, 9, 2, 4, 3, 4, 4, 2, 2, 4, 4, 2, 2, 5, 3, 2, 5, 3, 10, 2, 3, 8, 5, 6, 4, 2, 2, 6, 2, 5, 2, 2, 3, 5, 2, 2, 5, 2, 2, 4, 2, 3, 2, 2, 3, 3, 4, 2, 2, 2, 3, 2, 7, 3, 4, 6, 3, 2, 2, 2, 3, 3, 2, 2, 3, 2, 2, 5, 2, 3, 2, 10, 4, 6, 2, 3, 5, 10, 4, 3, 3, 2, 2, 5, 3, 3, 3, 2, 8, 2, 4, 2, 2, 2, 9, 4, 5, 12, 2, 3, 6, 2, 6, 4, 3, 2, 2, 4, 2, 3, 16, 3, 4, 5, 2, 5, 4, 3, 3, 2, 2, 3, 3, 4, 2, 5, 2, 2, 4, 3, 3, 14, 5, 2, 2, 4, 2, 10, 2, 6, 3, 2, 2, 3, 3, 3, 2, 3, 5, 4, 2, 2, 2, 5, 2, 8, 3, 2, 2, 3, 3, 5, 3, 7, 2, 2, 2, 5, 2, 3, 2, 2, 2, 4, 2, 2, 2, 2, 4, 2, 10, 2, 2, 5, 4, 11, 2, 4, 5, 3, 2, 2, 2, 2, 2, 2, 2, 3, 3, 2, 8, 3, 3, 3, 3, 2, 2, 4, 2, 4, 3, 2, 8, 2, 2, 2, 2, 2, 9, 2, 2, 5, 2, 4, 4, 4, 2, 2, 3, 2, 2, 2, 2, 3, 3, 4, 6, 6, 2, 2, 2, 3, 3, 2, 5, 2, 12, 2, 2, 2, 2, 3, 8, 3, 4, 5, 2, 4, 2, 10, 2, 2, 2, 2, 2, 2, 2, 2, 3, 2, 2, 2, 2, 2, 8, 3, 2, 8, 3, 2, 14, 7, 2, 2, 2, 11, 3, 2, 3, 2, 4, 4, 2, 5, 3, 2, 2, 2, 4, 3, 4, 4, 2, 16, 5, 3, 3, 2, 2, 2, 2, 12, 2, 5, 2, 2, 2, 5, 10, 2, 2, 3, 2, 3, 2, 2, 2, 2, 3, 4, 4, 3, 2, 2, 2, 2, 3, 2, 4, 4, 2, 3, 6, 3, 6, 3, 3, 3, 3, 3, 2, 8, 2, 2, 2, 3, 9, 2, 3, 6, 2, 4, 11, 3, 2, 14, 3, 2, 3, 3, 2, 4, 8, 3, 3, 3, 2, 5, 2, 4, 5, 12, 4, 2, 3, 3, 2, 6, 2, 2, 2, 2, 2, 3, 3, 2, 2, 3, 3, 3, 7, 2, 11, 7, 4, 3, 2, 2, 2, 2, 2, 9, 4, 9, 4, 2, 5, 7, 2, 2, 4, 2, 11, 2, 2, 2, 2, 2, 3, 3, 2, 2, 7, 2, 4, 2, 3, 2, 9, 2, 2, 7, 2, 4, 2, 2, 3, 7, 4, 3, 7, 5, 2, 3, 4, 2, 2, 4, 3, 6, 5, 4, 3, 2, 4, 2, 2, 2, 2, 7, 2, 5, 5, 3, 3, 2, 3, 2, 3, 3, 4, 4, 2, 2, 3, 2, 2, 8, 3, 4, 2, 3, 3, 3, 2, 2, 4, 3, 2, 4, 5, 10, 2, 8, 2, 2, 2, 5, 3, 2, 9, 2, 4, 2, 2, 23, 2, 5, 3, 2, 3, 4, 7, 5, 2, 2, 2, 2, 4, 2, 2, 3, 7, 5, 2, 4, 4, 4, 9, 4, 3, 2, 4, 2, 2, 2, 6, 2, 2, 5, 6, 2, 2, 2, 2, 2, 2, 2, 2, 2, 2, 10, 5, 2, 3, 12, 6, 4, 2, 2, 3, 3, 4, 8, 3, 3, 2, 3, 5, 3, 2, 4, 2, 4, 2, 2, 2, 7, 2, 4, 2, 10, 2, 2, 3, 4, 4, 2, 2, 2, 4, 2, 9, 2, 2, 2, 2, 4, 2, 2, 2, 2, 2, 5, 2, 4, 7, 2, 2, 6, 4, 2, 2, 4, 3, 2, 2, 2, 2, 4, 2, 6, 4, 2, 4, 2, 2, 6, 2, 2, 4, 3, 4, 3, 3, 4, 3, 3, 6, 4, 2, 4, 2, 5, 2, 8, 3, 4, 3, 2, 3, 2, 8, 4, 2, 4, 3, 4, 2, 2, 9, 8, 3, 2, 5, 5, 2, 5, 2, 2, 2, 3, 2, 3, 3, 4, 2, 2, 2, 6, 3, 2, 2, 2, 8, 5, 3, 4, 3, 5, 2, 2, 3, 3, 4, 2, 5, 3, 2, 7, 5, 13, 2, 2, 2, 2, 2, 5, 4, 2, 2, 2, 2, 2, 2, 2, 5, 3, 2, 2, 2, 2, 4, 3, 3, 9, 3, 2, 3, 3, 2, 3, 2, 7, 2, 3, 9, 2, 5, 3, 4, 3, 2, 2, 2, 2, 3, 3, 3, 3, 2, 2, 2, 3, 3, 2, 6, 2, 3, 2, 4, 5, 3, 2, 3, 3, 4, 4, 5, 11, 3, 3, 2, 4, 2, 2, 2, 2, 4, 2, 4, 2, 7, 2, 2, 2, 2, 3, 3, 9, 3, 3, 2, 2, 3, 3, 2, 6, 2, 2, 14, 2, 3, 6, 2, 2, 2, 6, 5, 2, 2, 3, 2, 2, 4, 3, 3, 2, 2, 2, 7, 2, 3, 3, 2, 6, 2, 5, 7, 2, 2, 3, 2, 3, 3, 10, 3, 2, 3, 7, 2, 2, 2, 2, 2, 2, 2, 5, 4, 3, 2, 2, 4, 2, 3, 5, 2, 2, 3, 2, 2, 2, 7, 6, 3, 2, 2, 2, 3, 3, 6, 4, 2, 3, 2, 2, 3, 8, 7, 5, 2, 5, 5, 3, 2, 5, 2, 4, 3, 3, 3, 2, 3, 3, 2, 3, 2, 2, 4, 2, 2, 2, 2, 2, 3, 2, 6, 4, 2, 2, 4, 2, 2, 3, 2, 4, 2, 2, 2, 5, 9, 2, 4, 14, 3, 3, 2, 5, 2, 3, 4, 2, 3, 4, 7, 2, 2, 2, 2, 3, 2, 4, 2, 2, 2, 2, 2, 3, 2, 5, 5, 2, 6, 2, 3, 2, 2, 2, 6, 10, 2, 2, 8, 2, 6, 2, 2, 8, 3, 2, 3, 6, 3, 3, 2, 14, 2, 3, 3, 5, 2, 4, 2, 3, 4, 8, 6, 3, 4, 2, 2, 3, 6, 2, 2, 8, 4, 5, 2, 9, 3, 2, 2, 3, 2, 2, 3, 3, 2, 3, 2, 8, 4, 10, 9, 2, 3, 2, 4, 3, 2, 3, 3, 2, 9, 2, 2, 2, 3, 2, 4, 3, 2, 2, 2, 3, 2, 3, 3, 2, 4, 6, 4, 2, 5, 2, 5, 2, 4, 6, 2, 3, 6, 2, 4, 2, 3, 2, 3, 3, 2, 2, 9, 3, 5, 3, 3, 2, 6, 10, 3, 2, 3, 2, 2, 6, 4, 5, 2, 2, 2, 2, 2, 5, 3, 13, 2, 3, 2, 3, 3, 9, 3, 2, 2, 7, 4, 5, 5, 3, 2, 2, 3, 3, 3, 2, 8, 11, 7, 4, 2, 6, 8, 3, 3, 2, 2, 4, 2, 3, 2, 6, 2, 3, 2, 2, 3, 2, 2, 2, 2, 2, 5, 3, 5, 3, 7, 2, 6, 7, 3, 2, 2, 2, 2, 2, 2, 4, 2, 6, 2, 3, 3, 3, 2, 2, 7, 2, 2, 2, 3, 3, 5, 3, 4, 3, 4, 9, 2, 5, 3, 2, 2, 2, 2, 3, 5, 4, 4, 2, 2, 3, 3, 2, 3, 3, 2, 2, 2, 4, 5, 4, 2, 12, 2, 4, 2, 2, 3, 3, 6, 3, 7, 3, 2, 2, 2, 3, 3, 2, 4, 2, 3, 3, 11, 5, 7, 3, 2, 2, 2, 2, 2, 4, 3, 3, 3, 3, 2, 3, 4, 2, 4, 2, 4, 4, 3, 7, 2, 2, 2, 2, 3, 2, 8, 6, 2, 2, 4, 9, 2, 13, 2, 8, 3, 2, 6, 4, 2, 7, 3, 3, 2, 8, 2, 2, 2, 3, 3, 2, 2, 2, 2, 4, 6, 2, 3, 3, 4, 9, 2, 2, 5, 2, 5, 4, 2, 2, 8, 3, 5, 2, 3, 3, 2, 9, 5, 2, 3, 3, 2, 4, 2, 4, 3, 2, 5, 8, 2, 3, 3, 2, 2, 2, 2, 4, 4, 3, 4, 4, 2, 3, 3, 2, 3, 2, 2, 2, 2, 2, 6, 7, 2, 2, 3, 2, 2, 4, 4, 2, 2, 4, 2, 5, 5, 10, 8, 14, 3, 2, 2, 4, 2, 2, 4, 3, 8, 2, 2, 5, 3, 4, 2, 2, 2, 4, 6, 4, 3, 2, 4, 2, 2, 3, 2, 4, 3, 2, 3, 2, 2, 4, 4, 2, 5, 2, 2, 4, 5, 2, 3, 2, 2, 2, 2, 2, 9, 4, 2, 3, 2, 2, 3, 2, 3, 5, 2, 3, 3, 2, 6, 2, 4, 3, 2, 2, 3, 2, 4, 4, 2, 11, 4, 2, 9, 4, 2, 4, 2, 8, 4, 6, 4, 4, 2, 8, 6, 4, 2, 2, 6, 2, 2, 2, 2, 2, 3, 2, 2, 2, 4, 2, 2, 2, 2, 4, 2, 2, 8, 3, 7, 2, 4, 4, 5, 2, 2, 2, 2, 2, 3, 4, 2, 2, 3, 3, 2, 2, 3, 4, 2, 4, 5, 2, 2, 4, 5, 6, 2, 3, 22, 2, 6, 9, 2, 2, 2, 3, 2, 7, 2, 6, 7, 6, 7, 2, 4, 2, 5, 5, 9, 2, 3, 5, 2, 2, 5, 2, 3, 7, 2, 12, 4, 2, 2, 4, 2, 3, 2, 2, 2, 2, 3, 9, 4, 2, 2, 3, 2, 3, 6, 2, 5, 2, 2, 8, 4, 3, 2, 2, 5, 2, 2, 2, 2, 4, 2, 2, 2, 3, 2, 2, 2, 6, 4, 4, 4, 3, 2, 2, 3, 7, 3, 3, 2, 6, 3, 2, 2, 4, 16, 10, 4, 2, 2, 2, 5, 4, 3, 3, 3, 2, 2, 2, 2, 2, 2, 2, 6, 2, 2, 2, 4, 2, 4, 3, 6, 5, 2, 2, 4, 4, 2, 4, 2, 2, 4, 2, 10, 4, 2, 2, 5, 6, 3, 2, 3, 3, 2, 3, 2, 4, 2, 4, 7, 3, 2, 4, 9, 4, 3, 3, 2, 4, 2, 2, 2, 9, 2, 3, 2, 2, 3, 3, 7, 4, 2, 2, 2, 2, 10, 4, 4, 3, 3, 5, 2, 2, 2, 4, 2, 2, 8, 3, 2, 3, 2, 2, 2, 2, 3, 7, 14, 3, 7, 2, 2, 7, 2, 3, 2, 5, 3, 4, 5, 2, 2, 2, 2, 2, 2, 6, 2, 3, 4, 2, 2, 2, 2, 3, 2, 6, 3, 3, 2, 4, 3, 5, 2, 5, 2, 2, 2, 2, 2, 3, 4, 3, 4, 2, 3, 2, 2, 7, 2, 2, 4, 2, 2, 7, 2, 2, 4, 2, 2, 3, 3, 5, 3, 3, 5, 2, 2, 2, 4, 3, 2, 2, 2, 4, 5, 4, 2, 3, 2, 3, 2, 3, 3, 3, 2, 2, 9, 2, 4, 2, 2, 6, 3, 2, 4, 2, 2, 5, 2, 2, 3, 4, 2, 2, 11, 2, 2, 4, 3, 3, 5, 3, 4, 3, 3, 2, 4, 2, 4, 2, 2, 2, 2, 3, 2, 2, 6, 3, 3, 3, 2, 3, 10, 3, 3, 3, 3, 4, 2, 2, 12, 2, 5, 2, 4, 5, 3, 2, 3, 5, 3, 4, 2, 2, 3, 2, 5, 3, 6, 6, 3, 5, 3, 2, 2, 3, 2, 9, 11, 7, 2, 2, 3, 2, 2, 2, 2, 2, 4, 3, 8, 2, 2, 2, 5, 7, 7, 2, 3, 2, 2, 6, 7, 2, 2, 2, 4, 8, 5, 2, 2, 5, 3, 4, 4, 2, 2, 10, 12, 3, 5, 3, 4, 2, 3, 8, 3, 2, 2, 2, 2, 3, 2, 2, 3, 4, 2, 6, 4, 5, 3, 2, 7, 2, 4, 6, 2, 2, 2, 3, 2, 4, 2, 2, 9, 2, 2, 2, 2, 2, 2, 2, 5, 2, 3, 3, 2, 3, 3, 4, 3, 2, 3, 3, 2, 3, 2, 4, 2, 3, 2, 3, 2, 4, 3, 2, 3, 20, 3, 2, 3, 2, 4, 5, 3, 3, 3, 2, 2, 3, 2, 5, 2, 3, 16, 2, 2, 2, 2, 2, 3, 2, 2, 2, 3, 5, 4, 2, 4, 2, 4, 3, 2, 4, 2, 5, 2, 3, 3, 2, 2, 5, 4, 7, 2, 3, 2, 2, 2, 4, 4, 3, 2, 2, 2, 3, 2, 2, 2, 2, 3, 3, 7, 2, 2, 8, 2, 2, 3, 7, 8, 2, 2, 6, 3, 3, 2, 2, 2, 3, 2, 5, 2, 4, 2, 3, 2, 2, 3, 2, 2, 2, 15, 2, 2, 2, 2, 2, 6, 3, 2, 2, 2, 5, 2, 2, 2, 2, 2, 3, 3, 5, 3, 3, 5, 5, 3, 3, 2, 5, 2, 2, 2, 2, 7, 2, 2, 2, 4, 3, 2, 3, 5, 8, 2, 5, 2, 2, 2, 5, 6, 24, 3, 2, 2, 2, 2, 3, 2, 3, 2, 3, 2, 4, 2, 3, 2, 7, 2, 2, 3, 3, 4, 2, 2, 2, 2, 3, 2, 3, 3, 11, 5, 2, 2, 5, 2, 2, 2, 3, 2, 2, 2, 3, 2, 2, 2, 2, 3, 5, 2, 2, 2, 2, 6, 6, 3, 2, 6, 3, 2, 2, 2, 2, 2, 6, 3, 4, 6, 2, 2, 3, 2, 2, 2, 5, 5, 2, 2, 2, 2, 2, 2, 2, 2, 9, 2, 4, 2, 2, 5, 2, 3, 3, 2, 3, 3, 5, 3, 2, 5, 8, 2, 2, 2, 11, 3, 7, 2, 4, 4, 2, 4, 4, 5, 2, 3, 2, 2, 17, 4, 2, 2, 4, 2, 2, 6, 2, 2, 3, 4, 2, 2, 9, 2, 2, 2, 2, 3, 2, 5, 3, 2, 2, 3, 3, 6, 4, 2, 2, 4, 16, 3, 7, 2, 2, 3, 2, 2, 2, 2, 2, 2, 2, 6, 2, 4, 6, 5, 2, 2, 2, 3, 2, 2, 2, 3, 13, 15, 3, 4, 6, 5, 4, 2, 2, 2, 2, 3, 5, 3, 2, 8, 5, 4, 3, 3, 4, 4, 2, 5, 2, 5, 2, 5, 2, 5, 3, 4, 2, 3, 4, 5, 2, 2, 2, 2, 6, 3, 2, 2, 2, 4, 3, 3, 2, 2, 2, 4, 7, 2, 2, 3, 5, 2, 2, 6, 2, 4, 2, 2, 2, 2, 16, 2, 4, 4, 6, 5, 5, 4, 2, 2, 2, 2, 2, 2, 3, 5, 12, 4, 2, 6, 2, 4, 12, 2, 2, 2, 3, 3, 2, 2, 3, 2, 2, 2, 2, 2, 2, 7, 4, 2, 2, 2, 2, 2, 2, 3, 2, 2, 4, 2, 2, 3, 3, 5, 3, 7, 2, 2, 2, 3, 4, 3, 2, 9, 2, 2, 2, 3, 3, 5, 2, 2, 3, 2, 2, 2, 3, 2, 2, 2, 15, 2, 2, 5, 3, 3, 5, 9, 2, 2, 2, 2, 5, 3, 2, 3, 5, 2, 3, 2, 8, 6, 3, 2, 9, 2, 2, 3, 3, 2, 6, 4, 7, 3, 2, 2, 8, 2, 5, 3, 2, 3, 2, 2, 2, 6, 3, 2, 2, 2, 4, 4, 2, 2, 4, 11, 3, 4, 4, 2, 5, 4, 8, 3, 4, 3, 2, 2, 2, 2, 3, 2, 2, 2, 2, 2, 3, 2, 6, 2, 3, 5, 2, 2, 3, 8, 6, 3, 4, 2, 3, 2, 7, 2, 2, 4, 2, 2, 2, 2, 2, 2, 2, 2, 3, 2, 2, 3, 4, 6, 3, 5, 2, 2, 2, 5, 3, 7, 3, 2, 4, 2, 4, 2, 7, 2, 6, 4, 4, 3, 3, 2, 2, 2, 2, 2, 3, 2, 4, 2, 4, 4, 3, 3, 2, 5, 3, 2, 2, 3, 2, 2, 2, 3, 2, 2, 2, 2, 3, 2, 2, 3, 3, 3, 4, 3, 4, 2, 3, 3, 2, 2, 4, 3, 2, 2, 6, 3, 2, 2, 3, 2, 2, 2, 2, 2, 11, 8, 2, 6, 3, 2, 2, 3, 3, 4, 2, 2, 4, 4, 2, 2, 2, 4, 3, 9, 2, 3, 3, 2, 2, 3, 2, 2, 2, 2, 3, 2, 3, 4, 2, 2, 4, 3, 3, 2, 2, 7, 2, 2, 4, 3, 4, 10, 4, 2, 5, 2, 2, 2, 4, 2, 4, 5, 4, 7, 2, 4, 8, 4, 2, 3, 2, 3, 4, 3, 2, 3, 2, 4, 2, 2, 6, 2, 6, 2, 2, 3, 4, 2, 2, 2, 3, 3, 2, 2, 4, 2, 4, 2, 3, 4, 2, 2, 2, 2, 2, 3, 2, 3, 3, 3, 4, 3, 2, 2, 2, 3, 3, 2, 2, 2, 2, 2, 3, 4, 2, 3, 3, 2, 3, 2, 2, 2, 2, 6, 2, 6, 4, 3, 2, 2, 3, 2, 5, 9, 2, 2, 3, 2, 4, 2, 3, 3, 3, 5, 3, 3, 2, 2, 2, 16, 3, 4, 3, 5, 3, 2, 4, 3, 4, 3, 2, 2, 2, 3, 2, 2, 4, 7, 2, 10, 3, 4, 6, 3, 2, 2, 3, 2, 2, 2, 6, 2, 3, 7, 2, 2, 2, 2, 2, 4, 3, 2, 2, 2, 3, 2, 2, 2, 2, 3, 3, 2, 2, 2, 3, 3, 3, 6, 2, 6, 2, 2, 2, 8, 2, 2, 3, 3, 3, 3, 2, 2, 4, 7, 7, 3, 2, 2, 3, 4, 7, 2, 4, 3, 2, 2, 2, 2, 4, 9, 6, 4, 2, 2, 13, 3, 2, 2, 6, 6, 2, 2, 5, 3, 3, 9, 3, 4, 9, 3, 3, 4, 2, 4, 7, 5, 6, 2, 5, 6, 5, 8, 2, 9, 3, 2, 3, 2, 3, 3, 3, 2, 5, 2, 2, 5, 2, 4, 4, 4, 3, 2, 3, 2, 3, 2, 4, 2, 5, 2, 3, 3, 2, 2, 11, 3, 2, 2, 3, 4, 2, 3, 2, 2, 2, 5, 2, 9, 2, 3, 7, 2, 2, 4, 2, 2, 3, 2, 7, 2, 2, 2, 3, 2, 2, 8, 2, 4, 3, 3, 2, 5, 2, 4, 2, 3, 3, 9, 4, 3, 2, 6, 5, 2, 4, 2, 2, 2, 2, 2, 2, 2, 2, 3, 2, 2, 4, 3, 3, 4, 3, 5, 4, 3, 6, 3, 3, 3, 9, 4, 3, 6, 3, 3, 3, 3, 3, 2, 3, 4, 5, 2, 3, 3, 2, 2, 3, 6, 2, 5, 5, 2, 2, 3, 2, 3, 7, 2, 2, 4, 2, 5, 2, 3, 4, 14, 2, 4, 2, 6, 2, 3, 2, 3, 3, 2, 8, 3, 4, 3, 2, 3, 2, 2, 3, 3, 4, 2, 2, 2, 2, 9, 3, 2, 5, 3, 3, 2, 2, 3, 2, 2, 2, 2, 4, 2, 7, 3, 2, 9, 2, 3, 2, 2, 2, 3, 7, 4, 6, 6, 2, 2, 2, 3, 4, 2, 2, 3, 9, 6, 2, 3, 2, 2, 6, 2, 2, 4, 4, 2, 3, 2, 2, 2, 8, 3, 2, 3, 5, 7, 2, 2, 2, 2, 3, 3, 2, 3, 2, 17, 4, 2, 2, 7, 3, 3, 2, 7, 2, 5, 13, 2, 2, 2, 4, 2, 8, 2, 2, 2, 2, 6, 7, 6, 4, 3, 3, 4, 3, 5, 2, 6, 3, 4, 2, 2, 4, 6, 2, 3, 2, 2, 4, 3, 2, 2, 2, 4, 2, 3, 3, 2, 6, 2, 3, 3, 5, 2, 2, 2, 2, 2, 3, 17, 5, 3, 2, 3, 2, 3, 2, 2, 2, 4, 8, 11, 5, 2, 7, 4, 2, 3, 5, 2, 2, 2, 2, 2, 2, 2, 2, 2, 3, 2, 3, 5, 2, 2, 4, 2, 2, 2, 3, 2, 2, 2, 9, 2, 2, 5, 4, 2, 4, 4, 3, 2, 3, 2, 4, 2, 2, 4, 3, 2, 2, 3, 3, 2, 2, 5, 3, 3, 3, 5, 2, 3, 2, 10, 2, 2, 9, 3, 5, 2, 3, 3, 2, 3, 3, 2, 4, 2, 5, 3, 3, 3, 4, 11, 2, 3, 2, 4, 2, 3, 3, 3, 2, 5, 2, 2, 2, 3, 3, 2, 2, 2, 5, 6, 4, 2, 2, 3, 3, 8, 3, 2, 2, 2, 2, 3, 3, 2, 2, 2, 3, 4, 3, 2, 2, 3, 5, 2, 3, 4, 2, 4, 3, 2, 2, 2, 3, 2, 2, 7, 2, 2, 3, 2, 3, 2, 2, 3, 2, 3, 4, 2, 5, 2, 4, 2, 6, 3, 2, 3, 2, 3, 3, 4, 7, 2, 2, 4, 2, 2, 2, 2, 2, 3, 2, 2, 7, 4, 2, 2, 3, 4, 2, 2, 3, 8, 3, 2, 5, 8, 2, 2, 8, 2, 2, 5, 2, 2, 2, 3, 2, 2, 4, 3, 3, 7, 2, 2, 2, 4, 2, 4, 2, 2, 4, 2, 2, 2, 2, 2, 2, 3, 7, 5, 4, 3, 4, 2, 3, 2, 3, 4, 2, 2, 2, 3, 4, 2, 2, 2, 4, 2, 2, 3, 3, 2, 2, 2, 3, 4, 2, 2, 2, 4, 6, 2, 2, 2, 2, 2, 6, 4, 2, 3, 2, 3, 4, 3, 3, 11, 6, 3, 6, 6, 3, 2, 4, 3, 3, 2, 2, 3, 3, 2, 2, 2, 3, 3, 2, 3, 2, 2, 2, 2, 3, 2, 3, 2, 4, 2, 3, 6, 2, 4, 2, 2, 2, 2, 2, 2, 2, 2, 4, 5, 2, 2, 5, 2, 6, 2, 2, 2, 2, 2, 2, 2, 2, 6, 5, 2, 3, 4, 2, 3, 2, 8, 2, 2, 2, 4, 2, 2, 4, 4, 2, 2, 3, 6, 22, 2, 2, 2, 2, 2, 3, 6, 6, 5, 3, 3, 3, 3, 2, 2, 2, 2, 2, 2, 2, 2, 2, 2, 12, 5, 3, 3, 6, 3, 2, 2, 2, 2, 2, 11, 2, 2, 2, 8, 3, 2, 4, 6, 6, 3, 2, 2, 3, 3, 2, 4, 5, 3, 2, 2, 3, 3, 2, 4, 2, 3, 2, 2, 4, 2, 4, 2, 2, 2, 2, 2, 2, 3, 3, 4, 3, 2, 2, 2, 2, 3, 5, 3, 5, 2, 2, 2, 4, 3, 2, 6, 2, 3, 2, 5, 5, 2, 2, 2, 4, 2, 2, 2, 2, 3, 5, 2, 2, 2, 5, 3, 2, 2, 2, 4, 5, 2, 2, 3, 2, 5, 2, 2, 7, 2, 2, 2, 2, 5, 3, 3, 2, 7, 6, 4, 12, 2, 2, 5, 3, 2, 3, 2, 2, 2, 2, 4, 2, 2, 3, 8, 2, 3, 15, 3, 2, 2, 2, 2, 4, 2, 2, 2, 4, 7, 2, 2, 4, 2, 2, 2, 3, 8, 2, 2, 3, 5, 2, 2, 4, 2, 2, 2, 2, 9, 5, 2, 2, 2, 2, 3, 2, 2, 3, 3, 4, 2, 6, 2, 4, 3, 4, 2, 2, 3, 5, 2, 4, 2, 2, 2, 2, 2, 2, 3, 3, 3, 2, 2, 3, 4, 2, 2, 3, 5, 3, 2, 2, 3, 4, 3, 4, 2, 2, 4, 3, 3, 4, 2, 2, 2, 4, 5, 2, 2, 3, 2, 4, 8, 2, 6, 7, 2, 2, 2, 13, 3, 12, 2, 2, 2, 2, 4, 2, 2, 2, 2, 3, 5, 2, 3, 2, 4, 2, 8, 12, 3, 3, 3, 3, 4, 2, 2, 2, 3, 2, 2, 2, 5, 2, 2, 2, 2, 2, 3, 5, 2, 3, 4, 7, 2, 2, 2, 2, 2, 3, 3, 2, 2, 2, 3, 2, 4, 4, 3, 2, 2, 4, 4, 3, 2, 6, 2, 2, 2, 2, 4, 2, 3, 2, 2, 3, 6, 2, 2, 3, 2, 2, 2, 3, 2, 3, 2, 6, 3, 2, 2, 3, 4, 4, 2, 2, 2, 3, 14, 4, 2, 3, 3, 2, 2, 3, 2, 2, 4, 2, 2, 3, 2, 2, 2, 2, 2, 2, 2, 2, 2, 2, 4, 2, 4, 3, 4, 5, 2, 3, 7, 2, 4, 2, 2, 2, 3, 2, 3, 2, 7, 3, 2, 2, 2, 2, 6, 2, 2, 2, 3, 2, 2, 5, 2, 2, 2, 2, 2, 4, 2, 2, 2, 3, 3, 4, 2, 2, 10, 2, 2, 3, 2, 3, 2, 2, 2, 2, 2, 2, 2, 6, 2, 2, 2, 4, 2, 6, 2, 2, 3, 4, 3, 2, 3, 2, 3, 5, 2, 5, 2, 4, 2, 4, 5, 2, 3, 2, 3, 5, 3, 3, 3, 2, 2, 2, 2, 2, 3, 3, 3, 2, 6, 2, 3, 4, 2, 5, 6, 2, 2, 2, 2, 2, 3, 2, 4, 6, 2, 2, 2, 2, 3, 12, 2, 3, 6, 2, 3, 3, 3, 2, 2, 2, 7, 4, 2, 5, 6, 2, 2, 2, 3, 2, 2, 2, 3, 5, 3, 3, 2, 2, 3, 3, 3, 4, 3, 7, 5, 5, 2, 3, 4, 2, 2, 2, 3, 2, 2, 2, 2, 4, 5, 2, 3, 3, 3, 3, 3, 2, 2, 2, 4, 5, 2, 2, 4, 2, 4, 4, 4, 2, 2, 6, 2, 2, 2, 7, 2, 2, 2, 3, 4, 3, 2, 2, 2, 2, 4, 18, 2, 4, 2, 5, 6, 3, 3, 5, 3, 2, 2, 4, 2, 2, 3, 4, 2, 2, 2, 2, 2, 4, 2, 2, 3, 4, 2, 2, 2, 2, 2, 4, 3, 4, 2, 3, 7, 6, 5, 4, 3, 4, 2, 4, 2, 3, 2, 2, 3, 3, 2, 2, 3, 4, 2, 2, 4, 2, 2, 4, 2, 2, 6, 2, 3, 4, 5, 2, 2, 2, 3, 6, 3, 2, 5, 6, 3, 3, 9, 2, 2, 2, 5, 2, 2, 6, 2, 10, 3, 3, 4, 2, 6, 2, 2, 2, 2, 4, 2, 3, 2, 2, 4, 3, 2, 2, 2, 7, 5, 2, 2, 2, 3, 2, 2, 2, 2, 2, 3, 2, 2, 10, 3, 3, 2, 7, 2, 7, 3, 3, 2, 4, 2, 2, 4, 2, 3, 2, 6, 3, 3, 6, 2, 3, 2, 3, 2, 2, 2, 3, 3, 2, 7, 2, 2, 2, 9, 3, 2, 2, 4, 2, 6, 2, 2, 2, 5, 7, 2, 2, 2, 4, 4, 2, 2, 2, 5, 2, 5, 2, 2, 4, 2, 3, 5, 2, 2, 2, 5, 3, 5, 3, 2, 10, 2, 2, 3, 5, 2, 2, 2, 3, 2, 12, 5, 3, 3, 5, 3, 4, 2, 2, 3, 2, 2, 7, 2, 2, 7, 2, 5, 2, 3, 4, 2, 7, 2, 3, 2, 2, 2, 3, 2, 3, 2, 3, 4, 2, 4, 2, 7, 5, 2, 2, 5, 2, 3, 2, 2, 2, 4, 5, 4, 3, 3, 2, 2, 2, 2, 3, 2, 4, 2, 4, 5, 2, 10, 3, 3, 3, 2, 6, 5, 2, 3, 2, 2, 7, 2, 2, 7, 6, 3, 2, 2, 4, 4, 2, 2, 2, 3, 3, 2, 5, 7, 3, 3, 2, 3, 2, 5, 2, 2, 4, 3, 2, 2, 2, 2, 2, 7, 3, 2, 2, 3, 3, 2, 2, 5, 3, 5, 3, 2, 3, 2, 3, 2, 2, 6, 2, 3, 3, 3, 5, 5, 2, 2, 3, 2, 2, 2, 3, 5, 3, 3, 5, 2, 3, 3, 3, 5, 5, 2, 3, 4, 2, 2, 2, 8, 3, 13, 2, 2, 2, 5, 2, 3, 4, 2, 2, 4, 4, 20, 4, 2, 2, 3, 2, 3, 2, 2, 5, 2, 10, 2, 2, 5, 3, 3, 2, 6, 3, 2, 2, 2, 2, 2, 5, 3, 2, 3, 2, 4, 4, 5, 3, 2, 2, 3, 4, 3, 2, 2, 2, 2, 2, 2, 4, 2, 4, 4, 2, 6, 2, 2, 2, 2, 2, 4, 3, 3, 2, 4, 2, 2, 2, 2, 2, 3, 3, 5, 3, 4, 4, 2, 2, 5, 3, 2, 3, 5, 2, 3, 3, 4, 6, 2, 2, 3, 5, 3, 2, 2, 2, 14, 2, 2, 2, 3, 7, 2, 2, 3, 2, 3, 4, 3, 5, 6, 5, 3, 2, 2, 2, 6, 3, 4, 10, 2, 2, 2, 4, 2, 2, 3, 2, 7, 2, 3, 2, 2, 3, 2, 2, 5, 2, 3, 2, 6, 2, 2, 2, 2, 2, 2, 2, 2, 2, 3, 9, 5, 2, 2, 7, 2, 3, 2, 9, 2, 10, 2, 2, 2, 2, 2, 2, 2, 3, 3, 2, 3, 3, 2, 2, 2, 2, 2, 3, 4, 6, 2, 2, 4, 2, 2, 3, 4, 3, 2, 2, 2, 3, 2, 2, 2, 2, 3, 2, 6, 2, 3, 3, 3, 3, 4, 3, 5, 2, 2, 5, 2, 6, 10, 2, 5, 4, 2, 2, 3, 3, 3, 2, 2, 2, 2, 2, 2, 3, 2, 2, 3, 2, 3, 3, 4, 2, 4, 2, 2, 2, 3, 2, 3, 2, 3, 2, 2, 3, 2, 2, 2, 2, 2, 5, 3, 4, 2, 3, 2, 2, 2, 2, 2, 3, 2, 3, 2, 3, 2, 2, 4, 4, 9, 2, 2, 2, 2, 5, 2, 3, 2, 2, 3, 2, 4, 3, 2, 9, 2, 3, 2, 2, 4, 3, 2, 3, 3, 2, 3, 6, 6, 4, 2, 2, 2, 2, 7, 2, 2, 2, 2, 4, 2, 2, 2, 3, 4, 2, 2, 2, 2, 2, 3, 2, 2, 2, 3, 2, 2, 2, 3, 2, 2, 5, 2, 2, 2, 3, 2, 3, 2, 5, 4, 3, 3, 2, 2, 2, 2, 2, 2, 4, 2, 2, 2, 2, 2, 4, 5, 4, 2, 2, 6, 2, 6, 2, 3, 2, 3, 2, 9, 3, 2, 3, 3, 2, 7, 2, 3, 3, 3, 2, 2, 3, 3, 3, 2, 4, 8, 3, 3, 3, 2, 3, 3, 2, 4, 3, 3, 5, 7, 2, 2, 4, 2, 2, 2, 2, 3, 2, 2, 4, 2, 2, 3, 2, 2, 2, 2, 2, 2, 3, 2, 2, 3, 3, 3, 6, 2, 4, 4, 2, 2, 3, 2, 5, 4, 2, 8, 3, 2, 3, 2, 3, 2, 2, 2, 3, 2, 8, 27, 2, 3, 3, 2, 2, 3, 2, 3, 3, 2, 5, 2, 4, 3, 4, 2, 3, 4, 8, 3, 2, 4, 6, 3, 3, 3, 2, 2, 16, 2, 2, 2, 2, 3, 2, 2, 2, 2, 4, 2, 2, 2, 2, 2, 9, 2, 2, 2, 2, 2, 2, 6, 2, 2, 3, 2, 2, 2, 2, 3, 2, 2, 2, 2, 2, 2, 3, 4, 3, 2, 2, 2, 2, 3, 3, 5, 2, 2, 2, 4, 2, 2, 5, 3, 2, 3, 2, 2, 2, 3, 2, 2, 2, 2, 2, 5, 4, 2, 2, 2, 3, 2, 3, 4, 5, 3, 2, 2, 4, 3, 5, 2, 6, 3, 2, 3, 4, 5, 2, 2, 2, 2, 2, 2, 3, 3, 2, 3, 2, 2, 3, 3, 3, 2, 2, 2, 2, 3, 2, 2, 5, 2, 3, 2, 2, 3, 3, 3, 3, 2, 4, 2, 2, 7, 5, 3, 3, 5, 2, 2, 3, 5, 2, 2, 2, 3, 4, 7, 2, 3, 3, 3, 2, 2, 6, 4, 3, 4, 2, 3, 5, 2, 3, 3, 2, 4, 2, 2, 7, 2, 2, 5, 2, 7, 3, 6, 4, 2, 2, 6, 6, 4, 2, 2, 2, 2, 2, 5, 3, 3, 2, 2, 2, 2, 2, 3, 2, 5, 2, 2, 2, 3, 2, 3, 2, 5, 4, 5, 2, 2, 6, 3, 2, 4, 5, 2, 2, 8, 2, 2, 2, 2, 2, 2, 2, 2, 3, 6, 3, 2, 2, 2, 5, 2, 2, 2, 2, 2, 3, 3, 5, 4, 2, 2, 4, 3, 3, 4, 4, 3, 2, 2, 4, 2, 2, 4, 2, 2, 2, 2, 2, 4, 2, 3, 6, 6, 2, 3, 2, 3, 2, 2, 2, 2, 2, 2, 2, 3, 3, 3, 2, 3, 2, 3, 3, 2, 2, 3, 2, 3, 3, 2, 2, 2, 2, 2, 2, 2, 2, 7, 3, 4, 3, 2, 4, 2, 2, 2, 2, 2, 2, 2, 2, 4, 2, 4, 3, 2, 4, 2, 2, 4, 2, 2, 3, 2, 2, 2, 2, 2, 2, 2, 5, 5, 2, 3, 2, 2, 2, 5, 2, 2, 5, 2, 3, 3, 2, 7, 6, 2, 3, 3, 3, 2, 2, 3, 2, 7, 2, 2, 3, 3, 3, 2, 3, 3, 3, 2, 3, 3, 7, 2, 2, 5, 3, 2, 2, 2, 3, 3, 2, 3, 3, 2, 3, 2, 2, 4, 2, 9, 7, 4, 2, 2, 3, 2, 2, 2, 2, 3, 3, 4, 2, 5, 3, 2, 7, 2, 2, 2, 6, 4, 2, 4, 3, 4, 2, 2, 2, 2, 3, 5, 2, 3, 2, 3, 2, 5, 2, 2, 2, 3, 3, 2, 3, 2, 3, 2, 4, 2, 5, 2, 2, 3, 3, 6, 6, 6, 4, 2, 5, 3, 9, 2, 2, 2, 2, 4, 4, 2, 3, 2, 2, 2, 2, 2, 2, 4, 2, 3, 2, 2, 2, 2, 3, 3, 2, 2, 2, 4, 8, 2, 3, 2, 4, 2, 2, 3, 3, 6, 5, 3, 3, 5, 3, 2, 4, 2, 2, 2, 2, 2, 2, 2, 5, 2, 2, 2, 2, 2, 2, 2, 2, 2, 2, 2, 2, 2, 4, 4, 3, 2, 2, 2, 8, 4, 2, 4, 2, 4, 2, 4, 2, 6, 2, 2, 4, 2, 2, 2, 2, 3, 3, 2, 3, 9, 3, 3, 2, 3, 4, 2, 2, 4, 2, 5, 2, 2, 3, 3, 3, 3, 2, 8, 2, 2, 2, 4, 5, 2, 6, 6, 2, 2, 5, 5, 2, 5, 2, 2, 3, 2, 3, 4, 3, 7, 2, 2, 3, 2, 2, 2, 2, 3, 3, 2, 5, 2, 4, 3, 3, 2, 3, 2, 3, 2, 2, 2, 2, 2, 2, 3, 5, 2, 2, 4, 2, 2, 3, 2, 2, 2, 3, 3, 4, 2, 2, 4, 7, 2, 3, 3, 2, 2, 2, 2, 2, 2, 3, 2, 4, 2, 5, 3, 3, 5, 2, 3, 2, 2, 2, 2, 3, 2, 2, 3, 3, 2, 3, 2, 3, 2, 2, 6, 5, 2, 2, 4, 3, 2, 2, 3, 3, 2, 2, 2, 2, 2, 3, 4, 2, 2, 2, 2, 3, 3, 5, 2, 3, 2, 2, 2, 3, 2, 2, 3, 3, 2, 3, 9, 2, 4, 2, 2, 8, 3, 3, 3, 2, 2, 3, 2, 2, 2, 2, 2, 2, 2, 2, 2, 2, 3, 2, 4, 4, 4, 3, 3, 2, 6, 2, 2, 3, 4, 2, 2, 2, 3, 2, 2, 2, 2, 2, 2, 3, 3, 3, 2, 2, 2, 3, 4, 2, 2, 2, 2, 9, 2, 2, 8, 2, 2, 2, 3, 8, 7, 2, 3, 2, 2, 2, 2, 4, 2, 4, 3, 2, 3, 2, 4, 4, 2, 2, 6, 8, 2, 2, 3, 3, 5, 2, 2, 2, 3, 2, 4, 3, 2, 2, 2, 2, 2, 3, 4, 3, 5, 6, 2, 2, 2, 2, 2, 2, 3, 3, 2, 2, 4, 2, 2, 2, 2, 4, 4, 10, 6, 2, 2, 3, 2, 2, 3, 3, 2, 2, 5, 2, 2, 2, 3, 2, 2, 2, 3, 3, 3, 2, 3, 3, 2, 2, 2, 2, 3, 3, 2, 3, 2, 2, 4, 2, 6, 3, 5, 2, 2, 3, 3, 2, 4, 2, 2, 3, 2, 3, 6, 2, 2, 3, 3, 3, 3, 3, 8, 3, 2, 2, 2, 2, 4, 5, 5, 3, 4, 2, 2, 2, 4, 3, 2, 2, 3, 2, 2, 2, 3, 3, 2, 2, 2, 3, 3, 2, 2, 5, 4, 5, 2, 2, 2, 2, 2, 4, 3, 3, 2, 2, 2, 2, 2, 3, 5, 2, 4, 3, 2, 2, 5, 2, 2, 3, 3, 3, 3, 6, 2, 2, 2, 3, 2, 2, 7, 2, 2, 2, 2, 3, 2, 2, 3, 2, 3, 6, 4, 3, 4, 2, 3, 4, 3, 3, 4, 2, 3, 2, 4, 2, 6, 4, 5, 2, 10, 3, 2, 4, 2, 2, 3, 2, 3, 2, 2, 3, 5, 2, 2, 2, 2, 4, 7, 2, 2, 12, 2, 3, 2, 4, 3, 2, 2, 2, 7, 3, 3, 3, 2, 4, 6, 2, 3, 4, 5, 2, 3, 3, 4, 5, 3, 3, 2, 4, 2, 2, 2, 4, 2, 2, 5, 3, 6, 2, 2, 2, 6, 3, 3, 4, 3, 2, 3, 2, 4, 5, 2, 2, 2, 2, 4, 2, 3, 2, 2, 2, 3, 4, 3, 2, 2, 9, 5, 2, 2, 2, 3, 2, 2, 2, 3, 2, 2, 2, 2, 2, 2, 3, 2, 2, 3, 2, 2, 2, 2, 4, 2, 3, 2, 3, 4, 2, 4, 3, 2, 3, 4, 2, 3, 2, 5, 3, 2, 2, 2, 2, 8, 2, 2, 2, 2, 2, 4, 2, 2, 2, 2, 4, 5, 2, 4, 3, 4, 2, 2, 2, 3, 3, 3, 2, 2, 2, 2, 2, 2, 2, 2, 2, 2, 2, 2, 2, 4, 2, 2, 3, 2, 4, 4, 7, 8, 4, 2, 2, 2, 2, 2, 2, 2, 6, 2, 3, 2, 2, 3, 3, 4, 2, 2, 2, 2, 3, 4, 5, 2, 2, 3, 3, 2, 2, 5, 2, 3, 3, 5, 2, 5, 2, 4, 2, 2, 3, 3, 3, 5, 4, 11, 3, 2, 3, 2, 3, 4, 2, 4, 3, 2, 3, 3, 2, 3, 2, 3, 2, 2, 2, 6, 3, 3, 2, 2, 3, 2, 11, 3, 4, 2, 3, 2, 3, 4, 3, 2, 4, 2, 3, 3, 2, 2, 3, 2, 2, 3, 2, 2, 2, 2, 2, 2, 2, 4, 3, 2, 2, 3, 5, 2, 3, 4, 5, 2, 2, 2, 2, 2, 5, 2, 2, 3, 6, 2, 2, 2, 3, 2, 2, 2, 5, 2, 2, 6, 2, 5, 3, 2, 2, 2, 2, 2, 2, 2, 2, 5, 3, 2, 3, 6, 2, 2, 2, 6, 2, 9, 3, 4, 4, 2, 2, 2, 9, 2, 2, 2, 2, 3, 8, 2, 2, 3, 2, 5, 4, 2, 2, 2, 5, 2, 5, 3, 3, 2, 3, 9, 3, 3, 7, 2, 2, 4, 3, 3, 4, 4, 2, 5, 3, 4, 2, 2, 2, 2, 2, 4, 3, 3, 6, 2, 3, 2, 2, 2, 3, 4, 5, 2, 2, 2, 2, 2, 6, 2, 2, 2, 3, 4, 4, 2, 3, 4, 2, 3, 2, 2, 3, 2, 2, 3, 4, 2, 2, 2, 2, 3, 5, 5, 2, 2, 2, 2, 2, 2, 3, 3, 2, 2, 3, 5, 3, 2, 2, 4, 6, 2, 7, 3, 2, 2, 2, 2, 2, 2, 4, 2, 2, 2, 2, 5, 2, 4, 2, 6, 2, 2, 2, 2, 2, 6, 2, 4, 2, 2, 3, 3, 5, 4, 3, 4, 2, 2, 2, 2, 3, 2, 2, 2, 2, 2, 3, 3, 2, 2, 3, 6, 2, 7, 4, 3, 2, 3, 2, 2, 2, 4, 2, 3, 3, 2, 3, 2, 4, 2, 3, 2, 3, 5, 3, 2, 2, 2, 2, 2, 3, 2, 6, 2, 3, 8, 2, 2, 3, 3, 2, 3, 2, 3, 2, 3, 2, 2, 9, 3, 2, 5, 2, 2, 2, 2, 3, 6, 4, 3, 2, 2, 2, 4, 2, 2, 2, 2, 2, 3, 2, 2, 3, 2, 3, 2, 5, 2, 4, 3, 4, 3, 4, 2, 5, 2, 6, 4, 2, 3, 2, 2, 2, 4, 7, 3, 2, 2, 2, 2, 2, 2, 2, 2, 2, 2, 3, 3, 3, 3, 3, 2, 3, 3, 2, 2, 4, 2, 2, 3, 2, 3, 2, 2, 2, 5, 2, 2, 3, 3, 3, 3, 3, 2, 3, 2, 3, 3, 6, 6, 2, 2, 2, 2, 2, 3, 3, 4, 4, 2, 2, 5, 2, 3, 5, 3, 2, 2, 2, 4, 3, 2, 2, 2, 8, 3, 2, 2, 2, 3, 4, 3, 6, 2, 3, 2, 2, 2, 2, 7, 2, 3, 3, 4, 2, 2, 3, 3, 8, 4, 2, 2, 5, 4, 4, 3, 2, 2, 2, 2, 4, 4, 2, 6, 5, 2, 4, 3, 2, 2, 2, 4, 3, 5, 2, 2, 3, 2, 6, 2, 2, 6, 2, 2, 2, 3, 4, 2, 2, 2, 2, 4, 4, 3, 2, 2, 3, 2, 2, 2, 4, 9, 2, 4, 3, 2, 2, 6, 3, 2, 2, 2, 5, 2, 2, 2, 2, 6, 2, 2, 3, 2, 2, 4, 2, 5, 3, 2, 2, 2, 2, 5, 2, 4, 2, 2, 2, 2, 7, 2, 7, 4, 2, 3, 2, 2, 3, 2, 2, 4, 2, 2, 2, 3, 2, 2, 2, 4, 3, 7, 2, 4, 3, 2, 2, 4, 3, 3, 2, 3, 3, 3, 2, 2, 4, 2, 3, 2, 2, 2, 3, 2, 2, 2, 2, 2, 2, 2, 3, 2, 3, 2, 2, 3, 2, 2, 3, 2, 6, 3, 3, 4, 2, 2, 4, 3, 4, 3, 2, 2, 3, 2, 2, 2, 6, 3, 3, 4, 7, 2, 3, 2, 2, 2, 4, 3, 2, 2, 2, 6, 2, 2, 4, 5, 4, 3, 2, 3, 2, 3, 3, 5, 2, 2, 3, 5, 2, 2, 3, 5, 4, 2, 5, 4, 2, 5, 2, 2, 2, 3, 7, 2, 2, 2, 3, 5, 2, 2, 2, 3, 2, 2, 2, 8, 2, 2, 6, 2, 2, 2, 2, 2, 6, 3, 2, 2, 3, 3, 2, 2, 2, 2, 2, 2, 2, 2, 3, 3, 3, 4, 2, 2, 2, 2, 2, 3, 2, 2, 2, 2, 3, 2, 5, 2, 2, 2, 2, 2, 2, 2, 2, 2, 2, 2, 4, 2, 2, 2, 2, 8, 2, 2, 2, 4, 2, 3, 3, 2, 3, 2, 3, 6, 6, 4, 3, 2, 3, 2, 2, 2, 5, 2, 3, 2, 2, 7, 3, 2, 4, 3, 2, 2, 2, 2, 2, 2, 2, 3, 2, 2, 2, 2, 2, 2, 3, 2, 3, 3, 8, 3, 2, 4, 14, 4, 2, 2, 5, 2, 2, 4, 2, 2, 3, 4, 2, 2, 3, 2, 3, 4, 2, 4, 2, 2, 2, 3, 2, 4, 2, 3, 2, 2, 4, 3, 2, 3, 2, 2, 3, 4, 2, 2, 5, 2, 2, 2, 5, 3, 2, 4, 3, 2, 2, 4, 3, 3, 5, 2, 4, 2, 3, 4, 4, 2, 2, 2, 6, 2, 4, 2, 8, 4, 3, 4, 3, 4, 4, 2, 3, 3, 2, 3, 2, 3, 10, 4, 2, 2, 9, 2, 4, 7, 2, 3, 2, 2, 2, 3, 7, 2, 2, 2, 2, 2, 2, 2, 5, 2, 2, 2, 3, 2, 5, 6, 2, 6, 2, 2, 2, 3, 2, 3, 13, 2, 5, 2, 2, 2, 2, 2, 2, 2, 2, 2, 5, 2, 2, 2, 2, 2, 2, 3, 3, 5, 2, 2, 2, 2, 2, 2, 2, 8, 3, 2, 4, 4, 5, 3, 4, 3, 2, 9, 2, 2, 4, 3, 2, 2, 2, 4, 2, 2, 2, 3, 2, 2, 3, 2, 2, 3, 3, 2, 2, 5, 5, 2, 5, 3, 5, 2, 2, 2, 3, 2, 4, 2, 6, 2, 2, 2, 2, 4, 2, 3, 3, 5, 3, 3, 4, 5, 2, 4, 2, 3, 3, 2, 2, 3, 2, 2, 2, 2, 3, 2, 2, 2, 3, 2, 2, 2, 3, 2, 2, 2, 4, 3, 2, 2, 5, 2, 2, 3, 5, 2, 4, 2, 4, 3, 2, 5, 2, 2, 2, 2, 2, 3, 2, 2, 3, 2, 3, 2, 2, 3, 6, 2, 2, 2, 3, 2, 8, 6, 2, 4, 3, 2, 2, 2, 6, 2, 3, 2, 2, 2, 3, 5, 2, 2, 6, 2, 2, 2, 2, 2, 3, 2, 3, 3, 4, 3, 5, 2, 3, 2, 3, 2, 2, 6, 5, 2, 2, 2, 2, 2, 2, 2, 2, 2, 3, 2, 3, 2, 2, 2, 2, 3, 11, 2, 5, 2, 2, 2, 2, 8, 3, 4, 2, 3, 2, 3, 2, 3, 2, 5, 3, 4, 2, 3, 3, 2, 2, 2, 3, 2, 2, 2, 3, 2, 2, 3, 4, 2, 2, 3, 3, 5, 5, 3, 3, 2, 4, 4, 2, 3, 3, 2, 2, 2, 2, 5, 5, 3, 6, 4, 4, 3, 2, 2, 4, 2, 2, 6, 5, 2, 3, 2, 5, 3, 2, 4, 2, 2, 4, 2, 5, 2, 5, 2, 2, 3, 3, 2, 2, 2, 2, 3, 3, 2, 2, 3, 2, 3, 4, 2, 2, 2, 2, 4, 2, 4, 2, 2, 3, 4, 3, 3, 4, 2, 6, 4, 3, 2, 2, 4, 3, 3, 2, 2, 10, 2, 3, 6, 3, 4, 2, 5, 2, 3, 3, 3, 5, 3, 2, 4, 5, 2, 4, 3, 2, 6, 2, 4, 2, 2, 3, 2, 2, 2, 5, 4, 2, 2, 3, 2, 5, 2, 3, 2, 2, 3, 2, 4, 2, 2, 3, 2, 3, 5, 3, 2, 2, 2, 2, 2, 2, 4, 2, 2, 3, 2, 2, 2, 4, 2, 2, 3, 3, 2, 7, 2, 2, 2, 4, 3, 2, 2, 2, 2, 3, 2, 2, 4, 2, 2, 2, 2, 2, 2, 3, 2, 3, 2, 4, 4, 2, 3, 2, 2, 3, 2, 3, 3, 3, 2, 8, 2, 7, 5, 2, 2, 3, 2, 8, 2, 2, 3, 5, 7, 3, 3, 2, 2, 2, 2, 2, 4, 2, 2, 2, 2, 3, 2, 3, 3, 2, 4, 2, 4, 3, 4, 3, 2, 2, 2, 5, 2, 2, 2, 3, 2, 3, 3, 2, 3, 2, 2, 2, 2, 3, 2, 2, 3, 3, 3, 2, 3, 2, 2, 2, 2, 2, 6, 2, 2, 2, 3, 2, 2, 8, 2, 3, 4, 4, 4, 3, 3, 2, 6, 2, 3, 2, 4, 2, 2, 2, 2, 2, 2, 2, 3, 4, 2, 2, 2, 2, 3, 5, 2, 3, 2, 3, 2, 3, 2, 2, 2, 2, 4, 6, 5, 4, 2, 2, 2, 2, 2, 3, 3, 7, 2, 2, 5, 3, 2, 3, 2, 2, 4, 2, 2, 2, 2, 10, 2, 3, 2, 3, 4, 2, 2, 2, 2, 2, 2, 3, 2, 2, 6, 4, 2, 4, 2, 2, 7, 3, 2, 3, 2, 2, 6, 3, 2, 3, 2, 2, 2, 2, 2, 2, 3, 4, 6, 2, 2, 3, 2, 3, 2, 2, 3, 2, 3, 2, 2, 2, 4, 2, 2, 2, 2, 4, 2, 2, 2, 2, 2, 2, 2, 2, 2, 2, 2, 6, 5, 3, 2, 6, 2, 4, 4, 2, 2, 2, 5, 3, 2, 4, 2, 2, 2, 4, 2, 5, 2, 2, 2, 2, 2, 7, 2, 2, 3, 4, 3, 2, 3, 2, 5, 2, 2, 2, 2, 2, 5, 2, 2, 2, 2, 6, 3, 2, 2, 10, 2, 3, 3, 2, 2, 2, 2, 3, 3, 4, 4, 2, 2, 2, 7, 2, 4, 5, 3, 3, 5, 3, 4, 5, 6, 5, 4, 2, 2, 2, 2, 3, 2, 2, 3, 2, 2, 2, 2, 3, 6, 3, 2, 3, 2, 2, 2, 3, 2, 4, 4, 2, 2, 2, 2, 2, 2, 4, 9, 3, 5, 2, 2, 2, 6, 3, 2, 4, 2, 2, 2, 5, 2, 2, 2, 8, 4, 7, 3, 2, 4, 2, 3, 2, 2, 2, 2, 5, 2, 2, 2, 6, 3, 2, 2, 3, 2, 9, 2, 2, 4, 3, 7, 2, 4, 3, 3, 4, 2, 3, 2, 2, 2, 2, 2, 3, 2, 7, 5, 2, 2, 6, 2, 2, 2, 4, 2, 3, 2, 2, 2, 3, 4, 3, 2, 3, 5, 4, 2, 3, 2, 2, 4, 8, 5, 3, 2, 3, 3, 2, 2, 6, 3, 3, 2, 2, 2, 2, 4, 4, 4, 2, 3, 2, 4, 2, 3, 3, 2, 4, 5, 2, 2, 3, 2, 2, 2, 3, 2, 2, 2, 2, 2, 3, 2, 3, 2, 2, 2, 3, 2, 3, 2, 2, 2, 3, 3, 3, 3, 6, 3, 2, 3, 2, 2, 2, 5, 3, 2, 3, 2, 2, 3, 6, 3, 3, 2, 4, 3, 3, 4, 4, 3, 3, 2, 5, 5, 2, 4, 3, 3, 3, 2, 2, 3, 3, 2, 2, 3, 2, 4, 5, 6, 5, 2, 2, 3, 2, 2, 3, 4, 2, 2, 2, 3, 2, 3, 5, 3, 5, 3, 4, 3, 3, 2, 2, 2, 2, 2, 2, 2, 3, 2, 2, 2, 3, 3, 2, 2, 2, 4, 2, 2, 2, 2, 3, 3, 4, 5, 2, 6, 2, 6, 2, 2, 3, 2, 3, 2, 4, 2, 5, 2, 2, 2, 3, 2, 2, 2, 3, 3, 2, 2, 3, 3, 2, 3, 2, 2, 2, 2, 4, 2, 5, 2, 4, 7, 2, 4, 2, 2, 4, 3, 2, 2, 2, 2, 3, 2, 2, 2, 2, 3, 3, 2, 3, 2, 2, 3, 3, 3, 2, 2, 4, 2, 2, 2, 2, 3, 2, 2, 3, 4, 2, 2, 2, 3, 2, 2, 2, 2, 2, 2, 4, 2, 3, 2, 2, 5, 3, 4, 3, 2, 6, 4, 2, 4, 2, 2, 3, 3, 2, 5, 2, 2, 2, 4, 2, 3, 2, 2, 2, 2, 2, 3, 4, 2, 3, 3, 3, 3, 5, 2, 2, 3, 3, 2, 2, 2, 6, 2, 4, 3, 5, 2, 2, 2, 2, 2, 2, 2, 2, 2, 5, 3, 2, 4, 2, 2, 2, 4, 3, 3, 2, 5, 2, 2, 2, 3, 3, 2, 2, 2, 4, 2, 2, 7, 2, 6, 5, 5, 3, 2, 2, 2, 3, 2, 2, 4, 2, 2, 2, 4, 4, 2, 2, 2, 2, 5, 2, 4, 2, 6, 3, 3, 3, 2, 2, 3, 8, 2, 2, 2, 3, 2, 2, 3, 2, 2, 2, 2, 2, 2, 2, 2, 5, 3, 2, 5, 2, 2, 3, 2, 3, 2, 4, 3, 2, 2, 2, 2, 5, 3, 2, 2, 2, 6, 2, 2, 2, 3, 2, 2, 3, 4, 2, 2, 2, 2, 9, 6, 2, 2, 4, 2, 3, 2, 2, 3, 3, 3, 3, 2, 3, 5, 2, 2, 2, 3, 2, 2, 2, 2, 2, 8, 2, 2, 2, 3, 2, 3, 5, 3, 3, 2, 2, 2, 3, 2, 5, 3, 2, 2, 4, 3, 2, 2, 4, 4, 3, 2, 2, 2, 2, 4, 2, 2, 2, 2, 3, 2, 3, 2, 5, 3, 2, 4, 2, 5, 2, 3, 2, 2, 3, 2, 3, 2, 2, 2, 2, 2, 7, 3, 2, 2, 2, 2, 2, 5, 4, 4, 3, 3, 4, 2, 2, 2, 4, 2, 4, 2, 2, 2, 2, 2, 3, 5, 3, 2, 3, 2, 2, 2, 2, 2, 5, 2, 2, 2, 3, 2, 2, 3, 2, 2, 2, 2, 2, 4, 2, 3, 4, 2, 4, 3, 2, 2, 3, 2, 2, 2, 3, 4, 5, 2, 8, 3, 2, 2, 2, 2, 2, 5, 2, 4, 2, 5, 3, 2, 6, 3, 2, 3, 2, 3, 4, 3, 2, 2, 2, 5, 4, 2, 3, 2, 2, 2, 4, 2, 3, 2, 3, 2, 4, 2, 4, 6, 2, 2, 2, 5, 3, 2, 4, 3, 5, 3, 6, 4, 3, 2, 6, 2, 2, 2, 2, 5, 2, 2, 2, 4, 2, 6, 6, 3, 4, 3, 4, 5, 2, 2, 2, 3, 2, 2, 4, 2, 3, 2, 2, 2, 2, 2, 2, 4, 2, 6, 3, 4, 3, 5, 2, 3, 5, 2, 3, 3, 2, 4, 2, 2, 6, 2, 3, 3, 3, 3, 3, 2, 2, 2, 2, 5, 3, 4, 3, 2, 2, 3, 2, 2, 2, 3, 2, 2, 2, 2, 2, 2, 3, 3, 2, 2, 2, 2, 2, 4, 3, 2, 3, 2, 2, 3, 2, 3, 3, 2, 3, 4, 6, 2, 3, 3, 4, 3, 3, 3, 3, 2, 3, 5, 2, 3, 2, 2, 2, 3, 2, 3, 3, 2, 2, 2, 2, 6, 2, 2, 4, 3, 3, 2, 2, 4, 3, 2, 2, 2, 2, 3, 2, 4, 2, 2, 2, 2, 5, 2, 3, 7, 2, 3, 4, 3, 2, 2, 2, 2, 3, 2, 4, 2, 4, 3, 2, 2, 2, 2, 3, 2, 2, 2, 4, 4, 4, 2, 2, 2, 2, 2, 2, 2, 2, 4, 2, 3, 6, 6, 2, 3, 5, 3, 2, 8, 2, 7, 2, 2, 2, 2, 2, 4, 3, 2, 3, 2, 2, 2, 2, 3, 3, 2, 2, 4, 2, 3, 3, 7, 2, 2, 5, 2, 2, 2, 3, 3, 2, 2, 4, 2, 3, 2, 2, 2, 2, 2, 2, 3, 2, 4, 2, 2, 5, 3, 2, 2, 4, 3, 2, 5, 2, 2, 2, 2, 6, 2, 5, 2, 2, 2, 4, 2, 4, 2, 4, 3, 3, 2, 4, 2, 2, 2, 2, 2, 2, 2, 4, 2, 5, 2, 2, 3, 4, 2, 2, 2, 2, 3, 3, 2, 2, 5, 4, 5, 4, 2, 2, 4, 2, 2, 2, 2, 2, 3, 2, 2, 3, 2, 3, 2, 2, 4, 9, 2, 2, 9, 3, 5, 3, 2, 2, 2, 2, 2, 2, 2, 2, 2, 2, 2, 2, 3, 4, 3, 2, 4, 2, 2, 2, 2, 2, 2, 2, 2, 2, 2, 2, 2, 3, 2, 2, 5, 2, 2, 2, 2, 2, 2, 3, 2, 4, 4, 2, 4, 2, 3, 2, 2, 2, 3, 2, 2, 2, 3, 2, 4, 2, 2, 2, 2, 4, 6, 2, 4, 3, 2, 2, 6, 2, 3, 2, 2, 2, 3, 3, 2, 3, 2, 2, 2, 2, 2, 2, 2, 2, 3, 2, 3, 2, 2, 2, 3, 6, 2, 4, 2, 3, 2, 2, 5, 4, 2, 3, 2, 2, 3, 2, 3, 2, 4, 5, 3, 2, 2, 4, 11, 3, 9, 2, 2, 2, 2, 5, 4, 2, 2, 3, 2, 2, 3, 6, 2, 3, 2, 2, 2, 2, 2, 4, 2, 2, 3, 2, 2, 2, 3, 3, 2, 3, 3, 2, 2, 2, 2, 2, 3, 10, 4, 2, 2, 4, 2, 3, 2, 2, 2, 3, 3, 2, 3, 2, 2, 7, 2, 2, 3, 2, 2, 4, 2, 3, 2, 2, 2, 4, 2, 2, 2, 2, 4, 3, 2, 2, 2, 2, 2, 4, 2, 2, 2, 3, 2, 3, 2, 2, 3, 3, 5, 3, 4, 2, 3, 2, 2, 2, 2, 4, 5, 5, 3, 3, 2, 2, 2, 4, 2, 2, 2, 2, 2, 2, 2, 3, 2, 2, 2, 2, 3, 2, 2, 2, 5, 3, 2, 2, 2, 3, 2, 2, 2, 2, 3, 2, 3, 2, 2, 2, 2, 2, 2, 5, 2, 2, 2, 5, 3, 2, 6, 2, 2, 2, 2, 2, 2, 2, 3, 2, 2, 5, 2, 2, 2, 2, 2, 2, 2, 2, 2, 3, 2, 2, 2, 2, 2, 2, 3, 5, 2, 4, 2, 6, 2, 3, 2, 2, 2, 2, 2, 3, 4, 4, 4, 5, 2, 3, 7, 3, 2, 2, 2, 5, 3, 2, 4, 3, 3, 2, 2, 3, 2, 2, 2, 2, 2, 2, 3, 2, 3, 5, 2, 2, 2, 2, 2, 6, 2, 2, 2, 2, 2, 2, 2, 3, 5, 2, 3, 3, 2, 4, 3, 3, 4, 3, 3, 2, 4, 2, 2, 2, 6, 2, 3, 2, 2, 3, 3, 2, 3, 2, 4, 3, 2, 2, 2, 3, 2, 3, 2, 2, 2, 2, 3, 5, 2, 2, 2, 2, 2, 2, 3, 2, 2, 2, 2, 3, 2, 3, 2, 2, 2, 3, 4, 3, 2, 4, 2, 3, 6, 2, 2, 2, 3, 2, 2, 3, 2, 4, 2, 4, 3, 2, 3, 2, 2, 5, 2, 2, 3, 3, 2, 2, 3, 2, 3, 2, 3, 2, 2, 2, 2, 2, 2, 2, 2, 4, 2, 2, 3, 2, 2, 2, 4, 3, 4, 3, 3, 5, 2, 3, 2, 2, 4, 3, 2, 6, 2, 4, 5, 2, 3, 4, 2, 3, 4, 6, 5, 3, 2, 7, 2, 3, 2, 3, 3, 2, 2, 2, 3, 2, 7, 3, 5, 2, 7, 2, 2, 2, 3, 2, 2, 2, 2, 3, 2, 2, 3, 2, 2, 2, 4, 3, 2, 2, 2, 2, 2, 2, 3, 2, 2, 2, 2, 2, 2, 2, 2, 3, 2, 2, 2, 2, 2, 2, 2, 2, 2, 2, 2, 2, 5, 2, 3, 2, 2, 2, 3, 2, 4, 2, 2, 2, 2, 3, 4, 4, 2, 2, 3, 4, 4, 2, 2, 3, 3, 3, 3, 2, 3, 3, 2, 3, 5, 7, 2, 3, 2, 3, 5, 2, 2, 2, 3, 6, 2, 2, 3, 3, 5, 3, 6, 2, 2, 2, 2, 4, 2, 3, 3, 2, 4, 4, 3, 2, 2, 2, 3, 2, 3, 2, 2, 2, 4, 2, 4, 3, 7, 2, 2, 3, 4, 2, 4, 2, 2, 2, 2, 2, 2, 2, 2, 2, 2, 4, 6, 3, 2, 2, 2, 2, 3, 2, 4, 2, 2, 3, 2, 2, 2, 2, 2, 3, 2, 2, 2, 3, 4, 2, 2, 2, 3, 4, 2, 2, 2, 3, 2, 3, 2, 2, 2, 3, 2, 3, 2, 2, 2, 2, 2, 2, 3, 2, 5, 2, 4, 2, 3, 2, 2, 5, 3, 2, 2, 2, 2, 2, 2, 2, 2, 2, 2, 3, 3, 2, 2, 2, 5, 3, 2, 2, 2, 2, 2, 2, 2, 4, 3, 2, 4, 2, 2, 2, 2, 2, 4, 2, 2, 2, 2, 4, 2, 5, 2, 2, 2, 5, 3, 3, 2, 2, 5, 2, 3, 3, 2, 2, 2, 2, 6, 7, 2, 3, 4, 2, 2, 2, 2, 2, 2, 3, 3, 4, 2, 5, 2, 2, 2, 5, 2, 4, 3, 2, 3, 2, 2, 2, 5, 7, 2, 2, 2, 2, 2, 2, 2, 3, 6, 7, 2, 4, 2, 2, 3, 3, 2, 4, 5, 2, 3, 3, 2, 3, 2, 2, 2, 2, 2, 4, 2, 3, 3, 3, 2, 2, 2, 2, 2, 2, 4, 2, 3, 5, 3, 3, 2, 2, 3, 8, 3, 2, 2, 2, 5, 2, 2, 2, 4, 2, 2, 2, 2, 6, 2, 2, 3, 2, 2, 2, 2, 2, 2, 3, 3, 2, 2, 2, 2, 2, 3, 2, 3, 2, 2, 3, 2, 2, 2, 7, 5, 3, 2, 4, 2, 3, 12, 4, 2, 2, 2, 2, 2, 6, 3, 2, 3, 5, 2, 4, 2, 2, 2, 3, 2, 3, 5, 2, 2, 2, 2, 2, 3, 2, 2, 2, 2, 3, 3, 3, 2, 6, 3, 2, 4, 2, 4, 2, 3, 2, 3, 2, 5, 5, 2, 4, 4, 2, 4, 2, 2, 2, 3, 3, 2, 2, 4, 6, 2, 2, 2, 3, 3, 3, 4, 2, 2, 4, 2, 4, 8, 3, 3, 2, 2, 2, 3, 2, 2, 2, 2, 3, 2, 2, 2, 2, 2, 3, 2, 4, 3, 2, 3, 3, 3, 4, 2, 5, 4, 2, 4, 4, 3, 4, 2, 3, 2, 3, 2, 5, 3, 4, 2, 2, 2, 2, 2, 3, 5, 2, 3, 3, 6, 2, 2, 2, 2, 4, 2, 3, 2, 3, 2, 5, 2, 8, 3, 2, 3, 2, 3, 3, 2, 2, 10, 2, 2, 3, 2, 2, 2, 2, 4, 4, 2, 2, 7, 2, 2, 4, 2, 3, 2, 2, 5, 3, 2, 2, 2, 3, 5, 3, 2, 2, 2, 4, 2, 2, 3, 3, 2, 2, 2, 2, 4, 2, 2, 4, 3, 2, 2, 3, 4, 2, 2, 2, 2, 2, 5, 2, 2, 3, 2, 2, 2, 2, 2, 2, 2, 2, 2, 3, 2, 2, 6, 2, 2, 2, 2, 5, 4, 3, 2, 2, 2, 2, 4, 2, 2, 2, 2, 7, 2, 2, 2, 3, 3, 2, 2, 3, 2, 3, 3, 2, 3, 6, 2, 3, 2, 2, 3, 2, 4, 2, 2, 7, 5, 2, 2, 2, 2, 2, 5, 3, 2, 2, 5, 4, 2, 2, 2, 2, 3, 2, 4, 2, 2, 2, 2, 4, 2, 3, 2, 4, 2, 2, 2, 3, 3, 2, 2, 4, 2, 8, 2, 3, 5, 3, 3, 4, 2, 3, 2, 2, 3, 2, 4, 2, 2, 2, 5, 2, 3, 2, 2, 2, 2, 3, 2, 2, 3, 3, 2, 4, 2, 2, 3, 3, 2, 2, 2, 2, 2, 3, 2, 2, 2, 6, 2, 2, 2, 4, 2, 2, 2, 3, 5, 2, 2, 2, 2, 6, 2, 2, 2, 2, 9, 2, 3, 2, 2, 2, 2, 2, 2, 4, 2, 2, 5, 2, 4, 3, 2, 4, 3, 2, 5, 4, 3, 3, 2, 2, 4, 3, 2, 2, 9, 2, 2, 2, 5, 6, 6, 3, 3, 2, 2, 2, 3, 7, 6, 2, 2, 2, 2, 2, 3, 2, 2, 4, 3, 3, 3, 2, 2, 2, 2, 2, 5, 2, 2, 3, 2, 3, 3, 2, 2, 3, 3, 2, 2, 2, 3, 3, 2, 2, 2, 2, 3, 3, 2, 2, 2, 2, 5, 2, 3, 4, 5, 2, 5, 3, 5, 4, 3, 2, 4, 2, 6, 2, 2, 2, 2, 2, 3, 6, 2, 4, 2, 3, 2, 3, 2, 2, 2, 4, 2, 2, 2, 2, 8, 3, 2, 3, 2, 2, 2, 3, 2, 4, 2, 2, 3, 7, 6, 2, 2, 2, 4, 3, 4, 2, 2, 2, 2, 2, 5, 6, 2, 2, 8, 3, 2, 8, 2, 2, 4, 2, 3, 2, 2, 2, 2, 2, 2, 2, 2, 3, 3, 3, 4, 2, 2, 2, 3, 3, 2, 2, 2, 2, 3, 2, 4, 2, 2, 2, 2, 2, 2, 4, 2, 2, 2, 5, 2, 2, 2, 2, 2, 2, 3, 2, 2, 3, 4, 2, 2, 3, 2, 2, 3, 4, 2, 2, 4, 2, 12, 3, 4, 2, 2, 7, 2, 2, 2, 6, 5, 5, 2, 2, 3, 3, 2, 5, 2, 3, 3, 3, 2, 2, 2, 5, 2, 2, 2, 2, 2, 2, 2, 2, 3, 2, 2, 4, 2, 2, 6, 2, 2, 2, 5, 2, 2, 4, 4, 2, 2, 3, 3, 3, 2, 3, 5, 2, 2, 3, 3, 2, 3, 2, 2, 2, 2, 3, 3, 2, 2, 6, 3, 3, 2, 2, 3, 2, 4, 3, 4, 2, 2, 2, 2, 3, 2, 2, 2, 2, 3, 2, 2, 4, 2, 5, 2, 2, 2, 2, 2, 3, 2, 2, 2, 3, 2, 2, 3, 2, 3, 3, 2, 2, 4, 2, 2, 3, 2, 5, 6, 2, 3, 4, 2, 2, 2, 3, 4, 2, 2, 3, 7, 3, 2, 2, 2, 2, 2, 2, 2, 3, 6, 2, 2, 2, 3, 2, 3, 2, 2, 2, 2, 3, 2, 2, 3, 8, 3, 2, 6, 2, 2, 2, 2, 2, 3, 3, 2, 3, 3, 2, 2, 2, 11, 2, 2, 2, 3, 3, 3, 3, 3, 2, 2, 3, 2, 2, 2, 4, 2, 2, 2, 2, 5, 2, 2, 7, 3, 3, 3, 3, 2, 2, 2, 2, 5, 2, 2, 2, 2, 3, 2, 3, 8, 3, 2, 2, 3, 2, 3, 2, 3, 6, 2, 2, 2, 3, 2, 2, 4, 3, 2, 3, 2, 4, 2, 3, 2, 2, 2, 3, 2, 3, 2, 3, 2, 2, 3, 2, 2, 2, 2, 2, 2, 2, 2, 2, 3, 3, 2, 3, 3, 2, 2, 2, 2, 6, 2, 6, 2, 2, 4, 2, 2, 2, 2, 3, 2, 2, 3, 2, 3, 2, 2, 3, 3, 2, 2, 2, 2, 3, 2, 5, 2, 3, 4, 2, 4, 2, 2, 2, 2, 2, 2, 4, 2, 3, 2, 6, 2, 2, 2, 2, 2, 3, 4, 3, 2, 2, 2, 3, 3, 3, 2, 2, 2, 3, 2, 2, 2, 2, 5, 2, 2, 2, 2, 3, 3, 3, 4, 3, 6, 4, 4, 2, 4, 2, 2, 2, 3, 7, 2, 4, 2, 2, 4, 7, 2, 3, 2, 2, 2, 3, 3, 2, 5, 2, 3, 2, 2, 3, 2, 3, 2, 2, 2, 2, 2, 2, 2, 2, 2, 2, 3, 2, 2, 2, 3, 4, 2, 5, 2, 2, 3, 2, 2, 2, 2, 2, 4, 4, 2, 2, 2, 3, 2, 2, 3, 2, 2, 2, 2, 3, 3, 3, 2, 7, 2, 2, 2, 3, 2, 3, 5, 2, 4, 2, 2, 2, 2, 3, 4, 3, 2, 5, 2, 4, 3, 2, 2, 2, 4, 2, 6, 3, 2, 2, 5, 2, 6, 2, 4, 3, 2, 3, 3, 2, 5, 2, 2, 3, 2, 2, 2, 5, 2, 2, 3, 4, 2, 2, 2, 2, 3, 2, 3, 2, 2, 4, 2, 2, 2, 4, 2, 3, 2, 2, 2, 2, 2, 2, 2, 2, 3, 2, 5, 3, 2, 2, 2, 3, 3, 2, 3, 2, 6, 2, 8, 2, 2, 4, 2, 2, 2, 2, 11, 2, 2, 6, 3, 2, 2, 5, 3, 2, 3, 2, 3, 2, 6, 3, 4, 2, 3, 3, 2, 3, 2, 2, 3, 2, 2, 3, 3, 4, 3, 2, 3, 2, 5, 3, 7, 4, 2, 4, 2, 3, 2, 3, 2, 5, 5, 2, 3, 3, 3, 2, 4, 2, 2, 2, 2, 3, 6, 2, 2, 4, 2, 2, 5, 6, 2, 4, 2, 6, 2, 2, 2, 3, 2, 3, 5, 3, 2, 2, 4, 3, 4, 4, 2, 2, 2, 2, 2, 9, 2, 3, 3, 2, 2, 5, 2, 3, 2, 2, 2, 2, 2, 3, 2, 2, 2, 2, 3, 2, 2, 2, 2, 3, 3, 3, 2, 2, 2, 4, 2, 2, 2, 2, 2, 3, 2, 3, 2, 2, 4, 7, 6, 5, 2, 2, 2, 2, 3, 2, 2, 3, 2, 2, 2, 2, 2, 3, 2, 2, 4, 2, 7, 2, 2, 3, 2, 4, 2, 2, 2, 3, 2, 2, 2, 2, 2, 3, 3, 2, 3, 2, 2, 2, 2, 2, 5, 2, 2, 3, 2, 3, 2, 3, 3, 4, 2, 2, 2, 2, 3, 2, 3, 3, 3, 2, 3, 5, 2, 2, 2, 4, 2, 2, 4, 3, 3, 2, 3, 2, 3, 2, 2, 2, 3, 2, 2, 2, 3, 3, 2, 3, 5, 3, 2, 2, 3, 5, 2, 3, 2, 2, 2, 2, 2, 2, 2, 2, 3, 4, 2, 2, 2, 3, 3, 2, 2, 2, 3, 2, 4, 4, 2, 2, 2, 4, 2, 2, 2, 3, 4, 2, 4, 2, 2, 2, 2, 4, 3, 2, 5, 2, 3, 2, 3, 3, 2, 3, 2, 3, 2, 2, 2, 4, 2, 2, 3, 2, 2, 3, 2, 3, 3, 2, 5, 3, 2, 2, 3, 4, 2, 5, 2, 3, 5, 2, 4, 2, 3, 3, 2, 2, 3, 2, 5, 2, 2, 3, 2, 3, 2, 2, 4, 2, 3, 3, 3, 2, 3, 2, 3, 3, 2, 2, 2, 2, 2, 4, 3, 3, 2, 2, 2, 2, 2, 5, 3, 4, 2, 3, 2, 2, 2, 2, 3, 2, 2, 2, 3, 2, 2, 4, 3, 2, 3, 2, 2, 3, 2, 3, 2, 2, 2, 3, 2, 2, 2, 3, 2, 2, 2, 6, 2, 2, 2, 5, 2, 2, 3, 2, 2, 2, 2, 2, 2, 3, 4, 2, 3, 2, 2, 2, 2, 2, 3, 2, 11, 4, 2, 2, 2, 2, 7, 2, 4, 3, 3, 3, 2, 2, 3, 2, 2, 3, 2, 5, 4, 4, 2, 3, 2, 5, 3, 4, 2, 2, 2, 3, 2, 2, 3, 2, 4, 3, 2, 2, 2, 2, 2, 2, 2, 2, 6, 2, 2, 4, 3, 4, 3, 2, 2, 4, 2, 2, 3, 3, 3, 2, 2, 3, 3, 2, 2, 2, 2, 4, 2, 2, 2, 7, 4, 2, 2, 4, 3, 2, 7, 2, 2, 4, 2, 5, 2, 4, 2, 3, 2, 2, 2, 5, 2, 2, 2, 3, 2, 2, 2, 3, 5, 3, 2, 2, 2, 3, 2, 5, 5, 3, 2, 5, 2, 2, 3, 2, 2, 3, 4, 2, 2, 5, 2, 2, 2, 4, 2, 2, 3, 3, 5, 3, 2, 2, 2, 3, 3, 2, 2, 2, 2, 3, 2, 3, 3, 5, 2, 3, 2, 2, 2, 4, 2, 2, 3, 2, 3, 5, 2, 3, 2, 2, 2, 2, 2, 2, 6, 2, 2, 2, 2, 2, 2, 3, 2, 2, 4, 2, 2, 2, 2, 7, 2, 3, 2, 3, 2, 3, 2, 4, 4, 2, 3, 6, 2, 3, 2, 2, 3, 2, 2, 2, 2, 4, 3, 2, 3, 2, 3, 3, 4, 2, 2, 6, 2, 2, 2, 2, 2, 2, 3, 4, 2, 4, 2, 2, 5, 2, 2, 3, 3, 2, 2, 2, 4, 2, 2, 2, 2, 2, 2, 2, 2, 2, 2, 2, 2, 2, 4, 3, 2, 2, 2, 2, 2, 2, 3, 2, 2, 2, 4, 3, 2, 5, 3, 2, 2, 3, 2, 2, 2, 3, 2, 3, 2, 2, 2, 2, 2, 3, 3, 2, 2, 2, 2, 4, 2, 2, 3, 2, 2, 2, 2, 3, 2, 3, 2, 2, 2, 2, 2, 2, 3, 2, 4, 4, 4, 4, 3, 2, 2, 5, 3, 3, 3, 2, 3, 3, 3, 3, 2, 2, 2, 2, 4, 6, 4, 2, 2, 2, 2, 2, 2, 2, 3, 2, 3, 2, 2, 4, 2, 2, 3, 2, 3, 2, 3, 3, 2, 3, 2, 2, 4, 6, 2, 2, 2, 3, 4, 3, 5, 2, 2, 2, 3, 2, 2, 2, 2, 2, 2, 2, 2, 2, 3, 2, 2, 2, 3, 2, 4, 3, 8, 3, 2, 5, 4, 2, 3, 2, 2, 2, 3, 3, 2, 2, 3, 2, 4, 2, 2, 2, 2, 3, 2, 2, 3, 2, 3, 3, 5, 4, 3, 2, 2, 4, 2, 3, 2, 2, 3, 2, 4, 2, 2, 3, 2, 2, 3, 2, 2, 3, 4, 2, 3, 5, 2, 2, 3, 2, 4, 2, 3, 3, 3, 8, 3, 3, 2, 3, 2, 5, 2, 2, 2, 3, 2, 4, 3, 3, 4, 2, 2, 4, 2, 2, 6, 2, 4, 2, 4, 2, 2, 2, 2, 3, 2, 4, 3, 2, 2, 4, 2, 6, 2, 2, 2, 2, 2, 3, 3, 2, 2, 2, 2, 2, 2, 2, 2, 3, 2, 2, 3, 2, 2, 2, 3, 3, 3, 2, 2, 3, 2, 3, 2, 2, 2, 2, 5, 2, 3, 2, 4, 2, 4, 2, 3, 2, 2, 4, 2, 2, 2, 3, 2, 2, 3, 2, 3, 2, 3, 4, 4, 2, 3, 3, 2, 6, 3, 3, 3, 2, 2, 3, 2, 5, 2, 2, 4, 2, 2, 2, 2, 5, 2, 2, 2, 2, 2, 2, 2, 2, 5, 2, 11, 3, 2, 5, 2, 2, 7, 6, 2, 3, 3, 2, 5, 2, 2, 2, 2, 2, 2, 5, 2, 4, 4, 2, 2, 2, 2, 2, 2, 3, 2, 2, 2, 2, 2, 2, 3, 4, 2, 2, 2, 3, 4, 2, 2, 4, 3, 3, 2, 2, 2, 2, 3, 3, 2, 3, 2, 3, 5, 3, 3, 2, 2, 3, 2, 2, 2, 2, 2, 5, 2, 2, 4, 2, 2, 4, 3, 2, 2, 2, 3, 2, 2, 2, 4, 3, 3, 6, 4, 3, 3, 3, 3, 2, 3, 2, 2, 2, 2, 2, 5, 4, 2, 3, 2, 5, 2, 2, 4, 4, 2, 4, 2, 3, 2, 3, 2, 2, 2, 2, 2, 2, 3, 2, 2, 3, 2, 2, 4, 3, 2, 2, 2, 3, 2, 4, 3, 4, 3, 2, 2, 2, 3, 2, 2, 2, 2, 2, 2, 2, 2, 3, 2, 2, 6, 2, 2, 2, 2, 2, 2, 6, 2, 2, 2, 2, 2, 5, 3, 3, 2, 3, 3, 2, 2, 3, 3, 3, 2, 2, 2, 3, 10, 2, 2, 4, 3, 5, 2, 2, 3, 6, 2, 2, 2, 3, 2, 2, 2, 2, 2, 2, 2, 2, 4, 3, 2, 3, 2, 2, 4, 2, 3, 2, 2, 4, 2, 2, 2, 5, 2, 2, 2, 2, 5, 2, 3, 2, 3, 8, 4, 4, 2, 3, 2, 2, 2, 3, 3, 2, 2, 2, 3, 2, 2, 2, 2, 3, 2, 2, 2, 2, 3, 2, 2, 4, 4, 4, 2, 2, 2, 2, 4, 2, 2, 2, 4, 3, 2, 2, 2, 5, 2, 2, 3, 2, 3, 3, 6, 2, 2, 3, 3, 2, 2, 2, 2, 2, 3, 2, 2, 2, 2, 2, 3, 2, 2, 2, 2, 2, 4, 2, 2, 3, 6, 4, 2, 4, 4, 4, 2, 2, 2, 2, 2, 2, 2, 5, 4, 2, 2, 2, 4, 2, 4, 2, 2, 2, 2, 2, 2, 4, 2, 3, 3, 2, 2, 2, 7, 3, 2, 2, 2, 2, 3, 2, 2, 2, 11, 2, 3, 2, 3, 3, 2, 3, 3, 2, 3, 2, 2, 4, 2, 3, 3, 2, 2, 2, 3, 3, 2, 3, 2, 3, 2, 2, 3, 2, 2, 2, 2, 4, 2, 2, 2, 4, 2, 2, 2, 2, 2, 5, 2, 3, 2, 2, 3, 2, 2, 2, 3, 2, 2, 4, 2, 2, 3, 3, 2, 2, 3, 2, 3, 8, 2, 2, 2, 5, 2, 2, 3, 2, 3, 5, 2, 2, 2, 2, 2, 2, 2, 5, 2, 2, 3, 2, 5, 2, 3, 5, 4, 7, 3, 2, 3, 3, 2, 3, 2, 2, 2, 2, 3, 2, 2, 5, 2, 3, 2, 2, 2, 2, 2, 3, 2, 2, 3, 6, 2, 2, 2, 3, 2, 3, 2, 3, 2, 3, 2, 3, 2, 2, 2, 2, 2, 8, 2, 2, 2, 2, 4, 7, 2, 12, 2, 2, 2, 3, 2, 2, 3, 4, 2, 5, 3, 3, 2, 5, 2, 2, 2, 2, 2, 2, 8, 2, 2, 2, 2, 3, 2, 2, 4, 2, 3, 2, 2, 2, 2, 2, 2, 2, 2, 2, 3, 2, 2, 4, 2, 2, 2, 4, 2, 3, 2, 4, 2, 6, 3, 2, 3, 2, 2, 4, 2, 4, 3, 2, 2, 2, 2, 2, 2, 2, 3, 2, 4, 6, 2, 3, 2, 2, 14, 3, 2, 2, 2, 3, 2, 2, 2, 2, 2, 2, 2, 2, 6, 2, 2, 2, 2, 4, 2, 2, 5, 4, 2, 6, 2, 5, 3, 2, 5, 3, 6, 5, 3, 2, 2, 2, 3, 2, 2, 2, 2, 3, 2, 3, 2, 4, 2, 2, 2, 2, 2, 2, 2, 2, 3, 2, 6, 2, 3, 3, 3, 2, 2, 2, 2, 3, 2, 3, 5, 3, 2, 2, 3, 2, 3, 3, 2, 2, 4, 2, 4, 4, 2, 2, 2, 4, 2, 2, 2, 3, 3, 4, 2, 2, 9, 2, 2, 3, 2, 2, 2, 3, 2, 2, 2, 3, 2, 3, 2, 3, 3, 2, 5, 2, 2, 4, 2, 2, 2, 3, 2, 2, 2, 3, 2, 2, 2, 3, 2, 3, 3, 2, 2, 2, 5, 6, 2, 3, 2, 2, 3, 2, 2, 2, 7, 2, 2, 2, 2, 2, 3, 2, 2, 2, 3, 2, 2, 3, 2, 4, 2, 6, 3, 7, 4, 2, 4, 2, 2, 2, 2, 3, 2, 3, 2, 2, 3, 2, 3, 2, 3, 2, 3, 4, 2, 3, 3, 3, 6, 4, 2, 2, 3, 2, 4, 6, 2, 2, 3, 2, 2, 2, 3, 3, 2, 2, 2, 2, 4, 2, 6, 2, 2, 3, 3, 3, 2, 2, 2, 4, 2, 2, 3, 2, 4, 2, 2, 2, 4, 2, 3, 5, 2, 3, 2, 3, 2, 2, 2, 2, 2, 2, 3, 6, 2, 3, 3, 2, 3, 3, 2, 2, 2, 2, 4, 2, 2, 2, 3, 3, 2, 2, 2, 2, 2, 2, 3, 2, 2, 2, 4, 3, 3, 2, 2, 4, 2, 4, 3, 2, 2, 2, 3, 2, 2, 3, 2, 2, 2, 3, 2, 2, 3, 5, 3, 2, 2, 3, 2, 4, 2, 2, 2, 3, 3, 3, 2, 2, 2, 3, 2, 2, 3, 2, 2, 3, 4, 2, 2, 2, 2, 2, 2, 2, 3, 4, 2, 3, 3, 2, 3, 2, 3, 2, 2, 2, 3, 3, 2, 3, 3, 3, 2, 2, 2, 3, 2, 2, 4, 2, 3, 2, 2, 4, 3, 2, 2, 2, 2, 2, 5, 3, 3, 2, 3, 2, 2, 2, 3, 3, 3, 2, 2, 3, 3, 2, 2, 4, 3, 2, 3, 2, 3, 2, 2, 2, 2, 2, 3, 2, 2, 2, 2, 5, 2, 2, 2, 4, 2, 4, 2, 2, 2, 2, 2, 4, 2, 4, 3, 2, 2, 2, 3, 3, 2, 2, 2, 2, 2, 2, 3, 5, 2, 2, 3, 2, 3, 2, 2, 2, 3, 2, 2, 2, 4, 2, 3, 2, 2, 2, 2, 3, 2, 2, 2, 2, 2, 2, 2, 2, 2, 2, 7, 2, 2, 3, 2, 2, 5, 3, 3, 2, 2, 5, 3, 2, 2, 3, 2, 3, 3, 2, 2, 2, 2, 2, 5, 2, 3, 2, 3, 2, 2, 2, 3, 3, 3, 2, 2, 2, 2, 3, 5, 2, 2, 4, 2, 2, 3, 3, 3, 2, 4, 2, 2, 2, 3, 3, 2, 2, 2, 3, 2, 2, 2, 2, 2, 2, 2, 3, 2, 3, 2, 2, 4, 2, 3, 2, 2, 5, 3, 2, 2, 3, 4, 2, 2, 2, 2, 4, 2, 2, 3, 2, 2, 3, 2, 2, 2, 2, 2, 2, 3, 2, 4, 2, 2, 2, 2, 2, 2, 3, 4, 2, 3, 2, 2, 2, 2, 2, 2, 2, 3, 3, 2, 5, 2, 3, 2, 4, 2, 2, 2, 2, 2, 3, 3, 4, 2, 2, 2, 2, 2, 2, 2, 4, 3, 2, 3, 3, 2, 5, 2, 2, 2, 2, 2, 4, 2, 2, 2, 2, 2, 2, 3, 4, 2, 2, 2, 2, 2, 2, 2, 3, 2, 3, 2, 2, 2, 2, 3, 4, 3, 2, 2, 3, 3, 2, 2, 2, 2, 2, 3, 2, 2, 2, 2, 2, 2, 3, 3, 2, 2, 3, 2, 2, 2, 2, 2, 2, 3, 2, 2, 2, 5, 2, 3, 2, 2, 3, 4, 2, 2, 2, 8, 3, 2, 4, 2, 3, 3, 3, 2, 2, 2, 3, 3, 2, 2, 2, 2, 3, 6, 2, 2, 4, 2, 2, 2, 2, 2, 2, 2, 2, 2, 2, 3, 2, 3, 2, 2, 3, 2, 2, 6, 4, 3, 2, 2, 5, 2, 2, 3, 2, 8, 2, 2, 3, 3, 2, 2, 2, 2, 2, 3, 2, 2, 4, 2, 2, 3, 3, 5, 4, 6, 2, 2, 4, 2, 2, 2, 2, 2, 2, 2, 2, 2, 2, 2, 2, 2, 2, 2, 3, 3, 2, 2, 2, 2, 2, 2, 5, 2, 2, 4, 2, 5, 2, 2, 3, 2, 2, 3, 2, 2, 3, 2, 3, 2, 2, 2, 4, 2, 2, 2, 2, 2, 2, 2, 4, 2, 2, 4, 2, 2, 2, 2, 4, 2, 3, 2, 3, 3, 5, 2, 4, 3, 2, 2, 3, 2, 2, 2, 2, 2, 3, 2, 2, 4, 8, 2, 2, 4, 2, 3, 2, 2, 2, 2, 4, 2, 2, 3, 2, 2, 3, 2, 3, 2, 3, 2, 2, 2, 5, 3, 2, 3, 2, 3, 3, 3, 2, 2, 2, 2, 2, 2, 2, 2, 6, 3, 2, 2, 2, 2, 2, 2, 2, 2, 4, 3, 5, 2, 3, 2, 4, 2, 4, 2, 4, 2, 4, 2, 3, 2, 2, 2, 2, 3, 3, 2, 2, 4, 2, 2, 3, 2, 2, 2, 2, 2, 2, 3, 2, 2, 2, 2, 2, 2, 2, 2, 2, 2, 2, 2, 4, 2, 2, 2, 2, 2, 3, 4, 2, 2, 2, 2, 2, 3, 2, 2, 2, 2, 3, 3, 3, 4, 2, 7, 2, 2, 3, 4, 2, 3, 2, 2, 2, 4, 3, 2, 2, 3, 2, 3, 2, 3, 2, 3, 2, 2, 2, 2, 2, 2, 2, 2, 3, 3, 2, 2, 2, 2, 2, 4, 2, 2, 2, 3, 3, 3, 2, 4, 3, 2, 2, 2, 3, 3, 3, 2, 2, 2, 2, 2, 2, 2, 2, 3, 3, 4, 2, 2, 3, 2, 2, 2, 2, 5, 3, 2, 2, 3, 2, 4, 4, 2, 2, 3, 5, 3, 2, 2, 2, 2, 2, 2, 2, 2, 3, 2, 2, 3, 4, 2, 3, 3, 3, 2, 3, 4, 2, 2, 2, 2, 5, 2, 3, 2, 4, 2, 2, 2, 5, 2, 4, 2, 2, 2, 2, 2, 8, 2, 2, 2, 2, 2, 2, 2, 3, 2, 2, 3, 2, 2, 2, 2, 6, 2, 2, 2, 2, 4, 5, 4, 2, 2, 2, 2, 2, 4, 2, 2, 2, 2, 2, 2, 3, 2, 4, 2, 3, 4, 2, 3, 2, 4, 2, 2, 2, 2, 4, 2, 3, 3, 3, 2, 3, 3, 4, 2, 5, 2, 2, 2, 2, 2, 3, 5, 2, 4, 2, 2, 2, 2, 3, 2, 2, 3, 2, 2, 2, 3, 2, 2, 2, 4, 2, 2, 2, 2, 3, 2, 2, 2, 2, 2, 2, 2, 3, 2, 3, 2, 2, 4, 2, 3, 3, 3, 2, 2, 2, 2, 2, 2, 2, 2, 2, 2, 2, 2, 2, 2, 2, 5, 3, 2, 2, 2, 2, 2, 2, 2, 3, 2, 2, 2, 2, 3, 2, 3, 2, 2, 3, 3, 3, 3, 2, 2, 2, 3, 3, 5, 6, 2, 2, 3, 2, 9, 2, 2, 2, 2, 2, 2, 2, 2, 2, 3, 2, 2, 2, 6, 2, 2, 2, 2, 2, 2, 2, 2, 3, 2, 3, 2, 2, 3, 3, 2, 2, 2, 3, 2, 2, 3, 2, 2, 2, 4, 3, 2, 3, 2, 4, 3, 2, 3, 2, 2, 3, 3, 2, 2, 2, 3, 4, 4, 2, 2, 2, 2, 2, 3, 2, 4, 5, 3, 2, 2, 5, 2, 4, 5, 2, 3, 3, 2, 4, 2, 2, 3, 3, 2, 3, 2, 3, 2, 3, 2, 2, 2, 2, 5, 3, 4, 2, 3, 2, 2, 2, 2, 2, 5, 2, 2, 3, 2, 5, 2, 2, 2, 3, 2, 2, 2, 2, 2, 2, 2, 2, 2, 2, 2, 2, 2, 2, 2, 2, 4, 3, 7, 2, 2, 2, 2, 2, 2, 2, 4, 2, 3, 2, 2, 2, 2, 2, 2, 4, 2, 3, 2, 2, 2, 3, 2, 3, 2, 2, 2, 2, 3, 2, 5, 2, 2, 2, 2, 3, 2, 3, 3, 2, 2, 5, 6, 2, 3, 4, 3, 2, 2, 2, 2, 3, 2, 2, 3, 2, 2, 2, 2, 2, 2, 2, 2, 3, 2, 2, 2, 5, 5, 6, 3, 2, 2, 4, 2, 2, 3, 3, 3, 2, 3, 2, 2, 3, 3, 2, 3, 3, 3, 4, 2, 2, 2, 3, 2, 3, 2, 2, 3, 2, 2, 2, 3, 3, 2, 2, 3, 2, 2, 2, 2, 6, 2, 2, 3, 2, 2, 3, 2, 2, 3, 2, 2, 2, 2, 3, 4, 2, 2, 2, 3, 3, 2, 2, 2, 4, 3, 2, 2, 2, 3, 3, 3, 2, 4, 2, 3, 3, 2, 2, 2, 2, 2, 2, 3, 4, 2, 2, 2, 3, 2, 2, 2, 2, 3, 2, 2, 2, 2, 3, 6, 2, 3, 3, 2, 2, 3, 2, 2, 2, 4, 3, 2, 2, 2, 2, 3, 2, 2, 4, 2, 2, 3, 3, 2, 3, 2, 2, 2, 2, 2, 2, 2, 2, 5, 2, 4, 6, 3, 2, 3, 5, 2, 2, 2, 3, 2, 2, 3, 2, 2, 6, 6, 2, 3, 5, 2, 3, 3, 2, 4, 2, 2, 3, 4, 2, 3, 2, 2, 4, 4, 4, 3, 3, 2, 2, 3, 2, 3, 2, 2, 3, 2, 3, 3, 4, 2, 4, 2, 2, 2, 3, 2, 3, 4, 3, 3, 2, 2, 2, 2, 2, 2, 2, 3, 2, 4, 2, 3, 3, 2, 3, 3, 2, 2, 3, 3, 2, 4, 2, 2, 2, 2, 2, 3, 2, 4, 2, 3, 2, 3, 2, 2, 3, 6, 2, 2, 2, 2, 2, 2, 2, 4, 4, 2, 2, 3, 2, 3, 2, 2, 2, 4, 3, 2, 2, 5, 2, 2, 2, 2, 2, 2, 2, 2, 4, 3, 2, 2, 4, 5, 3, 2, 2, 3, 2, 3, 2, 2, 4, 2, 2, 2, 3, 2, 2, 2, 4, 2, 3, 4, 2, 3, 4, 3, 3, 2, 2, 2, 2, 3, 2, 2, 2, 4, 2, 2, 2, 2, 2, 2, 3, 2, 4, 2, 2, 2, 2, 2, 3, 2, 2, 3, 2, 2, 2, 4, 2, 3, 2, 2, 2, 2, 4, 2, 4, 2, 6, 2, 2, 5, 2, 2, 4, 3, 3, 2, 3, 3, 3, 2, 3, 4, 3, 2, 2, 5, 2, 2, 2, 6, 2, 2, 2, 2, 2, 3, 2, 3, 2, 2, 3, 2, 5, 3, 2, 2, 3, 4, 2, 2, 2, 3, 4, 2, 2, 2, 4, 2, 2, 2, 2, 2, 3, 2, 3, 4, 2, 2, 4, 6, 2, 2, 2, 10, 2, 2, 3, 2, 2, 3, 2, 3, 2, 4, 4, 2, 2, 2, 2, 2, 2, 3, 2, 2, 2, 2, 2, 3, 2, 2, 2, 4, 3, 2, 2, 2, 2, 2, 3, 4, 2, 6, 2, 2, 4, 2, 4, 2, 5, 2, 3, 2, 3, 2, 3, 2, 2, 2, 2, 2, 2, 3, 2, 2, 2, 2, 4, 2, 2, 2, 2, 2, 2, 2, 2, 2, 3, 2, 2, 2, 3, 2, 2, 2, 2, 2, 2, 2, 2, 3, 2, 2, 3, 2, 2, 2, 4, 2, 2, 2, 2, 9, 8, 2, 3, 2, 2, 2, 3, 4, 2, 2, 4, 3, 3, 2, 2, 2, 2, 2, 4, 2, 2, 5, 3, 2, 4, 2, 2, 7, 2, 2, 3, 3, 6, 2, 2, 4, 4, 3, 2, 3, 7, 2, 2, 2, 2, 3, 2, 3, 2, 3, 2, 2, 3, 2, 2, 2, 2, 2, 2, 2, 4, 3, 3, 4, 2, 2, 2, 2, 4, 3, 2, 2, 2, 5, 3, 2, 2, 2, 2, 3, 2, 4, 3, 2, 2, 3, 3, 2, 2, 2, 2, 2, 2, 2, 3, 2, 2, 2, 3, 6, 2, 2, 3, 3, 3, 2, 2, 2, 2, 2, 2, 3, 2, 2, 2, 4, 3, 2, 3, 6, 3, 3, 2, 2, 2, 2, 8, 6, 3, 2, 2, 2, 2, 3, 2, 2, 2, 2, 2, 2, 2, 2, 3, 2, 4, 3, 2, 2, 2, 2, 4, 4, 3, 2, 2, 8, 2, 2, 2, 2, 2, 2, 2, 2, 3, 4, 2, 3, 2, 2, 2, 3, 2, 2, 3, 2, 3, 2, 2, 2, 2, 2, 4, 2, 2, 2, 3, 2, 2, 2, 3, 6, 2, 3, 2, 3, 2, 3, 2, 2, 2, 3, 3, 2, 2, 3, 2, 2, 6, 2, 2, 2, 2, 3, 2, 2, 2, 4, 3, 2, 3, 2, 2, 3, 3, 2, 6, 2, 4, 2, 3, 2, 2, 2, 3, 2, 2, 2, 3, 2, 3, 2, 5, 5, 2, 2, 2, 2, 3, 2, 4, 2, 3, 2, 3, 2, 2, 2, 2, 2, 3, 3, 2, 2, 5, 2, 4, 3, 3, 2, 2, 2, 2, 2, 2, 2, 3, 2, 5, 2, 2, 3, 3, 2, 2, 2, 3, 2, 2, 2, 2, 2, 2, 2, 2, 3, 2, 2, 2, 2, 2, 2, 2, 2, 2, 4, 2, 2, 2, 2, 2, 2, 3, 2, 2, 2, 2, 2, 2, 2, 2, 2, 3, 2, 2, 3, 3, 2, 2, 2, 2, 2, 2, 2, 5, 3, 2, 2, 2, 3, 3, 2, 3, 3, 3, 7, 2, 2, 3, 3, 2, 3, 2, 2, 2, 4, 3, 2, 2, 3, 2, 2, 3, 2, 2, 2, 3, 4, 4, 2, 2, 4, 3, 2, 2, 2, 3, 2, 2, 2, 2, 2, 3, 2, 2, 2, 4, 2, 2, 2, 2, 4, 2, 5, 3, 2, 3, 4, 4, 2, 3, 2, 2, 2, 2, 2, 3, 2, 5, 2, 4, 3, 4, 2, 2, 4, 2, 2, 2, 3, 2, 3, 3, 3, 5, 3, 2, 3, 3, 4, 2, 2, 2, 3, 2, 2, 3, 2, 2, 2, 4, 3, 2, 2, 4, 3, 2, 2, 3, 2, 2, 4, 3, 3, 2, 2, 2, 2, 2, 2, 3, 2, 2, 2, 2, 2, 2, 2, 2, 2, 3, 2, 4, 3, 2, 2, 3, 3, 2, 2, 2, 2, 4, 2, 2, 2, 2, 2, 2, 2, 5, 2, 6, 2, 2, 4, 2, 3, 2, 3, 2, 3, 3, 2, 2, 2, 4, 4, 2, 3, 4, 5, 2, 2, 2, 2, 2, 2, 3, 2, 2, 3, 3, 2, 4, 3, 2, 2, 3, 2, 6, 4, 3, 2, 2, 2, 2, 3, 3, 2, 2, 2, 2, 2, 2, 7, 2, 2, 2, 2, 2, 2, 3, 2, 2, 2, 2, 2, 2, 2, 2, 2, 2, 2, 2, 2, 5, 2, 3, 2, 2, 2, 2, 2, 2, 4, 2, 2, 2, 3, 2, 5, 2, 2, 3, 3, 2, 3, 4, 3, 2, 2, 3, 2, 2, 2, 3, 3, 2, 3, 2, 3, 2, 2, 2, 3, 2, 3, 2, 3, 2, 2, 4, 2, 3, 2, 2, 3, 4, 3, 3, 2, 2, 2, 2, 4, 2, 2, 6, 2, 3, 3, 5, 4, 2, 2, 2, 2, 2, 2, 2, 4, 5, 2, 2, 3, 3, 2, 2, 2, 3, 2, 2, 3, 2, 2, 2, 2, 3, 7, 2, 3, 2, 4, 2, 2, 3, 5, 3, 4, 4, 2, 2, 2, 2, 3, 2, 4, 2, 3, 2, 5, 4, 2, 2, 2, 2, 2, 2, 5, 4, 3, 2, 3, 3, 3, 3, 6, 4, 2, 2, 4, 2, 2, 2, 2, 2, 3, 3, 2, 2, 3, 2, 3, 4, 2, 3, 2, 2, 2, 2, 4, 2, 2, 2, 9, 2, 3, 2, 2, 2, 3, 2, 3, 2, 3, 4, 3, 2, 2, 2, 2, 2, 2, 4, 4, 4, 4, 3, 3, 2, 3, 2, 2, 2, 2, 2, 2, 6, 3, 2, 2, 2, 2, 2, 5, 2, 2, 3, 2, 3, 2, 2, 2, 2, 2, 5, 3, 2, 4, 2, 2, 2, 3, 2, 5, 6, 2, 2, 2, 4, 2, 2, 2, 2, 3, 3, 2, 2, 4, 4, 2, 2, 3, 2, 2, 3, 3, 2, 3, 2, 2, 3, 3, 2, 4, 3, 2, 3, 2, 2, 2, 2, 3, 3, 2, 2, 2, 2, 3, 5, 2, 2, 2, 6, 2, 3, 2, 3, 2, 3, 3, 2, 4, 2, 2, 2, 2, 2, 2, 2, 2, 3, 4, 2, 2, 3, 2, 4, 3, 2, 2, 2, 2, 2, 4, 3, 2, 4, 2, 3, 2, 2, 2, 2, 2, 2, 3, 2, 2, 3, 4, 3, 3, 3, 3, 2, 2, 2, 2, 2, 10, 2, 2, 2, 3, 2, 3, 2, 2, 2, 2, 2, 2, 2, 2, 4, 3, 3, 3, 4, 4, 4, 2, 2, 2, 2, 3, 2, 4, 3, 6, 2, 2, 2, 3, 3, 3, 2, 2, 2, 2, 4, 3, 4, 2, 3, 3, 2, 2, 2, 3, 2, 2, 5, 2, 3, 2, 2, 2, 2, 2, 2, 2, 2, 2, 3, 3, 2, 2, 3, 2, 3, 2, 2, 2, 3, 6, 5, 2, 5, 2, 2, 2, 3, 5, 2, 4, 2, 3, 2, 3, 2, 8, 2, 3, 2, 2, 2, 3, 2, 2, 3, 2, 3, 2, 2, 2, 2, 3, 2, 2, 2, 2, 2, 2, 2, 3, 4, 2, 2, 2, 3, 2, 2, 3, 3, 2, 2, 2, 2, 2, 2, 2, 2, 4, 2, 2, 2, 2, 2, 2, 2, 2, 2, 3, 2, 3, 2, 3, 2, 2, 2, 2, 3, 2, 2, 4, 2, 2, 2, 2, 2, 2, 3, 2, 2, 2, 3, 2, 4, 4, 3, 2, 3, 2, 2, 2, 2, 4, 2, 2, 2, 2, 3, 3, 2, 2, 2, 2, 3, 2, 2, 3, 2, 3, 2, 2, 2, 2, 2, 2, 2, 2, 2, 3, 2, 8, 2, 2, 2, 3, 2, 2, 2, 2, 2, 2, 2, 2, 2, 2, 2, 2, 2, 2, 2, 2, 2, 2, 2, 2, 3, 2, 2, 3, 2, 2, 2, 2, 3, 2, 2, 3, 2, 2, 2, 2, 2, 2, 2, 2, 2, 2, 2, 3, 2, 3, 2, 2, 2, 2, 3, 6, 2, 2, 2, 2, 2, 2, 3, 3, 3, 2, 4, 2, 3, 4, 2, 5, 3, 2, 2, 6, 2, 2, 3, 2, 4, 2, 2, 2, 2, 4, 3, 2, 4, 3, 2, 3, 2, 3, 3, 2, 3, 3, 3, 2, 2, 2, 2, 2, 4, 2, 2, 2, 2, 2, 2, 2, 2, 3, 2, 4, 2, 2, 3, 2, 2, 2, 3, 2, 2, 2, 2, 2, 4, 3, 2, 3, 2, 2, 3, 3, 2, 3, 2, 2, 3, 2, 3, 2, 2, 2, 2, 3, 2, 2, 3, 2, 2, 2, 2, 2, 2, 2, 2, 3, 4, 2, 2, 3, 2, 3, 2, 4, 5, 2, 2, 3, 2, 2, 3, 2, 2, 2, 5, 2, 3, 2, 2, 2, 5, 2, 2, 3, 2, 2, 3, 2, 2, 5, 2, 3, 2, 2, 2, 2, 4, 3, 2, 2, 2, 10, 2, 2, 2, 4, 3, 2, 3, 2, 2, 2, 3, 4, 5, 2, 7, 2, 2, 2, 3, 6, 2, 2, 2, 2, 3, 4, 3, 2, 3, 2, 2, 2, 2, 3, 3, 2, 2, 4, 2, 2, 4, 2, 2, 2, 2, 3, 3, 2, 4, 2, 2, 2, 2, 4, 2, 3, 2, 2, 2, 4, 5, 4, 2, 2, 2, 3, 4, 3, 2, 2, 3, 2, 2, 4, 3, 4, 2, 3, 5, 3, 2, 2, 3, 2, 3, 3, 2, 7, 2, 4, 5, 2, 3, 2, 2, 3, 2, 5, 2, 2, 3, 2, 2, 2, 2, 3, 2, 2, 6, 2, 2, 2, 3, 2, 3, 3, 2, 3, 3, 3, 2, 2, 2, 2, 3, 2, 2, 2, 2, 2, 4, 3, 2, 2, 2, 2, 2, 2, 2, 2, 3, 2, 2, 4, 2, 3, 2, 2, 2, 4, 3, 9, 2, 2, 2, 2, 3, 2, 3, 2, 2, 2, 2, 2, 3, 2, 2, 3, 2, 2, 3, 2, 3, 2, 2, 2, 4, 2, 2, 3, 2, 2, 2, 2, 3, 2, 2, 6, 2, 2, 3, 2, 2, 2, 2, 2, 2, 2, 3, 3, 4, 2, 2, 5, 2, 2, 2, 2, 3, 2, 2, 2, 2, 3, 2, 2, 3, 3, 2, 2, 2, 2, 3, 3, 2, 2, 2, 3, 2, 2, 2, 2, 2, 2, 2, 2, 2, 7, 2, 2, 2, 5, 2, 2, 3, 2, 2, 4, 5, 2, 2, 2, 2, 3, 2, 2, 2, 5, 2, 3, 2, 6, 2, 2, 3, 5, 2, 2, 2, 3, 2, 3, 2, 2, 4, 2, 3, 2, 3, 2, 2, 2, 3, 2, 3, 2, 7, 3, 3, 3, 2, 2, 2, 2, 2, 3, 2, 2, 2, 5, 2, 2, 2, 2, 2, 2, 5, 4, 2, 2, 2, 2, 2, 2, 3, 2, 3, 3, 5, 5, 4, 2, 2, 2, 2, 7, 2, 2, 2, 2, 2, 2, 2, 3, 2, 2, 4, 2, 2, 3, 2, 3, 4, 3, 2, 3, 2, 3, 3, 2, 3, 2, 3, 2, 3, 2, 2, 2, 2, 5, 2, 2, 2, 2, 2, 2, 2, 2, 2, 3, 2, 2, 2, 2, 2, 2, 2, 2, 2, 2, 3, 2, 11, 2, 6, 3, 2, 4, 2, 2, 2, 2, 2, 2, 2, 2, 3, 2, 2, 4, 2, 4, 2, 3, 2, 2, 2, 3, 3, 4, 2, 2, 2, 2, 2, 2, 2, 2, 2, 6, 2, 3, 2, 4, 2, 3, 2, 2, 2, 3, 2, 2, 2, 2, 3, 2, 3, 2, 3, 2, 2, 4, 2, 2, 2, 2, 2, 2, 2, 3, 3, 3, 2, 4, 2, 2, 2, 2, 5, 2, 2, 3, 6, 2, 2, 2, 2, 3, 2, 4, 2, 2, 2, 3, 2, 2, 3, 2, 2, 3, 3, 2, 2, 2, 3, 2, 3, 2, 2, 2, 2, 2, 3, 3, 2, 2, 2, 2, 2, 2, 2, 2, 4, 2, 2, 3, 2, 2, 2, 2, 4, 3, 4, 3, 2, 3, 2, 2, 2, 2, 2, 3, 2, 4, 2, 2, 2, 3, 2, 2, 2, 2, 3, 3, 2, 5, 2, 2, 3, 3, 5, 2, 4, 2, 2, 2, 2, 3, 3, 2, 2, 4, 3, 2, 3, 3, 2, 2, 2, 2, 3, 2, 5, 2, 2, 2, 3, 2, 2, 2, 2, 4, 2, 2, 3, 4, 2, 2, 4, 3, 2, 2, 2, 2, 3, 2, 3, 2, 2, 2, 3, 2, 3, 2, 2, 2, 2, 2, 2, 2, 2, 4, 2, 2, 4, 2, 3, 2, 3, 3, 5, 2, 2, 2, 3, 2, 2, 2, 2, 3, 2, 2, 2, 3, 2, 5, 3, 2, 4, 3, 2, 3, 2, 2, 3, 6, 2, 2, 2, 2, 2, 3, 4, 2, 2, 2, 3, 3, 2, 2, 2, 2, 2, 2, 3, 2, 2, 3, 2, 6, 2, 2, 2, 2, 2, 3, 2, 2, 3, 2, 3, 2, 4, 2, 2, 2, 2, 2, 4, 2, 2, 2, 3, 2, 2, 2, 4, 2, 2, 2, 2, 5, 2, 2, 2, 2, 6, 2, 5, 3, 2, 2, 2, 2, 3, 2, 2, 2, 2, 2, 6, 2, 2, 2, 3, 2, 2, 2, 2, 2, 3, 2, 2, 2, 2, 3, 2, 3, 2, 4, 2, 4, 2, 2, 2, 4, 2, 2, 2, 2, 2, 2, 6, 2, 4, 2, 3, 2, 2, 3, 3, 4, 2, 3, 2, 2, 3, 2, 3, 2, 2, 4, 2, 2, 2, 2, 2, 2, 2, 2, 3, 2, 2, 2, 2, 2, 2, 5, 2, 2, 2, 2, 2, 2, 2, 3, 2, 2, 2, 4, 2, 2, 2, 2, 3, 2, 2, 2, 3, 2, 2, 2, 2, 2, 2, 2, 3, 3, 2, 2, 2, 7, 2, 2, 2, 2, 2, 2, 3, 12, 2, 4, 7, 2, 5, 2, 2, 2, 2, 2, 5, 2, 2, 2, 2, 3, 2, 4, 2, 2, 4, 4, 2, 3, 2, 2, 8, 3, 3, 5, 2, 4, 3, 2, 3, 2, 5, 2, 2, 3, 2, 2, 3, 3, 3, 2, 2, 3, 2, 2, 5, 2, 2, 2, 2, 2, 3, 2, 2, 2, 2, 3, 2, 2, 3, 2, 3, 3, 2, 10, 2, 3, 3, 2, 2, 2, 4, 2, 2, 2, 2, 2, 2, 2, 3, 3, 2, 2, 3, 2, 2, 2, 2, 2, 2, 2, 4, 2, 2, 2, 2, 5, 2, 2, 3, 2, 5, 3, 3, 2, 2, 3, 2, 4, 2, 2, 2, 2, 2, 3, 3, 2, 3, 3, 3, 2, 2, 3, 2, 4, 2, 2, 2, 2, 2, 3, 3, 2, 2, 3, 3, 2, 2, 2, 2, 2, 2, 2, 2, 3, 2, 4, 2, 2, 3, 2, 3, 3, 2, 2, 2, 2, 2, 2, 2, 2, 4, 3, 2, 2, 3, 2, 2, 3, 5, 2, 2, 2, 4, 3, 2, 3, 2, 3, 2, 3, 4, 2, 2, 2, 4, 2, 2, 3, 3, 3, 2, 3, 2, 2, 4, 2, 3, 2, 2, 3, 2, 3, 2, 2, 2, 3, 2, 2, 2, 2, 2, 3, 2, 2, 2, 8, 2, 2, 3, 3, 5, 2, 3, 4, 3, 2, 4, 3, 2, 2, 2, 2, 2, 2, 4, 2, 2, 3, 2, 4, 2, 5, 3, 2, 2, 2, 2, 2, 2, 3, 4, 2, 2, 2, 2, 2, 2, 2, 3, 2, 2, 2, 2, 2, 2, 4, 2, 2, 3, 2, 2, 2, 5, 3, 2, 2, 3, 2, 2, 3, 2, 2, 2, 2, 3, 3, 2, 2, 2, 2, 2, 2, 2, 4, 3, 2, 3, 2, 2, 2, 2, 2, 2, 2, 2, 2, 2, 2, 2, 2, 2, 2, 3, 2, 2, 3, 2, 2, 2, 2, 2, 4, 2, 2, 2, 3, 3, 5, 3, 2, 3, 4, 2, 4, 3, 3, 2, 5, 3, 2, 2, 3, 2, 3, 2, 2, 2, 4, 2, 2, 2, 3, 2, 2, 2, 5, 2, 5, 2, 3, 2, 6, 2, 2, 2, 2, 2, 3, 2, 2, 2, 3, 2, 2, 3, 2, 2, 2, 4, 2, 2, 2, 2, 2, 2, 2, 3, 3, 2, 3, 2, 3, 2, 3, 2, 4, 2, 2, 3, 2, 3, 2, 3, 2, 2, 3, 2, 2, 2, 3, 2, 2, 3, 6, 2, 2, 3, 2, 2, 2, 2, 2, 2, 2, 2, 2, 2, 2, 2, 3, 2, 2, 2, 4, 2, 3, 2, 2, 2, 3, 3, 2, 3, 4, 2, 4, 3, 3, 2, 2, 4, 2, 2, 2, 2, 2, 2, 2, 2, 2, 2, 2, 2, 4, 2, 2, 2, 2, 2, 2, 4, 2, 2, 6, 2, 3, 3, 2, 2, 2, 4, 2, 3, 2, 3, 2, 3, 2, 3, 2, 3, 3, 3, 3, 2, 2, 4, 2, 4, 9, 2, 2, 3, 2, 3, 2, 3, 2, 3, 3, 2, 3, 2, 2, 3, 2, 2, 2, 2, 3, 2, 2, 2, 2, 2, 3, 2, 2, 2, 2, 2, 2, 3, 4, 3, 6, 3, 2, 2, 2, 2, 3, 2, 2, 5, 2, 4, 2, 2, 3, 2, 2, 4, 3, 2, 2, 3, 3, 2, 4, 3, 2, 2, 2, 2, 2, 2, 2, 2, 5, 3, 2, 2, 2, 2, 4, 7, 2, 3, 2, 3, 6, 4, 2, 2, 2, 3, 3, 2, 3, 3, 2, 2, 2, 4, 2, 2, 2, 2, 3, 2, 6, 2, 2, 2, 2, 3, 2, 3, 2, 2, 2, 2, 2, 2, 2, 2, 2, 2, 2, 3, 2, 4, 2, 2, 2, 2, 2, 3, 2, 2, 3, 2, 2, 4, 6, 3, 3, 2, 2, 2, 4, 2, 2, 2, 2, 2, 2, 3, 3, 2, 2, 4, 2, 2, 2, 3, 4, 3, 3, 2, 2, 2, 3, 2, 2, 2, 2, 2, 4, 4, 2, 2, 2, 2, 3, 4, 2, 2, 2, 2, 5, 2, 2, 2, 2, 2, 2, 2, 2, 4, 2, 2, 2, 3, 2, 2, 3, 2, 2, 2, 2, 2, 3, 2, 2, 2, 4, 2, 2, 3, 2, 2, 2, 2, 3, 2, 2, 2, 6, 3, 3, 2, 5, 2, 2, 3, 3, 3, 2, 2, 2, 3, 4, 2, 3, 2, 2, 3, 2, 2, 2, 3, 4, 2, 2, 2, 3, 4, 2, 2, 2, 2, 2, 4, 2, 2, 2, 3, 3, 2, 2, 2, 6, 2, 2, 2, 3, 3, 3, 2, 2, 5, 2, 2, 2, 2, 2, 2, 3, 2, 4, 2, 3, 2, 2, 2, 3, 2, 2, 2, 2, 3, 2, 2, 2, 2, 2, 3, 3, 2, 2, 2, 2, 4, 2, 2, 2, 2, 2, 2, 3, 2, 2, 2, 2, 2, 2, 6, 3, 2, 6, 4, 2, 2, 3, 2, 4, 2, 2, 2, 2, 3, 2, 2, 2, 2, 2, 2, 2, 2, 2, 2, 2, 2, 3, 3, 2, 3, 4, 3, 3, 2, 4, 2, 2, 3, 3, 2, 2, 3, 2, 2, 2, 2, 3, 3, 2, 6, 3, 3, 2, 2, 2, 2, 2, 2, 2, 2, 2, 2, 2, 3, 2, 5, 3, 3, 2, 2, 2, 2, 2, 2, 3, 2, 4, 3, 2, 2, 3, 2, 7, 3, 2, 3, 3, 2, 2, 2, 2, 2, 2, 5, 2, 2, 2, 2, 2, 2, 2, 2, 2, 2, 2, 2, 2, 2, 2, 2, 2, 3, 2, 2, 2, 2, 2, 2, 5, 2, 2, 3, 2, 2, 3, 2, 3, 2, 3, 2, 2, 2, 2, 2, 2, 2, 2, 4, 2, 2, 2, 2, 2, 2, 2, 2, 3, 3, 2, 3, 3, 2, 2, 2, 2, 3, 2, 2, 2, 2, 2, 3, 2, 3, 3, 2, 4, 3, 2, 2, 2, 2, 3, 4, 2, 2, 2, 2, 2, 6, 2, 2, 5, 3, 2, 3, 3, 2, 2, 2, 2, 4, 2, 2, 2, 2, 3, 3, 3, 2, 2, 4, 2, 3, 2, 2, 3, 2, 2, 2, 2, 2, 2, 5, 2, 2, 2, 2, 2, 2, 2, 3, 2, 2, 4, 3, 2, 2, 2, 3, 2, 2, 2, 3, 4, 2, 2, 3, 2, 3, 2, 2, 2, 2, 3, 3, 3, 3, 3, 4, 2, 4, 2, 2, 2, 2, 2, 6, 5, 4, 2, 2, 3, 3, 2, 2, 3, 2, 2, 2, 2, 4, 3, 2, 2, 2, 2, 3, 4, 2, 2, 2, 3, 2, 2, 2, 3, 2, 2, 2, 3, 4, 3, 3, 2, 3, 2, 2, 5, 3, 2, 3, 2, 2, 2, 4, 2, 2, 2, 2, 4, 2, 3, 2, 2, 2, 2, 2, 3, 2, 2, 2, 2, 2, 3, 2, 2, 2, 2, 3, 3, 3, 2, 2, 2, 2, 2, 2, 2, 2, 2, 3, 4, 2, 2, 2, 3, 5, 2, 2, 2, 2, 2, 2, 4, 2, 3, 2, 2, 6, 4, 5, 5, 2, 4, 3, 2, 4, 2, 2, 2, 2, 2, 2, 2, 4, 4, 2, 2, 3, 2, 3, 2, 2, 2, 8, 2, 2, 3, 2, 2, 3, 2, 2, 2, 2, 5, 3, 2, 2, 2, 2, 2, 6, 2, 3, 2, 2, 2, 2, 4, 2, 2, 2, 2, 2, 2, 2, 3, 4, 3, 4, 2, 2, 3, 2, 2, 3, 2, 2, 7, 3, 2, 2, 2, 2, 2, 2, 2, 2, 6, 2, 2, 2, 3, 3, 2, 2, 2, 2, 3, 3, 2, 2, 2, 2, 2, 2, 2, 2, 5, 2, 2, 2, 2, 2, 2, 2, 2, 2, 2, 2, 3, 2, 3, 2, 3, 3, 3, 2, 2, 3, 2, 3, 2, 3, 2, 2, 2, 2, 2, 2, 3, 2, 2, 3, 3, 2, 3, 2, 3, 2, 3, 2, 2, 3, 2, 2, 2, 2, 2, 2, 2, 3, 2, 2, 3, 2, 2, 2, 2, 3, 2, 4, 2, 2, 2, 5, 4, 3, 3, 4, 2, 2, 2, 2, 2, 2, 4, 2, 4, 2, 2, 3, 2, 2, 3, 3, 2, 3, 2, 3, 3, 2, 2, 3, 2, 2, 2, 2, 3, 3, 2, 2, 4, 2, 2, 2, 2, 2, 6, 2, 2, 3, 2, 3, 2, 2, 2, 3, 3, 2, 2, 3, 3, 2, 2, 3, 2, 3, 3, 3, 2, 2, 2, 2, 2, 2, 4, 3, 4, 2, 2, 3, 3, 2, 2, 2, 4, 2, 3, 6, 2, 2, 2, 2, 2, 2, 3, 2, 2, 3, 2, 2, 4, 2, 2, 3, 3, 6, 2, 2, 2, 2, 3, 3, 4, 2, 2, 2, 3, 2, 2, 3, 2, 2, 2, 3, 4, 2, 2, 3, 2, 2, 2, 2, 5, 2, 2, 6, 2, 2, 2, 2, 2, 2, 6, 2, 2, 2, 2, 3, 2, 2, 2, 2, 2, 2, 2, 2, 2, 2, 2, 3, 3, 2, 3, 2, 4, 2, 2, 3, 2, 2, 2, 2, 5, 2, 2, 2, 2, 2, 3, 2, 3, 2, 2, 2, 3, 2, 4, 4, 4, 2, 2, 2, 2, 3, 2, 2, 2, 2, 2, 2, 2, 4, 2, 3, 2, 2, 3, 3, 3, 3, 2, 2, 2, 2, 5, 2, 4, 2, 2, 2, 2, 4, 3, 2, 2, 3, 2, 2, 2, 4, 2, 2, 2, 2, 2, 2, 2, 2, 2, 2, 2, 2, 3, 2, 4, 2, 2, 2, 2, 2, 2, 2, 3, 2, 2, 2, 3, 2, 2, 2, 2, 2, 2, 3, 3, 2, 3, 2, 2, 2, 2, 2, 2, 2, 2, 2, 2, 2, 2, 2, 2, 2, 2, 2, 3, 3, 2, 2, 3, 2, 3, 2, 2, 2, 4, 2, 3, 3, 2, 2, 9, 2, 2, 2, 3, 2, 2, 2, 2, 3, 2, 3, 2, 2, 3, 3, 2, 2, 2, 3, 2, 2, 2, 2, 3, 2, 3, 2, 2, 2, 3, 2, 2, 2, 2, 2, 2, 3, 3, 2, 4, 2, 2, 2, 2, 3, 2, 2, 2, 3, 3, 3, 2, 2, 2, 2, 3, 2, 2, 2, 2, 2, 2, 2, 2, 2, 2, 2, 2, 3, 2, 2, 2, 2, 2, 4, 5, 2, 4, 2, 2, 2, 2, 2, 2, 2, 2, 3, 2, 3, 3, 4, 2, 2, 3, 2, 3, 2, 2, 2, 3, 2, 2, 2, 2, 3, 2, 2, 2, 3, 3, 2, 2, 2, 2, 2, 2, 2, 2, 4, 2, 6, 3, 2, 2, 2, 2, 3, 2, 2, 3, 2, 2, 2, 3, 2, 2, 2, 4, 2, 2, 2, 5, 2, 2, 2, 2, 2, 3, 3, 3, 3, 4, 5, 2, 2, 3, 2, 2, 4, 2, 3, 2, 3, 2, 2, 2, 2, 4, 2, 2, 4, 3, 2, 3, 2, 2, 2, 2, 2, 2, 2, 2, 3, 3, 2, 2, 2, 2, 2, 2, 4, 2, 2, 2, 3, 2, 2, 2, 2, 3, 2, 2, 2, 2, 3, 2, 3, 3, 2, 7, 2, 2, 2, 3, 3, 2, 2, 2, 3, 4, 2, 2, 2, 3, 2, 2, 4, 2, 2, 3, 3, 4, 2, 4, 3, 2, 2, 2, 2, 2, 3, 4, 4, 3, 2, 2, 3, 2, 2, 2, 3, 2, 2, 2, 2, 2, 2, 2, 2, 2, 2, 3, 3, 3, 2, 2, 2, 2, 2, 3, 2, 2, 2, 4, 2, 2, 2, 3, 2, 2, 3, 2, 2, 4, 2, 2, 2, 2, 2, 2, 3, 2, 3, 2, 2, 3, 2, 6, 2, 2, 2, 2, 2, 2, 4, 3, 2, 2, 2, 4, 2, 3, 3, 2, 2, 2, 2, 2, 2, 2, 2, 2, 2, 2, 2, 2, 3, 2, 3, 2, 2, 2, 2, 2, 2, 2, 2, 2, 3, 2, 2, 2, 5, 3, 2, 3, 2, 3, 2, 2, 2, 2, 2, 2, 2, 2, 3, 5, 2, 2, 3, 2, 2, 2, 3, 2, 2, 2, 2, 2, 3, 3, 2, 2, 2, 3, 2, 3, 2, 2, 2, 3, 2, 2, 2, 2, 2, 3, 2, 3, 2, 2, 2, 2, 2, 2, 2, 2, 2, 2, 2, 4, 2, 3, 3, 2, 2, 2, 4, 4, 4, 3, 3, 2, 3, 3, 2, 2, 2, 2, 2, 2, 2, 3, 3, 2, 2, 3, 3, 2, 2, 2, 3, 4, 4, 2, 2, 2, 2, 2, 3, 2, 2, 4, 2, 2, 2, 2, 2, 3, 5, 3, 2, 3, 3, 2, 5, 4, 3, 3, 3, 3, 2, 2, 2, 2, 2, 2, 2, 2, 2, 2, 2, 2, 2, 2, 2, 3, 4, 3, 2, 2, 2, 2, 2, 2, 2, 2, 3, 3, 2, 4, 2, 3, 2, 2, 2, 2, 2, 2, 2, 4, 2, 2, 3, 2, 2, 4, 3, 2, 3, 2, 2, 2, 2, 2, 4, 2, 2, 2, 3, 3, 3, 3, 3, 2, 2, 2, 3, 4, 2, 2, 2, 3, 3, 2, 2, 2, 3, 2, 2, 2, 2, 2, 3, 3, 2, 3, 3, 2, 2, 2, 2, 3, 2, 2, 2, 3, 2, 2, 2, 2, 3, 2, 2, 2, 3, 2, 5, 2, 3, 2, 2, 2, 2, 2, 2, 3, 3, 2, 4, 3, 2, 3, 2, 2, 2, 2, 2, 4, 2, 2, 2, 3, 2, 2, 2, 2, 3, 2, 3, 3, 3, 2, 2, 3, 3, 3, 3, 2, 4, 2, 2, 3, 2, 2, 3, 3, 2, 2, 2, 2, 2, 2, 2, 2, 3, 2, 3, 2, 2, 2, 2, 2, 3, 2, 2, 3, 5, 2, 2, 2, 2, 3, 3, 2, 2, 2, 2, 2, 2, 2, 3, 2, 4, 3, 2, 2, 2, 2, 2, 2, 4, 2, 2, 2, 2, 2, 2, 2, 2, 2, 2, 3, 2, 2, 3, 2, 4, 2, 3, 2, 3, 2, 2, 2, 2, 2, 2, 3, 2, 2, 2, 3, 3, 5, 2, 2, 2, 2, 2, 2, 2, 2, 3, 3, 2, 2, 2, 3, 2, 7, 3, 2, 3, 3, 2, 3, 3, 2, 2, 2, 2, 2, 5, 2, 2, 2, 2, 4, 2, 2, 2, 2, 2, 3, 3, 2, 4, 2, 2, 2, 2, 2, 2, 6, 3, 2, 4, 2, 2, 3, 2, 2, 2, 2, 2, 2, 2, 2, 2, 3, 3, 2, 2, 2, 2, 2, 3, 2, 2, 2, 2, 3, 3, 3, 3, 2, 2, 3, 2, 2, 3, 5, 2, 2, 2, 2, 2, 2, 2, 2, 2, 2, 2, 2, 3, 2, 2, 2, 3, 2, 2, 2, 2, 2, 6, 2, 2, 2, 2, 2, 4, 2, 2, 2, 4, 2, 2, 2, 2, 2, 2, 3, 3, 2, 2, 2, 6, 3, 4, 2, 2, 2, 5, 2, 2, 2, 2, 2, 2, 2, 2, 3, 3, 3, 2, 2, 2, 3, 2, 3, 2, 2, 2, 2, 2, 2, 3, 2, 2, 2, 2, 3, 3, 2, 4, 2, 2, 2, 2, 2, 2, 2, 2, 2, 3, 2, 3, 2, 2, 3, 2, 2, 2, 2, 3, 2, 2, 2, 2, 2, 2, 2, 5, 2, 2, 2, 2, 2, 5, 2, 2, 3, 2, 2, 2, 2, 3, 2, 4, 2, 2, 2, 2, 4, 3, 2, 2, 3, 2, 2, 2, 2, 2, 2, 2, 2, 3, 2, 2, 2, 2, 2, 2, 2, 2, 2, 2, 3, 2, 2, 2, 3, 2, 2, 2, 3, 2, 2, 2, 2, 2, 2, 2, 2, 3, 2, 2, 2, 3, 6, 2, 3, 3, 5, 2, 3, 3, 2, 2, 2, 2, 2, 2, 3, 2, 2, 2, 2, 2, 2, 4, 2, 2, 3, 2, 2, 2, 2, 2, 4, 2, 2, 2, 4, 3, 4, 4, 3, 3, 2, 2, 2, 3, 2, 3, 4, 2, 2, 3, 2, 2, 2, 2, 4, 5, 2, 2, 2, 2, 2, 2, 3, 2, 2, 5, 2, 2, 2, 2, 2, 2, 2, 3, 3, 2, 2, 3, 2, 2, 2, 5, 3, 2, 2, 2, 2, 2, 3, 2, 2, 2, 3, 4, 2, 2, 2, 2, 2, 2, 2, 2, 2, 2, 2, 3, 2, 2, 4, 2, 2, 2, 2, 3, 4, 2, 2, 2, 2, 2, 2, 2, 2, 2, 6, 2, 2, 2, 2, 3, 2, 2, 3, 2, 2, 2, 2, 2, 2, 4, 2, 3, 2, 3, 2, 2, 2, 2, 2, 2, 3, 2, 2, 2, 2, 4, 2, 2, 3, 2, 2, 2, 2, 2, 2, 2, 3, 2, 2, 3, 2, 2, 2, 2, 2, 2, 4, 2, 2, 3, 2, 2, 4, 2, 2, 2, 2, 2, 2, 2, 2, 2, 2, 2, 2, 2, 2, 2, 2, 2, 2, 5, 4, 2, 3, 2, 2, 3, 2, 6, 2, 4, 2, 2, 2, 3, 2, 4, 2, 3, 2, 2, 5, 3, 2, 2, 2, 2, 3, 2, 2, 2, 2, 2, 2, 4, 2, 2, 2, 4, 2, 2, 2, 4, 3, 4, 2, 2, 2, 2, 2, 2, 2, 2, 3, 2, 2, 2, 2, 2, 3, 2, 3, 2, 3, 3, 3, 2, 2, 2, 2, 2, 2, 2, 2, 3, 3, 2, 2, 2, 4, 4, 2, 3, 2, 2, 2, 2, 2, 4, 4, 2, 2, 2, 2, 2, 3, 2, 5, 2, 2, 2, 2, 2, 4, 2, 2, 2, 2, 3, 2, 3, 2, 3, 2, 2, 2, 2, 2, 2, 2, 4, 2, 2, 3, 3, 2, 2, 3, 2, 3, 2, 2, 2, 2, 2, 3, 3, 2, 2, 2, 2, 2, 2, 2, 2, 3, 2, 2, 2, 2, 2, 2, 2, 2, 2, 2, 2, 2, 2, 2, 2, 5, 5, 2, 2, 2, 2, 2, 3, 2, 2, 2, 2, 2, 5, 2, 3, 2, 2, 2, 2, 2, 3, 2, 2, 2, 2, 2, 2, 2, 2, 3, 2, 4, 2, 2, 2, 2, 2, 2, 2, 2, 2, 3, 3, 2, 2, 2, 2, 2, 2, 2, 2, 2, 2, 4, 4, 2, 2, 2, 3, 2, 3, 3, 2, 2, 2, 2, 2, 2, 2, 2, 2, 2, 2, 2, 2, 2, 2, 2, 2, 2, 3, 2, 2, 2, 2, 3, 5, 2, 2, 3, 2, 2, 2, 4, 2, 2, 2, 3, 3, 2, 2, 3, 2, 2, 2, 2, 2, 2, 2, 2, 3, 2, 2, 2, 2, 4, 2, 3, 2, 2, 2, 2, 2, 2, 3, 2, 3, 3, 2, 3, 2, 2, 3, 2, 5, 3, 3, 3, 2, 2, 2, 2, 3, 2, 2, 2, 3, 2, 2, 2, 2, 2, 3, 2, 4, 2, 2, 3, 2, 3, 2, 2, 3, 3, 3, 2, 2, 2, 2, 2, 2, 3, 2, 4, 3, 3, 2, 2, 2, 3, 2, 4, 2, 3, 2, 2, 2, 3, 2, 2, 2, 2, 2, 2, 2, 2, 2, 2, 4, 2, 2, 2, 2, 4, 2, 2, 2, 2, 3, 2, 2, 3, 2, 2, 2, 3, 2, 2, 2, 2, 2, 2, 2, 3, 2, 2, 2, 2, 2, 2, 2, 2, 2, 2, 2, 2, 2, 5, 5, 3, 2, 3, 2, 2, 2, 2, 2, 3, 2, 3, 2, 2, 2, 2, 2, 2, 2, 4, 3, 2, 2, 3, 3, 2, 2, 2, 2, 2, 2, 2, 2, 3, 2, 3, 2, 3, 2, 3, 3, 3, 2, 2, 3, 2, 2, 3, 2, 2, 2, 2, 2, 2, 2, 2, 3, 2, 2, 2, 2, 3, 2, 2, 2, 3, 3, 2, 2, 2, 4, 2, 2, 2, 2, 2, 2, 2, 3, 2, 2, 2, 2, 2, 2, 2, 3, 3, 2, 2, 3, 3, 2, 3, 2, 2, 3, 4, 2, 3, 2, 2, 2, 2, 3, 4, 2, 3, 2, 2, 2, 2, 2, 2, 3, 2, 2, 2, 2, 2, 2, 4, 2, 3, 2, 3, 3, 2, 2, 2, 2, 2, 2, 2, 2, 2, 2, 3, 3, 3, 2, 3, 2, 2, 2, 2, 2, 3, 3, 2, 2, 2, 2, 2, 2, 2, 2, 2, 3, 2, 2, 2, 2, 2, 2, 3, 2, 2, 2, 3, 4, 2, 2, 2, 2, 3, 2, 2, 2, 2, 3, 2, 4, 2, 2, 2, 2, 2, 2, 2, 4, 2, 2, 2, 5, 2, 2, 5, 2, 2, 2, 3, 2, 2, 2, 2, 4, 2, 3, 4, 4, 5, 4, 3, 2, 2, 2, 2, 3, 2, 2, 2, 3, 2, 2, 2, 2, 2, 2, 4, 2, 2, 2, 2, 2, 2, 2, 4, 2, 2, 3, 3, 3, 3, 2, 2, 3, 2, 2, 4, 2, 2, 3, 2, 2, 2, 2, 2, 2, 4, 3, 2, 4, 2, 2, 2, 2, 3, 3, 2, 3, 2, 2, 2, 2, 2, 2, 3, 4, 3, 2, 2, 2, 2, 2, 2, 4, 3, 4, 2, 3, 2, 2, 2, 2, 2, 4, 2, 3, 4, 2, 3, 2, 2, 4, 2, 2, 2, 3, 2, 2, 2, 4, 2, 2, 2, 2, 2, 5, 2, 3, 2, 2, 3, 2, 2, 2, 3, 2, 2, 2, 4, 2, 3, 2, 3, 2, 2, 3, 4, 3, 4, 3, 2, 2, 3, 3, 2, 2, 2, 2, 2, 3, 2, 2, 2, 2, 2, 2, 2, 2, 2, 3, 3, 2, 2, 2, 3, 2, 2, 2, 2, 3, 2, 2, 2, 2, 3, 5, 2, 3, 2, 2, 3, 2, 2, 3, 5, 3, 4, 3, 2, 2, 2, 2, 3, 2, 3, 2, 3, 2, 2, 2, 2, 2, 3, 2, 3, 4, 2, 2, 2, 3, 2, 2, 5, 2, 2, 2, 2, 4, 2, 2, 5, 2, 2, 2, 2, 2, 2, 2, 2, 2, 2, 2, 2, 3, 2, 2, 2, 2, 2, 2, 2, 2, 2, 2, 4, 3, 4, 3, 2, 2, 2, 2, 2, 3, 2, 2, 2, 2, 2, 2, 2, 4, 2, 3, 2, 3, 2, 2, 3, 2, 2, 2, 2, 2, 2, 3, 4, 2, 4, 2, 2, 2, 2, 2, 2, 2, 2, 2, 2, 2, 2, 2, 3, 2, 2, 2, 2, 3, 2, 4, 2, 2, 2, 2, 2, 2, 2, 2, 3, 2, 3, 2, 2, 2, 2, 2, 2, 3, 3, 2, 2, 3, 3, 2, 2, 3, 2, 2, 2, 3, 2, 2, 2, 2, 2, 2, 3, 2, 2, 2, 2, 2, 2, 2, 3, 2, 2, 2, 4, 2, 2, 4, 2, 2, 2, 2, 2, 2, 2, 2, 2, 2, 4, 4, 2, 2, 2, 2, 2, 2, 3, 3, 2, 2, 2, 2, 4, 3, 2, 2, 2, 3, 3, 2, 2, 2, 2, 2, 2, 2, 3, 2, 2, 4, 3, 2, 3, 2, 2, 2, 2, 2, 2, 3, 2, 3, 2, 2, 2, 2, 3, 2, 2, 2, 2, 3, 2, 2, 2, 4, 2, 3, 3, 2, 3, 2, 2, 2, 2, 2, 4, 2, 2, 2, 3, 2, 2, 2, 2, 2, 2, 2, 3, 2, 2, 4, 4, 2, 2, 2, 3, 5, 2, 2, 4, 2, 2, 2, 2, 5, 2, 3, 3, 2, 2, 3, 2, 3, 2, 2, 3, 3, 2, 2, 2, 2, 2, 2, 2, 4, 2, 2, 2, 2, 2, 4, 3, 2, 3, 2, 2, 2, 4, 2, 2, 2, 2, 2, 4, 3, 3, 4, 2, 2, 2, 2, 3, 3, 2, 3, 2, 2, 2, 2, 2, 2, 2, 5, 2, 2, 3, 2, 2, 2, 2, 3, 2, 2, 3, 4, 2, 2, 2, 2, 2, 3, 2, 2, 2, 3, 4, 2, 2, 2, 2, 2, 2, 3, 2, 2, 2, 3, 4, 2, 3, 2, 2, 3, 2, 2, 2, 2, 2, 2, 2, 3, 2, 2, 6, 3, 2, 2, 2, 2, 2, 2, 2, 2, 2, 3, 3, 2, 2, 2, 2, 2, 2, 2, 3, 2, 2, 2, 2, 3, 2, 3, 3, 2, 2, 2, 2, 4, 3, 4, 2, 4, 2, 2, 2, 2, 3, 3, 2, 2, 3, 2, 6, 2, 2, 2, 2, 3, 2, 3, 3, 2, 2, 3, 4, 2, 3, 3, 3, 4, 2, 2, 2, 3, 2, 3, 2, 3, 2, 4, 2, 3, 3, 3, 2, 2, 2, 2, 6, 4, 4, 2, 2, 2, 2, 2, 3, 2, 2, 2, 3, 2, 2, 3, 2, 3, 2, 2, 2, 2, 2, 2, 2, 2, 3, 2, 2, 3, 2, 3, 2, 2, 2, 2, 3, 2, 2, 2, 5, 4, 2, 2, 2, 2, 3, 2, 2, 3, 2, 2, 2, 3, 4, 2, 2, 2, 4, 2, 2, 2, 3, 6, 6, 2, 2, 2, 3, 2, 2, 2, 2, 3, 2, 3, 3, 2, 2, 2, 2, 2, 3, 2, 2, 3, 2, 3, 2, 5, 2, 3, 3, 3, 2, 3, 2, 2, 4, 2, 2, 3, 2, 2, 4, 3, 2, 2, 2, 2, 2, 5, 2, 2, 4, 2, 2, 3, 2, 2, 3, 3, 3, 2, 3, 2, 2, 2, 3, 2, 2, 2, 2, 3, 2, 3, 2, 2, 3, 2, 2, 2, 3, 2, 3, 4, 2, 4, 2, 2, 2, 2, 2, 2, 3, 5, 4, 2, 3, 2, 2, 2, 2, 2, 2, 2, 4, 3, 2, 3, 2, 2, 2, 2, 2, 2, 2, 3, 2, 2, 2, 2, 3, 3, 4, 5, 2, 2, 5, 3, 3, 2, 2, 2, 2, 2, 2, 2, 3, 2, 3, 2, 2, 5, 2, 2, 3, 2, 2, 2, 2, 2, 2, 2, 2, 2, 2, 2, 2, 2, 2, 2, 3, 2, 4, 2, 2, 2, 2, 2, 2, 2, 3, 2, 2, 2, 3, 4, 2, 3, 4, 2, 2, 2, 4, 2, 2, 2, 3, 2, 2, 2, 2, 3, 2, 2, 2, 4, 3, 2, 2, 2, 3, 2, 2, 2, 2, 2, 2, 3, 2, 3, 3, 2, 2, 3, 4, 2, 2, 2, 3, 2, 2, 2, 3, 2, 3, 3, 2, 2, 3, 2, 2, 3, 3, 2, 4, 3, 2, 2, 2, 2, 2, 4, 4, 2, 2, 5, 2, 3, 4, 4, 2, 2, 2, 2, 2, 2, 2, 3, 2, 2, 3, 3, 2, 2, 3, 3, 2, 2, 2, 2, 2, 2, 2, 2, 2, 2, 2, 3, 2, 2, 5, 2, 2, 2, 2, 2, 2, 2, 3, 2, 2, 2, 2, 2, 2, 2, 2, 4, 4, 2, 2, 2, 3, 3, 2, 3, 3, 2, 3, 3, 2, 2, 2, 2, 3, 2, 2, 2, 2, 2, 3, 2, 2, 2, 2, 3, 2, 2, 2, 2, 2, 3, 3, 3, 2, 2, 2, 2, 2, 5, 2, 2, 2, 2, 2, 2, 2, 2, 2, 2, 2, 2, 3, 2, 3, 2, 2, 2, 2, 4, 3, 2, 2, 2, 2, 2, 3, 2, 2, 2, 2, 3, 3, 2, 2, 2, 3, 3, 2, 2, 3, 2, 2, 2, 2, 2, 2, 4, 2, 3, 2, 2, 2, 2, 2, 2, 2, 2, 3, 2, 2, 2, 2, 3, 2, 2, 2, 2, 2, 4, 2, 2, 2, 4, 2, 2, 3, 3, 2, 2, 2, 2, 2, 3, 2, 2, 2, 2, 3, 2, 2, 2, 2, 2, 2, 2, 3, 2, 2, 3, 2, 2, 2, 2, 2, 3, 2, 3, 2, 2, 5, 2, 2, 2, 2, 2, 3, 3, 2, 3, 2, 4, 3, 3, 3, 3, 4, 2, 2, 3, 2, 2, 2, 2, 2, 2, 2, 2, 2, 3, 2, 2, 2, 2, 2, 3, 2, 2, 2, 3, 2, 2, 2, 2, 2, 2, 2, 3, 5, 3, 2, 3, 2, 3, 2, 2, 6, 2, 2, 2, 2, 2, 4, 2, 2, 2, 2, 2, 3, 2, 3, 4, 2, 3, 2, 2, 2, 2, 2, 2, 2, 2, 2, 2, 2, 3, 2, 2, 2, 2, 2, 2, 3, 2, 3, 3, 2, 3, 2, 2, 2, 2, 2, 2, 2, 2, 2, 2, 2, 2, 2, 2, 2, 2, 2, 2, 4, 2, 2, 2, 3, 3, 2, 3, 2, 3, 5, 4, 3, 3, 2, 2, 2, 2, 2, 2, 2, 2, 2, 2, 2, 3, 2, 2, 3, 2, 2, 5, 2, 2, 2, 2, 3, 3, 2, 2, 2, 2, 2, 2, 2, 3, 2, 3, 2, 2, 2, 2, 2, 2, 2, 2, 3, 2, 2, 2, 2, 2, 2, 2, 3, 3, 2, 2, 2, 2, 2, 2, 2, 3, 2, 2, 2, 2, 2, 5, 2, 2, 2, 2, 3, 2, 2, 2, 2, 2, 2, 3, 2, 2, 3, 2, 4, 2, 3, 2, 2, 2, 2, 2, 3, 2, 3, 2, 2, 2, 4, 2, 2, 3, 2, 4, 2, 2, 2, 2, 2, 3, 2, 2, 4, 2, 2, 2, 2, 2, 3, 2, 3, 2, 2, 2, 2, 2, 2, 2, 2, 2, 3, 2, 2, 2, 2, 2, 2, 2, 2, 4, 2, 2, 2, 2, 2, 2, 5, 3, 2, 2, 2, 2, 4, 3, 2, 2, 2, 2, 3, 3, 3, 3, 2, 2, 2, 2, 2, 2, 2, 2, 2, 2, 2, 2, 2, 3, 2, 2, 2, 3, 2, 2, 3, 6, 2, 2, 2, 2, 2, 2, 3, 2, 2, 2, 3, 2, 2, 2, 2, 2, 5, 2, 2, 3, 3, 2, 2, 3, 2, 2, 2, 2, 2, 2, 4, 2, 2, 2, 3, 3, 2, 4, 2, 2, 4, 2, 2, 2, 2, 2, 2, 2, 3, 2, 2, 3, 2, 2, 2, 2, 2, 3, 2, 3, 2, 2, 2, 2, 5, 2, 2, 2, 2, 2, 2, 2, 2, 3, 2, 2, 3, 2, 2, 2, 2, 2, 2, 3, 2, 2, 2, 2, 2, 3, 2, 3, 3, 3, 2, 2, 2, 2, 2, 2, 2, 2, 3, 3, 2, 3, 2, 2, 2, 2, 2, 2, 2, 2, 2, 3, 2, 3, 3, 2, 2, 2, 2, 3, 2, 2, 2, 2, 2, 3, 2, 3, 2, 2, 2, 2, 3, 2, 2, 3, 2, 2, 2, 2, 4, 5, 2, 2, 2, 2, 4, 3, 3, 3, 3, 2, 2, 3, 2, 2, 2, 2, 2, 3, 3, 2, 2, 2, 2, 3, 2, 2, 2, 2, 2, 2, 2, 4, 2, 2, 2, 2, 2, 2, 2, 6, 5, 3, 2, 2, 2, 2, 3, 2, 2, 2, 2, 2, 2, 5, 2, 4, 2, 3, 3, 3, 2, 2, 7, 2, 3, 2, 2, 2, 2, 3, 2, 3, 2, 3, 2, 2, 2, 2, 2, 4, 3, 2, 4, 2, 2, 2, 4, 2, 3, 2, 2, 4, 2, 4, 2, 2, 2, 2, 2, 3, 2, 2, 2, 2, 2, 2, 2, 2, 2, 2, 2, 3, 2, 3, 2, 5, 2, 2, 3, 2, 2, 2, 2, 2, 2, 2, 3, 2, 2, 2, 2, 2, 2, 2, 2, 2, 2, 2, 2, 2, 2, 2, 2, 2, 2, 3, 2, 2, 2, 2, 4, 4, 2, 2, 3, 3, 3, 2, 2, 3, 2, 4, 2, 2, 2, 4, 2, 2, 2, 2, 2, 2, 2, 2, 3, 2, 2, 3, 2, 2, 2, 2, 3, 2, 4, 2, 2, 2, 2, 2, 2, 2, 2, 2, 2, 2, 2, 2, 4, 2, 3, 2, 2, 2, 3, 5, 3, 2, 4, 2, 3, 2, 3, 2, 3, 2, 2, 2, 3, 3, 2, 3, 2, 2, 2, 2, 2, 2, 4, 2, 2, 2, 2, 3, 3, 4, 2, 2, 4, 2, 4, 2, 2, 2, 2, 2, 3, 2, 2, 2, 2, 4, 2, 2, 3, 2, 2, 2, 2, 3, 2, 2, 2, 2, 2, 2, 2, 2, 2, 3, 2, 2, 2, 2, 3, 2, 2, 2, 4, 2, 2, 2, 2, 3, 2, 3, 2, 2, 2, 2, 2, 2, 2, 2, 3, 2, 2, 3, 2, 2, 2, 2, 2, 4, 3, 2, 4, 2, 2, 2, 3, 2, 2, 2, 2, 2, 3, 2, 2, 2, 3, 2, 2, 3, 2, 2, 2, 2, 2, 3, 3, 2, 2, 2, 3, 2, 5, 3, 4, 3, 4, 3, 2, 2, 3, 2, 2, 3, 3, 2, 2, 2, 3, 2, 2, 2, 3, 2, 2, 4, 2, 4, 2, 2, 2, 2, 2, 3, 2, 2, 2, 3, 2, 2, 2, 3, 2, 3, 2, 2, 2, 2, 2, 2, 2, 3, 2, 2, 2, 2, 2, 2, 2, 2, 3, 2, 2, 2, 2, 3, 2, 3, 3, 2, 2, 2, 2, 3, 2, 2, 2, 2, 3, 4, 2, 2, 2, 6, 2, 2, 2, 2, 3, 5, 2, 2, 2, 3, 3, 2, 2, 2, 2, 3, 3, 2, 2, 3, 3, 2, 2, 2, 2, 2, 2, 3, 2, 2, 2, 2, 3, 3, 2, 2, 2, 4, 2, 2, 4, 2, 3, 3, 2, 2, 2, 2, 2, 2, 4, 4, 2, 2, 2, 2, 2, 2, 2, 2, 2, 3, 2, 2, 2, 2, 2, 2, 2, 2, 2, 2, 3, 2, 2, 2, 2, 2, 2, 2, 2, 2, 2, 3, 3, 2, 2, 2, 2, 2, 3, 2, 4, 2, 2, 3, 2, 3, 2, 2, 2, 2, 2, 2, 2, 2, 2, 2, 2, 4, 3, 2, 2, 2, 2, 3, 2, 2, 4, 2, 2, 3, 2, 2, 2, 3, 2, 2, 2, 2, 2, 2, 3, 2, 2, 3, 2, 2, 2, 2, 2, 4, 2, 2, 2, 2, 3, 4, 3, 3, 4, 2, 2, 2, 2, 3, 2, 4, 2, 2, 2, 3, 3, 2, 2, 3, 4, 2, 2, 2, 2, 2, 2, 3, 3, 3, 2, 2, 2, 2, 3, 2, 2, 2, 2, 3, 3, 2, 2, 3, 2, 2, 2, 3, 2, 2, 2, 2, 2, 2, 2, 2, 2, 2, 2, 2, 2, 5, 3, 2, 2, 2, 2, 2, 2, 2, 2, 3, 2, 2, 2, 2, 2, 2, 3, 2, 2, 2, 2, 2, 2, 2, 2, 2, 2, 2, 2, 2, 2, 2, 2, 2, 3, 2, 2, 2, 2, 2, 2, 2, 2, 2, 2, 2, 2, 3, 3, 4, 2, 6, 2, 2, 2, 2, 2, 3, 2, 2, 2, 2, 2, 3, 2, 2, 3, 4, 2, 4, 2, 2, 3, 2, 3, 3, 2, 2, 2, 2, 2, 3, 3, 2, 3, 2, 3, 5, 2, 2, 3, 2, 2, 2, 3, 6, 2, 2, 2, 2, 2, 3, 2, 2, 3, 2, 2, 3, 2, 2, 2, 3, 2, 2, 2, 2, 2, 2, 2, 2, 3, 2, 2, 2, 2, 2, 2, 2, 2, 2, 2, 2, 3, 3, 3, 2, 2, 2, 2, 3, 2, 2, 2, 2, 2, 2, 2, 3, 2, 4, 2, 2, 2, 3, 2, 3, 3, 2, 2, 2, 4, 4, 2, 3, 2, 2, 2, 2, 2, 2, 3, 2, 2, 2, 2, 2, 2, 2, 2, 3, 6, 2, 2, 2, 3, 4, 2, 2, 2, 2, 2, 2, 3, 2, 2, 2, 2, 2, 2, 2, 2, 2, 2, 2, 3, 2, 2, 3, 2, 2, 2, 2, 4, 2, 2, 2, 2, 3, 2, 2, 2, 2, 2, 2, 2, 2, 2, 2, 3, 5, 3, 5, 5, 2, 4, 2, 2, 2, 2, 3, 3, 3, 5, 2, 3, 3, 2, 3, 2, 3, 3, 3, 2, 2, 2, 3, 2, 2, 2, 2, 2, 2, 2, 5, 4, 2, 2, 4, 2, 2, 2, 2, 2, 2, 3, 2, 5, 2, 2, 3, 2, 2, 3, 2, 2, 2, 2, 2, 2, 6, 2, 4, 2, 2, 2, 2, 2, 2, 2, 3, 2, 3, 2, 2, 3, 2, 2, 3, 3, 2, 3, 3, 2, 2, 2, 2, 2, 2, 3, 3, 2, 2, 2, 3, 2, 2, 2, 2, 2, 2, 2, 2, 2, 3, 2, 2, 2, 2, 2, 2, 2, 4, 2, 2, 2, 3, 3, 3, 2, 3, 2, 2, 2, 2, 3, 2, 3, 3, 3, 2, 2, 2, 3, 2, 2, 2, 2, 2, 2, 2, 2, 2, 2, 2, 2, 4, 3, 2, 2, 2, 2, 2, 2, 2, 2, 2, 3, 3, 2, 2, 2, 2, 2, 2, 2, 3, 2, 2, 4, 2, 2, 2, 3, 2, 2, 2, 2, 3, 4, 2, 2, 2, 2, 3, 2, 2, 2, 2, 2, 2, 2, 2, 2, 2, 2, 2, 2, 2, 2, 2, 2, 2, 3, 2, 2, 2, 2, 2, 3, 3, 2, 2, 2, 2, 2, 3, 2, 2, 3, 4, 2, 2, 2, 2, 2, 2, 3, 2, 3, 3, 3, 2, 2, 3, 2, 3, 2, 2, 2, 3, 2, 2, 2, 3, 2, 2, 3, 2, 2, 2, 2, 2, 2, 2, 3, 2, 2, 2, 2, 4, 2, 2, 2, 2, 4, 2, 4, 2, 2, 3, 3, 3, 2, 2, 2, 2, 3, 2, 3, 2, 2, 5, 2, 4, 2, 2, 2, 4, 2, 2, 2, 2, 2, 2, 2, 2, 4, 2, 2, 3, 2, 2, 3, 3, 3, 3, 2, 2, 2, 2, 2, 3, 3, 2, 4, 2, 2, 2, 2, 3, 2, 2, 2, 3, 2, 2, 2, 2, 2, 2, 2, 3, 2, 2, 2, 2, 4, 3, 2, 2, 3, 4, 2, 2, 2, 2, 2, 2, 2, 3, 2, 3, 3, 2, 2, 4, 2, 2, 2, 2, 3, 2, 3, 3, 2, 2, 2, 2, 2, 2, 3, 4, 2, 2, 3, 2, 4, 2, 3, 2, 2, 2, 3, 2, 3, 2, 2, 2, 4, 2, 2, 3, 2, 3, 2, 2, 2, 2, 5, 3, 3, 2, 2, 3, 2, 2, 2, 3, 2, 2, 2, 2, 2, 2, 3, 2, 2, 2, 3, 2, 2, 2, 5, 2, 3, 2, 2, 3, 6, 2, 2, 2, 2, 2, 2, 2, 4, 3, 2, 2, 3, 2, 3, 3, 2, 2, 3, 2, 2, 2, 2, 2, 3, 3, 2, 2, 2, 2, 2, 2, 3, 2, 2, 2, 2, 2, 4, 2, 2, 2, 2, 2, 2, 3, 2, 2, 2, 2, 4, 3, 2, 2, 3, 4, 3, 3, 2, 3, 2, 2, 2, 2, 4, 3, 3, 2, 2, 2, 2, 3, 2, 2, 2, 2, 2, 2, 2, 2, 2, 3, 2, 2, 2, 3, 2, 3, 2, 2, 2, 2, 2, 2, 2, 2, 2, 2, 2, 2, 2, 2, 2, 2, 3, 2, 2, 3, 2, 2, 2, 2, 2, 2, 2, 2, 2, 3, 4, 2, 3, 2, 2, 2, 3, 3, 2, 2, 2, 3, 3, 2, 2, 3, 2, 3, 3, 3, 2, 2, 4, 2, 2, 3, 2, 2, 4, 3, 2, 2, 2, 2, 2, 3, 3, 3, 2, 3, 2, 3, 2, 2, 3, 2, 2, 4, 3, 3, 2, 2, 2, 2, 2, 2, 4, 2, 2, 4, 2, 3, 3, 2, 3, 2, 2, 2, 2, 2, 3, 2, 2, 2, 3, 5, 4, 3, 2, 2, 2, 3, 2, 5, 3, 5, 2, 2, 2, 3, 2, 2, 3, 3, 3, 2, 2, 2, 2, 3, 2, 3, 4, 3, 2, 4, 2, 2, 2, 2, 2, 2, 3, 2, 4, 3, 2, 2, 2, 2, 2, 2, 3, 2, 2, 2, 2, 2, 2, 2, 4, 3, 3, 2, 3, 2, 2, 2, 2, 3, 5, 3, 2, 2, 2, 3, 3, 2, 2, 2, 2, 2, 2, 2, 2, 2, 2, 2, 2, 2, 2, 2, 2, 2, 2, 2, 3, 2, 2, 2, 2, 2, 2, 2, 2, 2, 2, 3, 3, 3, 2, 2, 2, 2, 3, 2, 2, 2, 2, 2, 2, 2, 2, 2, 3, 2, 2, 2, 2, 2, 2, 2, 2, 2, 2, 3, 2, 3, 2, 2, 2, 2, 2, 2, 2, 2, 2, 2, 2, 2, 2, 2, 2, 2, 5, 2, 2, 5, 2, 2, 2, 2, 2, 2, 2, 3, 2, 2, 2, 3, 5, 2, 2, 3, 4, 2, 2, 2, 2, 2, 2, 2, 2, 2, 2, 2, 3, 3, 2, 2, 2, 2, 2, 3, 2, 2, 2, 2, 2, 2, 3, 2, 2, 3, 2, 2, 2, 2, 4, 2, 2, 2, 2, 2, 2, 2, 2, 2, 2, 2, 2, 3, 5, 3, 2, 2, 2, 2, 3, 2, 4, 2, 5, 3, 2, 2, 2, 2, 2, 3, 2, 2, 2, 2, 2, 2, 7, 2, 2, 2, 2, 2, 3, 2, 2, 3, 2, 2, 3, 2, 3, 2, 3, 2, 2, 2, 2, 2, 2, 2, 3, 2, 2, 3, 2, 2, 2, 2, 2, 3, 2, 3, 3, 3, 3, 2, 2, 2, 2, 3, 2, 2, 2, 2, 2, 2, 2, 2, 2, 2, 3, 2, 2, 2, 2, 2, 2, 2, 2, 8, 2, 2, 3, 2, 3, 2, 2, 2, 2, 4, 3, 2, 2, 2, 3, 2, 2, 3, 4, 3, 2, 2, 2, 2, 2, 3, 2, 2, 2, 3, 2, 2, 2, 2, 2, 2, 2, 2, 2, 2, 4, 2, 2, 2, 2, 4, 2, 2, 2, 2, 3, 3, 3, 2, 2, 2, 2, 3, 2, 2, 3, 2, 2, 2, 2, 2, 2, 3, 2, 2, 4, 2, 2, 2, 4, 2, 2, 2, 3, 2, 2, 4, 2, 2, 2, 2, 2, 2, 2, 2, 3, 2, 2, 3, 2, 2, 2, 2, 2, 2, 2, 2, 2, 2, 2, 2, 4, 3, 3, 2, 2, 2, 2, 3, 2, 2, 3, 2, 3, 2, 2, 2, 2, 4, 2, 2, 4, 2, 2, 2, 2, 2, 2, 4, 2, 2, 2, 5, 2, 2, 2, 3, 2, 4, 2, 2, 3, 2, 2, 2, 2, 2, 3, 2, 2, 2, 2, 2, 2, 2, 2, 4, 2, 3, 2, 3, 2, 2, 2, 3, 3, 2, 2, 2, 2, 2, 3, 2, 2, 5, 2, 3, 2, 3, 2, 2, 2, 2, 2, 2, 2, 3, 3, 2, 2, 2, 3, 2, 2, 3, 2, 2, 3, 2, 2, 2, 5, 2, 2, 3, 2, 2, 2, 2, 3, 2, 3, 2, 2, 3, 2, 2, 2, 2, 2, 2, 2, 2, 2, 3, 2, 3, 3, 3, 2, 2, 2, 5, 2, 3, 3, 3, 2, 2, 2, 6, 2, 2, 2, 4, 2, 2, 2, 2, 3, 4, 2, 3, 2, 2, 2, 2, 2, 2, 2, 2, 2, 4, 2, 3, 2, 2, 2, 3, 2, 3, 2, 2, 3, 2, 2, 2, 2, 2, 2, 2, 2, 2, 2, 3, 2, 4, 2, 2, 2, 2, 2, 2, 2, 2, 2, 3, 2, 2, 2, 2, 2, 3, 2, 3, 5, 2, 2, 3, 3, 3, 2, 2, 2, 4, 2, 2, 3, 2, 3, 2, 2, 2, 3, 3, 3, 3, 2, 3, 2, 2, 2, 2, 2, 6, 3, 2, 2, 3, 2, 2, 4, 3, 2, 2, 2, 3, 2, 2, 2, 2, 6, 2, 2, 2, 2, 2, 2, 3, 2, 2, 3, 2, 2, 2, 2, 2, 2, 2, 2, 3, 2, 2, 5, 3, 3, 2, 3, 2, 2, 2, 2, 2, 2, 2, 2, 2, 2, 2, 2, 2, 5, 2, 2, 2, 2, 3, 2, 2, 5, 3, 2, 2, 3, 2, 3, 3, 3, 3, 2, 2, 2, 2, 3, 2, 3, 2, 3, 2, 4, 3, 2, 2, 2, 3, 2, 2, 2, 4, 3, 4, 2, 2, 2, 2, 2, 2, 2, 2, 2, 3, 2, 2, 2, 3, 2, 2, 3, 2, 2, 2, 3, 2, 2, 2, 2, 2, 2, 2, 2, 2, 2, 2, 3, 2, 3, 2, 5, 4, 2, 2, 5, 2, 3, 2, 2, 2, 3, 3, 2, 2, 2, 2, 2, 2, 2, 4, 4, 2, 3, 2, 2, 3, 3, 3, 2, 2, 3, 2, 2, 2, 3, 3, 2, 2, 2, 2, 2, 3, 4, 2, 2, 2, 2, 2, 3, 2, 3, 2, 2, 3, 2, 3, 2, 2, 2, 2, 2, 3, 2, 3, 2, 3, 3, 2, 2, 4, 2, 2, 3, 2, 2, 3, 2, 2, 2, 2, 3, 2, 2, 2, 2, 2, 2, 2, 3, 3, 2, 2, 3, 2, 2, 2, 2, 2, 2, 2, 2, 2, 2, 3, 3, 2, 3, 2, 2, 3, 2, 2, 2, 2, 2, 4, 2, 2, 2, 2, 2, 2, 3, 2, 2, 2, 2, 2, 2, 3, 2, 2, 2, 2, 4, 3, 2, 2, 3, 2, 2, 2, 2, 2, 2, 2, 3, 2, 2, 2, 2, 2, 2, 2, 2, 5, 2, 3, 2, 2, 2, 2, 2, 3, 2, 2, 2, 2, 2, 3, 2, 3, 2, 2, 2, 2, 2, 2, 3, 2, 2, 2, 4, 3, 2, 2, 2, 3, 2, 2, 2, 3, 2, 2, 2, 2, 2, 2, 2, 3, 2, 2, 2, 3, 2, 2, 2, 2, 2, 2, 2, 2, 3, 2, 2, 2, 2, 2, 2, 2, 2, 2, 2, 3, 3, 2, 2, 2, 2, 2, 4, 2, 2, 2, 2, 3, 4, 2, 2, 3, 3, 2, 4, 3, 2, 2, 2, 2, 2, 3, 4, 2, 2, 2, 2, 2, 3, 3, 2, 2, 5, 2, 3, 3, 3, 2, 2, 2, 3, 3, 2, 2, 2, 3, 3, 2, 2, 2, 2, 4, 2, 2, 2, 3, 2, 3, 4, 2, 3, 3, 2, 2, 2, 2, 2, 2, 3, 2, 2, 2, 3, 2, 2, 2, 2, 2, 2, 2, 2, 3, 2, 2, 2, 2, 2, 2, 2, 2, 2, 2, 2, 2, 2, 2, 2, 2, 3, 2, 3, 2, 2, 2, 2, 2, 2, 3, 2, 2, 2, 4, 2, 2, 2, 2, 2, 2, 2, 2, 2, 2, 2, 2, 2, 2, 2, 2, 2, 2, 2, 2, 2, 2, 2, 2, 3, 2, 2, 2, 2, 3, 3, 2, 2, 2, 2, 2, 2, 4, 2, 2, 2, 3, 2, 2, 4, 3, 2, 2, 6, 2, 2, 2, 3, 2, 2, 2, 2, 3, 3, 2, 2, 2, 2, 2, 2, 2, 3, 2, 2, 3, 2, 2, 2, 2, 3, 2, 3, 2, 2, 2, 2, 2, 4, 2, 2, 2, 2, 2, 2, 2, 2, 2, 2, 4, 2, 3, 2, 3, 2, 3, 2, 2, 3, 2, 2, 2, 2, 2, 2, 3, 2, 2, 2, 2, 2, 2, 2, 2, 2, 2, 3, 3, 2, 2, 2, 2, 2, 2, 2, 2, 2, 2, 2, 2, 2, 2, 2, 3, 3, 3, 2, 2, 3, 2, 2, 2, 2, 2, 6, 2, 2, 2, 2, 2, 2, 3, 2, 4, 2, 2, 2, 2, 2, 2, 2, 2, 4, 2, 2, 2, 2, 2, 2, 3, 2, 2, 2, 2, 2, 2, 2, 2, 2, 2, 2, 2, 2, 2, 2, 2, 2, 2, 3, 2, 2, 2, 3, 2, 2, 2, 3, 2, 2, 2, 3, 2, 2, 2, 2, 4, 2, 2, 2, 2, 3, 2, 2, 2, 2, 2, 2, 2, 2, 5, 2, 2, 2, 3, 2, 2, 3, 2, 2, 2, 2, 2, 3, 2, 3, 2, 2, 2, 2, 3, 2, 2, 2, 2, 2, 3, 3, 2, 2, 2, 2, 3, 2, 2, 3, 2, 2, 2, 2, 2, 3, 2, 2, 2, 2, 3, 2, 2, 5, 3, 2, 2, 2, 2, 3, 2, 4, 2, 5, 3, 2, 3, 2, 2, 2, 2, 2, 2, 2, 2, 2, 2, 2, 2, 2, 2, 2, 2, 2, 2, 2, 2, 2, 2, 2, 2, 2, 2, 2, 2, 2, 2, 2, 2, 2, 2, 2, 2, 2, 2, 2, 2, 2, 2, 2, 2, 2, 2, 2, 2, 2, 3, 2, 2, 2, 2, 2, 3, 3, 2, 2, 2, 2, 2, 4, 2, 2, 3, 2, 2, 2, 2, 2, 2, 2, 2, 2, 2, 2, 2, 2, 2, 2, 2, 2, 3, 2, 2, 4, 2, 4, 2, 2, 2, 2, 2, 2, 2, 2, 2, 2, 2, 2, 2, 2, 2, 2, 3, 2, 2, 2, 2, 2, 2, 2, 3, 2, 5, 2, 2, 2, 2, 3, 2, 2, 2, 4, 2, 2, 5, 2, 5, 5, 2, 2, 2, 2, 2, 2, 2, 2, 2, 2, 4, 2, 2, 5, 2, 2, 4, 2, 2, 2, 2, 2, 2, 2, 2, 2, 2, 2, 2, 4, 2, 2, 2, 3, 2, 2, 3, 2, 2, 2, 2, 2, 2, 2, 2, 3, 2, 2, 3, 2, 2, 2, 3, 2, 2, 3, 2, 3, 3, 2, 2, 2, 2, 2, 2, 2, 3, 2, 2, 3, 3, 2, 2, 2, 2, 2, 2, 2, 2, 3, 2, 2, 2, 2, 2, 2, 2, 2, 3, 2, 3, 2, 3, 2, 2, 4, 3, 2, 2, 2, 2, 2, 2, 3, 2, 4, 2, 2, 2, 2, 2, 6, 3, 2, 2, 2, 2, 4, 2, 2, 2, 2, 2, 2, 3, 2, 3, 2, 3, 2, 5, 2, 3, 2, 3, 2, 2, 2, 4, 2, 2, 4, 3, 2, 2, 2, 2, 2, 3, 4, 3, 2, 2, 2, 2, 2, 2, 2, 2, 2, 2, 2, 2, 3, 4, 2, 2, 2, 2, 2, 2, 2, 2, 2, 2, 2, 2, 3, 2, 2, 2, 2, 2, 3, 2, 2, 2, 2, 2, 2, 2, 2, 2, 2, 2, 2, 2, 4, 2, 4, 2, 2, 3, 4, 4, 3, 2, 2, 3, 2, 2, 2, 2, 2, 2, 3, 2, 2, 2, 2, 2, 2, 2, 2, 2, 5, 2, 2, 2, 4, 2, 2, 3, 3, 3, 2, 2, 2, 2, 2, 2, 2, 2, 3, 3, 3, 3, 2, 3, 2, 2, 2, 2, 2, 3, 2, 2, 2, 3, 2, 2, 2, 3, 3, 2, 2, 2, 2, 2, 2, 2, 2, 2, 2, 2, 2, 2, 2, 2, 2, 2, 2, 2, 2, 2, 3, 2, 2, 2, 4, 3, 2, 2, 3, 3, 3, 2, 2, 2, 4, 2, 3, 2, 3, 2, 2, 2, 2, 2, 4, 2, 2, 3, 2, 2, 3, 2, 5, 2, 2, 2, 2, 2, 2, 2, 3, 2, 2, 3, 2, 2, 2, 2, 2, 2, 2, 2, 2, 3, 2, 4, 3, 2, 2, 2, 4, 3, 2, 2, 2, 2, 2, 2, 2, 2, 2, 2, 4, 2, 2, 3, 4, 2, 2, 2, 2, 3, 3, 10, 2, 2, 3, 4, 2, 2, 3, 3, 2, 2, 2, 2, 2, 2, 2, 2, 2, 2, 2, 2, 2, 3, 2, 4, 2, 2, 2, 2, 2, 2, 2, 2, 2, 2, 3, 2, 2, 2, 2, 2, 3, 2, 2, 3, 2, 2, 2, 2, 2, 2, 2, 2, 3, 3, 2, 2, 2, 2, 2, 3, 2, 3, 2, 2, 2, 2, 2, 2, 2, 5, 2, 3, 2, 2, 2, 2, 2, 4, 2, 2, 2, 2, 2, 2, 2, 2, 2, 3, 2, 3, 2, 2, 3, 3, 2, 2, 2, 2, 2, 2, 2, 3, 2, 2, 2, 2, 2, 3, 2, 2, 2, 2, 2, 2, 2, 2, 2, 2, 2, 2, 3, 2, 2, 2, 2, 2, 2, 2, 2, 2, 2, 3, 2, 3, 2, 2, 3, 2, 2, 2, 2, 2, 2, 2, 2, 3, 2, 2, 3, 2, 2, 2, 2, 2, 2, 2, 2, 2, 2, 2, 2, 2, 2, 2, 2, 2, 3, 2, 2, 2, 2, 2, 3, 2, 2, 2, 2, 2, 2, 2, 2, 2, 2, 2, 2, 2, 2, 2, 2, 2, 2, 2, 3, 2, 3, 2, 2, 2, 2, 3, 2, 2, 2, 2, 3, 2, 2, 3, 2, 2, 2, 2, 3, 2, 2, 2, 2, 3, 2, 2, 3, 2, 2, 2, 2, 2, 2, 2, 2, 2, 2, 2, 2, 2, 2, 2, 2, 2, 2, 2, 2, 2, 2, 2, 2, 2, 2, 2, 2, 2, 2, 2, 2, 3, 6, 2, 3, 3, 2, 2, 2, 2, 2, 2, 2, 2, 2, 2, 3, 2, 2, 2, 3, 3, 2, 2, 3, 2, 2, 3, 3, 2, 2, 2, 2, 2, 2, 3, 2, 2, 2, 2, 2, 3, 2, 5, 2, 2, 2, 2, 2, 2, 2, 2, 2, 2, 2, 3, 3, 2, 2, 2, 3, 2, 2, 3, 2, 2, 2, 2, 2, 2, 2, 2, 2, 3, 2, 2, 3, 2, 2, 2, 2, 2, 2, 2, 3, 2, 2, 2, 2, 3, 2, 2, 2, 2, 2, 2, 2, 2, 4, 2, 2, 2, 3, 2, 3, 2, 2, 2, 2, 2, 2, 2, 2, 2, 2, 2, 2, 2, 2, 2, 2, 2, 2, 2, 2, 2, 2, 2, 2, 2, 4, 2, 2, 2, 3, 2, 2, 2, 3, 4, 2, 2, 2, 3, 2, 3, 2, 2, 4, 2, 2, 2, 2, 5, 2, 2, 2, 2, 2, 2, 2, 2, 2, 2, 3, 2, 2, 2, 2, 2, 2, 2, 4, 2, 2, 2, 2, 2, 4, 2, 2, 2, 2, 2, 2, 2, 2, 2, 2, 2, 2, 2, 2, 2, 2, 4, 2, 2, 2, 2, 2, 3, 2, 2, 2, 3, 2, 2, 3, 2, 2, 2, 2, 2, 2, 2, 2, 2, 2, 2, 2, 2, 2, 2, 2, 2, 2, 2, 3, 2, 2, 2, 3, 2, 3, 2, 2, 2, 2, 2, 2, 2, 2, 2, 2, 2, 2, 2, 3, 2, 2, 2, 2, 3, 5, 2, 2, 2, 2, 2, 3, 4, 2, 2, 2, 3, 2, 2, 3, 3, 2, 3, 3, 3, 3, 3, 2, 2, 3, 2, 3, 2, 2, 2, 2, 2, 2, 2, 2, 2, 2, 2, 2, 2, 3, 2, 2, 2, 2, 2, 2, 3, 2, 2, 2, 2, 2, 2, 2, 2, 2, 2, 3, 2, 2, 7, 2, 2, 2, 3, 2, 2, 2, 4, 2, 2, 2, 2, 2, 2, 2, 2, 2, 3, 2, 3, 2, 3, 2, 2, 2, 6, 2, 2, 4, 2, 2, 3, 3, 3, 3, 2, 2, 2, 2, 2, 2, 2, 2, 3, 4, 2, 2, 2, 2, 2, 2, 2, 2, 4, 2, 2, 2, 5, 2, 2, 2, 2, 2, 2, 2, 3, 2, 2, 2, 3, 2, 4, 2, 2, 2, 2, 2, 2, 2, 2, 2, 3, 2, 2, 2, 2, 2, 2, 2, 2, 2, 3, 2, 2, 2, 2, 2, 2, 2, 2, 2, 2, 2, 2, 2, 3, 2, 2, 2, 2, 2, 2, 3, 2, 2, 2, 3, 2, 2, 3, 2, 2, 2, 2, 2, 2, 2, 2, 2, 2, 2, 2, 6, 2, 2, 2, 2, 2, 2, 7, 2, 2, 2, 2, 2, 2, 2, 2, 2, 2, 2, 2, 2, 2, 2, 3, 2, 2, 2, 2, 2, 3, 2, 2, 2, 2, 2, 2, 2, 2, 2, 2, 3, 2, 3, 2, 2, 3, 2, 2, 2, 2, 2, 2, 2, 2, 2, 2, 2, 2, 2, 2, 2, 2, 2, 2, 2, 2, 2, 2, 2, 2, 2, 2, 2, 3, 2, 2, 2, 2, 2, 2, 3, 2, 3, 2, 2, 2, 2, 2, 2, 3, 2, 2, 2, 2, 2, 2, 2, 2, 2, 4, 2, 3, 2, 2, 2, 2, 2, 2, 2, 3, 2, 2, 4, 2, 2, 2, 2, 2, 2, 2, 2, 2, 2, 2, 2, 2, 2, 2, 2, 3, 2, 2, 2, 2, 2, 3, 2, 3, 2, 2, 2, 2, 3, 3, 2, 2, 3, 2, 5, 2, 2, 2, 2, 2, 3, 2, 2, 2, 2, 2, 2, 3, 2, 2, 2, 2, 2, 2, 3, 2, 2, 2, 5, 2, 2, 2, 3, 2, 3, 2, 3, 2, 3, 2, 2, 4, 2, 2, 2, 2, 2, 3, 2, 2, 3, 2, 2, 2, 2, 2, 2, 4, 2, 2, 2, 2, 2, 3, 3, 2, 2, 2, 2, 2, 2, 2, 2, 3, 3, 4, 2, 2, 2, 2, 2, 3, 2, 2, 4, 2, 2, 2, 2, 3, 2, 2, 3, 2, 2, 2, 2, 2, 2, 2, 4, 2, 2, 3, 2, 2, 2, 2, 2, 2, 4, 2, 3, 2, 2, 2, 2, 2, 2, 2, 2, 2, 2, 2, 4, 2, 2, 2, 2, 2, 2, 2, 2, 2, 3, 4, 3, 2, 2, 2, 2, 2, 2, 2, 2, 2, 2, 3, 3, 2, 3, 3, 2, 2, 2, 2, 3, 2, 2, 2, 3, 2, 2, 2, 3, 4, 2, 2, 2, 2, 2, 4, 2, 3, 2, 2, 2, 2, 2, 2, 2, 2, 2, 2, 2, 2, 2, 3, 2, 2, 2, 3, 2, 2, 2, 2, 2, 2, 2, 2, 3, 2, 3, 2, 3, 3, 6, 2, 2, 2, 2, 2, 2, 2, 2, 2, 2, 2, 2, 2, 2, 2, 2, 3, 2, 2, 2, 2, 2, 3, 2, 3, 2, 2, 2, 2, 2, 2, 2, 2, 2, 2, 2, 2, 2, 2, 2, 3, 2, 2, 2, 2, 3, 2, 2, 2, 3, 2, 2, 2, 2, 2, 3, 2, 2, 3, 3, 2, 2, 2, 2, 2, 2, 2, 2, 2, 2, 2, 3, 2, 3, 2, 2, 2, 2, 2, 2, 2, 2, 2, 2, 2, 4, 2, 2, 2, 2, 2, 2, 2, 2, 2, 2, 2, 2, 2, 3, 2, 2, 2, 2, 2, 2, 2, 3, 2, 2, 3, 4, 2, 2, 2, 2, 2, 2, 3, 2, 4, 3, 2, 2, 2, 2, 2, 2, 2, 2, 3, 2, 2, 3, 3, 2, 4, 2, 2, 2, 2, 2, 2, 2, 2, 2, 2, 2, 2, 2, 3, 3, 3, 2, 2, 2, 3, 2, 2, 2, 3, 2, 2, 2, 3, 2, 2, 2, 3, 2, 2, 2, 2, 2, 2, 2, 3, 2, 2, 3, 2, 3, 2, 2, 2, 3, 2, 3, 2, 2, 2, 2, 3, 2, 2, 2, 4, 3, 2, 2, 2, 2, 2, 2, 2, 3, 3, 2, 3, 2, 2, 2, 2, 2, 2, 3, 2, 2, 2, 2, 2, 2, 2, 2, 2, 2, 3, 2, 2, 2, 2, 2, 2, 2, 2, 3, 2, 3, 2, 3, 2, 2, 2, 2, 2, 2, 2, 2, 2, 2, 2, 3, 2, 2, 4, 2, 2, 3, 3, 2, 3, 2, 2, 3, 2, 3, 5, 2, 2, 2, 2, 2, 2, 2, 3, 3, 2, 2, 2, 2, 2, 4, 2, 2, 2, 2, 2, 2, 2, 2, 2, 2, 3, 2, 2, 2, 2, 2, 2, 2, 2, 5, 3, 2, 4, 2, 2, 2, 2, 2, 3, 2, 2, 2, 3, 2, 3, 2, 2, 2, 2, 2, 2, 2, 2, 2, 4, 2, 2, 2, 2, 2, 2, 3, 3, 2, 2, 2, 2, 2, 3, 2, 2, 2, 2, 3, 2, 2, 2, 2, 2, 4, 2, 2, 2, 2, 2, 2, 2, 2, 2, 2, 2, 2, 2, 2, 2, 2, 2, 2, 2, 2, 2, 2, 2, 2, 2, 2, 2, 3, 2, 2, 2, 4, 2, 3, 2, 2, 2, 2, 2, 2, 2, 2, 2, 2, 2, 2, 2, 2, 2, 2, 2, 2, 2, 2, 2, 2, 2, 2, 2, 2, 3, 3, 2, 2, 2, 2, 2, 3, 2, 4, 2, 2, 2, 2, 2, 2, 2, 3, 2, 2, 3, 3, 2, 4, 2, 3, 2, 2, 2, 2, 2, 2, 2, 2, 2, 2, 2, 3, 2, 2, 3, 2, 2, 2, 2, 2, 2, 2, 2, 3, 3, 3, 2, 2, 2, 2, 2, 2, 2, 2, 2, 2, 2, 2, 2, 2, 2, 3, 2, 3, 2, 2, 2, 2, 2, 2, 2, 2, 2, 2, 2, 2, 2, 2, 2, 2, 3, 4, 2, 2, 2, 2, 3, 2, 2, 2, 3, 2, 2, 2, 4, 4, 2, 4, 2, 3, 5, 2, 2, 2, 4, 2, 3, 2, 2, 4, 2, 2, 2, 2, 2, 3, 3, 2, 2, 2, 3, 2, 3, 2, 2, 2, 2, 3, 4, 3, 2, 2, 2, 2, 3, 3, 2, 2, 2, 2, 2, 3, 2, 3, 2, 2, 2, 2, 2, 3, 2, 2, 2, 2, 2, 2, 2, 2, 2, 2, 2, 2, 2, 3, 2, 2, 2, 2, 2, 2, 2, 3, 2, 2, 2, 2, 2, 2, 2, 2, 3, 2, 2, 2, 2, 2, 2, 2, 2, 3, 2, 2, 2, 2, 2, 2, 2, 3, 3, 3, 3, 2, 2, 2, 3, 2, 2, 2, 2, 2, 2, 2, 2, 2, 4, 2, 2, 2, 2, 3, 3, 3, 2, 2, 2, 2, 2, 2, 2, 3, 2, 2, 2, 2, 2, 4, 2, 2, 2, 2, 3, 2, 2, 2, 2, 2, 2, 2, 2, 3, 2, 4, 2, 4, 2, 3, 3, 2, 2, 2, 3, 2, 2, 2, 2, 3, 2, 3, 2, 2, 2, 2, 2, 2, 3, 2, 3, 2, 2, 2, 2, 2, 2, 5, 2, 2, 2, 2, 2, 2, 3, 4, 2, 3, 2, 2, 2, 3, 2, 2, 2, 2, 3, 2, 2, 2, 2, 2, 3, 2, 2, 2, 2, 2, 2, 3, 2, 2, 2, 2, 2, 3, 2, 3, 2, 2, 2, 2, 2, 2, 3, 3, 2, 2, 2, 2, 2, 2, 2, 3, 2, 2, 2, 2, 2, 3, 2, 2, 2, 2, 2, 2, 2, 2, 2, 2, 2, 2, 2, 2, 2, 2, 2, 2, 2, 2, 2, 3, 2, 2, 2, 4, 2, 2, 2, 2, 2, 2, 2, 2, 2, 2, 2, 2, 2, 3, 2, 3, 4, 4, 2, 2, 5, 2, 2, 2, 3, 2, 2, 2, 2, 2, 2, 2, 2, 2, 2, 2, 2, 3, 3, 2, 2, 2, 2, 2, 2, 2, 2, 2, 2, 2, 3, 2, 2, 2, 2, 2, 2, 2, 2, 2, 3, 2, 2, 3, 2, 2, 2, 2, 2, 2, 2, 3, 2, 2, 2, 2, 2, 2, 2, 2, 2, 2, 2, 4, 2, 3, 2, 2, 2, 2, 2, 2, 2, 2, 2, 4, 3, 3, 3, 2, 2, 3, 2, 2, 2, 2, 2, 2, 2, 2, 3, 2, 2, 2, 2, 2, 3, 2, 2, 2, 2, 2, 2, 3, 2, 2, 2, 2, 4, 3, 2, 2, 3, 2, 3, 2, 2, 2, 2, 3, 2, 2, 3, 2, 2, 2, 2, 2, 2, 2, 2, 3, 2, 2, 2, 2, 2, 2, 2, 2, 2, 2, 3, 2, 2, 2, 2, 3, 3, 2, 2, 5, 2, 2, 3, 2, 2, 2, 2, 2, 2, 2, 2, 3, 2, 2, 2, 4, 2, 3, 2, 2, 3, 2, 2, 2, 2, 2, 2, 2, 3, 3, 2, 2, 3, 3, 2, 2, 2, 2, 2, 2, 4, 2, 2, 2, 2, 2, 2, 3, 3, 2, 2, 2, 2, 2, 2, 2, 2, 3, 2, 2, 2, 2, 2, 2, 2, 2, 2, 2, 2, 2, 3, 2, 2, 3, 2, 2, 4, 2, 2, 2, 3, 2, 2, 2, 2, 2, 2, 3, 2, 2, 2, 3, 2, 2, 2, 2, 2, 2, 2, 2, 2, 2, 2, 2, 2, 2, 2, 3, 2, 2, 2, 2, 3, 2, 2, 2, 2, 2, 2, 2, 2, 2, 2, 2, 2, 2, 2, 2, 2, 2, 3, 2, 2, 2, 4, 2, 2, 2, 2, 2, 2, 2, 2, 2, 2, 2, 6, 2, 2, 2, 2, 2, 2, 2, 3, 3, 2, 2, 2, 2, 2, 2, 2, 5, 2, 2, 3, 2, 4, 3, 2, 4, 2, 2, 4, 2, 2, 3, 2, 2, 2, 2, 2, 2, 3, 2, 2, 2, 3, 2, 2, 2, 4, 7, 2, 5, 2, 2, 2, 2, 2, 3, 4, 2, 2, 3, 2, 2, 2, 2, 2, 3, 2, 2, 2, 2, 2, 2, 2, 3, 2, 2, 2, 2, 2, 2, 2, 2, 2, 4, 3, 2, 2, 2, 2, 2, 3, 3, 5, 2, 2, 3, 3, 2, 2, 2, 2, 2, 2, 2, 2, 2, 2, 2, 3, 2, 2, 2, 2, 2, 2, 2, 2, 2, 2, 2, 2, 2, 2, 2, 2, 2, 2, 2, 2, 3, 2, 2, 3, 2, 3, 2, 3, 2, 2, 3, 3, 2, 2, 2, 5, 2, 3, 2, 2, 2, 2, 2, 2, 2, 2, 2, 2, 2, 3, 3, 2, 3, 2, 2, 2, 4, 2, 2, 4, 2, 2, 2, 2, 2, 2, 2, 2, 3, 2, 4, 2, 2, 2, 2, 2, 5, 3, 3, 2, 2, 5, 2, 2, 2, 2, 2, 2, 3, 2, 2, 2, 2, 2, 2, 2, 2, 2, 2, 2, 2, 2, 2, 2, 2, 4, 2, 2, 2, 2, 3, 2, 2, 3, 2, 2, 4, 2, 2, 2, 2, 2, 2, 3, 2, 2, 2, 4, 2, 2, 2, 2, 2, 3, 2, 2, 2, 2, 2, 2, 2, 2, 2, 2, 2, 4, 3, 5, 2, 3, 3, 2, 3, 3, 2, 2, 2, 2, 2, 2, 2, 2, 2, 2, 2, 4, 2, 2, 2, 2, 3, 2, 2, 2, 2, 3, 2, 2, 2, 3, 4, 2, 2, 3, 2, 2, 4, 3, 2, 2, 2, 2, 2, 2, 2, 2, 2, 2, 2, 2, 2, 2, 2, 2, 2, 2, 2, 2, 2, 2, 3, 3, 2, 2, 2, 2, 2, 2, 2, 2, 2, 2, 3, 2, 2, 2, 2, 2, 2, 3, 2, 2, 2, 2, 2, 2, 2, 2, 2, 3, 2, 2, 2, 2, 3, 2, 2, 2, 2, 2, 4, 3, 2, 2, 2, 2, 2, 2, 3, 2, 2, 2, 2, 2, 3, 2, 2, 2, 5, 3, 2, 2, 2, 2, 2, 2, 3, 2, 3, 2, 2, 2, 2, 2, 2, 2, 2, 2, 2, 2, 3, 2, 3, 2, 2, 4, 4, 2, 2, 2, 2, 2, 2, 3, 2, 2, 2, 3, 2, 2, 2, 2, 2, 2, 2, 3, 3, 2, 2, 2, 2, 2, 3, 2, 2, 2, 2, 2, 2, 2, 2, 2, 2, 2, 2, 2, 2, 2, 4, 2, 2, 2, 2, 2, 2, 2, 2, 2, 2, 2, 2, 2, 2, 2, 2, 3, 2, 2, 2, 2, 2, 2, 2, 2, 3, 2, 2, 2, 2, 2, 2, 2, 2, 2, 3, 3, 4, 2, 2, 2, 2, 2, 2, 2, 2, 2, 2, 3, 2, 2, 2, 2, 2, 3, 2, 2, 5, 2, 2, 2, 2, 3, 2, 2, 2, 2, 4, 2, 2, 3, 2, 2, 2, 2, 2, 2, 2, 2, 2, 2, 2, 2, 2, 2, 2, 4, 2, 2, 2, 2, 2, 2, 3, 2, 2, 2, 2, 2, 2, 2, 2, 4, 2, 3, 2, 2, 2, 3, 2, 3, 2, 2, 2, 2, 3, 3, 3, 2, 2, 2, 3, 3, 2, 2, 2, 2, 2, 3, 3, 2, 2, 2, 2, 5, 5, 2, 2, 2, 2, 2, 2, 2, 2, 2, 2, 2, 2, 3, 3, 2, 2, 3, 2, 2, 2, 2, 2, 2, 3, 2, 2, 2, 2, 2, 2, 2, 4, 2, 3, 2, 2, 2, 2, 2, 2, 2, 3, 2, 2, 4, 2, 4, 2, 2, 2, 2, 2, 2, 2, 2, 3, 2, 2, 2, 2, 4, 2, 2, 2, 2, 3, 2, 2, 2, 2, 3, 2, 2, 2, 3, 2, 2, 2, 2, 2, 2, 2, 2, 2, 2, 2, 2, 2, 2, 2, 2, 4, 4, 2, 2, 2, 6, 2, 2, 2, 2, 2, 2, 2, 2, 2, 2, 2, 2, 3, 3, 2, 2, 2, 2, 2, 2, 2, 2, 2, 2, 2, 2, 2, 2, 2, 4, 2, 2, 2, 2, 2, 2, 3, 2, 2, 2, 2, 2, 2, 2, 2, 2, 2, 2, 2, 2, 2, 2, 2, 2, 2, 2, 2, 2, 3, 2, 2, 2, 2, 2, 2, 2, 2, 2, 3, 2, 2, 2, 2, 2, 2, 2, 4, 2, 2, 2, 2, 2, 2, 3, 2, 3, 2, 2, 2, 4, 2, 2, 2, 2, 2, 3, 2, 3, 2, 2, 2, 2, 2, 2, 2, 2, 2, 2, 2, 2, 2, 2, 2, 2, 2, 2, 2, 2, 2, 2, 2, 3, 2, 2, 2, 3, 2, 3, 2, 2, 2, 2, 2, 2, 2, 2, 2, 3, 3, 2, 2, 2, 2, 2, 3, 2, 2, 2, 2, 2, 2, 2, 2, 2, 2, 2, 3, 4, 2, 2, 2, 3, 2, 2, 2, 2, 2, 3, 2, 2, 2, 2, 2, 2, 2, 2, 2, 2, 2, 2, 2, 3, 2, 2, 2, 3, 2, 2, 2, 2, 2, 3, 2, 2, 2, 4, 2, 2, 5, 4, 2, 2, 2, 2, 3, 2, 3, 2, 2, 3, 2, 2, 2, 2, 2, 2, 2, 3, 2, 2, 2, 2, 2, 2, 2, 2, 3, 2, 2, 2, 2, 2, 2, 2, 2, 2, 3, 2, 2, 2, 2, 2, 3, 4, 3, 2, 2, 3, 2, 2, 2, 2, 2, 2, 2, 2, 2, 2, 2, 2, 2, 2, 2, 2, 2, 2, 2, 3, 2, 2, 2, 2, 2, 2, 2, 2, 3, 2, 2, 3, 2, 2, 2, 2, 2, 2, 5, 2, 2, 2, 2, 2, 2, 2, 2, 2, 2, 2, 2, 2, 3, 2, 2, 2, 3, 2, 2, 2, 3, 2, 2, 2, 2, 2, 2, 2, 2, 3, 2, 2, 2, 5, 2, 2, 2, 2, 2, 2, 2, 2, 2, 3, 2, 2, 2, 2, 2, 2, 3, 2, 2, 2, 3, 2, 3, 2, 2, 2, 4, 2, 2, 2, 2, 2, 3, 3, 2, 2, 2, 2, 2, 2, 2, 2, 2, 2, 2, 2, 2, 2, 5, 2, 2, 2, 2, 2, 2, 3, 2, 2, 2, 2, 2, 2, 2, 2, 2, 2, 2, 2, 2, 3, 2, 2, 2, 4, 2, 2, 2, 2, 2, 2, 2, 2, 2, 2, 2, 2, 3, 2, 2, 2, 2, 3, 2, 3, 2, 3, 2, 2, 2, 2, 3, 2, 2, 2, 2, 2, 2, 2, 2, 2, 2, 2, 2, 2, 2, 2, 2, 2, 2, 2, 2, 2, 2, 2, 2, 2, 2, 2, 2, 2, 2, 2, 2, 2, 2, 5, 2, 3, 2, 3, 3, 2, 3, 2, 2, 2, 2, 2, 2, 2, 2, 2, 2, 2, 2, 3, 3, 3, 2, 2, 2, 2, 2, 2, 2, 2, 2, 2, 2, 2, 2, 2, 2, 3, 2, 2, 3, 3, 2, 2, 2, 2, 2, 2, 2, 2, 2, 3, 2, 2, 2, 2, 2, 2, 3, 2, 3, 2, 2, 2, 2, 2, 3, 2, 2, 2, 2, 4, 2, 3, 2, 2, 2, 2, 2, 2, 2, 2, 3, 2, 3, 2, 2, 2, 2, 2, 2, 3, 2, 3, 3, 2, 3, 2, 2, 2, 2, 3, 2, 2, 2, 2, 2, 3, 2, 2, 2, 2, 2, 2, 2, 2, 2, 3, 3, 2, 2, 2, 2, 2, 4, 3, 2, 2, 2, 2, 2, 2, 2, 2, 3, 2, 2, 3, 2, 2, 2, 2, 2, 2, 2, 2, 2, 2, 3, 2, 3, 2, 2, 2, 2, 2, 2, 2, 2, 3, 2, 3, 2, 2, 2, 2, 3, 2, 2, 2, 3, 3, 3, 2, 2, 2, 2, 2, 2, 2, 2, 2, 2, 2, 2, 2, 2, 2, 3, 2, 2, 3, 2, 3, 2, 2, 2, 2, 3, 2, 2, 2, 3, 2, 2, 2, 2, 2, 2, 2, 3, 2, 3, 2, 2, 2, 2, 2, 2, 2, 2, 4, 2, 2, 2, 2, 4, 2, 3, 2, 3, 3, 3, 2, 2, 2, 2, 3, 2, 2, 2, 2, 2, 2, 2, 3, 2, 2, 2, 2, 2, 2, 2, 2, 3, 2, 2, 3, 2, 2, 2, 2, 2, 2, 2, 2, 2, 2, 2, 2, 2, 2, 2, 2, 2, 2, 2, 2, 2, 2, 2, 2, 2, 2, 2, 2, 2, 2, 2, 2, 3, 2, 3, 2, 2, 3, 2, 2, 2, 2, 2, 2, 2, 2, 3, 2, 3, 2, 2, 2, 2, 3, 2, 3, 3, 3, 2, 2, 3, 2, 2, 2, 2, 2, 2, 2, 5, 2, 2, 2, 2, 2, 3, 2, 2, 2, 2, 2, 2, 2, 3, 2, 2, 2, 3, 2, 2, 3, 3, 2, 2, 2, 3, 3, 2, 2, 2, 2, 3, 3, 4, 2, 3, 2, 2, 2, 2, 2, 2, 2, 2, 2, 2, 3, 2, 2, 2, 2, 2, 3, 4, 3, 2, 3, 3, 2, 2, 2, 2, 2, 3, 2, 2, 2, 2, 2, 3, 2, 2, 2, 3, 2, 3, 2, 2, 2, 2, 2, 2, 2, 3, 2, 2, 2, 2, 2, 2, 2, 2, 3, 3, 2, 2, 2, 2, 2, 2, 2, 2, 2, 2, 2, 2, 2, 2, 2, 2, 2, 2, 2, 2, 2, 2, 2, 2, 4, 2, 2, 2, 2, 2, 2, 2, 2, 2, 2, 2, 2, 2, 3, 2, 3, 2, 2, 2, 2, 2, 2, 2, 3, 2, 4, 2, 3, 2, 2, 2, 2, 2, 2, 2, 2, 2, 2, 2, 2, 2, 2, 2, 2, 2, 2, 3, 4, 2, 2, 2, 2, 3, 2, 3, 3, 2, 2, 2, 2, 3, 2, 2, 2, 2, 2, 2, 2, 2, 2, 2, 2, 3, 2, 2, 2, 2, 3, 2, 2, 2, 2, 3, 2, 2, 2, 4, 2, 2, 3, 2, 2, 2, 2, 3, 2, 2, 2, 2, 2, 2, 3, 2, 2, 2, 2, 2, 2, 2, 2, 2, 2, 2, 2, 2, 2, 2, 2, 2, 2, 2, 2, 2, 3, 2, 2, 2, 2, 2, 2, 2, 5, 2, 2, 2, 2, 2, 2, 2, 2, 2, 2, 2, 3, 2, 2, 2, 2, 2, 3, 2, 3, 2, 2, 2, 2, 2, 2, 2, 3, 2, 2, 2, 2, 2, 2, 2, 2, 2, 4, 2, 2, 2, 2, 2, 2, 3, 2, 2, 2, 2, 2, 2, 3, 2, 2, 2, 2, 2, 3, 3, 2, 3, 2, 6, 2, 3, 2, 2, 2, 2, 2, 2, 3, 2, 5, 2, 2, 2, 2, 2, 2, 2, 3, 2, 2, 3, 2, 2, 2, 2, 2, 2, 3, 2, 3, 2, 3, 2, 2, 2, 2, 2, 2, 2, 3, 3, 2, 2, 2, 2, 2, 2, 2, 2, 2, 2, 3, 2, 2, 2, 2, 2, 3, 2, 3, 2, 2, 2, 2, 3, 2, 2, 3, 2, 3, 2, 3, 2, 2, 2, 2, 2, 2, 2, 2, 2, 2, 2, 2, 2, 3, 2, 3, 2, 2, 2, 2, 2, 2, 2, 2, 2, 2, 2, 2, 3, 2, 3, 4, 4, 2, 2, 2, 2, 3, 2, 4, 2, 2, 2, 2, 2, 2, 2, 2, 4, 2, 3, 2, 2, 2, 2, 2, 2, 2, 3, 2, 2, 2, 2, 3, 2, 2, 2, 2, 2, 2, 3, 2, 2, 3, 2, 2, 3, 2, 3, 2, 2, 2, 3, 2, 2, 2, 2, 2, 2, 2, 2, 2, 2, 2, 2, 2, 2, 2, 2, 4, 2, 2, 2, 2, 2, 2, 2, 2, 2, 3, 2, 2, 2, 3, 2, 2, 2, 2, 2, 3, 3, 4, 3, 2, 2, 3, 2, 2, 3, 2, 3, 2, 3, 2, 2, 2, 2, 2, 3, 2, 2, 3, 2, 2, 2, 2, 2, 2, 2, 2, 2, 2, 2, 2, 2, 2, 4, 3, 6, 2, 4, 2, 2, 2, 2, 2, 2, 2, 2, 2, 2, 2, 2, 2, 2, 2, 2, 2, 3, 2, 2, 3, 2, 2, 4, 2, 2, 2, 2, 3, 2, 2, 2, 2, 2, 2, 2, 2, 2, 2, 2, 2, 2, 2, 2, 2, 2, 2, 2, 2, 3, 2, 2, 2, 2, 2, 2, 2, 2, 2, 2, 2, 2, 5, 2, 2, 2, 2, 2, 2, 2, 3, 2, 2, 2, 3, 2, 2, 2, 2, 2, 3, 2, 2, 3, 2, 2, 2, 4, 2, 2, 2, 2, 2, 2, 2, 2, 2, 2, 2, 2, 3, 2, 3, 2, 4, 3, 2, 3, 3, 2, 3, 2, 2, 3, 2, 2, 2, 3, 3, 2, 2, 2, 2, 2, 2, 2, 2, 2, 2, 2, 2, 2, 2, 2, 2, 2, 2, 2, 5, 2, 3, 2, 2, 2, 3, 2, 2, 2, 2, 3, 2, 2, 2, 3, 4, 2, 2, 2, 2, 3, 2, 3, 3, 3, 2, 2, 2, 3, 2, 2, 2, 2, 2, 2, 2, 3, 2, 3, 2, 3, 2, 2, 2, 6, 2, 3, 3, 2, 6, 2, 2, 2, 2, 2, 2, 2, 2, 2, 2, 2, 3, 3, 3, 2, 2, 2, 3, 2, 2, 2, 2, 2, 3, 2, 2, 2, 2, 2, 3, 2, 2, 3, 2, 2, 2, 2, 2, 2, 2, 3, 2, 2, 2, 2, 2, 2, 2, 2, 4, 2, 2, 2, 3, 2, 2, 2, 2, 2, 3, 4, 3, 2, 2, 2, 2, 2, 2, 2, 2, 2, 2, 2, 2, 2, 2, 2, 2, 2, 2, 2, 3, 3, 2, 2, 2, 2, 2, 2, 2, 2, 2, 2, 2, 2, 2, 2, 2, 2, 2, 2, 2, 2, 2, 2, 3, 2, 3, 2, 2, 2, 2, 2, 2, 2, 2, 2, 2, 2, 2, 2, 2, 2, 2, 3, 2, 2, 2, 2, 2, 2, 2, 3, 2, 4, 4, 2, 2, 2, 3, 2, 2, 2, 3, 2, 2, 2, 2, 2, 2, 3, 2, 3, 4, 4, 2, 2, 2, 3, 2, 2, 2, 4, 2, 2, 2, 2, 2, 2, 2, 2, 4, 2, 2, 3, 2, 2, 2, 2, 4, 2, 2, 2, 2, 4, 2, 2, 3, 2, 3, 2, 2, 2, 2, 2, 2, 3, 2, 2, 2, 2, 2, 2, 2, 2, 2, 2, 3, 2, 4, 2, 3, 2, 2, 4, 2, 2, 2, 2, 2, 2, 2, 3, 2, 2, 3, 2, 2, 3, 2, 2, 3, 2, 2, 2, 2, 2, 2, 2, 2, 2, 2, 2, 2, 3, 3, 3, 2, 2, 2, 2, 3, 2, 2, 3, 3, 3, 2, 2, 2, 2, 2, 2, 2, 4, 3, 3, 2, 2, 3, 2, 3, 2, 2, 2, 2, 2, 2, 2, 2, 3, 2, 2, 2, 2, 3, 2, 2, 2, 2, 2, 2, 2, 3, 3, 2, 2, 2, 2, 2, 2, 3, 2, 3, 2, 2, 4, 2, 2, 3, 2, 2, 4, 5, 2, 2, 2, 2, 2, 3, 2, 2, 2, 2, 2, 2, 2, 2, 2, 2, 2, 2, 3, 2, 2, 2, 2, 2, 2, 2, 2, 2, 2, 2, 2, 2, 2, 2, 2, 2, 3, 2, 2, 2, 2, 3, 3, 2, 2, 2, 2, 2, 2, 2, 2, 2, 2, 2, 3, 2, 2, 2, 2, 2, 2, 2, 3, 2, 2, 2, 2, 2, 2, 2, 2, 2, 2, 2, 2, 2, 2, 2, 2, 2, 3, 2, 2, 2, 2, 2, 4, 2, 2, 2, 2, 3, 2, 2, 2, 2, 2, 2, 2, 2, 3, 2, 2, 3, 3, 3, 2, 2, 2, 2, 2, 2, 2, 2, 2, 2, 2, 2, 2, 2, 2, 4, 2, 3, 3, 2, 2, 2, 4, 2, 2, 2, 3, 2, 3, 2, 2, 2, 2, 2, 4, 3, 2, 2, 2, 2, 2, 2, 2, 4, 2, 2, 2, 2, 2, 2, 2, 4, 2, 2, 2, 4, 2, 2, 3, 2, 2, 2, 2, 2, 2, 2, 2, 2, 2, 2, 2, 2, 2, 2, 2, 2, 2, 2, 2, 3, 2, 2, 2, 2, 2, 2, 3, 2, 2, 2, 3, 3, 4, 3, 2, 2, 2, 2, 3, 2, 2, 2, 2, 2, 2, 2, 2, 2, 3, 2, 2, 2, 2, 2, 2, 2, 2, 2, 2, 2, 2, 2, 2, 2, 2, 2, 2, 2, 2, 2, 3, 2, 3, 3, 5, 2, 2, 5, 2, 2, 2, 2, 3, 2, 3, 2, 2, 2, 2, 2, 2, 2, 2, 2, 2, 2, 2, 3, 2, 2, 2, 2, 2, 2, 2, 2, 3, 4, 2, 2, 2, 2, 2, 2, 2, 2, 2, 2, 2, 2, 4, 2, 2, 2, 2, 3, 3, 3, 2, 2, 2, 2, 2, 3, 2, 3, 2, 2, 2, 2, 2, 3, 2, 2, 3, 2, 2, 2, 2, 2, 2, 2, 2, 2, 2, 3, 2, 2, 2, 3, 2, 2, 2, 2, 2, 2, 3, 2, 2, 3, 2, 2, 2, 2, 2, 2, 2, 2, 2, 3, 2, 2, 2, 2, 2, 2, 2, 2, 2, 2, 2, 2, 4, 2, 2, 2, 2, 3, 2, 2, 2, 2, 2, 2, 2, 2, 2, 4, 2, 2, 2, 2, 2, 3, 2, 2, 2, 2, 2, 3, 2, 4, 2, 4, 2, 2, 2, 2, 2, 2, 2, 2, 2, 2, 2, 2, 2, 2, 3, 2, 4, 2, 2, 2, 2, 2, 2, 2, 2, 3, 2, 2, 2, 2, 2, 2, 2, 2, 2, 2, 2, 2, 2, 2, 2, 2, 2, 2, 2, 2, 2, 2, 2, 2, 3, 3, 2, 2, 2, 3, 2, 2, 2, 2, 2, 2, 3, 2, 2, 3, 2, 2, 2, 2, 2, 2, 2, 2, 2, 2, 2, 2, 2, 2, 2, 2, 2, 2, 2, 4, 2, 3, 2, 2, 2, 2, 2, 2, 2, 3, 2, 3, 2, 2, 2, 2, 2, 2, 2, 2, 3, 2, 2, 2, 3, 2, 3, 2, 2, 2, 2, 3, 2, 2, 3, 2, 2, 2, 3, 2, 2, 2, 2, 2, 2, 2, 2, 2, 2, 2, 3, 2, 2, 2, 2, 2, 2, 2, 3, 2, 2, 2, 2, 3, 2, 2, 2, 2, 3, 2, 3, 2, 2, 3, 2, 2, 2, 2, 3, 2, 2, 2, 2, 3, 2, 5, 2, 2, 2, 2, 3, 2, 2, 3, 2, 2, 3, 2, 2, 2, 2, 2, 3, 4, 3, 2, 3, 2, 2, 2, 2, 2, 2, 2, 3, 2, 2, 2, 2, 2, 2, 2, 3, 2, 2, 2, 2, 2, 2, 3, 2, 4, 2, 4, 2, 2, 3, 2, 2, 3, 2, 2, 2, 2, 3, 2, 2, 2, 2, 2, 2, 2, 2, 2, 4, 2, 2, 2, 2, 2, 2, 2, 2, 4, 3, 2, 2, 2, 2, 3, 3, 2, 2, 2, 2, 2, 2, 2, 2, 2, 2, 3, 2, 2, 2, 2, 2, 3, 3, 2, 2, 2, 2, 2, 2, 3, 3, 2, 3, 2, 3, 2, 2, 2, 2, 2, 2, 2, 3, 2, 2, 3, 2, 3, 2, 2, 2, 3, 2, 4, 2, 2, 3, 2, 2, 4, 2, 3, 2, 2, 2, 2, 2, 3, 2, 2, 2, 2, 3, 3, 2, 2, 2, 2, 2, 2, 2, 2, 2, 3, 2, 3, 3, 2, 2, 2, 2, 2, 2, 2, 2, 2, 2, 2, 3, 2, 2, 2, 2, 2, 2, 2, 4, 2, 2, 2, 2, 3, 2, 2, 2, 2, 3, 2, 2, 3, 2, 3, 3, 2, 2, 2, 2, 2, 2, 2, 2, 2, 3, 2, 2, 2, 2, 2, 2, 2, 2, 2, 3, 2, 2, 2, 2, 2, 3, 3, 2, 2, 2, 2, 2, 2, 2, 2, 2, 2, 2, 2, 2, 3, 2, 2, 2, 3, 2, 2, 2, 3, 3, 2, 2, 2, 2, 2, 3, 2, 2, 2, 3, 3, 2, 3, 2, 2, 2, 2, 2, 2, 2, 2, 2, 2, 2, 2, 2, 2, 2, 2, 2, 2, 2, 2, 2, 2, 2, 2, 2, 2, 2, 3, 2, 2, 2, 2, 2, 3, 2, 2, 2, 2, 3, 2, 2, 3, 2, 2, 3, 2, 2, 3, 2, 2, 2, 3, 2, 2, 2, 2, 2, 2, 2, 2, 2, 2, 2, 2, 3, 2, 2, 3, 2, 2, 2, 2, 2, 2, 2, 2, 2, 2, 2, 2, 2, 2, 2, 2, 2, 2, 2, 2, 2, 2, 2, 2, 4, 2, 2, 2, 2, 2, 2, 2, 2, 4, 2, 5, 2, 2, 2, 2, 2, 2, 2, 2, 2, 2, 2, 2, 2, 2, 2, 2, 2, 2, 2, 2, 2, 2, 2, 2, 2, 2, 2, 2, 2, 4, 2, 2, 2, 2, 2, 2, 2, 2, 2, 2, 2, 3, 2, 2, 2, 2, 2, 2, 2, 2, 2, 2, 2, 2, 2, 2, 3, 2, 2, 2, 3, 2, 2, 2, 2, 2, 2, 2, 2, 2, 2, 2, 2, 2, 2, 2, 2, 2, 2, 2, 3, 2, 2, 2, 2, 3, 4, 2, 2, 3, 2, 2, 2, 2, 2, 2, 2, 2, 5, 3, 5, 3, 2, 2, 2, 3, 2, 2, 2, 3, 2, 2, 2, 2, 2, 2, 2, 2, 2, 2, 2, 2, 2, 2, 2, 2, 2, 2, 2, 2, 2, 2, 2, 2, 2, 2, 2, 2, 3, 2, 3, 3, 2, 2, 2, 2, 3, 3, 2, 2, 8, 3, 2, 2, 2, 2, 3, 3, 2, 2, 3, 2, 2, 2, 2, 2, 2, 2, 2, 2, 2, 2, 2, 2, 2, 2, 2, 2, 4, 2, 2, 2, 3, 2, 2, 2, 2, 2, 2, 2, 2, 2, 2, 2, 2, 2, 2, 2, 2, 3, 2, 2, 2, 2, 2, 3, 2, 2, 2, 2, 3, 2, 2, 2, 3, 2, 2, 4, 2, 3, 2, 2, 2, 2, 3, 2, 2, 2, 2, 2, 2, 2, 2, 2, 2, 2, 2, 2, 2, 4, 2, 3, 2, 2, 2, 4, 2, 2, 2, 2, 3, 2, 2, 2, 2, 3, 2, 2, 2, 2, 2, 2, 2, 2, 2, 2, 2, 2, 2, 2, 2, 2, 2, 2, 2, 2, 2, 2, 2, 2, 2, 2, 2, 2, 2, 3, 2, 2, 2, 2, 2, 2, 2, 2, 3, 4, 4, 2, 2, 2, 2, 2, 2, 2, 2, 2, 2, 3, 2, 2, 2, 2, 2, 2, 2, 3, 2, 2, 2, 2, 2, 4, 2, 2, 2, 2, 2, 2, 2, 2, 2, 2, 2, 2, 2, 2, 2, 2, 3, 2, 2, 2, 2, 2, 2, 2, 2, 2, 2, 2, 2, 2, 2, 2, 2, 2, 2, 5, 2, 2, 2, 2, 2, 2, 3, 2, 2, 2, 2, 2, 2, 3, 2, 2, 3, 2, 2, 2, 2, 2, 2, 2, 2, 2, 2, 2, 2, 3, 2, 2, 2, 3, 3, 4, 2, 2, 2, 2, 2, 2, 2, 2, 3, 2, 2, 2, 2, 3, 2, 2, 2, 4, 2, 2, 2, 2, 2, 2, 3, 2, 3, 2, 3, 2, 2, 6, 2, 2, 2, 2, 3, 2, 2, 2, 2, 2, 2, 2, 2, 2, 2, 2, 2, 2, 3, 3, 4, 2, 2, 2, 2, 2, 2, 2, 2, 2, 2, 2, 2, 2, 2, 2, 2, 2, 2, 2, 2, 2, 2, 2, 4, 3, 2, 2, 2, 2, 2, 2, 3, 2, 2, 2, 2, 2, 2, 2, 3, 2, 2, 2, 2, 2, 2, 2, 2, 2, 2, 2, 2, 3, 2, 2, 2, 2, 3, 2, 2, 2, 2, 2, 2, 2, 2, 2, 2, 2, 2, 2, 2, 2, 2, 2, 2, 2, 2, 2, 2, 3, 3, 2, 4, 2, 3, 2, 2, 2, 2, 2, 2, 2, 2, 2, 2, 2, 2, 2, 3, 3, 2, 2, 2, 2, 2, 2, 3, 2, 2, 2, 2, 2, 2, 2, 2, 2, 2, 2, 2, 3, 2, 2, 2, 2, 2, 2, 2, 2, 2, 2, 2, 2, 2, 2, 2, 2, 2, 2, 2, 2, 4, 2, 2, 2, 2, 2, 3, 2, 2, 2, 2, 2, 2, 2, 2, 3, 2, 2, 2, 2, 4, 2, 2, 2, 2, 2, 2, 2, 2, 2, 2, 2, 2, 2, 2, 2, 2, 2, 3, 2, 2, 2, 2, 2, 2, 2, 2, 2, 2, 3, 2, 2, 2, 2, 2, 2, 2, 2, 2, 2, 2, 2, 2, 2, 2, 2, 2, 3, 2, 3, 2, 2, 2, 2, 2, 2, 3, 2, 2, 2, 2, 2, 4, 2, 2, 3, 2, 4, 2, 3, 2, 2, 2, 2, 2, 2, 2, 2, 2, 2, 2, 3, 2, 2, 3, 2, 2, 2, 2, 2, 2, 3, 2, 2, 2, 3, 2, 2, 3, 2, 2, 2, 2, 2, 2, 2, 2, 2, 2, 2, 2, 2, 2, 3, 2, 2, 2, 2, 2, 2, 3, 2, 2, 2, 2, 4, 3, 2, 3, 2, 2, 2, 2, 2, 2, 2, 3, 2, 3, 2, 2, 3, 2, 2, 2, 2, 2, 2, 2, 2, 2, 2, 2, 2, 2, 2, 2, 2, 2, 2, 2, 3, 2, 2, 2, 2, 2, 2, 2, 2, 2, 2, 2, 2, 2, 3, 2, 2, 2, 2, 2, 2, 2, 2, 2, 2, 2, 2, 2, 2, 2, 2, 2, 2, 2, 2, 2, 2, 2, 3, 3, 2, 2, 2, 2, 2, 2, 2, 2, 2, 2, 2, 2, 2, 2, 2, 2, 2, 2, 2, 3, 2, 2, 2, 2, 2, 2, 2, 2, 2, 3, 2, 2, 3, 2, 2, 3, 2, 2, 2, 2, 2, 2, 2, 2, 2, 2, 2, 2, 2, 2, 2, 2, 2, 2, 2, 2, 2, 2, 2, 2, 2, 2, 2, 2, 2, 2, 2, 2, 3, 2, 2, 2, 2, 2, 2, 3, 2, 2, 2, 2, 2, 2, 2, 2, 2, 2, 3, 2, 2, 2, 2, 3, 2, 2, 2, 2, 2, 2, 3, 2, 2, 2, 3, 2, 2, 2, 2, 2, 2, 2, 2, 2, 2, 2, 2, 2, 2, 2, 2, 2, 3, 2, 2, 2, 2, 2, 2, 2, 2, 3, 2, 2, 2, 2, 2, 2, 2, 3, 2, 2, 2, 2, 2, 2, 2, 3, 2, 2, 2, 2, 2, 2, 2, 2, 2, 2, 4, 2, 2, 2, 2, 2, 2, 2, 2, 2, 2, 2, 2, 2, 2, 2, 2, 2, 2, 2, 2, 2, 2, 2, 2, 2, 2, 3, 2, 2, 2, 2, 2, 4, 2, 2, 2, 3, 2, 2, 2, 2, 2, 2, 2, 2, 2, 2, 2, 2, 2, 2, 2, 2, 2, 2, 2, 2, 4, 3, 2, 2, 2, 2, 2, 2, 2, 2, 2, 2, 3, 2, 2, 2, 2, 2, 2, 2, 2, 2, 2, 2, 2, 2, 2, 3, 4, 3, 3, 3, 2, 2, 4, 3, 2, 2, 2, 2, 2, 2, 2, 3, 2, 2, 2, 2, 2, 2, 2, 3, 2, 2, 3, 2, 2, 2, 2, 2, 2, 2, 2, 2, 2, 3, 2, 2, 2, 2, 2, 2, 3, 2, 2, 2, 2, 2, 2, 3, 2, 3, 2, 2, 2, 2, 2, 2, 3, 2, 2, 2, 2, 2, 2, 2, 2, 2, 2, 2, 2, 2, 2, 2, 4, 2, 2, 2, 2, 2, 2, 2, 2, 2, 2, 2, 3, 2, 2, 2, 2, 2, 2, 2, 2, 2, 2, 2, 2, 2, 3, 2, 2, 2, 3, 2, 2, 2, 3, 2, 2, 2, 2, 2, 2, 3, 2, 2, 2, 2, 2, 3, 2, 2, 2, 2, 2, 2, 2, 2, 2, 3, 2, 2, 2, 3, 2, 2, 2, 2, 2, 2, 2, 2, 2, 3, 2, 2, 2, 2, 2, 3, 2, 2, 2, 2, 2, 4, 3, 3, 2, 2, 2, 2, 2, 2, 3, 2, 2, 2, 4, 2, 2, 2, 2, 2, 2, 2, 2, 2, 2, 3, 2, 2, 2, 2, 2, 2, 2, 3, 2, 2, 2, 2, 2, 2, 2, 2, 2, 2, 2, 2, 3, 2, 2, 2, 2, 2, 2, 2, 2, 2, 2, 2, 2, 2, 2, 2, 2, 2, 2, 2, 2, 2, 2, 2, 2, 2, 2, 2, 2, 2, 2, 2, 2, 2, 2, 2, 2, 2, 2, 2, 3, 4, 3, 2, 2, 2, 2, 3, 2, 2, 2, 4, 3, 2, 2, 2, 4, 2, 2, 2, 2, 2, 2, 2, 3, 2, 2, 2, 4, 2, 2, 2, 2, 2, 2, 2, 2, 2, 3, 2, 2, 2, 2, 3, 3, 2, 2, 2, 2, 2, 3, 2, 2, 2, 2, 2, 2, 2, 2, 3, 2, 2, 2, 2, 2, 3, 2, 4, 2, 2, 2, 2, 2, 2, 2, 2, 2, 2, 2, 2, 2, 2, 2, 2, 3, 2, 3, 3, 2, 2, 2, 2, 2, 2, 2, 2, 2, 2, 2, 2, 2, 2, 2, 2, 2, 2, 2, 2, 2, 2, 2, 2, 2, 2, 2, 2, 2, 2, 2, 2, 2, 2, 2, 2, 2, 2, 3, 2, 2, 2, 2, 2, 2, 2, 2, 2, 2, 2, 2, 2, 2, 2, 2, 4, 3, 2, 2, 2, 2, 2, 3, 2, 4, 2, 2, 3, 2, 2, 2, 2, 4, 2, 2, 2, 2, 2, 2, 2, 2, 2, 2, 2, 2, 2, 2, 2, 2, 2, 2, 2, 3, 2, 2, 2, 2, 4, 2, 2, 2, 3, 2, 2, 2, 2, 2, 2, 2, 2, 2, 2, 2, 2, 2, 2, 2, 2, 2, 2, 2, 2, 2, 2, 2, 2, 2, 2, 2, 2, 2, 2, 2, 2, 2, 2, 2, 3, 2, 2, 2, 2, 2, 2, 2, 2, 2, 2, 3, 2, 2, 2, 2, 2, 2, 2, 2, 2, 3, 2, 4, 2, 2, 2, 3, 2, 2, 4, 2, 2, 2, 2, 2, 2, 2, 2, 3, 2, 2, 2, 2, 2, 2, 2, 2, 2, 2, 2, 2, 2, 3, 3, 2, 2, 2, 2, 2, 3, 2, 2, 2, 2, 2, 2, 2, 2, 2, 2, 2, 2, 2, 2, 2, 2, 2, 2, 2, 2, 2, 2, 2, 2, 2, 2, 2, 2, 2, 2, 2, 2, 2, 2, 2, 3, 2, 2, 2, 2, 2, 2, 2, 3, 2, 4, 2, 3, 2, 2, 2, 2, 2, 2, 2, 2, 2, 2, 2, 3, 2, 3, 2, 2, 3, 2, 2, 2, 2, 2, 2, 3, 2, 2, 2, 2, 2, 2, 2, 2, 2, 2, 2, 2, 2, 2, 2, 3, 3, 2, 2, 2, 2, 2, 2, 2, 3, 2, 3, 2, 2, 3, 2, 2, 2, 2, 2, 2, 2, 2, 2, 2, 2, 2, 3, 2, 2, 2, 3, 2, 2, 2, 2, 2, 2, 3, 2, 2, 2, 3, 2, 2, 2, 2, 4, 2, 2, 2, 2, 2, 2, 2, 2, 2, 2, 2, 3, 3, 2, 2, 2, 2, 2, 2, 2, 2, 2, 2, 2, 2, 2, 2, 2, 2, 2, 2, 2, 2, 2, 2, 2, 2, 2, 2, 3, 2, 2, 2, 3, 2, 2, 2, 2, 2, 2, 2, 3, 2, 2, 2, 2, 2, 3, 2, 2, 2, 2, 2, 2, 3, 2, 2, 2, 2, 2, 2, 2, 2, 3, 2, 2, 2, 2, 2, 2, 2, 2, 2, 3, 2, 3, 2, 2, 2, 2, 2, 4, 2, 2, 2, 3, 2, 2, 2, 2, 2, 2, 2, 2, 3, 2, 2, 2, 2, 2, 2, 2, 2, 3, 2, 2, 2, 3, 2, 2, 2, 2, 2, 2, 2, 3, 3, 2, 2, 2, 2, 3, 2, 2, 2, 2, 2, 2, 2, 2, 2, 2, 2, 2, 3, 2, 2, 2, 2, 2, 3, 2, 2, 2, 2, 2, 2, 2, 2, 2, 2, 2, 2, 2, 5, 2, 2, 2, 3, 2, 2, 2, 2, 2, 2, 2, 2, 2, 2, 2, 2, 3, 2, 2, 2, 2, 2, 2, 2, 2, 2, 2, 2, 2, 3, 2, 2, 2, 2, 2, 2, 2, 2, 2, 2, 2, 2, 2, 2, 3, 2, 2, 2, 2, 2, 2, 2, 2, 2, 2, 3, 3, 2, 2, 2, 2, 2, 3, 3, 2, 2, 2, 2, 2, 2, 2, 3, 4, 2, 2, 2, 2, 2, 2, 3, 2, 2, 2, 3, 4, 5, 2, 2, 2, 2, 2, 2, 2, 3, 2, 2, 2, 2, 4, 2, 2, 2, 2, 2, 2, 2, 3, 2, 2, 2, 2, 2, 2, 2, 2, 3, 2, 2, 2, 2, 2, 2, 2, 3, 2, 2, 2, 2, 2, 2, 2, 2, 2, 2, 2, 2, 2, 2, 2, 3, 2, 2, 2, 2, 2, 2, 2, 2, 2, 2, 2, 3, 2, 2, 2, 2, 2, 2, 2, 2, 2, 2, 2, 3, 2, 2, 2, 2, 2, 2, 2, 2, 2, 2, 2, 2, 2, 2, 2, 2, 2, 2, 2, 2, 2, 2, 2, 2, 2, 2, 3, 3, 2, 2, 2, 2, 2, 2, 2, 2, 3, 2, 2, 2, 3, 2, 2, 2, 2, 2, 2, 2, 2, 3, 2, 2, 2, 2, 2, 2, 2, 2, 2, 2, 2, 2, 2, 4, 2, 3, 2, 2, 2, 2, 2, 2, 2, 3, 2, 2, 2, 2, 2, 2, 2, 3, 2, 3, 2, 2, 2, 2, 2, 2, 2, 2, 2, 3, 3, 2, 2, 2, 2, 3, 2, 3, 2, 2, 2, 2, 2, 2, 2, 2, 2, 3, 2, 2, 2, 2, 2, 2, 2, 3, 2, 2, 2, 2, 2, 2, 2, 2, 3, 2, 2, 2, 2, 2, 3, 2, 2, 2, 5, 2, 2, 2, 2, 2, 2, 3, 2, 2, 2, 2, 2, 2, 2, 2, 2, 2, 2, 2, 2, 2, 3, 2, 2, 2, 2, 2, 2, 3, 2, 2, 2, 2, 2, 3, 3, 2, 2, 2, 2, 3, 2, 2, 2, 3, 2, 2, 2, 2, 2, 2, 2, 2, 4, 3, 2, 2, 3, 3, 2, 2, 2, 2, 2, 2, 2, 2, 2, 2, 2, 2, 2, 2, 2, 3, 2, 2, 2, 2, 2, 2, 2, 2, 2, 2, 2, 3, 3, 2, 2, 2, 2, 2, 2, 2, 2, 2, 2, 3, 2, 2, 2, 2, 2, 2, 2, 2, 2, 3, 2, 2, 3, 2, 2, 2, 2, 2, 2, 2, 3, 2, 2, 2, 2, 2, 2, 2, 3, 2, 2, 2, 2, 2, 2, 2, 2, 2, 2, 2, 2, 2, 3, 2, 4, 2, 3, 2, 2, 2, 2, 2, 2, 2, 2, 2, 2, 2, 2, 2, 2, 2, 2, 2, 2, 2, 2, 2, 2, 2, 2, 2, 2, 2, 2, 2, 2, 2, 2, 3, 2, 2, 2, 3, 2, 2, 2, 2, 2, 2, 2, 2, 2, 2, 2, 3, 2, 2, 2, 2, 2, 2, 2, 3, 2, 2, 2, 2, 2, 2, 3, 2, 2, 3, 2, 3, 2, 2, 3, 2, 2, 5, 2, 2, 2, 3, 2, 2, 3, 2, 2, 2, 2, 2, 2, 2, 2, 2, 2, 2, 2, 2, 2, 2, 2, 2, 2, 2, 2, 2, 2, 2, 3, 2, 2, 2, 2, 2, 2, 3, 2, 2, 2, 2, 2, 2, 2, 2, 2, 2, 2, 2, 2, 2, 2, 2, 2, 2, 2, 2, 2, 2, 2, 2, 2, 2, 3, 2, 2, 2, 2, 2, 3, 2, 2, 2, 2, 2, 2, 2, 2, 3, 3, 2, 2, 2, 2, 2, 2, 2, 2, 2, 2, 2, 3, 2, 2, 2, 2, 2, 2, 2, 4, 2, 2, 2, 2, 2, 2, 2, 2, 2, 2, 2, 2, 2, 2, 2, 2, 2, 2, 2, 2, 2, 2, 3, 2, 2, 2, 2, 2, 2, 2, 2, 3, 2, 3, 2, 3, 2, 2, 2, 2, 2, 3, 2, 2, 2, 3, 2, 2, 2, 2, 2, 2, 2, 2, 2, 2, 2, 2, 2, 2, 2, 2, 2, 2, 2, 2, 2, 2, 2, 2, 2, 2, 2, 2, 2, 2, 2, 2, 2, 2, 2, 2, 2, 2, 2, 2, 2, 2, 3, 2, 2, 2, 2, 2, 2, 2, 2, 3, 2, 2, 2, 2, 2, 2, 2, 2, 2, 2, 2, 2, 2, 2, 2, 2, 2, 2, 2, 2, 2, 2, 2, 2, 2, 2, 2, 2, 2, 2, 2, 2, 2, 2, 2, 2, 2, 2, 3, 2, 2, 2, 2, 2, 2, 2, 3, 3, 2, 3, 2, 2, 3, 3, 2, 2, 2, 2, 3, 2, 2, 2, 2, 2, 2, 2, 2, 2, 2, 2, 2, 2, 3, 2, 2, 2, 2, 2, 2, 2, 3, 2, 2, 2, 2, 2, 2, 2, 3, 2, 2, 2, 2, 2, 2, 2, 2, 2, 2, 2, 2, 2, 2, 2, 2, 4, 3, 4, 2, 2, 2, 2, 2, 2, 2, 2, 2, 2, 4, 2, 2, 2, 2, 2, 2, 2, 2, 2, 2, 2, 2, 2, 3, 2, 2, 2, 2, 2, 2, 2, 2, 2, 2, 2, 2, 2, 2, 2, 3, 2, 2, 2, 2, 3, 2, 2, 2, 2, 2, 2, 2, 2, 2, 2, 2, 2, 3, 2, 3, 2, 2, 2, 2, 2, 3, 2, 2, 2, 2, 2, 2, 2, 2, 2, 2, 3, 3, 2, 2, 2, 2, 2, 2, 2, 2, 3, 2, 2, 2, 2, 2, 2, 2, 2, 2, 2, 2, 2, 2, 2, 2, 3, 2, 2, 3, 2, 2, 2, 2, 2, 2, 2, 2, 2, 3, 2, 2, 2, 2, 2, 2, 2, 3, 3, 2, 3, 2, 2, 2, 2, 2, 2, 2, 3, 2, 2, 2, 3, 2, 2, 2, 2, 2, 2, 2, 2, 2, 2, 2, 3, 2, 3, 2, 2, 2, 2, 2, 3, 2, 2, 2, 2, 2, 2, 2, 2, 2, 3, 2, 2, 2, 2, 2, 2, 3, 2, 2, 2, 3, 2, 3, 2, 2, 2, 3, 2, 2, 2, 2, 2, 2, 2, 3, 2, 2, 2, 2, 2, 2, 2, 2, 2, 2, 2, 2, 2, 2, 2, 2, 2, 2, 2, 2, 2, 2, 2, 2, 2, 2, 2, 2, 2, 2, 2, 2, 2, 2, 4, 2, 2, 2, 2, 2, 3, 2, 2, 2, 2, 3, 2, 2, 4, 2, 2, 2, 2, 2, 2, 2, 3, 2, 2, 2, 2, 2, 2, 2, 3, 3, 2, 4, 2, 2, 2, 3, 2, 2, 2, 2, 2, 2, 2, 2, 2, 2, 2, 2, 2, 2, 2, 2, 2, 2, 2, 2, 2, 3, 2, 2, 2, 2, 2, 2, 2, 2, 3, 2, 2, 2, 2, 2, 3, 2, 2, 2, 2, 2, 2, 2, 2, 2, 2, 3, 2, 2, 2, 2, 2, 2, 2, 2, 2, 2, 2, 2, 2, 2, 2, 2, 2, 2, 2, 2, 2, 3, 2, 2, 4, 2, 2, 2, 2, 2, 2, 2, 2, 2, 2, 2, 2, 3, 2, 2, 2, 2, 2, 3, 2, 2, 2, 3, 2, 4, 2, 2, 2, 2, 2, 2, 2, 2, 2, 2, 2, 2, 2, 2, 2, 2, 2, 2, 2, 2, 2, 2, 2, 2, 2, 2, 2, 2, 2, 2, 2, 2, 2, 2, 2, 3, 2, 2, 2, 3, 2, 2, 2, 2, 2, 2, 3, 2, 2, 2, 2, 2, 2, 2, 3, 2, 2, 2, 2, 3, 2, 2, 2, 2, 2, 2, 2, 3, 2, 2, 2, 2, 2, 2, 2, 2, 2, 2, 2, 2, 2, 2, 2, 2, 2, 2, 2, 2, 2, 2, 2, 2, 3, 2, 2, 3, 2, 2, 2, 2, 2, 2, 2, 2, 2, 2, 2, 2, 3, 2, 2, 4, 2, 2, 2, 2, 2, 2, 2, 2, 2, 2, 3, 2, 2, 2, 2, 2, 2, 2, 2, 5, 3, 2, 2, 2, 2, 2, 2, 2, 3, 2, 2, 2, 2, 2, 2, 2, 3, 2, 2, 3, 2, 2, 2, 2, 2, 2, 2, 2, 2, 2, 2, 2, 2, 2, 2, 2, 3, 2, 2, 2, 2, 2, 2, 2, 3, 3, 2, 2, 2, 2, 4, 2, 2, 3, 3, 2, 2, 2, 2, 2, 2, 2, 2, 3, 2, 2, 2, 2, 2, 2, 2, 2, 2, 2, 2, 2, 2, 2, 2, 2, 2, 2, 2, 2, 3, 2, 3, 2, 2, 2, 2, 2, 3, 2, 2, 2, 2, 3, 2, 2, 3, 3, 2, 2, 2, 2, 2, 3, 2, 2, 2, 2, 2, 2, 2, 2, 3, 2, 2, 2, 2, 2, 2, 2, 2, 2, 2, 2, 2, 2, 2, 2, 2, 2, 2, 2, 2, 2, 2, 2, 2, 2, 2, 3, 2, 2, 2, 2, 2, 3, 2, 2, 2, 2, 2, 2, 2, 2, 2, 2, 2, 2, 2, 3, 2, 2, 3, 2, 2, 2, 2, 3, 2, 2, 3, 2, 2, 2, 2, 2, 2, 2, 3, 2, 2, 2, 2, 2, 3, 3, 2, 2, 2, 3, 2, 2, 2, 3, 2, 2, 2, 2, 2, 2, 2, 2, 3, 3, 2, 2, 2, 2, 2, 2, 2, 2, 2, 2, 2, 2, 2, 2, 2, 2, 2, 2, 2, 2, 2, 2, 2, 2, 2, 2, 2, 2, 2, 2, 2, 2, 2, 2, 3, 2, 2, 3, 2, 2, 2, 2, 3, 2, 3, 2, 3, 2, 2, 2, 2, 3, 2, 2, 2, 2, 3, 2, 2, 2, 2, 2, 2, 2, 2, 3, 2, 2, 2, 2, 2, 2, 2, 2, 2, 2, 2, 2, 2, 2, 2, 2, 3, 2, 2, 2, 2, 2, 2, 2, 3, 2, 2, 4, 2, 2, 2, 2, 2, 2, 2, 2, 3, 2, 2, 2, 2, 2, 2, 3, 2, 2, 3, 2, 2, 2, 2, 2, 2, 2, 3, 3, 3, 2, 2, 2, 2, 2, 2, 2, 2, 2, 2, 4, 2, 2, 2, 2, 2, 3, 2, 2, 2, 2, 2, 2, 2, 3, 2, 2, 2, 2, 3, 3, 2, 2, 2, 2, 2, 2, 2, 2, 2, 2, 3, 2, 2, 2, 2, 2, 2, 2, 2, 2, 2, 2, 2, 2, 2, 2, 2, 2, 2, 2, 2, 2, 2, 2, 2, 2, 2, 2, 2, 2, 2, 4, 2, 2, 2, 2, 2, 2, 2, 2, 2, 2, 2, 2, 2, 2, 4, 2, 2, 2, 2, 3, 3, 2, 2, 2, 2, 2, 2, 2, 2, 2, 2, 2, 2, 2, 2, 2, 3, 2, 2, 2, 2, 2, 2, 2, 2, 2, 2, 2, 2, 2, 2, 2, 2, 2, 2, 2, 2, 2, 2, 2, 2, 2, 2, 2, 2, 3, 2, 2, 3, 2, 2, 2, 2, 2, 2, 2, 2, 2, 2, 2, 2, 2, 2, 2, 3, 2, 2, 2, 2, 2, 2, 2, 2, 2, 2, 2, 2, 2, 2, 2, 2, 2, 2, 2, 2, 2, 2, 2, 2, 2, 3, 2, 3, 2, 2, 2, 2, 3, 2, 3, 2, 2, 2, 2, 2, 2, 3, 2, 2, 2, 2, 2, 2, 2, 2, 2, 2, 2, 2, 3, 2, 2, 2, 2, 2, 2, 2, 2, 2, 2, 3, 3, 2, 2, 2, 2, 2, 2, 2, 2, 2, 2, 2, 2, 2, 3, 3, 2, 2, 2, 2, 3, 3, 2, 2, 2, 2, 2, 2, 2, 2, 2, 2, 2, 2, 3, 2, 2, 2, 2, 2, 2, 2, 2, 2, 2, 2, 2, 2, 2, 2, 2, 2, 2, 2, 2, 2, 2, 2, 2, 2, 2, 2, 2, 3, 2, 2, 2, 2, 2, 2, 2, 2, 2, 2, 2, 2, 2, 2, 2, 2, 2, 2, 2, 2, 2, 2, 2, 2, 2, 2, 2, 2, 2, 2, 2, 2, 2, 2, 2, 2, 2, 3, 2, 2, 2, 2, 2, 2, 3, 2, 2, 2, 2, 2, 3, 2, 2, 2, 2, 2, 2, 2, 2, 2, 2, 2, 2, 2, 2, 3, 2, 2, 2, 2, 2, 2, 2, 2, 2, 2, 2, 3, 3, 3, 4, 3, 2, 2, 2, 2, 2, 2, 2, 2, 2, 2, 2, 3, 2, 2, 2, 2, 2, 2, 2, 3, 2, 2, 2, 2, 2, 2, 2, 3, 3, 2, 2, 3, 2, 2, 2, 2, 2, 2, 2, 2, 2, 2, 2, 2, 2, 2, 2, 2, 2, 2, 2, 2, 2, 2, 2, 2, 2, 2, 2, 2, 2, 2, 2, 2, 2, 2, 2, 2, 3, 2, 2, 2, 2, 2, 2, 2, 2, 2, 2, 2, 2, 2, 2, 2, 4, 2, 2, 2, 2, 2, 2, 2, 3, 2, 2, 3, 2, 2, 2, 2, 2, 2, 2, 3, 3, 2, 2, 2, 2, 2, 2, 2, 2, 2, 2, 2, 2, 2, 2, 2, 2, 2, 2, 2, 2, 2, 2, 3, 3, 2, 2, 2, 2, 2, 2, 2, 4, 2, 2, 2, 3, 2, 2, 2, 2, 2, 3, 2, 2, 2, 2, 2, 2, 2, 2, 2, 4, 2, 2, 2, 2, 2, 2, 2, 2, 2, 2, 2, 2, 3, 3, 2, 2, 2, 2, 2, 4, 2, 2, 2, 2, 2, 2, 2, 3, 2, 2, 2, 2, 2, 2, 2, 2, 2, 2, 2, 2, 2, 3, 2, 3, 3, 2, 2, 3, 2, 2, 2, 2, 3, 2, 2, 2, 2, 2, 2, 2, 2, 3, 2, 2, 2, 2, 3, 2, 2, 2, 2, 2, 2, 2, 2, 2, 2, 2, 2, 2, 2, 2, 2, 2, 2, 2, 2, 2, 2, 2, 2, 2, 2, 2, 2, 3, 2, 2, 2, 2, 2, 2, 2, 2, 2, 2, 2, 2, 2, 2, 2, 2, 2, 2, 3, 2, 2, 4, 2, 3, 2, 2, 2, 2, 3, 2, 2, 2, 2, 2, 2, 2, 2, 2, 2, 2, 2, 2, 2, 2, 2, 2, 2, 2, 2, 2, 2, 2, 2, 3, 2, 2, 2, 2, 2, 2, 2, 2, 2, 2, 2, 2, 2, 2, 2, 2, 2, 2, 2, 2, 2, 2, 2, 2, 2, 2, 2, 2, 2, 4, 2, 2, 2, 2, 2, 2, 2, 2, 3, 2, 2, 3, 2, 2, 2, 2, 2, 4, 2, 2, 2, 2, 3, 2, 2, 3, 2, 2, 2, 2, 2, 2, 2, 2, 2, 2, 2, 2, 2, 3, 2, 2, 2, 2, 2, 2, 2, 2, 2, 2, 2, 2, 2, 2, 2, 2, 2, 2, 2, 2, 2, 2, 3, 2, 2, 2, 3, 2, 3, 2, 2, 2, 2, 2, 2, 2, 2, 2, 2, 2, 2, 2, 3, 2, 2, 2, 2, 2, 2, 2, 2, 2, 2, 2, 2, 2, 3, 2, 2, 2, 2, 2, 2, 2, 2, 3, 2, 2, 2, 2, 3, 2, 3, 2, 2, 2, 3, 2, 2, 2, 2, 2, 2, 2, 3, 3, 2, 2, 2, 2, 2, 2, 3, 2, 2, 2, 2, 2, 2, 2, 2, 2, 2, 2, 2, 2, 3, 3, 2, 2, 2, 2, 2, 2, 2, 2, 2, 2, 2, 2, 2, 2, 2, 2, 2, 2, 2, 2, 3, 2, 2, 2, 2, 2, 2, 2, 3, 2, 3, 2, 2, 2, 2, 2, 2, 2, 2, 2, 2, 2, 2, 2, 2, 2, 2, 2, 2, 5, 2, 2, 4, 2, 2, 2, 2, 2, 2, 2, 2, 2, 2, 2, 2, 2, 2, 2, 2, 2, 2, 2, 3, 2, 2, 2, 2, 2, 2, 4, 2, 2, 2, 2, 2, 2, 2, 2, 2, 2, 2, 2, 2, 2, 2, 2, 2, 2, 2, 3, 2, 2, 2, 2, 2, 2, 2, 2, 2, 2, 2, 2, 2, 4, 2, 2, 2, 2, 2, 2, 2, 2, 2, 2, 2, 2, 3, 2, 2, 2, 2, 3, 2, 2, 2, 2, 3, 2, 2, 2, 2, 2, 2, 2, 2, 2, 2, 3, 2, 2, 2, 2, 2, 2, 3, 2, 2, 2, 2, 2, 2, 2, 2, 2, 2, 2, 4, 2, 2, 2, 2, 2, 2, 2, 2, 2, 2, 2, 2, 2, 2, 2, 2, 2, 2, 2, 3, 2, 2, 2, 2, 2, 3, 2, 2, 2, 2, 2, 3, 2, 2, 3, 2, 2, 2, 2, 2, 2, 2, 2, 2, 2, 2, 2, 2, 2, 2, 2, 2, 2, 3, 2, 2, 2, 2, 2, 2, 2, 2, 2, 2, 2, 2, 2, 2, 2, 2, 2, 2, 2, 2, 2, 2, 2, 3, 2, 2, 2, 2, 2, 2, 2, 2, 2, 2, 2, 2, 2, 2, 2, 2, 2, 2, 2, 2, 2, 2, 2, 3, 2, 2, 2, 2, 3, 2, 2, 2, 2, 2, 2, 2, 2, 2, 2, 3, 2, 2, 2, 2, 2, 4, 2, 2, 2, 2, 2, 2, 2, 2, 2, 2, 2, 2, 2, 2, 2, 2, 2, 2, 2, 2, 2, 2, 2, 2, 2, 2, 2, 3, 2, 2, 2, 2, 2, 2, 2, 2, 2, 4, 2, 2, 2, 2, 2, 2, 2, 2, 3, 2, 3, 2, 2, 2, 2, 2, 2, 2, 2, 2, 2, 2, 2, 2, 2, 3, 2, 2, 2, 2, 2, 2, 2, 2, 2, 2, 2, 2, 2, 2, 2, 3, 3, 2, 2, 2, 2, 2, 2, 2, 2, 2, 2, 2, 2, 2, 2, 2, 2, 3, 2, 2, 3, 3, 2, 2, 3, 2, 2, 2, 2, 2, 2, 2, 2, 2, 2, 3, 2, 2, 2, 2, 2, 2, 2, 2, 2, 2, 2, 2, 2, 2, 2, 2, 4, 4, 2, 2, 2, 3, 2, 2, 4, 2, 2, 2, 3, 2, 2, 2, 2, 3, 2, 2, 3, 2, 2, 2, 3, 2, 2, 2, 2, 2, 3, 2, 2, 4, 2, 2, 2, 2, 2, 2, 2, 2, 2, 2, 2, 2, 2, 2, 2, 3, 2, 2, 2, 2, 2, 2, 2, 2, 2, 2, 2, 2, 2, 2, 2, 2, 2, 2, 2, 2, 2, 2, 2, 2, 2, 2, 2, 2, 2, 3, 2, 2, 2, 2, 2, 2, 2, 2, 2, 2, 2, 2, 2, 2, 2, 2, 2, 3, 2, 2, 2, 2, 2, 2, 2, 2, 2, 2, 2, 2, 2, 2, 2, 2, 2, 2, 3, 2, 2, 2, 2, 2, 2, 2, 2, 2, 2, 2, 2, 2, 2, 2, 2, 3, 2, 2, 2, 2, 2, 2, 2, 2, 3, 2, 2, 2, 2, 2, 2, 2, 2, 3, 2, 2, 2, 2, 2, 2, 2, 2, 2, 2, 2, 2, 2, 2, 2, 2, 2, 2, 2, 2, 2, 2, 2, 2, 2, 2, 2, 2, 2, 2, 2, 2, 2, 2, 2, 2, 2, 2, 2, 2, 2, 2, 2, 2, 2, 2, 2, 2, 2, 2, 2, 2, 2, 2, 2, 2, 2, 2, 2, 2, 2, 2, 2, 2, 2, 2, 2, 2, 2, 2, 2, 2, 2, 2, 2, 2, 2, 2, 2, 2, 3, 3, 2, 2, 2, 2, 2, 2, 2, 2, 2, 2, 2, 2, 2, 2, 2, 2, 3, 2, 2, 2, 2, 2, 2, 2, 2, 2, 2, 5, 2, 2, 2, 2, 3, 2, 2, 2, 2, 2, 2, 2, 2, 2, 2, 2, 2, 2, 2, 2, 2, 2, 2, 2, 2, 2, 2, 2, 2, 2, 2, 2, 2, 2, 2, 3, 2, 2, 2, 2, 2, 2, 2, 2, 3, 2, 2, 2, 2, 2, 2, 2, 2, 2, 3, 3, 2, 2, 2, 2, 2, 2, 2, 2, 2, 2, 2, 2, 2, 2, 2, 2, 2, 2, 2, 2, 3, 2, 2, 2, 2, 2, 2, 2, 2, 2, 2, 2, 4, 2, 2, 2, 3, 2, 2, 2, 2, 2, 2, 2, 2, 2, 2, 2, 2, 3, 3, 3, 2, 2, 2, 2, 2, 2, 2, 2, 2, 2, 2, 2, 2, 2, 2, 2, 2, 2, 2, 2, 2, 2, 2, 2, 2, 2, 2, 3, 2, 2, 2, 2, 2, 2, 2, 2, 2, 2, 2, 2, 2, 2, 2, 2, 2, 2, 2, 2, 4, 2, 2, 3, 2, 2, 2, 3, 2, 2, 3, 2, 2, 2, 2, 2, 2, 2, 2, 2, 2, 2, 2, 2, 2, 2, 2, 2, 2, 2, 2, 2, 2, 2, 2, 2, 2, 2, 2, 2, 2, 2, 2, 3, 2, 2, 2, 2, 3, 2, 4, 2, 3, 2, 2, 2, 2, 2, 2, 2, 2, 2, 2, 2, 3, 2, 2, 2, 2, 2, 2, 2, 2, 2, 2, 2, 2, 3, 2, 2, 2, 2, 2, 3, 2, 2, 2, 2, 2, 2, 2, 3, 2, 2, 4, 2, 2, 2, 2, 2, 2, 2, 2, 2, 3, 2, 2, 2, 2, 2, 2, 2, 3, 2, 2, 2, 2, 3, 2, 2, 2, 2, 2, 2, 2, 2, 2, 2, 2, 2, 2, 2, 2, 2, 2, 2, 2, 2, 2, 2, 2, 2, 2, 2, 3, 2, 3, 2, 2, 2, 2, 2, 2, 2, 2, 2, 2, 3, 2, 3, 2, 2, 2, 3, 2, 2, 2, 2, 2, 2, 2, 2, 2, 2, 2, 2, 2, 2, 2, 2, 2, 2, 2, 2, 2, 2, 2, 2, 2, 2, 2, 2, 2, 2, 2, 2, 2, 2, 3, 3, 2, 2, 2, 2, 2, 2, 2, 2, 2, 2, 3, 3, 2, 2, 2, 2, 2, 3, 2, 2, 2, 2, 2, 3, 2, 2, 2, 2, 2, 2, 2, 2, 2, 3, 2, 3, 2, 2, 2, 2, 2, 2, 2, 2, 3, 2, 2, 2, 2, 2, 2, 2, 2, 2, 2, 3, 2, 3, 2, 2, 3, 2, 2, 2, 2, 3, 2, 2, 2, 2, 2, 2, 2, 2, 3, 2, 2, 2, 2, 2, 3, 2, 2, 2, 2, 2, 2, 2, 2, 3, 2, 2, 2, 3, 2, 2, 2, 2, 3, 2, 3, 2, 2, 2, 2, 3, 2, 2, 2, 2, 2, 2, 2, 2, 2, 2, 4, 2, 2, 2, 2, 2, 2, 2, 2, 2, 2, 2, 2, 3, 2, 2, 2, 2, 2, 2, 2, 3, 2, 2, 4, 2, 2, 2, 2, 2, 2, 2, 2, 2, 2, 2, 2, 2, 2, 2, 2, 2, 2, 2, 2, 2, 3, 2, 2, 2, 2, 2, 2, 2, 2, 2, 2, 2, 2, 2, 3, 2, 2, 2, 2, 2, 2, 2, 2, 2, 2, 2, 2, 2, 2, 2, 2, 2, 2, 2, 2, 2, 2, 2, 2, 2, 2, 2, 2, 2, 3, 3, 2, 2, 2, 2, 2, 2, 2, 2, 2, 4, 2, 2, 2, 2, 2, 2, 2, 2, 2, 2, 2, 2, 2, 2, 2, 2, 2, 2, 2, 2, 2, 2, 3, 2, 2, 2, 2, 3, 2, 2, 2, 2, 2, 2, 2, 2, 4, 2, 2, 2, 2, 2, 2, 2, 2, 2, 2, 2, 2, 2, 2, 2, 2, 2, 2, 2, 2, 2, 2, 2, 2, 2, 2, 2, 2, 2, 3, 2, 2, 2, 2, 3, 2, 2, 2, 2, 2, 3, 2, 2, 2, 2, 2, 2, 2, 2, 2, 2, 2, 2, 2, 2, 2, 2, 2, 2, 2, 2, 2, 2, 2, 2, 2, 2, 2, 2, 2, 2, 2, 2, 2, 2, 3, 2, 2, 2, 2, 2, 2, 2, 2, 2, 2, 2, 2, 2, 2, 2, 2, 2, 2, 2, 2, 2, 2, 2, 2, 2, 2, 2, 2, 2, 2, 2, 2, 2, 2, 2, 2, 3, 3, 2, 2, 4, 2, 2, 2, 2, 2, 2, 2, 2, 3, 2, 2, 2, 2, 2, 2, 2, 2, 2, 3, 2, 2, 2, 2, 3, 2, 2, 2, 2, 2, 2, 2, 2, 2, 3, 2, 2, 3, 2, 2, 2, 2, 2, 2, 2, 2, 2, 2, 2, 2, 2, 2, 2, 3, 2, 2, 2, 2, 2, 2, 2, 2, 2, 3, 2, 2, 3, 2, 2, 2, 2, 2, 2, 2, 2, 2, 2, 2, 2, 2, 2, 2, 2, 2, 2, 2, 2, 2, 2, 2, 2, 2, 2, 2, 2, 2, 2, 2, 2, 2, 2, 2, 2, 2, 2, 2, 2, 2, 3, 2, 2, 2, 3, 3, 2, 2, 2, 2, 2, 3, 2, 2, 2, 2, 2, 2, 2, 2, 2, 2, 2, 2, 2, 2, 2, 2, 2, 2, 2, 2, 2, 2, 2, 3, 2, 2, 2, 2, 2, 3, 2, 2, 2, 2, 4, 2, 3, 2, 2, 2, 2, 2, 2, 2, 2, 2, 3, 2, 2, 2, 2, 3, 2, 2, 2, 2, 2, 2, 2, 2, 3, 4, 2, 2, 2, 2, 2, 2, 2, 2, 2, 2, 2, 3, 2, 2, 2, 2, 2, 2, 2, 2, 2, 2, 2, 2, 2, 2, 2, 2, 2, 3, 2, 2, 3, 2, 2, 2, 2, 2, 2, 2, 2, 2, 2, 2, 3, 2, 2, 2, 2, 4, 2, 3, 2, 3, 2, 2, 2, 2, 2, 3, 2, 4, 2, 2, 2, 2, 2, 2, 5, 2, 2, 2, 2, 2, 2, 2, 2, 2, 2, 2, 2, 2, 2, 2, 3, 2, 2, 2, 2, 2, 2, 2, 2, 2, 2, 2, 2, 2, 2, 2, 2, 2, 2, 2, 2, 2, 2, 2, 2, 2, 2, 2, 2, 2, 2, 2, 2, 3, 2, 2, 2, 2, 2, 2, 2, 2, 2, 2, 2, 2, 2, 3, 2, 2, 2, 2, 2, 3, 2, 2, 2, 2, 4, 2, 2, 2, 2, 2, 2, 2, 2, 2, 2, 3, 3, 2, 2, 2, 2, 2, 2, 2, 2, 2, 2, 2, 2, 2, 2, 2, 3, 2, 2, 2, 2, 2, 2, 2, 2, 2, 2, 2, 2, 2, 2, 2, 2, 3, 2, 2, 2, 3, 2, 2, 2, 2, 2, 2, 2, 2, 3, 2, 2, 2, 2, 2, 2, 2, 2, 2, 2, 2, 2, 2, 2, 2, 2, 2, 2, 2, 3, 2, 2, 2, 2, 2, 2, 2, 2, 2, 2, 2, 2, 2, 2, 2, 2, 2, 2, 2, 2, 2, 2, 2, 2, 2, 2, 3, 2, 2, 2, 2, 2, 2, 2, 2, 2, 2, 2, 2, 2, 2, 2, 2, 2, 2, 3, 2, 2, 2, 2, 2, 2, 2, 2, 2, 2, 2, 2, 2, 2, 2, 2, 2, 2, 2, 3, 2, 2, 2, 2, 2, 2, 2, 2, 2, 2, 2, 2, 2, 3, 2, 2, 2, 3, 2, 2, 2, 2, 2, 3, 2, 2, 2, 2, 3, 2, 2, 2, 2, 2, 2, 2, 2, 2, 2, 2, 2, 3, 2, 2, 2, 3, 2, 2, 4, 2, 2, 2, 2, 2, 2, 2, 3, 2, 2, 2, 2, 2, 2, 2, 2, 2, 2, 2, 3, 2, 2, 2, 3, 2, 2, 2, 2, 2, 2, 3, 2, 2, 2, 2, 2, 3, 2, 2, 2, 3, 2, 3, 2, 2, 2, 2, 2, 2, 2, 2, 2, 2, 2, 2, 2, 2, 2, 3, 2, 2, 3, 2, 2, 2, 2, 2, 3, 2, 2, 2, 2, 2, 2, 3, 2, 2, 2, 2, 2, 2, 2, 2, 3, 2, 2, 2, 4, 2, 2, 2, 2, 2, 2, 2, 2, 2, 2, 2, 2, 2, 2, 2, 2, 2, 2, 2, 2, 2, 2, 2, 2, 2, 2, 2, 2, 2, 2, 2, 2, 2, 2, 2, 2, 2, 2, 2, 2, 2, 2, 2, 2, 2, 2, 2, 2, 2, 2, 2, 2, 2, 2, 2, 2, 2, 2, 2, 2, 2, 2, 3, 2, 2, 2, 2, 2, 2, 2, 2, 2, 2, 2, 2, 2, 3, 2, 2, 2, 2, 2, 2, 2, 2, 2, 2, 2, 2, 2, 2, 3, 2, 2, 2, 2, 2, 2, 2, 2, 2, 2, 2, 2, 2, 2, 2, 2, 2, 2, 2, 2, 2, 2, 2, 2, 2, 3, 2, 2, 2, 2, 2, 2, 2, 2, 3, 2, 2, 2, 2, 2, 2, 3, 2, 2, 2, 2, 2, 2, 2, 2, 2, 2, 2, 2, 2, 2, 2, 4, 2, 3, 2, 2, 3, 2, 2, 2, 2, 2, 2, 2, 2, 2, 2, 3, 2, 2, 2, 2, 4, 2, 2, 2, 2, 2, 2, 2, 3, 2, 2, 2, 2, 2, 2, 2, 2, 3, 2, 3, 2, 2, 2, 2, 2, 2, 2, 2, 2, 2, 2, 2, 2, 2, 2, 2, 2, 2, 2, 2, 2, 2, 2, 2, 3, 2, 2, 2, 2, 2, 2, 2, 2, 2, 2, 2, 2, 2, 2, 2, 2, 2, 2, 2, 2, 2, 3, 2, 2, 2, 2, 2, 2, 3, 2, 2, 2, 2, 3, 2, 2, 2, 2, 2, 2, 2, 2, 2, 2, 2, 2, 2, 2, 2, 2, 2, 2, 2, 2, 2, 2, 2, 2, 2, 2, 2, 2, 2, 2, 2, 2, 2, 2, 2, 3, 2, 2, 2, 2, 2, 2, 2, 2, 2, 2, 2, 2, 2, 2, 3, 2, 3, 4, 2, 2, 3, 2, 2, 2, 2, 2, 2, 2, 2, 2, 2, 2, 2, 2, 2, 2, 2, 2, 2, 2, 2, 2, 2, 2, 2, 2, 2, 2, 2, 2, 2, 2, 2, 2, 2, 2, 2, 2, 2, 2, 4, 2, 2, 2, 2, 2, 2, 2, 2, 2, 2, 2, 2, 3, 2, 3, 2, 2, 2, 2, 2, 2, 2, 2, 3, 2, 2, 2, 2, 2, 4, 2, 2, 2, 3, 2, 2, 2, 2, 3, 2, 2, 2, 2, 2, 2, 2, 2, 2, 3, 2, 2, 2, 2, 2, 2, 2, 2, 2, 2, 2, 2, 2, 2, 2, 2, 2, 2, 2, 2, 2, 2, 2, 2, 2, 2, 2, 2, 2, 2, 2, 2, 2, 2, 2, 2, 2, 2, 3, 2, 2, 2, 2, 2, 2, 2, 2, 3, 2, 2, 2, 2, 2, 3, 2, 2, 2, 2, 2, 3, 2, 2, 2, 2, 2, 2, 2, 2, 2, 2, 2, 3, 2, 2, 2, 2, 2, 2, 2, 3, 2, 3, 2, 2, 2, 2, 2, 2, 3, 2, 2, 2, 2, 2, 3, 2, 2, 2, 2, 2, 2, 2, 2, 2, 2, 2, 2, 2, 2, 2, 3, 2, 2, 2, 2, 2, 2, 2, 2, 2, 2, 2, 2, 2, 2, 2, 2, 2, 2, 3, 2, 2, 2, 2, 2, 2, 2, 2, 2, 2, 2, 2, 2, 2, 2, 2, 2, 2, 3, 2, 2, 2, 2, 2, 2, 2, 2, 2, 2, 2, 2, 2, 2, 2, 2, 2, 2, 2, 2, 2, 2, 2, 2, 2, 2, 2, 2, 2, 2, 2, 2, 2, 2, 2, 2, 2, 2, 2, 2, 3, 2, 2, 2, 2, 2, 2, 2, 2, 2, 3, 2, 2, 2, 2, 2, 2, 2, 2, 2, 2, 2, 2, 2, 2, 2, 2, 2, 2, 3, 2, 2, 2, 2, 2, 2, 2, 2, 2, 2, 2, 2, 2, 2, 2, 2, 2, 2, 2, 2, 2, 2, 2, 2, 2, 2, 2, 2, 2, 2, 3, 2, 2, 2, 2, 2, 2, 2, 2, 2, 2, 2, 2, 2, 2, 2, 2, 2, 2, 3, 2, 2, 2, 2, 2, 2, 2, 2, 2, 2, 2, 3, 2, 2, 3, 2, 2, 2, 2, 2, 2, 2, 2, 2, 2, 2, 2, 2, 2, 2, 2, 2, 2, 3, 2, 2, 2, 2, 2, 2, 2, 2, 2, 2, 2, 2, 2, 2, 2, 2, 2, 2, 2, 2, 2, 2, 2, 2, 2, 2, 2, 2, 2, 2, 2, 2, 3, 2, 2, 2, 2, 2, 2, 2, 2, 2, 2, 2, 2, 2, 2, 3, 2, 2, 2, 2, 2, 2, 2, 2, 2, 2, 2, 2, 3, 2, 3, 2, 2, 2, 2, 2, 2, 2, 2, 2, 2, 2, 2, 2, 2, 2, 2, 2, 2, 2, 2, 2, 2, 2, 2, 2, 2, 3, 2, 2, 2, 2, 2, 2, 2, 2, 2, 2, 2, 2, 2, 2, 2, 2, 2, 2, 2, 3, 2, 2, 2, 2, 2, 2, 2, 3, 2, 2, 2, 3, 2, 2, 2, 2, 2, 2, 2, 2, 2, 2, 2, 2, 3, 2, 2, 2, 2, 2, 2, 2, 2, 2, 2, 4, 2, 2, 2, 2, 2, 2, 2, 2, 2, 3, 2, 2, 2, 2, 2, 2, 2, 2, 2, 2, 2, 2, 2, 2, 2, 2, 2, 2, 2, 3, 2, 2, 2, 2, 2, 3, 2, 2, 2, 2, 2, 2, 2, 2, 2, 2, 2, 2, 2, 3, 2, 3, 2, 2, 2, 2, 2, 2, 2, 2, 2, 2, 2, 3, 2, 2, 2, 2, 2, 2, 2, 3, 2, 2, 2, 2, 2, 2, 2, 2, 2, 2, 2, 2, 2, 3, 2, 2, 2, 2, 2, 4, 2, 2, 2, 2, 3, 2, 2, 2, 2, 2, 2, 2, 3, 2, 2, 2, 2, 2, 2, 2, 2, 2, 2, 2, 2, 2, 2, 2, 2, 2, 2, 2, 2, 2, 2, 2, 2, 2, 2, 2, 2, 2, 3, 2, 2, 2, 2, 2, 2, 2, 2, 2, 2, 2, 2, 2, 3, 2, 2, 2, 2, 2, 2, 2, 2, 3, 2, 2, 2, 2, 3, 2, 2, 2, 2, 2, 3, 2, 2, 2, 2, 2, 2, 2, 2, 2, 2, 3, 2, 2, 2, 2, 2, 2, 2, 2, 2, 2, 2, 2, 3, 2, 2, 2, 3, 2, 3, 2, 2, 2, 2, 3, 4, 2, 2, 2, 2, 2, 2, 2, 3, 2, 2, 2, 2, 2, 2, 2, 2, 2, 2, 2, 2, 2, 2, 2, 2, 2, 2, 3, 3, 2, 2, 2, 2, 2, 2, 2, 2, 2, 2, 2, 2, 2, 2, 2, 2, 2, 2, 2, 2, 2, 2, 2, 2, 2, 2, 2, 2, 2, 2, 2, 2, 2, 2, 2, 2, 2, 2, 4, 2, 2, 2, 2, 2, 2, 2, 2, 2, 2, 2, 2, 2, 2, 2, 2, 2, 2, 2, 2, 2, 2, 2, 2, 2, 2, 2, 2, 2, 2, 2, 2, 2, 2, 2, 2, 2, 2, 2, 2, 2, 2, 2, 2, 3, 2, 2, 2, 2, 2, 2, 2, 2, 4, 2, 2, 2, 2, 3, 2, 2, 3, 3, 2, 2, 2, 2, 2, 2, 2, 3, 2, 2, 2, 2, 2, 2, 2, 2, 2, 2, 2, 2, 2, 2, 2, 2, 2, 2, 2, 2, 2, 2, 2, 2, 2, 2, 2, 2, 3, 2, 2, 3, 2, 2, 2, 2, 3, 2, 2, 4, 2, 2, 2, 2, 2, 2, 2, 2, 3, 2, 2, 2, 2, 2, 3, 2, 2, 2, 2, 2, 2, 2, 2, 2, 2, 2, 2, 2, 2, 2, 2, 2, 2, 2, 2, 2, 2, 2, 2, 3, 2, 2, 2, 2, 2, 2, 2, 2, 2, 3, 2, 2, 2, 2, 2, 2, 3, 2, 2, 2, 3, 2, 2, 2, 2, 2, 2, 2, 3, 2, 2, 2, 2, 2, 2, 2, 2, 2, 2, 2, 2, 2, 2, 2, 2, 2, 2, 2, 2, 2, 2, 2, 2, 2, 3, 2, 2, 2, 2, 2, 2, 2, 2, 2, 2, 2, 2, 2, 2, 2, 2, 2, 2, 2, 2, 2, 2, 2, 2, 2, 3, 4, 2, 2, 2, 2, 2, 2, 2, 2, 2, 2, 2, 2, 2, 2, 2, 2, 2, 2, 2, 2, 2, 2, 3, 2, 2, 2, 3, 2, 2, 2, 2, 2, 2, 2, 2, 2, 2, 2, 2, 2, 2, 2, 2, 2, 2, 2, 2, 2, 2, 2, 2, 2, 2, 2, 3, 2, 2, 2, 2, 2, 3, 2, 2, 2, 2, 2, 2, 2, 2, 2, 2, 2, 2, 2, 2, 2, 2, 3, 2, 2, 2, 2, 3, 2, 2, 2, 2, 2, 2, 3, 2, 2, 2, 2, 2, 2, 2, 2, 2, 2, 2, 3, 2, 2, 2, 2, 2, 2, 2, 2, 2, 2, 2, 2, 3, 2, 2, 2, 2, 2, 2, 2, 2, 2, 2, 2, 2, 2, 2, 2, 2, 2, 2, 2, 3, 2, 3, 3, 2, 2, 2, 2, 2, 3, 2, 2, 2, 3, 2, 2, 2, 2, 2, 2, 2, 2, 2, 2, 2, 2, 2, 2, 2, 2, 2, 2, 2, 3, 2, 2, 2, 2, 2, 2, 2, 2, 2, 2, 2, 2, 2, 2, 2, 2, 2, 2, 2, 2, 2, 2, 2, 2, 2, 2, 2, 2, 2, 2, 2, 2, 2, 2, 2, 2, 2, 3, 2, 2, 2, 2, 2, 2, 2, 2, 2, 2, 2, 2, 2, 2, 2, 2, 2, 2, 2, 2, 2, 2, 2, 2, 2, 2, 2, 2, 2, 2, 2, 2, 2, 2, 2, 2, 2, 2, 2, 2, 2, 3, 2, 2, 2, 2, 2, 2, 2, 2, 2, 2, 2, 2, 2, 2, 2, 2, 2, 2, 2, 2, 2, 2, 2, 2, 2, 3, 2, 3, 2, 2, 2, 3, 2, 2, 2, 2, 2, 2, 2, 2, 2, 2, 2, 2, 2, 2, 2, 2, 2, 2, 2, 2, 2, 2, 2, 2, 2, 2, 2, 2, 2, 2, 2, 2, 2, 2, 2, 2, 2, 2, 2, 2, 2, 2, 2, 2, 2, 2, 2, 2, 2, 2, 2, 4, 2, 2, 2, 2, 2, 2, 2, 2, 2, 2, 2, 2, 2, 3, 2, 2, 2, 2, 2, 2, 2, 2, 2, 2, 2, 2, 2, 2, 2, 2, 2, 2, 2, 2, 4, 2, 2, 2, 2, 2, 2, 2, 2, 2, 2, 2, 2, 2, 2, 2, 2, 2, 2, 2, 2, 2, 2, 2, 2, 2, 2, 3, 2, 2, 2, 2, 2, 2, 2, 2, 2, 2, 2, 2, 2, 2, 2, 2, 2, 2, 2, 2, 2, 2, 2, 2, 2, 2, 2, 2, 2, 2, 2, 3, 2, 2, 2, 2, 2, 2, 2, 2, 2, 2, 2, 2, 2, 2, 2, 2, 2, 3, 2, 2, 2, 2, 2, 2, 2, 2, 2, 2, 2, 2, 2, 2, 3, 2, 2, 2, 2, 2, 2, 2, 2, 3, 2, 2, 2, 2, 2, 2, 2, 2, 2, 2, 3, 2, 2, 2, 2, 2, 2, 2, 2, 2, 2, 2, 2, 2, 2, 2, 2, 2, 2, 2, 2, 2, 2, 2, 2, 2, 2, 2, 2, 2, 2, 2, 2, 2, 2, 2, 2, 2, 2, 3, 2, 2, 2, 2, 2, 2, 3, 2, 3, 2, 2, 2, 2, 2, 2, 2, 2, 2, 2, 2, 2, 2, 2, 2, 2, 2, 2, 3, 2, 2, 2, 3, 2, 2, 2, 2, 2, 2, 2, 2, 2, 2, 2, 2, 2, 2, 2, 2, 2, 2, 2, 3, 2, 2, 2, 2, 2, 2, 2, 2, 2, 2, 2, 2, 2, 2, 2, 2, 2, 2, 2, 2, 2, 2, 2, 2, 2, 2, 2, 2, 2, 2, 2, 3, 2, 2, 2, 2, 2, 2, 2, 2, 2, 2, 2, 2, 2, 2, 2, 2, 2, 2, 2, 2, 2, 2, 2, 2, 2, 2, 2, 2, 2, 2, 2, 2, 2, 3, 2, 2, 2, 2, 2, 2, 2, 2, 2, 2, 2, 2, 2, 2, 3, 2, 2, 2, 2, 2, 2, 2, 2, 2, 2, 2, 2, 2, 2, 2, 3, 2, 2, 2, 2, 2, 2, 2, 2, 2, 2, 2, 3, 2, 2, 2, 2, 3, 3, 2, 2, 2, 2, 2, 2, 2, 2, 3, 2, 2, 2, 2, 2, 2, 2, 3, 2, 2, 2, 2, 2, 2, 2, 2, 2, 2, 2, 2, 2, 2, 2, 2, 2, 2, 2, 2, 2, 3, 2, 2, 2, 2, 2, 3, 3, 2, 2, 2, 2, 2, 3, 2, 2, 2, 2, 2, 2, 2, 3, 2, 2, 2, 2, 2, 2, 2, 2, 2, 2, 2, 2, 2, 2, 2, 2, 2, 2, 2, 2, 2, 3, 2, 2, 2, 3, 2, 2, 2, 2, 2, 2, 2, 2, 2, 2, 2, 2, 2, 2, 2, 2, 2, 2, 2, 2, 2, 2, 2, 2, 2, 2, 2, 3, 2, 2, 2, 2, 2, 3, 2, 2, 2, 2, 2, 2, 2, 3, 2, 2, 2, 2, 3, 2, 2, 2, 2, 2, 2, 2, 2, 3, 2, 2, 2, 2, 2, 2, 2, 2, 2, 2, 2, 2, 2, 2, 2, 2, 2, 3, 2, 2, 2, 2, 2, 2, 2, 2, 2, 3, 2, 2, 2, 2, 2, 2, 2, 2, 2, 2, 2, 2, 2, 2, 2, 2, 2, 2, 2, 2, 2, 2, 2, 2, 2, 2, 2, 2, 2, 2, 2, 2, 2, 2, 2, 2, 2, 2, 2, 3, 2, 2, 2, 2, 2, 2, 2, 3, 2, 2, 2, 3, 2, 2, 2, 3, 2, 2, 2, 2, 2, 2, 2, 2, 2, 2, 2, 2, 2, 2, 2, 3, 2, 2, 2, 2, 2, 2, 2, 2, 2, 3, 2, 2, 2, 2, 2, 2, 2, 2, 2, 2, 2, 2, 2, 2, 2, 2, 2, 2, 2, 2, 2, 2, 2, 2, 2, 2, 2, 2, 2, 2, 2, 2, 2, 2, 2, 2, 2, 2, 2, 2, 2, 2, 2, 2, 2, 2, 2, 2, 2, 2, 2, 2, 2, 2, 2, 2, 2, 2, 2, 2, 2, 2, 2, 3, 2, 2, 2, 2, 2, 2, 2, 2, 3, 2, 2, 2, 2, 2, 2, 2, 2, 2, 2, 2, 2, 2, 2, 2, 3, 2, 2, 2, 2, 2, 2, 3, 2, 2, 3, 2, 2, 2, 2, 2, 2, 2, 2, 2, 2, 2, 2, 2, 2, 2, 2, 2, 2, 2, 2, 2, 2, 2, 2, 2, 2, 2, 2, 2, 3, 2, 2, 2, 2, 2, 2, 2, 2, 2, 2, 2, 2, 2, 2, 2, 2, 2, 2, 2, 2, 2, 2, 2, 2, 2, 2, 2, 2, 2, 2, 2, 3, 2, 2, 2, 2, 2, 2, 2, 2, 2, 2, 2, 2, 2, 2, 2, 2, 2, 2, 2, 2, 2, 2, 2, 2, 2, 2, 2, 2, 2, 2, 2, 2, 2, 3, 2, 2, 2, 2, 2, 2, 2, 2, 2, 2, 2, 2, 2, 2, 2, 2, 2, 2, 2, 2, 2, 2, 2, 2, 2, 2, 2, 4, 2, 2, 2, 2, 2, 2, 2, 2, 2, 2, 2, 2, 2, 2, 2, 2, 2, 2, 2, 2, 2, 3, 2, 2, 2, 2, 2, 2, 3, 2, 2, 2, 2, 2, 2, 2, 2, 2, 2, 2, 2, 3, 2, 2, 2, 2, 2, 2, 2, 2, 2, 2, 2, 2, 2, 2, 2, 2, 2, 2, 2, 2, 2, 2, 2, 2, 2, 2, 2, 2, 2, 2, 2, 2, 2, 2, 2, 2, 2, 2, 2, 3, 2, 2, 2, 2, 2, 2, 2, 2, 2, 2, 2, 2, 3, 3, 2, 2, 2, 2, 2, 2, 2, 2, 2, 2, 2, 2, 2, 2, 2, 2, 2, 3, 2, 2, 2, 2, 2, 2, 2, 2, 2, 2, 2, 2, 2, 2, 2, 2, 2, 2, 2, 2, 2, 2, 3, 2, 2, 2, 2, 2, 3, 2, 2, 2, 2, 2, 2, 2, 2, 2, 2, 2, 2, 3, 2, 2, 2, 2, 2, 2, 2, 2, 2, 2, 2, 2, 2, 2, 2, 2, 2, 2, 3, 2, 2, 2, 3, 2, 2, 2, 2, 2, 2, 2, 2, 2, 2, 2, 2, 2, 2, 2, 3, 2, 2, 2, 2, 2, 2, 2, 2, 2, 2, 2, 2, 2, 2, 2, 2, 2, 2, 2, 2, 2, 2, 2, 2, 2, 2, 2, 2, 2, 2, 2, 2, 2, 2, 2, 2, 2, 2, 2, 2, 2, 2, 2, 2, 2, 2, 2, 2, 2, 2, 2, 2, 2, 2, 2, 2, 2, 2, 2, 2, 3, 2, 2, 2, 2, 2, 2, 2, 2, 2, 2, 2, 2, 2, 3, 2, 2, 2, 2, 2, 2, 2, 2, 2, 2, 2, 2, 2, 2, 2, 2, 2, 2, 3, 2, 2, 2, 2, 2, 2, 2, 2, 2, 2, 2, 2, 2, 2, 2, 2, 2, 2, 2, 2, 2, 2, 2, 2, 2, 2, 2, 2, 2, 2, 2, 2, 2, 3, 2, 2, 2, 2, 2, 2, 2, 2, 2, 2, 2, 2, 2, 2, 2, 2, 2, 2, 2, 2, 3, 2, 2, 2, 2, 2, 2, 2, 2, 2, 2, 2, 2, 2, 2, 2, 2, 2, 2, 2, 2, 2, 2, 2, 2, 3, 2, 2, 2, 2, 2, 2, 2, 2, 2, 2, 2, 2, 2, 2, 2, 2, 2, 2, 2, 2, 2, 2, 3, 2, 2, 2, 2, 2, 2, 2, 2, 2, 2, 2, 2, 2, 2, 2, 2, 2, 2, 2, 2, 2, 2, 2, 2, 3, 2, 2, 2, 2, 2, 3, 2, 2, 2, 2, 2, 2, 2, 2, 2, 2, 2, 2, 2, 2, 2, 2, 2, 2, 3, 2, 2, 2, 2, 2, 2, 3, 2, 2, 2, 2, 2, 2, 2, 2, 2, 2, 2, 2, 2, 2, 2, 2, 2, 2, 2, 2, 2, 2, 2, 2, 2, 2, 2, 2, 2, 2, 2, 2, 2, 2, 2, 2, 2, 2, 2, 2, 2, 2, 2, 2, 2, 2, 2, 3, 2, 2, 2, 2, 2, 2, 2, 2, 2, 2, 2, 2, 2, 2, 2, 2, 2, 2, 2, 2, 2, 2, 2, 3, 2, 2, 2, 2, 3, 2, 2, 2, 2, 2, 2, 2, 2, 2, 2, 2, 2, 2, 2, 2, 2, 2, 3, 2, 2, 2, 2, 2, 2, 2, 2, 3, 2, 2, 2, 2, 2, 2, 2, 2, 2, 2, 2, 2, 2, 2, 2, 2, 2, 2, 2, 2, 2, 2, 2, 2, 2, 2, 2, 2, 2, 2, 2, 2, 2, 2, 2, 2, 2, 2, 2, 2, 2, 2, 2, 2, 2, 2, 2, 2, 2, 2, 2, 3, 3, 2, 2, 2, 2, 2, 2, 2, 2, 3, 2, 2, 2, 2, 2, 2, 2, 4, 2, 2, 2, 2, 2, 2, 2, 2, 2, 2, 2, 2, 2, 2, 2, 2, 2, 2, 2, 2, 2, 2, 2, 2, 2, 2, 2, 2, 2, 2, 2, 2, 2, 2, 2, 2, 2, 2, 2, 2, 3, 2, 2, 2, 2, 2, 3, 2, 2, 2, 2, 2, 2, 2, 2, 2, 2, 2, 2, 2, 2, 2, 2, 2, 2, 2, 2, 2, 2, 2, 2, 2, 2, 2, 3, 2, 2, 2, 2, 2, 2, 2, 3, 3, 3, 2, 2, 2, 2, 2, 2, 2, 2, 2, 2, 2, 2, 2, 2, 3, 2, 2, 2, 2, 2, 2, 2, 2, 2, 2, 2, 2, 2, 2, 2, 2, 2, 2, 2, 3, 2, 2, 2, 2, 2, 2, 2, 2, 2, 2, 2, 2, 2, 2, 2, 3, 2, 2, 2, 2, 2, 2, 2, 2, 2, 2, 3, 3, 2, 2, 2, 2, 2, 2, 2, 2, 2, 2, 2, 2, 2, 2, 2, 2, 2, 2, 2, 2, 2, 2, 2, 2, 2, 2, 2, 2, 2, 2, 2, 2, 2, 2, 3, 2, 2, 3, 2, 3, 2, 2, 2, 2, 2, 2, 2, 2, 2, 2, 2, 2, 2, 2, 2, 2, 2, 2, 2, 2, 3, 2, 2, 2, 2, 2, 2, 2, 2, 2, 2, 2, 2, 2, 2, 2, 2, 2, 2, 3, 2, 2, 2, 2, 2, 2, 2, 2, 3, 2, 2, 2, 2, 2, 2, 2, 2, 2, 2, 2, 2, 3, 2, 2, 2, 2, 2, 2, 2, 2, 2, 2, 2, 2, 2, 2, 2, 2, 2, 2, 2, 2, 2, 2, 2, 2, 2, 3, 2, 2, 2, 2, 2, 2, 2, 2, 2, 2, 2, 2, 2, 2, 2, 2, 2, 2, 2, 2, 2, 2, 2, 2, 2, 2, 2, 2, 2, 2, 2, 2, 2, 2, 2, 2, 2, 2, 2, 2, 3, 2, 2, 2, 2, 2, 2, 2, 2, 2, 2, 2, 2, 2, 2, 2, 2, 2, 2, 2, 2, 2, 2, 2, 2, 2, 2, 2, 2, 2, 2, 2, 2, 2, 2, 2, 2, 2, 2, 2, 2, 2, 2, 2, 2, 2, 2, 2, 2, 2, 2, 2, 2, 2, 2, 2, 2, 2, 2, 2, 2, 3, 2, 2, 2, 2, 2, 2, 2, 2, 2, 2, 2, 2, 2, 2, 2, 2, 2, 2, 2, 2, 2, 2, 3, 2, 2, 2, 2, 2, 2, 2, 2, 2, 2, 2, 2, 2, 2, 2, 2, 2, 2, 2, 2, 2, 2, 2, 2, 2, 2, 2, 2, 2, 2, 2, 2, 2, 2, 2, 2, 2, 2, 2, 2, 2, 2, 2, 2, 2, 2, 2, 2, 2, 2, 2, 2, 2, 2, 2, 2, 2, 2, 2, 3, 2, 2, 2, 2, 2, 2, 3, 2, 2, 2, 2, 2, 2, 3, 2, 2, 2, 2, 2, 2, 2, 2, 2, 2, 2, 2, 2, 2, 2, 2, 2, 2, 2, 2, 2, 2, 2, 3, 2, 2, 2, 2, 2, 2, 2, 2, 2, 3, 2, 2, 2, 2, 2, 2, 2, 2, 2, 2, 2, 2, 2, 2, 3, 3, 2, 2, 2, 2, 2, 2, 2, 2, 2, 2, 2, 2, 2, 2, 3, 2, 2, 3, 2, 2, 2, 2, 2, 2, 2, 2, 2, 2, 2, 2, 2, 2, 3, 2, 2, 2, 2, 2, 2, 2, 2, 2, 2, 2, 2, 2, 2, 2, 2, 2, 2, 2, 2, 2, 2, 2, 2, 2, 2, 2, 2, 2, 2, 2, 2, 2, 2, 2, 2, 2, 2, 2, 2, 2, 2, 2, 2, 2, 2, 2, 2, 2, 2, 2, 2, 2, 2, 2, 2, 2, 2, 2, 2, 2, 2, 2, 2, 2, 2, 2, 2, 2, 2, 2, 2, 2, 2, 2, 2, 2, 2, 2, 2, 2, 2, 2, 2, 2, 3, 2, 2, 2, 2, 2, 2, 2, 2, 2, 2, 2, 2, 2, 2, 2, 2, 2, 2, 2, 2, 2, 2, 2, 2, 2, 2, 2, 2, 2, 2, 2, 2, 2, 2, 2, 2, 2, 2, 2, 2, 2, 2, 2, 3, 2, 2, 2, 2, 2, 2, 2, 2, 2, 2, 2, 2, 2, 2, 2, 2, 2, 2, 2, 2, 2, 2, 2, 2, 2, 2, 2, 2, 2, 2, 2, 2, 2, 2, 2, 2, 2, 2, 3, 2, 3, 2, 2, 2, 2, 2, 2, 2, 3, 2, 2, 2, 2, 2, 2, 2, 2, 2, 2, 2, 2, 2, 3, 2, 2, 2, 2, 2, 2, 2, 2, 2, 2, 2, 2, 2, 2, 2, 2, 2, 2, 2, 2, 2, 2, 2, 2, 2, 2, 3, 2, 2, 2, 2, 2, 2, 2, 2, 2, 2, 2, 2, 2, 3, 2, 2, 2, 2, 2, 2, 2, 2, 2, 2, 2, 2, 2, 2, 2, 2, 2, 2, 2, 2, 2, 2, 2, 2, 2, 2, 2, 2, 2, 2, 2, 2, 2, 2, 2, 2, 2, 2, 2, 2, 2, 2, 2, 2, 2, 2, 2, 2, 2, 2, 2, 2, 2, 2, 2, 2, 2, 2, 2, 2, 2, 2, 2, 2, 2, 2, 2, 2, 2, 2, 2, 2, 2, 2, 2, 2, 2, 2, 2, 2, 2, 2, 2, 2, 2, 2, 2, 2, 3, 2, 2, 2, 2, 2, 2, 2, 2, 2, 2, 2, 2, 2, 3, 2, 2, 2, 2, 2, 2, 2, 3, 2, 2, 2, 2, 2, 2, 2, 3, 2, 2, 2, 2, 2, 2, 2, 2, 2, 2, 2, 2, 2, 2, 2, 2, 2, 2, 2, 2, 2, 2, 2, 2, 2, 2, 2, 2, 3, 2, 2, 2, 2, 2, 2, 2, 2, 2, 2, 2, 2, 2, 2, 2, 2, 2, 2, 2, 3, 2, 2, 2, 3, 2, 2, 2, 2, 2, 2, 3, 2, 2, 2, 2, 2, 2, 2, 2, 2, 2, 2, 2, 2, 2, 2, 2, 2, 2, 2, 2, 2, 2, 2, 2, 2, 2, 2, 2, 2, 2, 2, 2, 2, 2, 2, 2, 2, 2, 2, 2, 2, 2, 2, 2, 2, 2, 2, 2, 2, 2, 2, 2, 2, 2, 2, 2, 2, 2, 2, 2, 2, 2, 2, 2, 2, 3, 2, 2, 2, 2, 2, 2, 2, 2, 2, 2, 2, 2, 2, 2, 2, 2, 2, 2, 2, 2, 2, 2, 2, 2, 2, 2, 2, 2, 2, 2, 2, 2, 2, 2, 2, 2, 2, 2, 2, 2, 2, 2, 2, 2, 2, 2, 2, 2, 3, 2, 2, 2, 2, 2, 2, 2, 3, 2, 2, 2, 3, 2, 2, 2, 2, 2, 2, 2, 2, 2, 2, 2, 2, 2, 2, 2, 2, 2, 2, 2, 2, 2, 2, 2, 2, 2, 2, 2, 2, 2, 2, 2, 2, 2, 2, 2, 2, 2, 2, 2, 3, 2, 2, 2, 2, 2, 2, 2, 2, 2, 2, 2, 2, 2, 2, 2, 2, 2, 2, 2, 2, 2, 2, 2, 2, 2, 2, 2, 2, 2, 2, 3, 2, 2, 2, 2, 2, 2, 2, 2, 2, 2, 3, 2, 2, 2, 2, 2, 2, 2, 2, 2, 2, 2, 2, 2, 2, 2, 2, 3, 2, 2, 2, 2, 2, 2, 2, 2, 2, 2, 2, 2, 2, 2, 2, 2, 2, 2, 2, 2, 2, 2, 2, 2, 2, 2, 2, 2, 2, 2, 2, 2, 2, 2, 2, 2, 2, 2, 2, 2, 2, 2, 2, 2, 2, 2, 2, 2, 2, 2, 2, 2, 2, 2, 2, 2, 2, 2, 2, 2, 3, 2, 2, 2, 2, 2, 2, 2, 2, 2, 2, 2, 2, 2, 2, 2, 2, 2, 2, 2, 2, 2, 2, 2, 3, 2, 2, 2, 2, 2, 2, 2, 2, 2, 2, 2, 2, 2, 2, 2, 2, 2, 2, 2, 2, 2, 3, 2, 2, 2, 2, 2, 2, 2, 2, 2, 3, 2, 2, 2, 2, 2, 2, 2, 2, 2, 2, 2, 2, 2, 2, 2, 2, 2, 2, 2, 2, 2, 2, 2, 2, 2, 2, 2, 2, 2, 2, 2, 2, 2, 2, 2, 2, 2, 2, 2, 2, 2, 2, 2, 2, 2, 2, 2, 2, 2, 2, 2, 2, 2, 2, 2, 2, 2, 2, 2, 2, 2, 2, 2, 2, 2, 2, 2, 2, 2, 2, 2, 2, 2, 2, 2, 2, 2, 2, 2, 2, 2, 2, 2, 2, 2, 2, 2, 2, 2, 2, 3, 2, 2, 2, 2, 2, 2, 2, 2, 2, 3, 2, 2, 2, 2, 2, 2, 2, 2, 2, 2, 2, 2, 2, 2, 2, 2, 2, 2, 2, 2, 2, 2, 2, 2, 2, 2, 2, 2, 2, 2, 2, 2, 2, 2, 2, 2, 2, 2, 2, 2, 2, 2, 2, 2, 2, 2, 2, 2, 2, 3, 2, 2, 2, 2, 2, 2, 3, 2, 2, 2, 2, 2, 2, 2, 2, 2, 2, 2, 2, 2, 2, 2, 2, 2, 2, 2, 2, 2, 2, 2, 2, 2, 2, 2, 2, 2, 2, 3, 2, 2, 2, 2, 2, 2, 2, 2, 2, 2, 2, 2, 2, 2, 2, 2, 2, 2, 2, 2, 2, 3, 2, 2, 2, 2, 2, 2, 2, 2, 2, 2, 2, 2, 2, 2, 2, 2, 2, 2, 2, 2, 2, 2, 2, 2, 3, 2, 2, 2, 2, 2, 2, 2, 2, 2, 2, 2, 2, 2, 2, 2, 2, 2, 2, 2, 2, 3, 2, 2, 2, 2, 2, 2, 2, 2, 2, 2, 2, 2, 2, 2, 2, 2, 2, 2, 2, 2, 2, 2, 2, 2, 2, 2, 2, 2, 2, 2, 2, 2, 2, 2, 2, 2, 3, 3, 2, 2, 2, 3, 2, 2, 2, 2, 2, 2, 2, 2, 2, 2, 2, 2, 2, 2, 2, 2, 2, 2, 2, 2, 2, 2, 2, 2, 3, 2, 2, 2, 2, 2, 2, 2, 2, 2, 2, 2, 2, 2, 2, 2, 2, 2, 2, 2, 2, 2, 2, 2, 2, 2, 2, 2, 2, 2, 2, 2, 2, 2, 2, 2, 2, 2, 2, 2, 2, 2, 2, 2, 2, 2, 2, 2, 2, 2, 2, 2, 2, 2, 2, 2, 3, 2, 2, 2, 2, 2, 3, 2, 2, 2, 2, 2, 3, 2, 2, 3, 2, 2, 2, 2, 2, 3, 2, 2, 2, 2, 2, 2, 2, 2, 2, 2, 2, 2, 2, 2, 2, 2, 2, 2, 3, 2, 2, 2, 2, 2, 2, 2, 2, 2, 2, 2, 2, 2, 2, 2, 2, 3, 2, 2, 2, 2, 2, 2, 2, 2, 2, 2, 2, 2, 2, 2, 2, 2, 2, 4, 2, 2, 2, 2, 2, 2, 2, 2, 2, 2, 2, 2, 2, 2, 2, 2, 2, 2, 2, 2, 2, 2, 3, 2, 2, 2, 2, 2, 2, 2, 2, 2, 2, 2, 2, 2, 2, 2, 2, 2, 2, 2, 2, 2, 2, 2, 2, 2, 2, 2, 2, 2, 2, 2, 2, 2, 2, 2, 2, 2, 2, 2, 2, 2, 2, 2, 2, 2, 2, 2, 2, 2, 2, 2, 2, 2, 2, 2, 2, 2, 2, 2, 2, 2, 3, 2, 2, 2, 2, 2, 2, 2, 2, 2, 2, 3, 2, 2, 2, 3, 2, 2, 2, 2, 2, 2, 2, 2, 2, 2, 2, 2, 2, 2, 3, 2, 2, 2, 2, 2, 2, 2, 2, 2, 2, 2, 2, 2, 2, 2, 2, 2, 2, 2, 2, 2, 2, 2, 2, 2, 2, 2, 2, 2, 2, 2, 2, 2, 2, 2, 2, 3, 2, 2, 2, 2, 2, 2, 2, 2, 2, 2, 2, 2, 2, 2, 3, 2, 3, 2, 2, 2, 2, 2, 2, 2, 2, 2, 2, 2, 2, 2, 2, 2, 2, 2, 2, 2, 2, 2, 3, 2, 2, 2, 2, 2, 2, 2, 2, 2, 2, 2, 2, 4, 2, 2, 2, 2, 3, 2, 2, 2, 2, 2, 2, 2, 2, 2, 2, 2, 2, 2, 2, 2, 2, 2, 2, 2, 2, 2, 2, 2, 2, 2, 2, 2, 2, 2, 2, 2, 3, 2, 2, 2, 2, 2, 2, 2, 2, 2, 2, 2, 2, 2, 4, 2, 2, 2, 2, 2, 2, 2, 2, 2, 2, 2, 2, 2, 2, 2, 3, 2, 2, 2, 2, 3, 2, 2, 2, 2, 2, 2, 2, 2, 2, 2, 2, 2, 2, 2, 2, 2, 3, 2, 2, 2, 2, 2, 2, 2, 2, 2, 2, 2, 2, 2, 2, 2, 2, 2, 2, 2, 2, 2, 2, 2, 2, 2, 2, 2, 2, 2, 2, 2, 2, 2, 2, 2, 2, 2, 2, 2, 2, 2, 2, 2, 2, 2, 2, 2, 2, 2, 2, 2, 2, 2, 2, 2, 2, 2, 2, 2, 2, 2, 2, 2, 2, 2, 2, 2, 2, 2, 2, 2, 2, 2, 2, 2, 2, 2, 2, 2, 2, 2, 2, 2, 2, 2, 2, 2, 2, 2, 2, 2, 2, 2, 2, 2, 2, 2, 2, 2, 2, 2, 2, 2, 2, 2, 2, 2, 2, 2, 2, 2, 2, 2, 2, 2, 2, 2, 2, 2, 2, 3, 2, 2, 2, 2, 2, 2, 2, 2, 2, 2, 2, 2, 2, 2, 2, 2, 2, 2, 2, 2, 2, 2, 2, 2, 2, 2, 2, 2, 2, 2, 2, 2, 2, 2, 2, 2, 2, 2, 2, 2, 2, 2, 2, 2, 2, 2, 2, 2, 2, 2, 2, 2, 2, 2, 2, 2, 2, 2, 2, 2, 2, 2, 2, 2, 2, 2, 2, 2, 2, 2, 2, 2, 2, 2, 2, 2, 2, 2, 2, 2, 2, 2, 2, 2, 2, 2, 2, 2, 2, 2, 2, 3, 2, 2, 2, 2, 2, 2, 2, 2, 2, 2, 2, 2, 2, 2, 2, 2, 2, 2, 2, 2, 2, 2, 2, 2, 2, 2, 2, 2, 2, 2, 2, 2, 2, 2, 2, 2, 2, 2, 2, 2, 2, 2, 2, 2, 2, 2, 2, 2, 2, 2, 2, 2, 2, 2, 2, 2, 2, 2, 2, 2, 2, 2, 2, 2, 2, 2, 2, 2, 2, 2, 2, 2, 2, 2, 2, 2, 2, 2, 2, 2, 2, 2, 2, 2, 2, 2, 2, 2, 2, 2, 2, 2, 2, 2, 2, 2, 2, 2, 2, 2, 2, 2, 2, 2, 2, 2, 2, 2, 2, 3, 2, 2, 2, 2, 2, 2, 2, 2, 3, 2, 2, 2, 2, 2, 2, 2, 2, 2, 2, 2, 2, 2, 2, 2, 2, 2, 2, 2, 2, 2, 2, 2, 2, 2, 2, 2, 2, 2, 2, 2, 2, 2, 2, 2, 2, 2, 2, 2, 2, 2, 2, 2, 2, 2, 2, 2, 2, 3, 2, 2, 2, 2, 2, 2, 2, 2, 2, 2, 2, 2, 2, 2, 2, 2, 2, 2, 2, 2, 2, 2, 2, 2, 2, 2, 2, 2, 2, 2, 2, 2, 2, 2, 2, 2, 2, 2, 2, 2, 2, 2, 2, 2, 2, 2, 2, 2, 3, 2, 2, 2, 2, 2, 2, 2, 2, 2, 2, 2, 2, 3, 3, 2, 2, 2, 2, 2, 2, 2, 2, 2, 2, 2, 2, 2, 2, 2, 2, 2, 2, 2, 2, 2, 2, 2, 2, 2, 2, 2, 2, 2, 2, 2, 2, 2, 2, 2, 2, 2, 2, 2, 2, 2, 2, 2, 2, 2, 2, 2, 2, 2, 2, 2, 2, 2, 2, 2, 2, 2, 3, 2, 2, 2, 2, 2, 2, 2, 2, 2, 2, 2, 2, 2, 2, 2, 2, 2, 2, 2, 2, 2, 2, 3, 2, 2, 2, 2, 2, 2, 2, 2, 2, 2, 2, 2, 2, 2, 2, 2, 2, 2, 2, 2, 2, 2, 2, 2, 2, 2, 2, 2, 2, 2, 2, 2, 2, 2, 2, 2, 2, 2, 2, 2, 2, 2, 2, 2, 2, 2, 2, 2, 2, 2, 2, 2, 2, 2, 2, 2, 2, 2, 2, 2, 2, 2, 2, 2, 2, 2, 2, 2, 2, 2, 2, 2, 2, 2, 3, 2, 2, 2, 2, 2, 2, 2, 3, 2, 2, 3, 2, 2, 2, 2, 2, 2, 2, 2, 2, 2, 2, 2, 2, 2, 2, 2, 2, 2, 2, 2, 2, 2, 2, 2, 2, 2, 2, 2, 2, 2, 2, 2, 2, 2, 2, 2, 2, 2, 2, 2, 2, 2, 2, 2, 2, 2, 2, 2, 2, 2, 2, 2, 2, 2, 2, 2, 2, 2, 2, 2, 2, 2, 2, 2, 2, 2, 2, 2, 2, 2, 2, 2, 2, 2, 2, 2, 2, 2, 2, 2, 2, 2, 2, 2, 2, 2, 2, 2, 2, 2, 2, 2, 2, 3, 2, 2, 2, 2, 2, 2, 2, 2, 2, 2, 2, 2, 2, 3, 2, 2, 2, 3, 2, 2, 2, 2, 2, 2, 2, 2, 2, 2, 2, 2, 2, 2, 2, 2, 2, 2, 2, 2, 2, 2, 2, 2, 2, 2, 2, 2, 2, 2, 2, 2, 2, 3, 3, 2, 2, 2, 2, 2, 2, 2, 2, 2, 2, 2, 2, 2, 2, 2, 2, 2, 2, 3, 2, 2, 2, 2, 2, 2, 2, 2, 2, 2, 3, 2, 2, 2, 2, 2, 2, 2, 2, 2, 2, 2, 2, 2, 2, 2, 2, 2, 2, 2, 2, 2, 2, 2, 2, 2, 2, 2, 2, 2, 2, 2, 2, 2, 2, 2, 2, 2, 2, 2, 2, 2, 2, 2, 2, 2, 2, 2, 2, 2, 2, 2, 2, 2, 2, 2, 2, 2, 2, 2, 3, 2, 2, 2, 2, 2, 2, 2, 2, 2, 2, 2, 2, 2, 2, 2, 2, 2, 2, 2, 2, 2, 2, 2, 2, 2, 2, 2, 2, 2, 2, 2, 2, 2, 2, 2, 2, 2, 2, 2, 2, 2, 2, 2, 2, 2, 2, 2, 2, 2, 2, 2, 2, 2, 2, 2, 2, 2, 2, 2, 2, 2, 2, 2, 2, 2, 2, 2, 2, 2, 2, 2, 2, 2, 2, 2, 2, 2, 2, 2, 2, 2, 2, 2, 2, 2, 2, 2, 2, 2, 2, 2, 2, 2, 2, 2, 2, 2, 2, 2, 2, 2, 2, 2, 2, 2, 2, 2, 2, 2, 2, 2, 2, 2, 2, 2, 2, 2, 2, 2, 2, 2, 2, 2, 2, 2, 2, 2, 2, 2, 2, 2, 2, 2, 2, 2, 2, 2, 2, 3, 2, 2, 2, 2, 2, 2, 2, 2, 2, 2, 2, 2, 2, 2, 2, 2, 2, 2, 2, 2, 2, 2, 2, 2, 2, 2, 2, 2, 2, 2, 2, 2, 2, 2, 2, 2, 2, 2, 2, 2, 2, 2, 2, 2, 2, 2, 2, 2, 2, 2, 2, 2, 2, 2, 2, 2, 2, 2, 2, 2, 2, 2, 2, 2, 2, 2, 2, 2, 2, 2, 2, 2, 2, 2, 2, 2, 2, 2, 2, 2, 2, 2, 2, 2, 2, 2, 2, 2, 2, 2, 2, 2, 2, 3, 2, 2, 2, 2, 2, 2, 2, 2, 2, 2, 2, 2, 2, 2, 2, 2, 2, 2, 2, 2, 2, 2, 2, 2, 2, 2, 2, 2, 2, 2, 2, 2, 2, 2, 2, 2, 2, 2, 2, 2, 2, 2, 2, 2, 2, 2, 2, 2, 2, 2, 2, 2, 2, 2, 2, 2, 2, 2, 2, 2, 2, 2, 2, 2, 2, 2, 2, 2, 2, 2, 2, 2, 2, 2, 2, 2, 2, 2, 2, 2, 2, 2, 2, 2, 2, 2, 2, 2, 2, 2, 2, 2, 2, 2, 2, 2, 2, 2, 2, 2, 2, 2, 2, 2, 2, 2, 2, 2, 2, 2, 2, 2, 2, 2, 2, 2, 2, 2, 2, 2, 2, 2, 2, 2, 2, 2, 2, 2, 2, 2, 2, 2, 2, 2, 2, 2, 2, 2, 2, 2, 2, 2, 2, 2, 2, 2, 2, 2, 2, 2, 2, 2, 2, 2, 2, 2, 2, 2, 2, 2, 2, 2, 2, 2, 2, 2, 2, 2, 2, 2, 2, 2, 2, 2, 2, 2, 3, 2, 2, 2, 2, 2, 2, 2, 2, 2, 2, 2, 2, 2, 2, 2, 2, 2, 2, 2, 2, 2, 2, 2, 2, 2, 2, 2, 2, 2, 2, 2, 2, 2, 2, 2, 2, 2, 2, 2, 2, 2, 2, 2, 2, 2, 2, 2, 2, 2, 2, 2, 2, 2, 2, 2, 2, 2, 2, 2, 2, 2, 2, 2, 2, 2, 2, 2, 2, 2, 2, 2, 2, 2, 2, 2, 2, 2, 2, 2, 2, 2, 2, 2, 2, 2, 2, 2, 2, 2, 2, 2, 2, 2, 2, 2, 2, 2, 2, 2, 2, 2, 2, 2, 2, 2, 2, 2, 2, 2, 2, 2, 2, 2, 2, 2, 2, 2, 2, 2, 2, 2, 2, 2, 2, 2, 2, 2, 2, 2, 2, 2, 2, 3, 2, 2, 2, 2, 2, 2, 2, 2, 2, 2, 2, 2, 2, 2, 2, 2, 2, 2, 2, 2, 2, 2, 2, 2, 2, 2, 2, 2, 2, 2, 2, 2, 2, 2, 2, 2, 2, 2, 2, 2, 2, 2, 2, 2, 2, 2, 2, 2, 2, 2, 2, 2, 2, 2, 2, 2, 2, 2, 2, 2, 2, 2, 2, 2, 2, 2, 2, 2, 2, 2, 2, 2, 2, 2, 2, 2, 2, 2, 2, 2, 2, 2, 2, 2, 2, 2, 2, 2, 2, 2, 2, 2, 2, 2, 2, 2, 2, 2, 2, 2, 2, 2, 2, 2, 2, 2, 2, 2, 2, 2, 2, 2, 2, 2, 2, 2, 2, 2, 2, 2, 2, 2, 2, 2, 2, 2, 2, 2, 2, 2, 2, 2, 2, 2, 2, 2, 2, 2, 2, 2, 2, 2, 2, 2, 2, 2, 2, 2, 2, 2, 2, 2, 2, 2, 2, 2, 2, 2, 2, 2, 2, 2, 2, 2, 2, 2, 2, 2, 2, 2, 2, 2, 2, 2, 2, 2, 2, 2, 2, 2, 2, 2, 2, 2, 2, 2, 2, 2, 2, 2, 2, 2, 2, 2, 2, 2, 2, 2, 2, 2, 2, 2, 2, 2, 2, 2, 2, 2, 2, 2, 2, 2, 2, 2, 2, 2, 2, 2, 3, 2, 2, 2, 2, 2, 2, 2, 2, 2, 2, 2, 2, 2, 2, 2, 2, 2, 2, 2, 2, 2, 2, 2, 2, 2, 2, 2, 2, 2, 2, 2, 2, 2, 2, 2, 2, 2, 2, 2, 2, 2, 2, 2, 2, 2, 2, 2, 2, 2, 2, 2, 2, 2, 2, 3, 2, 2, 2, 2, 2, 2, 2, 2, 2, 2, 2, 2, 2, 2, 2, 2, 2, 2, 2, 2, 2, 2, 2, 2, 2, 2, 2, 2, 2, 2, 2, 2, 2, 2, 2, 2, 2, 2, 2, 2, 2, 2, 2, 2, 2, 2, 2, 2, 2, 2, 2, 2, 2, 2, 2, 2, 2, 2, 2, 2, 2, 2, 2, 2, 2, 2, 2, 2, 2, 2, 2, 2, 2, 2, 2, 2, 2, 2, 2, 2, 2, 2, 2, 2, 2, 2, 2, 2, 2, 2, 2, 2, 2, 2, 2, 2, 2, 2, 2, 2, 2, 2, 2, 2, 2, 2, 2, 2, 2, 2, 2, 2, 2, 2, 2, 2, 2, 2, 2, 2, 2, 2, 2, 2, 2, 2, 2, 2, 2, 2, 2, 2, 2, 2, 2, 2, 2, 2, 2, 2, 2, 2, 2, 2, 2, 2, 2, 2, 2, 2, 2, 2, 2, 2, 2, 2, 2, 2, 2, 2, 2, 2, 2, 2, 2, 2, 2, 2, 2, 2, 2, 2, 2, 2, 2, 2, 2, 2, 2, 2, 2, 2, 2, 2, 2, 2, 2, 2, 2, 2, 2, 2, 2, 2, 2, 2, 2, 2, 2, 2, 2, 2, 2, 2, 2, 2, 2, 2, 2, 2, 2, 2, 2, 2, 2, 2, 2, 2, 2, 2, 2, 2, 2, 2, 2, 2, 2, 2, 2, 2, 2, 2, 2, 2, 2, 2, 2, 2, 2, 2, 2, 2, 2, 2, 2, 2, 2, 2, 2, 2, 2, 2, 2, 2, 2, 2, 2, 2, 2, 2, 2, 2, 2, 2, 2, 2, 2, 2, 2, 2, 2, 2, 2, 2, 2, 2, 2, 2, 2, 2, 2, 2, 2, 2, 2, 2, 2, 2, 2, 2, 2, 2, 2, 2, 2, 2, 2, 2, 2, 2, 2, 2, 2, 2, 2, 2, 2, 2, 2, 2, 2, 2, 2, 2, 2, 2, 2, 2, 2, 2, 2, 2, 2, 2, 2, 2, 2, 2, 2, 2, 2, 2, 2, 2, 2, 2, 2, 2, 2, 2, 2, 2, 2, 2, 2, 2, 2, 2, 2, 2, 2, 2, 2, 2, 2, 2, 2, 2, 2, 2, 2, 2, 2, 2, 2, 2, 2, 2, 2, 2, 2, 3, 2, 2, 2, 2, 2, 2, 2, 2, 2, 2, 2, 2, 2, 2, 2, 2, 2, 2, 2, 2, 2, 2, 2, 2, 2, 2, 2, 2, 2, 2, 2, 2, 2, 2, 2, 2, 2, 2, 2, 2, 2, 2, 2, 2, 2, 2, 2, 2, 2, 2, 2, 2, 2, 2, 2, 2, 2, 2, 2, 2, 2, 2, 2, 2, 2, 2, 2, 2, 2, 2, 2, 2, 2, 2, 2, 2, 2, 2, 2, 2, 2, 2, 2, 2, 2, 2, 2, 2, 2, 2, 2, 2, 2, 2, 2, 2, 2, 2, 2, 2, 2, 2, 2, 2, 2, 2, 2, 2, 2, 2, 2, 2, 2, 2, 2, 2, 2, 2, 2, 2, 2, 2, 2, 2, 2, 2, 2, 2, 2, 2, 2, 2, 2, 2, 2, 2, 2, 2, 2, 2, 2, 2, 2, 2, 2, 2, 2, 2, 2, 2, 2, 2, 2, 2, 2, 2, 2, 2, 2, 2, 2, 2, 2, 2, 2, 2, 2, 2, 2, 2, 2, 2, 2, 2, 2, 2, 2, 2, 2, 2, 2, 2, 2, 2, 2, 2, 3, 2, 2, 2, 2, 2, 2, 2, 2, 2, 2, 2, 2, 2, 2, 2, 2, 2, 2, 2, 2, 2, 2, 2, 3, 2, 2, 2, 2, 3, 2, 2, 2, 2, 2, 2, 2, 2, 2, 2, 2, 2, 2, 2, 2, 2, 2, 2, 2, 2, 2, 2, 2, 2, 2, 2, 2, 2, 2, 2, 2, 2, 2, 2, 2, 2, 2, 2, 2, 2, 2, 2, 2, 2, 2, 2, 2, 2, 2, 2, 2, 2, 2, 2, 2, 2, 2, 2, 2, 2, 2, 2, 2, 2, 2, 2, 2, 2, 2, 2, 2, 2, 2, 2, 2, 2, 2, 2, 2, 2, 2, 2, 2, 2, 2, 2, 2, 2, 2, 2, 2, 2, 2, 2, 2, 2, 2, 2, 2, 2, 2, 2, 2, 2, 2, 2, 2, 2, 2, 2, 2, 2, 2, 2, 2, 2, 2, 2, 2, 2, 2, 2, 2, 2, 2, 2, 2, 2, 2, 2, 2, 2, 2, 2, 2, 2, 2, 2, 2, 2, 2, 2, 2, 2, 2, 2, 2, 2, 2, 2, 2, 2, 2, 2, 2, 2, 2, 2, 2, 2, 2, 2, 2, 2, 2, 2, 2, 2, 2, 2, 2, 2, 2, 2, 2, 2, 2, 2, 2, 2, 2, 2, 2, 2, 2, 2, 2, 2, 2, 2, 2, 2, 2, 2, 2, 2, 2, 2, 2, 2, 2, 2, 2, 2, 2, 2, 2, 2, 2, 2, 2, 2, 2, 2, 2, 2, 2, 2, 2, 2, 2, 2, 2, 2, 2, 2, 2, 2, 2, 2, 2, 2, 2, 2, 2, 2, 2, 2, 2, 2, 2, 2, 2, 2, 2, 2, 2, 2, 2, 2, 2, 2, 2, 2, 2, 2, 2, 2, 2, 2, 2, 2, 2, 2, 2, 2, 2, 2, 2, 2, 2, 2, 2, 2, 2, 2, 2, 2, 2, 2, 2, 2, 2, 2, 2, 2, 2, 2, 2, 2, 2, 2, 2, 2, 2, 2, 2, 2, 2, 2, 2, 2, 2, 2, 2, 2, 2, 2, 2, 2, 2, 2, 2, 2, 2, 2, 2, 2, 2, 2, 2, 2, 2, 2, 2, 2, 2, 2, 2, 2, 2, 2, 2, 2, 2, 2, 2, 2, 2, 2, 2, 2, 2, 2, 2, 2, 2, 2, 2, 2, 2, 2, 2, 2, 2, 2, 2, 2, 2, 2, 2, 2]\n"
          ],
          "name": "stdout"
        }
      ]
    },
    {
      "cell_type": "code",
      "metadata": {
        "id": "fkKxIb0GkGQ9",
        "colab_type": "code",
        "colab": {
          "base_uri": "https://localhost:8080/",
          "height": 462
        },
        "outputId": "be3ecbe7-7851-4282-f458-7ed47e1ca337"
      },
      "source": [
        "import seaborn as sb\n",
        "import matplotlib.pyplot as plt\n",
        "print(len(xw))\n",
        "count=dict(Counter(xw))\n",
        "print(count.keys())\n",
        "print(count.values())\n",
        "print(nx.number_of_nodes(train_graph))\n",
        "fig=plt.figure(figsize=(15,6))\n",
        "ax=sb.barplot(x=list(count.keys()),y=list(count.values()))"
      ],
      "execution_count": null,
      "outputs": [
        {
          "output_type": "stream",
          "text": [
            "48755\n",
            "dict_keys([1649365, 2, 16, 5, 3, 20, 27, 23, 10, 37, 29, 19, 4, 30, 15, 51, 8, 6, 7, 13, 9, 26, 12, 11, 25, 52, 59, 31, 22, 40, 36, 68, 17, 18, 56, 14, 38, 28, 21, 39, 24, 33, 41, 42, 35, 32, 54, 48, 49, 53, 75, 67])\n",
            "dict_values([1, 34664, 33, 1256, 7926, 7, 4, 11, 125, 1, 9, 13, 2750, 7, 36, 1, 252, 680, 382, 49, 193, 6, 67, 97, 7, 1, 1, 2, 8, 2, 3, 1, 24, 24, 1, 56, 1, 10, 14, 3, 11, 3, 2, 1, 1, 1, 2, 2, 1, 1, 1, 1])\n",
            "1780738\n"
          ],
          "name": "stdout"
        },
        {
          "output_type": "display_data",
          "data": {
            "image/png": "[encoded data removed]",
            "text/plain": [
              "<Figure size 1080x432 with 1 Axes>"
            ]
          },
          "metadata": {
            "tags": []
          }
        }
      ]
    },
    {
      "cell_type": "markdown",
      "metadata": {
        "id": "LEh9hUMhpkAg",
        "colab_type": "text"
      },
      "source": [
        "Observation:\n",
        "As we see above,the train_graph consists most of the weak components which is of size 2 i.e around 35,000.Weak components with size 2 indicates there are just two nodes with a single edge b/w them forming a component.This can be useful while calculating shortest path length and checking whether both of the users belong to same community or not.In other words while checking whether these two nodes belong to same community i would end up considering these two nodes as (one community) hence i classify that there is a link between them.\n",
        "\n",
        "\n"
      ]
    },
    {
      "cell_type": "markdown",
      "metadata": {
        "id": "TDZb-cDGfIva",
        "colab_type": "text"
      },
      "source": [
        "#Jaccard Distance"
      ]
    },
    {
      "cell_type": "code",
      "metadata": {
        "id": "sxW2Mcz3dZEP",
        "colab_type": "code",
        "colab": {}
      },
      "source": [
        "def jacard1(a,b):\n",
        "  try:\n",
        "    if len(set(train_graph.successors(a)))==0 | len(set(train_graph.successors(b)))==0:\n",
        "      return(0)\n",
        "    sim=len(set(train_graph.successors(a)).intersection(set(train_graph.successors(b))))/len(set(train_graph.successors(a)).union(set(train_graph.successors(b))))\n",
        "  except:\n",
        "    return(0)\n",
        "  return(sim)"
      ],
      "execution_count": null,
      "outputs": []
    },
    {
      "cell_type": "code",
      "metadata": {
        "id": "uuuGYrPm_5tm",
        "colab_type": "code",
        "colab": {}
      },
      "source": [
        "def jacard_followers(a,b):\n",
        "  try:\n",
        "    if len(set(train_graph.predecessors(a)))==0 | len(set(train_graph.predecessors(b)))==0:\n",
        "      return(0)\n",
        "    sim=len(set(train_graph.predecessors(a)).intersection(set(train_graph.predecessors(b))))/len(set(train_graph.predecessors(a)).union(set(train_graph.predecessors(b))))\n",
        "  except:\n",
        "    return(0)\n",
        "  return(sim)"
      ],
      "execution_count": null,
      "outputs": []
    },
    {
      "cell_type": "markdown",
      "metadata": {
        "id": "wnKSsIh6iSR_",
        "colab_type": "text"
      },
      "source": [
        "#Cosine Similarity"
      ]
    },
    {
      "cell_type": "code",
      "metadata": {
        "id": "Funa_HjTKcZJ",
        "colab_type": "code",
        "colab": {}
      },
      "source": [
        "import math\n",
        "def cosine_following1(a,b):\n",
        "  try:\n",
        "    if len(set(train_graph.successors(a)))==0 | len(set(train_graph.successors(b)))==0:\n",
        "      #As we saw before whie doing EDA,i.e there are 2,70,000 people who are not following anyone(zero)\n",
        "      #So we introduced this condition checking if either of the node has zero following.\n",
        "      #If anyone has zero following then there is no point in checking further,because it will have zero common elements hence Cosine similarity be zero.\n",
        "        return 0\n",
        "    cosine_intersection=len(set(train_graph.successors(a)).intersection(set(train_graph.successors(b))))\n",
        "    length=math.sqrt(len(set(train_graph.successors(a)))*len(set(train_graph.successors(b))))\n",
        "    print(length)\n",
        "    simi=cosine_intersection/(length)\n",
        "    print(simi,'simi')\n",
        "    return(simi)\n",
        "  except:\n",
        "    return(0)\n",
        "\n",
        "  "
      ],
      "execution_count": null,
      "outputs": []
    },
    {
      "cell_type": "code",
      "metadata": {
        "id": "lAaqjsPYSSfz",
        "colab_type": "code",
        "colab": {}
      },
      "source": [
        "def cosine_followers1(a,b):\n",
        "  try:\n",
        "    if len(set(train_graph.predecessors(a)))==0 | len(set(train_graph.predecessors(b))):\n",
        "        #As we saw before whie doing EDA,i.e there are 2,70,000 people who are not following anyone(zero)\n",
        "        #So we introduced this condition checking if either of the node has zero following.\n",
        "        #If anyone has zero following then there is no point in checking further,because it will have zero common elements hence Cosine similarity be zero\n",
        "        return 0\n",
        "    cosine_intersection=len(set(train_graph.predecessors(a)).intersection(set(train_graph.predecessors(b))))\n",
        "    length=math.sqrt(len(set(train_graph.predecessors(a)))*len(set(train_graph.predecessors(b))))\n",
        "    similar=cosine_intersection/length\n",
        "    return(similar)\n",
        "  except:\n",
        "      return 0\n",
        "  "
      ],
      "execution_count": null,
      "outputs": []
    },
    {
      "cell_type": "markdown",
      "metadata": {
        "id": "QYLxiL9biNTl",
        "colab_type": "text"
      },
      "source": [
        "#Page Rank"
      ]
    },
    {
      "cell_type": "code",
      "metadata": {
        "id": "tPqMvPznjRR-",
        "colab_type": "code",
        "colab": {}
      },
      "source": [
        "rank=nx.pagerank(train_graph,alpha=0.85)\n",
        "pagerank_mean=sum(list(rank.values()))/(len(list(rank.values())))\n"
      ],
      "execution_count": null,
      "outputs": []
    },
    {
      "cell_type": "code",
      "metadata": {
        "id": "n3S-2Qa75hXI",
        "colab_type": "code",
        "colab": {}
      },
      "source": [
        "def pagerank(rank,a):\n",
        "  node1=rank.get(a,pagerank_mean)\n",
        "  return(node1)"
      ],
      "execution_count": null,
      "outputs": []
    },
    {
      "cell_type": "markdown",
      "metadata": {
        "id": "oXxQUNFSkF38",
        "colab_type": "text"
      },
      "source": [
        "#Shortest path length"
      ]
    },
    {
      "cell_type": "code",
      "metadata": {
        "id": "h5sNCfRQrhFr",
        "colab_type": "code",
        "colab": {}
      },
      "source": [
        "def shortest_path(a,b):\n",
        "  p=-1\n",
        "  try:\n",
        "    if train_graph.has_edge(a,b):\n",
        "      train_graph.remove_edge(*(a,b))\n",
        "      p=nx.shortest_path_length(train_graph,source=a,target=b)\n",
        "      train_graph.add_edge(*(a,b))\n",
        "    else:\n",
        "      p=nx.shortest_path_length(train_graph,source=a,target=b)\n",
        "    return(p)\n",
        "  except:\n",
        "    return -1"
      ],
      "execution_count": null,
      "outputs": []
    },
    {
      "cell_type": "markdown",
      "metadata": {
        "id": "iHYrzIsatEiU",
        "colab_type": "text"
      },
      "source": [
        "#Checking for the same Community"
      ]
    },
    {
      "cell_type": "markdown",
      "metadata": {
        "id": "DwIViIfR7Dx7",
        "colab_type": "text"
      },
      "source": [
        "Code logic:\n",
        "\n",
        "1.First get the weak connected components from a graph\n",
        "2.As we saw before there are many weakly connected components which are of length (2) i.e those components have 2nodes one edge.\n",
        "\n",
        "Hence there are three cases to check:\n",
        "\n",
        "\n",
        "\n",
        "\n",
        "*   1)Two nodes will have direct edge and also indirect edge or another path     connecting two nodes a and b\n",
        "   \n",
        "*   2)Two nodes will have direct edge and they two form a single component\n",
        "\n",
        "\n",
        "*   3)Two nodes doesnt have any direct edge b/w them.\n",
        "   \n",
        "\n",
        "\n"
      ]
    },
    {
      "cell_type": "code",
      "metadata": {
        "id": "_EERhCXiv8p7",
        "colab_type": "code",
        "colab": {}
      },
      "source": [
        "from tqdm import tqdm\n",
        "def check_for_community(a,b,graph):\n",
        "  weak=nx.weakly_connected_components(graph)\n",
        "  if train_graph.has_edge(a,b):  #Is there any direct edge?if so then check whether both nodes present in same component\n",
        "    for i in tqdm(weak):\n",
        "      if a in i:\n",
        "        c=i\n",
        "        break\n",
        "        if b in c:               #Does both of nodes belongs to same component?if so check whether its weak component of size 2 by removing edge.\n",
        "          train_graph.remove_edge(*(a,b))\n",
        "          if(shortest_path(a,b)==-1):    #Is it component with 2nodes and 1edge?if so return 0 else it indicates that a part from direct edge b/w nodes the component has also indirect path b/w a and b.\n",
        "            train_graph.add_edge(*(a,b))\n",
        "            return(0)\n",
        "          else:\n",
        "            train_graph.add_edge(*(a,b))\n",
        "            return(1)\n",
        "        else:\n",
        "          return(0)\n",
        "  else:                       #If there is no direct edge then just check whether they belong to same community or not and return result accordingly.\n",
        "    for i1 in tqdm(weak):\n",
        "      if a in i1:\n",
        "        c1=i1\n",
        "        break\n",
        "        if b in c1:\n",
        "          return(1)\n",
        "        else:\n",
        "          return(0)\n"
      ],
      "execution_count": null,
      "outputs": []
    },
    {
      "cell_type": "markdown",
      "metadata": {
        "id": "vr5IpyMd_dy1",
        "colab_type": "text"
      },
      "source": [
        "#Adar Index"
      ]
    },
    {
      "cell_type": "markdown",
      "metadata": {
        "id": "m89wi5_2_imh",
        "colab_type": "text"
      },
      "source": [
        "Logic of Adar Index:\n",
        "Sometimes its not how many common followers/followee b/w node A and B we should look for instead we should look for 'Who we both are following?'.To answer this question Adar Index will be helpful.First it takes common neighbors of node A and B and check how many followers are there for these neighbors and sum the result.Intuitively,lets say both A and B are following a 'meme page' in instagram does it mean these both needs to friends,no absolutely not..Here the meme page may consists of lot of followers and it gives very low logarithmic result>>low value indicates 'commonality b/w A and B has nothing to do with friendship or relation berween them'."
      ]
    },
    {
      "cell_type": "code",
      "metadata": {
        "id": "CK1nBQZ1BI81",
        "colab_type": "code",
        "colab": {}
      },
      "source": [
        "def adar_index(a,b):\n",
        "  try:\n",
        "    u=list(set(train_graph.successors(a)).intersection(set(train_graph.successors(b))))\n",
        "    if(len(u)!=0):\n",
        "      sum=0\n",
        "      for j in u:\n",
        "        sum+=(1/(np.log10(len(list(train_graph.predecessors(j))))))\n",
        "      return(sum)\n",
        "    else:\n",
        "      return(0)\n",
        "  except:\n",
        "    return(0)"
      ],
      "execution_count": null,
      "outputs": []
    },
    {
      "cell_type": "markdown",
      "metadata": {
        "id": "XpsoSm6HD_LU",
        "colab_type": "text"
      },
      "source": [
        "#Person following back"
      ]
    },
    {
      "cell_type": "code",
      "metadata": {
        "id": "jlOtPkMeELu9",
        "colab_type": "code",
        "colab": {}
      },
      "source": [
        "def follow_back(a,b):\n",
        "  if train_graph.has_edge(b,a):\n",
        "    return(1)\n",
        "  else:\n",
        "    return(0)"
      ],
      "execution_count": null,
      "outputs": []
    },
    {
      "cell_type": "markdown",
      "metadata": {
        "id": "r3o9kIZ2JhrE",
        "colab_type": "text"
      },
      "source": [
        "#Katz Centrality"
      ]
    },
    {
      "cell_type": "code",
      "metadata": {
        "id": "DiGpZ3NjJm6e",
        "colab_type": "code",
        "colab": {}
      },
      "source": [
        "r=nx.katz_centrality(train_graph)\n",
        "mean_katz=sum(list(r.values()))/len(list(r.values()))\n",
        "def katz(r,a):\n",
        "  katz_source=r.get(a,mean_katz)\n",
        "  return(katz_source)"
      ],
      "execution_count": null,
      "outputs": []
    },
    {
      "cell_type": "markdown",
      "metadata": {
        "id": "xKOQc3PpKFW7",
        "colab_type": "text"
      },
      "source": [
        "#Hits score"
      ]
    },
    {
      "cell_type": "markdown",
      "metadata": {
        "id": "FwaHb-mZLGrC",
        "colab_type": "text"
      },
      "source": [
        "Observation:\n",
        "It works some what similar to Adar Index but the theme/idea of Adar Index revolves around 'Commonality of Neighbors',on the other hand Hits score works with the idea of 'Mutual relationship b/w pair of vertices'.\n",
        "Suppose i follow Bill gates on Instagram does it mean he is a friend of me?No,not necessarily so how do i check that?This is where Hits score comes into picture.\n",
        "Hubscore tells>the 'quality of links it refers to'>better the quality of links it refers to more Hub score.\n",
        "Authority score>how many hubs(which they themselves have high score) are refering to a particular link?>>more the authority score more hubs are refering to alink.\n",
        "So,now a 'Celebrity' will have high score since he is following other celebrities(u can think of as refering quality links).\n",
        "At the same time,a Celebrity will have high authority score too,since other high profile people follow this person.\n",
        "\n",
        "Celebrity>>(high Hubscore,high authority score)\n",
        "Normal person>>(high/low Hubscore,but low authority score)"
      ]
    },
    {
      "cell_type": "code",
      "metadata": {
        "id": "GTl2SirzNcEv",
        "colab_type": "code",
        "colab": {}
      },
      "source": [
        "n=nx.hits(train_graph, max_iter=100, tol=1e-08, nstart=None, normalized=True)\n",
        "#returns two tuples of dictionary where keys are nodes and values are their (hubs,authorities) scores\n"
      ],
      "execution_count": null,
      "outputs": []
    },
    {
      "cell_type": "markdown",
      "metadata": {
        "id": "HwuZmVXPOlFz",
        "colab_type": "text"
      },
      "source": [
        "#Random sampling of points"
      ]
    },
    {
      "cell_type": "code",
      "metadata": {
        "id": "jkifX4lDke2D",
        "colab_type": "code",
        "colab": {
          "base_uri": "https://localhost:8080/",
          "height": 34
        },
        "outputId": "5b98e2f2-9115-463c-971b-2e5283483741"
      },
      "source": [
        "import networkx as nx\n",
        "test_graph2=nx.convert_matrix.from_pandas_edgelist(final_xtest,source='source_node',target='destination',create_using=nx.DiGraph)\n",
        "print(test_graph2.number_of_nodes())"
      ],
      "execution_count": null,
      "outputs": [
        {
          "output_type": "stream",
          "text": [
            "95562\n"
          ],
          "name": "stdout"
        }
      ]
    },
    {
      "cell_type": "code",
      "metadata": {
        "id": "snE6dxaOm2F8",
        "colab_type": "code",
        "colab": {
          "base_uri": "https://localhost:8080/",
          "height": 34
        },
        "outputId": "81812dcb-7be6-4dcd-b48f-9dc8baf8e63a"
      },
      "source": [
        "import random\n",
        "train_sample=sorted(random.sample(range(0,15100030),15100030-100000))\n",
        "test_sample=sorted(random.sample(range(0,3775008),3775008-50000))\n",
        "print(len(train_sample))"
      ],
      "execution_count": null,
      "outputs": [
        {
          "output_type": "stream",
          "text": [
            "15000030\n"
          ],
          "name": "stdout"
        }
      ]
    },
    {
      "cell_type": "code",
      "metadata": {
        "id": "VIYAFnGIowSz",
        "colab_type": "code",
        "colab": {}
      },
      "source": [
        "import pandas as pd\n",
        "final_xtrain=pd.read_csv('X_train.csv',skiprows=train_sample,names=['source_node','destination'])\n",
        "final_xtest=pd.read_csv('X_test.csv',skiprows=test_sample,names=['source_node','destination'])\n"
      ],
      "execution_count": null,
      "outputs": []
    },
    {
      "cell_type": "code",
      "metadata": {
        "id": "Q81qUMMpW0uN",
        "colab_type": "code",
        "colab": {}
      },
      "source": [
        "import random\n",
        "import pandas as pd\n",
        "import numpy as np\n",
        "import networkx as nx\n",
        "X_trainpos=pd.read_csv('X_trainpos.csv',sep=',').astype(int)\n",
        "edges=X_trainpos[['source_node','destination_node']].values.tolist()"
      ],
      "execution_count": null,
      "outputs": []
    },
    {
      "cell_type": "code",
      "metadata": {
        "id": "NLaO_ySPmxbv",
        "colab_type": "code",
        "colab": {}
      },
      "source": [
        "train_graph=nx.DiGraph()\n",
        "train_graph.add_nodes_from(X_trainpos['source_node'].values)\n",
        "train_graph.add_nodes_from(X_trainpos['destination_node'].values)\n"
      ],
      "execution_count": null,
      "outputs": []
    },
    {
      "cell_type": "code",
      "metadata": {
        "id": "6A-Y1wCcqOdL",
        "colab_type": "code",
        "colab": {}
      },
      "source": [
        "train_graph.add_edges_from(edges)"
      ],
      "execution_count": null,
      "outputs": []
    },
    {
      "cell_type": "code",
      "metadata": {
        "id": "tudoyRTE1St1",
        "colab_type": "code",
        "colab": {}
      },
      "source": [
        "final_xtrain['indicator']=pd.read_csv('y-train.csv',skiprows=train_sample)\n",
        "final_xtest['indicator']=pd.read_csv('y_test.csv',skiprows=test_sample)"
      ],
      "execution_count": null,
      "outputs": []
    },
    {
      "cell_type": "code",
      "metadata": {
        "id": "IziqvTievHv6",
        "colab_type": "code",
        "colab": {
          "base_uri": "https://localhost:8080/",
          "height": 238
        },
        "outputId": "82fe8149-bb2e-4db3-af79-70bb3650ee30"
      },
      "source": [
        "print(final_xtrain.shape)\n",
        "print(final_xtest.shape)\n",
        "final_xtrain.head()\n",
        "final_xtrain=final_xtrain.reset_index(drop=True)\n",
        "final_xtest=final_xtest.reset_index(drop=True)\n",
        "final_xtrain.head()"
      ],
      "execution_count": null,
      "outputs": [
        {
          "output_type": "stream",
          "text": [
            "(100000, 3)\n",
            "(50000, 3)\n"
          ],
          "name": "stdout"
        },
        {
          "output_type": "execute_result",
          "data": {
            "text/html": [
              "<div>\n",
              "<style scoped>\n",
              "    .dataframe tbody tr th:only-of-type {\n",
              "        vertical-align: middle;\n",
              "    }\n",
              "\n",
              "    .dataframe tbody tr th {\n",
              "        vertical-align: top;\n",
              "    }\n",
              "\n",
              "    .dataframe thead th {\n",
              "        text-align: right;\n",
              "    }\n",
              "</style>\n",
              "<table border=\"1\" class=\"dataframe\">\n",
              "  <thead>\n",
              "    <tr style=\"text-align: right;\">\n",
              "      <th></th>\n",
              "      <th>source_node</th>\n",
              "      <th>destination</th>\n",
              "      <th>indicator</th>\n",
              "    </tr>\n",
              "  </thead>\n",
              "  <tbody>\n",
              "    <tr>\n",
              "      <th>0</th>\n",
              "      <td>9205</td>\n",
              "      <td>1038541</td>\n",
              "      <td>1.0</td>\n",
              "    </tr>\n",
              "    <tr>\n",
              "      <th>1</th>\n",
              "      <td>187802</td>\n",
              "      <td>745022</td>\n",
              "      <td>1.0</td>\n",
              "    </tr>\n",
              "    <tr>\n",
              "      <th>2</th>\n",
              "      <td>35634</td>\n",
              "      <td>888460</td>\n",
              "      <td>1.0</td>\n",
              "    </tr>\n",
              "    <tr>\n",
              "      <th>3</th>\n",
              "      <td>1408954</td>\n",
              "      <td>1662316</td>\n",
              "      <td>1.0</td>\n",
              "    </tr>\n",
              "    <tr>\n",
              "      <th>4</th>\n",
              "      <td>180906</td>\n",
              "      <td>1628517</td>\n",
              "      <td>1.0</td>\n",
              "    </tr>\n",
              "  </tbody>\n",
              "</table>\n",
              "</div>"
            ],
            "text/plain": [
              "   source_node  destination  indicator\n",
              "0         9205      1038541        1.0\n",
              "1       187802       745022        1.0\n",
              "2        35634       888460        1.0\n",
              "3      1408954      1662316        1.0\n",
              "4       180906      1628517        1.0"
            ]
          },
          "metadata": {
            "tags": []
          },
          "execution_count": 28
        }
      ]
    },
    {
      "cell_type": "code",
      "metadata": {
        "id": "rEV7hTwAvmPd",
        "colab_type": "code",
        "colab": {
          "base_uri": "https://localhost:8080/",
          "height": 34
        },
        "outputId": "8ca8f508-2b34-4af1-e4ae-16a118ab0330"
      },
      "source": [
        "from tqdm import tqdm\n",
        "def no_followers(df,train_graph):\n",
        "\n",
        "  num_followers_a=[]\n",
        "  num_followers_b=[]\n",
        "  num_following_a=[]\n",
        "  num_following_b=[]\n",
        "  intersection_followers=[]\n",
        "  intersection_following=[]\n",
        "  for i1,j1 in tqdm(df.iterrows()):\n",
        "    a=int(j1[0])\n",
        "    b=int(j1[1])\n",
        "    try:\n",
        "      a1=set(train_graph.predecessors(a))\n",
        "      b1=set(train_graph.predecessors(b))\n",
        "    except:\n",
        "      a1=set()\n",
        "      b1=set()\n",
        "    num_followers_a.append(len(a1))\n",
        "    num_followers_b.append(len(b1))\n",
        "    try:\n",
        "      c1=set(train_graph.successors(a))\n",
        "      d1=(set(train_graph.successors(b)))\n",
        "    except:\n",
        "      c1=set()\n",
        "      d1=set()\n",
        "    num_following_a.append(len(c1))\n",
        "    num_following_b.append(len(d1))\n",
        "\n",
        "    intersection_followers.append(len(a1.intersection(b1)))\n",
        "    intersection_following.append(len(c1.intersection(d1)))\n",
        "  return(num_followers_a,num_followers_b,num_following_a,num_following_b,intersection_followers,intersection_following)\n",
        "\n",
        "num_followers_a,num_followers_b,num_following_a,num_following_b,intersection_followers,intersection_following=no_followers(final_xtrain,train_graph)\n"
      ],
      "execution_count": null,
      "outputs": [
        {
          "output_type": "stream",
          "text": [
            "100000it [00:12, 7983.46it/s]\n"
          ],
          "name": "stderr"
        }
      ]
    },
    {
      "cell_type": "code",
      "metadata": {
        "id": "cAlYaU_mwbDN",
        "colab_type": "code",
        "colab": {
          "base_uri": "https://localhost:8080/",
          "height": 34
        },
        "outputId": "a08d4ab3-c8c8-4430-d83a-28f4b8aeb567"
      },
      "source": [
        "num_testfollowers_a,num_testfollowers_b,num_testfollowing_a,num_testfollowing_b,test_intersection_followers,test_intersection_following=no_followers(final_xtest,train_graph)"
      ],
      "execution_count": null,
      "outputs": [
        {
          "output_type": "stream",
          "text": [
            "50000it [00:06, 7955.35it/s]\n"
          ],
          "name": "stderr"
        }
      ]
    },
    {
      "cell_type": "code",
      "metadata": {
        "id": "0-eM1Sv-0tGS",
        "colab_type": "code",
        "colab": {}
      },
      "source": [
        "final_xtrain['num_followers_a']=num_followers_a\n",
        "final_xtrain['num_followers_b']=num_followers_b\n",
        "final_xtrain['num_following_a']=num_following_a\n",
        "final_xtrain['num_following_b']=num_following_b\n",
        "final_xtrain['intersection_followers']=intersection_followers\n",
        "final_xtrain['intersection_following']=intersection_following\n",
        "#=========================================================================================\n",
        "final_xtest['num_followers_a']=num_testfollowers_a\n",
        "final_xtest['num_followers_b']=num_testfollowers_b\n",
        "final_xtest['num_following_a']=num_testfollowing_a\n",
        "final_xtest['num_following_b']=num_testfollowing_b\n",
        "final_xtest['intersection_followers']=test_intersection_followers\n",
        "final_xtest['intersection_following']=test_intersection_following"
      ],
      "execution_count": null,
      "outputs": []
    },
    {
      "cell_type": "code",
      "metadata": {
        "id": "2DjfwTBIR6qh",
        "colab_type": "code",
        "colab": {}
      },
      "source": [
        "final_xtrain['jacard_followers']=final_xtrain.apply(lambda x:jacard_followers(x['source_node'],x['destination']),axis=1)\n",
        "final_xtrain['jacard_following']=final_xtrain.apply(lambda x: jacard1(x['source_node'],x['destination']),axis=1)\n",
        "#==============================================================================================================================\n",
        "final_xtest['jacard_followers']=final_xtest.apply(lambda x:jacard_followers(x['source_node'],x['destination']),axis=1)\n",
        "final_xtest['jacard_following']=final_xtest.apply(lambda x: jacard1(x['source_node'],x['destination']),axis=1)"
      ],
      "execution_count": null,
      "outputs": []
    },
    {
      "cell_type": "code",
      "metadata": {
        "id": "7M7bCxcLw5Y6",
        "colab_type": "code",
        "colab": {}
      },
      "source": [
        "final_xtrain.to_csv('final_xtrain.csv')\n",
        "final_xtest.to_csv('final_xtest.csv')"
      ],
      "execution_count": null,
      "outputs": []
    },
    {
      "cell_type": "code",
      "metadata": {
        "id": "PBskG7mTtrLj",
        "colab_type": "code",
        "colab": {}
      },
      "source": [
        "final_train['cosine_sim_following']=final_xtrain.apply(lambda x:cosine_followers1(x['source_node'],x['destination']),axis=1)\n",
        "final_train['cosine_sim_followers']=final_xtrain.apply(lambda x:cosine_following1(x['source_node'],x['destination']),axis=1)"
      ],
      "execution_count": null,
      "outputs": []
    },
    {
      "cell_type": "code",
      "metadata": {
        "id": "hGW0h66uvehE",
        "colab_type": "code",
        "colab": {
          "base_uri": "https://localhost:8080/",
          "height": 182
        },
        "outputId": "2993fb03-e486-4eed-8aca-bb8c1b775e08"
      },
      "source": [
        "final_train.head(2)"
      ],
      "execution_count": null,
      "outputs": [
        {
          "output_type": "execute_result",
          "data": {
            "text/html": [
              "<div>\n",
              "<style scoped>\n",
              "    .dataframe tbody tr th:only-of-type {\n",
              "        vertical-align: middle;\n",
              "    }\n",
              "\n",
              "    .dataframe tbody tr th {\n",
              "        vertical-align: top;\n",
              "    }\n",
              "\n",
              "    .dataframe thead th {\n",
              "        text-align: right;\n",
              "    }\n",
              "</style>\n",
              "<table border=\"1\" class=\"dataframe\">\n",
              "  <thead>\n",
              "    <tr style=\"text-align: right;\">\n",
              "      <th></th>\n",
              "      <th>source_node</th>\n",
              "      <th>destination</th>\n",
              "      <th>indicator</th>\n",
              "      <th>page_rank_source</th>\n",
              "      <th>page_rank_destination</th>\n",
              "      <th>num_followers_a</th>\n",
              "      <th>num_followers_b</th>\n",
              "      <th>num_following_a</th>\n",
              "      <th>num_following_b</th>\n",
              "      <th>intersection_followers</th>\n",
              "      <th>intersection_following</th>\n",
              "      <th>follow_back</th>\n",
              "      <th>adar_index</th>\n",
              "      <th>check_for_community</th>\n",
              "      <th>shortest_path</th>\n",
              "      <th>node_a_hub</th>\n",
              "      <th>node_a_authority</th>\n",
              "      <th>node_b_hub</th>\n",
              "      <th>node_b_authority</th>\n",
              "      <th>katz_source</th>\n",
              "      <th>katz_destination</th>\n",
              "      <th>weight_in</th>\n",
              "      <th>weight_out</th>\n",
              "      <th>Weight _in+out</th>\n",
              "      <th>Weight_in*out</th>\n",
              "      <th>2*weight_in_out</th>\n",
              "      <th>weight_in_2*out</th>\n",
              "      <th>jacard_followers</th>\n",
              "      <th>jacard_following</th>\n",
              "      <th>cosine_sim_following</th>\n",
              "      <th>cosine_sim_followers</th>\n",
              "      <th>svd_source_u1</th>\n",
              "      <th>svd_source_u2</th>\n",
              "      <th>svd_source_u3</th>\n",
              "      <th>svd_source_u4</th>\n",
              "      <th>svd_source_u5</th>\n",
              "      <th>svd_source_u6</th>\n",
              "      <th>svd_source_v1</th>\n",
              "      <th>svd_source_v2</th>\n",
              "      <th>svd_source_v3</th>\n",
              "      <th>svd_source_v4</th>\n",
              "      <th>svd_source_v5</th>\n",
              "      <th>svd_source_v6</th>\n",
              "      <th>svd_destination_u1</th>\n",
              "      <th>svd_destination_u2</th>\n",
              "      <th>svd_destination_u3</th>\n",
              "      <th>svd_destination_u4</th>\n",
              "      <th>svd_destination_u5</th>\n",
              "      <th>svd_destination_u6</th>\n",
              "      <th>svd_destination_v1</th>\n",
              "      <th>svd_destination_v2</th>\n",
              "      <th>svd_destination_v3</th>\n",
              "      <th>svd_destination_v4</th>\n",
              "      <th>svd_destination_v5</th>\n",
              "      <th>svd_destination_v6</th>\n",
              "      <th>svd_dot_u</th>\n",
              "      <th>svd_dot_v</th>\n",
              "      <th>preferential</th>\n",
              "    </tr>\n",
              "  </thead>\n",
              "  <tbody>\n",
              "    <tr>\n",
              "      <th>0</th>\n",
              "      <td>1038512</td>\n",
              "      <td>1050851</td>\n",
              "      <td>1.0</td>\n",
              "      <td>5.357206e-07</td>\n",
              "      <td>4.027738e-07</td>\n",
              "      <td>4</td>\n",
              "      <td>3</td>\n",
              "      <td>3</td>\n",
              "      <td>3</td>\n",
              "      <td>3</td>\n",
              "      <td>1</td>\n",
              "      <td>1</td>\n",
              "      <td>2.095903</td>\n",
              "      <td>1</td>\n",
              "      <td>2</td>\n",
              "      <td>9.435018e-18</td>\n",
              "      <td>2.065897e-19</td>\n",
              "      <td>3.085661e-21</td>\n",
              "      <td>2.065672e-19</td>\n",
              "      <td>0.000746</td>\n",
              "      <td>0.000742</td>\n",
              "      <td>0.500000</td>\n",
              "      <td>0.500000</td>\n",
              "      <td>1.000000</td>\n",
              "      <td>0.250000</td>\n",
              "      <td>1.500000</td>\n",
              "      <td>1.500000</td>\n",
              "      <td>0.75</td>\n",
              "      <td>0.2</td>\n",
              "      <td>0.0</td>\n",
              "      <td>0.0</td>\n",
              "      <td>-1.013504e-11</td>\n",
              "      <td>-1.020506e-11</td>\n",
              "      <td>-8.151322e-10</td>\n",
              "      <td>1.329240e-11</td>\n",
              "      <td>-1.932327e-13</td>\n",
              "      <td>-8.791559e-16</td>\n",
              "      <td>-4.405506e-12</td>\n",
              "      <td>-1.277616e-11</td>\n",
              "      <td>-7.267582e-11</td>\n",
              "      <td>7.779667e-12</td>\n",
              "      <td>-3.092717e-11</td>\n",
              "      <td>-1.539260e-13</td>\n",
              "      <td>-1.680870e-13</td>\n",
              "      <td>-1.820098e-11</td>\n",
              "      <td>-3.875075e-12</td>\n",
              "      <td>4.094999e-14</td>\n",
              "      <td>-9.946609e-13</td>\n",
              "      <td>-9.531765e-16</td>\n",
              "      <td>-2.586611e-12</td>\n",
              "      <td>-6.151550e-10</td>\n",
              "      <td>-1.758483e-11</td>\n",
              "      <td>5.141163e-13</td>\n",
              "      <td>-6.309601e-12</td>\n",
              "      <td>-2.312080e-14</td>\n",
              "      <td>3.346881e-21</td>\n",
              "      <td>9.347850e-21</td>\n",
              "      <td>15</td>\n",
              "    </tr>\n",
              "    <tr>\n",
              "      <th>1</th>\n",
              "      <td>133732</td>\n",
              "      <td>1744424</td>\n",
              "      <td>1.0</td>\n",
              "      <td>1.283636e-06</td>\n",
              "      <td>1.991973e-06</td>\n",
              "      <td>18</td>\n",
              "      <td>28</td>\n",
              "      <td>17</td>\n",
              "      <td>76</td>\n",
              "      <td>0</td>\n",
              "      <td>0</td>\n",
              "      <td>1</td>\n",
              "      <td>0.000000</td>\n",
              "      <td>1</td>\n",
              "      <td>3</td>\n",
              "      <td>1.188235e-15</td>\n",
              "      <td>7.123619e-15</td>\n",
              "      <td>8.700889e-13</td>\n",
              "      <td>2.077153e-14</td>\n",
              "      <td>0.000810</td>\n",
              "      <td>0.000881</td>\n",
              "      <td>0.235702</td>\n",
              "      <td>0.113961</td>\n",
              "      <td>0.349663</td>\n",
              "      <td>0.026861</td>\n",
              "      <td>0.585365</td>\n",
              "      <td>0.463623</td>\n",
              "      <td>0.00</td>\n",
              "      <td>0.0</td>\n",
              "      <td>0.0</td>\n",
              "      <td>0.0</td>\n",
              "      <td>-3.117627e-11</td>\n",
              "      <td>-7.388056e-12</td>\n",
              "      <td>-1.315653e-10</td>\n",
              "      <td>4.455497e-13</td>\n",
              "      <td>-4.271498e-10</td>\n",
              "      <td>-1.214184e-14</td>\n",
              "      <td>-8.705486e-12</td>\n",
              "      <td>-4.500375e-12</td>\n",
              "      <td>-1.813899e-10</td>\n",
              "      <td>1.684077e-12</td>\n",
              "      <td>-4.981181e-12</td>\n",
              "      <td>-4.199249e-14</td>\n",
              "      <td>-1.605539e-10</td>\n",
              "      <td>-4.235181e-11</td>\n",
              "      <td>-2.315640e-09</td>\n",
              "      <td>6.265999e-11</td>\n",
              "      <td>-5.824641e-11</td>\n",
              "      <td>-2.084172e-12</td>\n",
              "      <td>-1.007519e-09</td>\n",
              "      <td>-4.617828e-11</td>\n",
              "      <td>-9.664548e-09</td>\n",
              "      <td>1.095713e-11</td>\n",
              "      <td>-5.713669e-10</td>\n",
              "      <td>-3.919711e-13</td>\n",
              "      <td>3.348841e-19</td>\n",
              "      <td>1.764894e-18</td>\n",
              "      <td>1558</td>\n",
              "    </tr>\n",
              "  </tbody>\n",
              "</table>\n",
              "</div>"
            ],
            "text/plain": [
              "   source_node  destination  ...     svd_dot_v  preferential\n",
              "0      1038512      1050851  ...  9.347850e-21            15\n",
              "1       133732      1744424  ...  1.764894e-18          1558\n",
              "\n",
              "[2 rows x 58 columns]"
            ]
          },
          "metadata": {
            "tags": []
          },
          "execution_count": 138
        }
      ]
    },
    {
      "cell_type": "code",
      "metadata": {
        "id": "5kS89hAhCm07",
        "colab_type": "code",
        "colab": {}
      },
      "source": [
        "\n",
        "final_test['cosine_sim_following']=final_xtest.apply(lambda x:cosine_following1(x['source_node'],x['destination']),axis=1)\n",
        "final_test['cosine_sim_followers']=final_xtest.apply(lambda x:cosine_followers1(x['source_node'],x['destination']),axis=1)"
      ],
      "execution_count": null,
      "outputs": []
    },
    {
      "cell_type": "code",
      "metadata": {
        "id": "D27_xZbJVcC2",
        "colab_type": "code",
        "colab": {}
      },
      "source": [
        "final_xtrain['follow_back']=final_xtrain.apply(lambda x:follow_back(x['source_node'],x['destination']),axis=1)\n",
        "final_xtest['follow_back']=final_xtest.apply(lambda x:follow_back(x['source_node'],x['destination']),axis=1)"
      ],
      "execution_count": null,
      "outputs": []
    },
    {
      "cell_type": "code",
      "metadata": {
        "id": "llX-dwA0cqkn",
        "colab_type": "code",
        "colab": {}
      },
      "source": [
        "final_xtrain['adar_index']=final_xtrain.apply(lambda x:adar_index(x['source_node'],x['destination']),axis=1)\n",
        "final_xtest['adar_index']=final_xtest.apply(lambda x:adar_index(x['source_node'],x['destination']),axis=1)"
      ],
      "execution_count": null,
      "outputs": []
    },
    {
      "cell_type": "code",
      "metadata": {
        "id": "I1wB_ztmdM-h",
        "colab_type": "code",
        "colab": {}
      },
      "source": [
        "final_xtrain['check_for_community']=final_xtrain.apply(lambda x:check_for_community(x['source_node'],x['destination'],train_graph),axis=1)\n",
        "final_xtest['check_for_community']=final_xtest.apply(lambda x:check_for_community(x['source_node'],x['destination'],train_graph),axis=1)"
      ],
      "execution_count": null,
      "outputs": []
    },
    {
      "cell_type": "code",
      "metadata": {
        "id": "PM7iJPfPqiak",
        "colab_type": "code",
        "colab": {}
      },
      "source": [
        "\n",
        "final_xtrain['shortest_path']=final_xtrain.apply(lambda x: shortest_path(x['source_node'],x['destination']),axis=1)\n",
        "final_xtest['shortest_path']=final_xtest.apply(lambda x: shortest_path(x['source_node'],x['destination']),axis=1)\n",
        "\n"
      ],
      "execution_count": null,
      "outputs": []
    },
    {
      "cell_type": "code",
      "metadata": {
        "id": "Z_VPraA9i4D4",
        "colab_type": "code",
        "colab": {}
      },
      "source": [
        "final_xtrain['page_rank_source']=final_xtrain['source_node'].apply((lambda x:pagerank(rank,x)))\n",
        "final_xtrain['page_rank_destination']=final_xtrain['destination'].apply(lambda x:pagerank(rank,x))"
      ],
      "execution_count": null,
      "outputs": []
    },
    {
      "cell_type": "code",
      "metadata": {
        "id": "XFsks3s1lMiW",
        "colab_type": "code",
        "colab": {}
      },
      "source": [
        "final_xtest['page_rank_source']=final_xtest['source_node'].apply(lambda x:pagerank(rank,x))\n",
        "final_xtest['page_rank_destination']=final_xtest['destination'].apply(lambda x:pagerank(rank,x))"
      ],
      "execution_count": null,
      "outputs": []
    },
    {
      "cell_type": "code",
      "metadata": {
        "id": "j_dWVqtBlqMw",
        "colab_type": "code",
        "colab": {}
      },
      "source": [
        "final_xtrain['node_a_hub']=final_xtrain['source_node'].apply(lambda x:hits_score(n,x,True))\n",
        "final_xtrain['node_a_authority']=final_xtrain['source_node'].apply(lambda x:hits_score(n,x,False))\n",
        "final_xtrain['node_b_hub']=final_xtrain['destination'].apply(lambda x:hits_score(n,x,True))\n",
        "final_xtrain['node_b_authority']=final_xtrain['destination'].apply(lambda x:hits_score(n,x,False))"
      ],
      "execution_count": null,
      "outputs": []
    },
    {
      "cell_type": "code",
      "metadata": {
        "id": "sCf7oRmT9t4t",
        "colab_type": "code",
        "colab": {}
      },
      "source": [
        "final_xtrain.to_csv('X_trainhub.csv')\n",
        "final_xtest.to_csv('X_testhub.csv')"
      ],
      "execution_count": null,
      "outputs": []
    },
    {
      "cell_type": "code",
      "metadata": {
        "id": "KhGhYKvm-4GX",
        "colab_type": "code",
        "colab": {}
      },
      "source": [
        "final_xtest['node_a_hub']=final_xtest['source_node'].apply(lambda x:hits_score(n,x,True))\n",
        "final_xtest['node_a_authority']=final_xtest['source_node'].apply(lambda x:hits_score(n,x,False))\n",
        "final_xtest['node_b_hub']=final_xtest['destination'].apply(lambda x:hits_score(n,x,True))\n",
        "final_xtest['node_b_authority']=final_xtest['destination'].apply(lambda x:hits_score(n,x,False))"
      ],
      "execution_count": null,
      "outputs": []
    },
    {
      "cell_type": "code",
      "metadata": {
        "id": "JoxQxluJJvJc",
        "colab_type": "code",
        "colab": {}
      },
      "source": [
        "\n",
        "final_xtrain['katz_source']=final_xtrain['source_node'].apply(lambda x:katz(r,x),axis=0)\n",
        "final_xtrain['katz_destination']=final_xtrain['destination'].apply(lambda x:katz(r,x),axis=0)\n",
        "#=======================================================================================================================================\n",
        "\n",
        "final_xtest['katz_source']=final_xtest['source_node'].apply(lambda x:katz(r,x),axis=0)\n",
        "final_xtest['katz_destination']=final_xtest['destination'].apply(lambda x:katz(r,x),axis=0)"
      ],
      "execution_count": null,
      "outputs": []
    },
    {
      "cell_type": "code",
      "metadata": {
        "id": "U4erJzeXRLGK",
        "colab_type": "code",
        "colab": {}
      },
      "source": [
        "weight_in={}\n",
        "weight_out={}\n",
        "for i in train_graph.nodes():\n",
        "  v=set(train_graph.successors(i))\n",
        "  weight=1/(np.sqrt(1+len(v)))\n",
        "  weight_in[i]=weight\n",
        "  v1=set(train_graph.predecessors(i))\n",
        "  weight1=1/(np.sqrt(1+len(v)))\n",
        "  weight_out[i]=weight1\n",
        "weight_in_mean=mean(list(weight_in.values()))\n",
        "weight_out_mean=mean(list(weight_out.values()))"
      ],
      "execution_count": null,
      "outputs": []
    },
    {
      "cell_type": "code",
      "metadata": {
        "id": "69Agn_vmScPG",
        "colab_type": "code",
        "colab": {}
      },
      "source": [
        "final_xtrain['weight_in']=final_xtrain['source_node'].apply(lambda x: weight_in.get(x,weight_in_mean))\n",
        "final_xtrain['weight_out']=final_xtrain['destination'].apply(lambda x: weight_out.get(x,weight_out_mean))\n",
        "final_xtrain['Weight _in+out']=final_xtrain['weight_in']+final_xtrain['weight_out']\n",
        "final_xtrain['Weight_in*out']=final_xtrain['weight_in']*final_xtrain['weight_out']\n",
        "final_xtrain['2*weight_in_out']=2*final_xtrain['weight_in']+final_xtrain['weight_out']\n",
        "final_xtrain['weight_in_2*out']=final_xtrain['weight_in']+2*final_xtrain['weight_out']\n",
        "\n",
        "#=================================================================================================================\n",
        "final_xtest['weight_in']=final_xtest['source_node'].apply(lambda x: weight_in.get(x,weight_in_mean))\n",
        "final_xtest['weight_out']=final_xtest['destination'].apply(lambda x: weight_out.get(x,weight_out_mean))\n",
        "final_xtest['Weight _in+out']=final_xtest['weight_in']+final_xtest['weight_out']\n",
        "final_xtest['Weight_in*out']=final_xtest['weight_in']*final_xtest['weight_out']\n",
        "final_xtest['2*weight_in_out']=2*final_xtest['weight_in']+final_xtest['weight_out']\n",
        "final_xtest['weight_in_2*out']=final_xtest['weight_in']+2*final_xtest['weight_out']\n"
      ],
      "execution_count": null,
      "outputs": []
    },
    {
      "cell_type": "markdown",
      "metadata": {
        "id": "oGM4MnbUDcxX",
        "colab_type": "text"
      },
      "source": [
        "#SVD Features"
      ]
    },
    {
      "cell_type": "code",
      "metadata": {
        "id": "E_BufYK_Dj-G",
        "colab_type": "code",
        "colab": {}
      },
      "source": [
        "#Creating adjacency matrix\n",
        "p=nx.adjacency_matrix(train_graph,nodelist=sorted(train_graph.nodes()))#The rows and columns in adjacency matrix are arranged according to nodes in nodelist parameter\n"
      ],
      "execution_count": null,
      "outputs": []
    },
    {
      "cell_type": "code",
      "metadata": {
        "id": "o4ywCJAMrw3R",
        "colab_type": "code",
        "colab": {
          "base_uri": "https://localhost:8080/",
          "height": 34
        },
        "outputId": "458e530a-3b47-42cd-fe49-aa8cd01feb23"
      },
      "source": [
        "p=p.astype(float)\n",
        "type(p)"
      ],
      "execution_count": null,
      "outputs": [
        {
          "output_type": "execute_result",
          "data": {
            "text/plain": [
              "scipy.sparse.csr.csr_matrix"
            ]
          },
          "metadata": {
            "tags": []
          },
          "execution_count": 38
        }
      ]
    },
    {
      "cell_type": "code",
      "metadata": {
        "id": "G-x8XgJKEV3E",
        "colab_type": "code",
        "colab": {}
      },
      "source": [
        "#Input the adjacency matrix to SVD algorithm\n",
        "import scipy\n",
        "U,k,V=scipy.sparse.linalg.svds(p,k=6)\n",
        "# U matrix is shape of (M,N)"
      ],
      "execution_count": null,
      "outputs": []
    },
    {
      "cell_type": "code",
      "metadata": {
        "id": "u9xvcP2qFgYm",
        "colab_type": "code",
        "colab": {}
      },
      "source": [
        "#Now i want to access eigen vectors for the source node and destination node and add it to the dataframe\n",
        "node=sorted(train_graph.nodes())\n",
        "node_index={node:index for index,node in enumerate(node)}\n",
        "#Since i used same sorted nodes while making adjacency matrix hence by giving node i can access the eigen vectors of U and V"
      ],
      "execution_count": null,
      "outputs": []
    },
    {
      "cell_type": "code",
      "metadata": {
        "id": "DN13UUplG5KM",
        "colab_type": "code",
        "colab": {}
      },
      "source": [
        "def vector_access(node,U):\n",
        "  try:\n",
        "    index=node_index[node]\n",
        "    return(U[index])\n",
        "  except:\n",
        "    return([0,0,0,0,0,0])\n"
      ],
      "execution_count": null,
      "outputs": []
    },
    {
      "cell_type": "code",
      "metadata": {
        "id": "Iy3TBtyHyQuy",
        "colab_type": "code",
        "colab": {}
      },
      "source": [
        "final_train[['svd_source_u1','svd_source_u2','svd_source_u3','svd_source_u4','svd_source_u5','svd_source_u6']]=final_xtrain['source_node'].apply(lambda x: vector_access(x,U)).apply(pd.Series) \n",
        "final_train[['svd_source_v1','svd_source_v2','svd_source_v3','svd_source_v4','svd_source_v5','svd_source_v6']]=final_xtrain['source_node'].apply(lambda x:vector_access(x,V.T)).apply(pd.Series) \n",
        "final_train[['svd_destination_u1','svd_destination_u2','svd_destination_u3','svd_destination_u4','svd_destination_u5','svd_destination_u6']]=final_xtrain['destination'].apply(lambda x:vector_access(x,U)).apply(pd.Series) \n",
        "final_train[['svd_destination_v1','svd_destination_v2','svd_destination_v3','svd_destination_v4','svd_destination_v5','svd_destination_v6']]=final_xtrain['destination'].apply(lambda x:vector_access(x,V.T)).apply(pd.Series)\n",
        "#===========================================================================================================================================================================================\n"
      ],
      "execution_count": null,
      "outputs": []
    },
    {
      "cell_type": "code",
      "metadata": {
        "id": "GA00GpVe0QOS",
        "colab_type": "code",
        "colab": {}
      },
      "source": [
        "final_test[['svd_source_u1','svd_source_u2','svd_source_u3','svd_source_u4','svd_source_u5','svd_source_u6']]=final_xtest['source_node'].apply(lambda x: vector_access(x,U)).apply(pd.Series) \n",
        "final_test[['svd_source_v1','svd_source_v2','svd_source_v3','svd_source_v4','svd_source_v5','svd_source_v6']]=final_xtest['source_node'].apply(lambda x:vector_access(x,V.T)).apply(pd.Series) \n",
        "final_test[['svd_destination_u1','svd_destination_u2','svd_destination_u3','svd_destination_u4','svd_destination_u5','svd_destination_u6']]=final_xtest['destination'].apply(lambda x:vector_access(x,U)).apply(pd.Series) \n",
        "final_test[['svd_destination_v1','svd_destination_v2','svd_destination_v3','svd_destination_v4','svd_destination_v5','svd_destination_v6']]=final_xtest['destination'].apply(lambda x:vector_access(x,V.T)).apply(pd.Series)"
      ],
      "execution_count": null,
      "outputs": []
    },
    {
      "cell_type": "markdown",
      "metadata": {
        "id": "jqV-uCqwPtxT",
        "colab_type": "text"
      },
      "source": [
        "#SVD dot"
      ]
    },
    {
      "cell_type": "code",
      "metadata": {
        "id": "L8Qw8LOuhMGH",
        "colab_type": "code",
        "colab": {}
      },
      "source": [
        "def svd_dot(a,b):\n",
        "  dot=np.dot(a,b)\n",
        "  return(dot)\n",
        "final_train['svd_dot_u']=final_xtrain.apply(lambda x: svd_dot(x[['svd_source_u1','svd_source_u2','svd_source_u3','svd_source_u4','svd_source_u5','svd_source_u6']],\\\n",
        "                                                         x[['svd_destination_u1','svd_destination_u2','svd_destination_u3','svd_destination_u4','svd_destination_u5','svd_destination_u6']]),axis=1)\n",
        "final_train['svd_dot_v']=final_xtrain.apply(lambda x:svd_dot(x[['svd_source_v1','svd_source_v2','svd_source_v3','svd_source_v4','svd_source_v5','svd_source_v6']],\\\n",
        "                                                        x[['svd_destination_v1','svd_destination_v2','svd_destination_v3','svd_destination_v4','svd_destination_v5','svd_destination_v6']]),axis=1)\n",
        "\n",
        "#================================================================================================================================================================================\n",
        "final_test['svd_dot_u']=final_xtest.apply(lambda x: svd_dot(x[['svd_source_u1','svd_source_u2','svd_source_u3','svd_source_u4','svd_source_u5','svd_source_u6']],\\\n",
        "                                                         x[['svd_destination_u1','svd_destination_u2','svd_destination_u3','svd_destination_u4','svd_destination_u5','svd_destination_u6']]),axis=1)\n",
        "final_test['svd_dot_v']=final_xtest.apply(lambda x:svd_dot(x[['svd_source_v1','svd_source_v2','svd_source_v3','svd_source_v4','svd_source_v5','svd_source_v6']],\\\n",
        "                                                        x[['svd_destination_v1','svd_destination_v2','svd_destination_v3','svd_destination_v4','svd_destination_v5','svd_destination_v6']]),axis=1)\n"
      ],
      "execution_count": null,
      "outputs": []
    },
    {
      "cell_type": "code",
      "metadata": {
        "id": "kB9dOFH7qokZ",
        "colab_type": "code",
        "colab": {}
      },
      "source": [
        "import pickle\n",
        "final_train=pickle.load(open('/content/drive/My Drive/pickle/final_xtrain.p','rb'))\n",
        "final_test=pickle.load(open('/content/drive/My Drive/pickle/final_xt.p','rb'))"
      ],
      "execution_count": null,
      "outputs": []
    },
    {
      "cell_type": "code",
      "metadata": {
        "id": "PQd46sH8hmrc",
        "colab_type": "code",
        "colab": {
          "base_uri": "https://localhost:8080/",
          "height": 51
        },
        "outputId": "5372edd7-1d9c-4812-ecd4-faac80f8dcee"
      },
      "source": [
        "print(final_train.shape)\n",
        "print(final_test.shape)"
      ],
      "execution_count": null,
      "outputs": [
        {
          "output_type": "stream",
          "text": [
            "(100000, 58)\n",
            "(50000, 58)\n"
          ],
          "name": "stdout"
        }
      ]
    },
    {
      "cell_type": "code",
      "metadata": {
        "id": "zvh50n7lDG2U",
        "colab_type": "code",
        "colab": {
          "base_uri": "https://localhost:8080/",
          "height": 340
        },
        "outputId": "4f23326b-13d8-45f8-af2a-d629b77272a4"
      },
      "source": [
        "final_train.columns"
      ],
      "execution_count": null,
      "outputs": [
        {
          "output_type": "execute_result",
          "data": {
            "text/plain": [
              "Index(['source_node', 'destination', 'indicator', 'page_rank_source',\n",
              "       'page_rank_destination', 'num_followers_a', 'num_followers_b',\n",
              "       'num_following_a', 'num_following_b', 'intersection_followers',\n",
              "       'intersection_following', 'follow_back', 'adar_index',\n",
              "       'check_for_community', 'shortest_path', 'node_a_hub',\n",
              "       'node_a_authority', 'node_b_hub', 'node_b_authority', 'katz_source',\n",
              "       'katz_destination', 'weight_in', 'weight_out', 'Weight _in+out',\n",
              "       'Weight_in*out', '2*weight_in_out', 'weight_in_2*out',\n",
              "       'jacard_followers', 'jacard_following', 'cosine_sim_following',\n",
              "       'cosine_sim_followers', 'svd_source_u1', 'svd_source_u2',\n",
              "       'svd_source_u3', 'svd_source_u4', 'svd_source_u5', 'svd_source_u6',\n",
              "       'svd_source_v1', 'svd_source_v2', 'svd_source_v3', 'svd_source_v4',\n",
              "       'svd_source_v5', 'svd_source_v6', 'svd_destination_u1',\n",
              "       'svd_destination_u2', 'svd_destination_u3', 'svd_destination_u4',\n",
              "       'svd_destination_u5', 'svd_destination_u6', 'svd_destination_v1',\n",
              "       'svd_destination_v2', 'svd_destination_v3', 'svd_destination_v4',\n",
              "       'svd_destination_v5', 'svd_destination_v6', 'svd_dot_u', 'svd_dot_v',\n",
              "       'preferential'],\n",
              "      dtype='object')"
            ]
          },
          "metadata": {
            "tags": []
          },
          "execution_count": 145
        }
      ]
    },
    {
      "cell_type": "code",
      "metadata": {
        "id": "X6yxfIuTCtTo",
        "colab_type": "code",
        "colab": {
          "base_uri": "https://localhost:8080/",
          "height": 323
        },
        "outputId": "eb144f07-294a-4e7b-c640-179331f9b398"
      },
      "source": [
        "final_test.columns"
      ],
      "execution_count": null,
      "outputs": [
        {
          "output_type": "execute_result",
          "data": {
            "text/plain": [
              "Index(['source_node', 'destination', 'indicator', 'page_rank_source',\n",
              "       'page_rank_destination', 'num_followers_a', 'num_followers_b',\n",
              "       'num_following_a', 'num_following_b', 'intersection_followers',\n",
              "       'intersection_following', 'follow_back', 'adar_index',\n",
              "       'check_for_community', 'shortest_path', 'node_a_hub',\n",
              "       'node_a_authority', 'node_b_hub', 'node_b_authority', 'katz_source',\n",
              "       'katz_destination', 'weight_in', 'weight_out', 'Weight _in+out',\n",
              "       'Weight_in*out', '2*weight_in_out', 'weight_in_2*out',\n",
              "       'jacard_followers', 'jacard_following', 'svd_source_u1',\n",
              "       'svd_source_u2', 'svd_source_u3', 'svd_source_u4', 'svd_source_u5',\n",
              "       'svd_source_u6', 'svd_source_v1', 'svd_source_v2', 'svd_source_v3',\n",
              "       'svd_source_v4', 'svd_source_v5', 'svd_source_v6', 'svd_destination_u1',\n",
              "       'svd_destination_u2', 'svd_destination_u3', 'svd_destination_u4',\n",
              "       'svd_destination_u5', 'svd_destination_u6', 'svd_destination_v1',\n",
              "       'svd_destination_v2', 'svd_destination_v3', 'svd_destination_v4',\n",
              "       'svd_destination_v5', 'svd_destination_v6', 'svd_dot_u', 'svd_dot_v',\n",
              "       'preferential'],\n",
              "      dtype='object')"
            ]
          },
          "metadata": {
            "tags": []
          },
          "execution_count": 144
        }
      ]
    },
    {
      "cell_type": "markdown",
      "metadata": {
        "id": "xvbPZ1NzFGku",
        "colab_type": "text"
      },
      "source": [
        "#Preferential Attachment"
      ]
    },
    {
      "cell_type": "code",
      "metadata": {
        "id": "XCEsXKC4Tp8w",
        "colab_type": "code",
        "colab": {}
      },
      "source": [
        "def preferential(a,b):\n",
        "  try:\n",
        "    c=len(set(train_graph.successors(a)))*len(set(train_graph.successors(b)))\n",
        "  except:\n",
        "    return(0)\n",
        "  return(c)"
      ],
      "execution_count": null,
      "outputs": []
    },
    {
      "cell_type": "code",
      "metadata": {
        "id": "xf_r1p8unl3W",
        "colab_type": "code",
        "colab": {}
      },
      "source": [
        "final_train['preferential']=final_train.apply(lambda x: preferential(x['source_node'],x['destination']),axis=1)\n",
        "final_test['preferential']=final_test.apply(lambda x: preferential(x['source_node'],x['destination']),axis=1)"
      ],
      "execution_count": null,
      "outputs": []
    },
    {
      "cell_type": "code",
      "metadata": {
        "id": "rS5gedlroyzj",
        "colab_type": "code",
        "colab": {
          "base_uri": "https://localhost:8080/",
          "height": 326
        },
        "outputId": "835bc73c-4133-449a-ca5f-cc13b996752c"
      },
      "source": [
        "final_train.head()"
      ],
      "execution_count": null,
      "outputs": [
        {
          "output_type": "execute_result",
          "data": {
            "text/html": [
              "<div>\n",
              "<style scoped>\n",
              "    .dataframe tbody tr th:only-of-type {\n",
              "        vertical-align: middle;\n",
              "    }\n",
              "\n",
              "    .dataframe tbody tr th {\n",
              "        vertical-align: top;\n",
              "    }\n",
              "\n",
              "    .dataframe thead th {\n",
              "        text-align: right;\n",
              "    }\n",
              "</style>\n",
              "<table border=\"1\" class=\"dataframe\">\n",
              "  <thead>\n",
              "    <tr style=\"text-align: right;\">\n",
              "      <th></th>\n",
              "      <th>source_node</th>\n",
              "      <th>destination</th>\n",
              "      <th>indicator</th>\n",
              "      <th>page_rank_source</th>\n",
              "      <th>page_rank_destination</th>\n",
              "      <th>num_followers_a</th>\n",
              "      <th>num_followers_b</th>\n",
              "      <th>num_following_a</th>\n",
              "      <th>num_following_b</th>\n",
              "      <th>intersection_followers</th>\n",
              "      <th>intersection_following</th>\n",
              "      <th>follow_back</th>\n",
              "      <th>adar_index</th>\n",
              "      <th>check_for_community</th>\n",
              "      <th>shortest_path</th>\n",
              "      <th>node_a_hub</th>\n",
              "      <th>node_a_authority</th>\n",
              "      <th>node_b_hub</th>\n",
              "      <th>node_b_authority</th>\n",
              "      <th>katz_source</th>\n",
              "      <th>katz_destination</th>\n",
              "      <th>weight_in</th>\n",
              "      <th>weight_out</th>\n",
              "      <th>Weight _in+out</th>\n",
              "      <th>Weight_in*out</th>\n",
              "      <th>2*weight_in_out</th>\n",
              "      <th>weight_in_2*out</th>\n",
              "      <th>jacard_followers</th>\n",
              "      <th>jacard_following</th>\n",
              "      <th>cosine_sim_following</th>\n",
              "      <th>cosine_sim_followers</th>\n",
              "      <th>svd_source_u1</th>\n",
              "      <th>svd_source_u2</th>\n",
              "      <th>svd_source_u3</th>\n",
              "      <th>svd_source_u4</th>\n",
              "      <th>svd_source_u5</th>\n",
              "      <th>svd_source_u6</th>\n",
              "      <th>svd_source_v1</th>\n",
              "      <th>svd_source_v2</th>\n",
              "      <th>svd_source_v3</th>\n",
              "      <th>svd_source_v4</th>\n",
              "      <th>svd_source_v5</th>\n",
              "      <th>svd_source_v6</th>\n",
              "      <th>svd_destination_u1</th>\n",
              "      <th>svd_destination_u2</th>\n",
              "      <th>svd_destination_u3</th>\n",
              "      <th>svd_destination_u4</th>\n",
              "      <th>svd_destination_u5</th>\n",
              "      <th>svd_destination_u6</th>\n",
              "      <th>svd_destination_v1</th>\n",
              "      <th>svd_destination_v2</th>\n",
              "      <th>svd_destination_v3</th>\n",
              "      <th>svd_destination_v4</th>\n",
              "      <th>svd_destination_v5</th>\n",
              "      <th>svd_destination_v6</th>\n",
              "      <th>svd_dot_u</th>\n",
              "      <th>svd_dot_v</th>\n",
              "      <th>preferential</th>\n",
              "    </tr>\n",
              "  </thead>\n",
              "  <tbody>\n",
              "    <tr>\n",
              "      <th>0</th>\n",
              "      <td>1038512</td>\n",
              "      <td>1050851</td>\n",
              "      <td>1.0</td>\n",
              "      <td>5.357206e-07</td>\n",
              "      <td>4.027738e-07</td>\n",
              "      <td>4</td>\n",
              "      <td>3</td>\n",
              "      <td>3</td>\n",
              "      <td>3</td>\n",
              "      <td>3</td>\n",
              "      <td>1</td>\n",
              "      <td>1</td>\n",
              "      <td>2.095903</td>\n",
              "      <td>1</td>\n",
              "      <td>2</td>\n",
              "      <td>9.435018e-18</td>\n",
              "      <td>2.065897e-19</td>\n",
              "      <td>3.085661e-21</td>\n",
              "      <td>2.065672e-19</td>\n",
              "      <td>0.000746</td>\n",
              "      <td>0.000742</td>\n",
              "      <td>0.500000</td>\n",
              "      <td>0.500000</td>\n",
              "      <td>1.000000</td>\n",
              "      <td>0.250000</td>\n",
              "      <td>1.500000</td>\n",
              "      <td>1.500000</td>\n",
              "      <td>0.750000</td>\n",
              "      <td>0.200000</td>\n",
              "      <td>0</td>\n",
              "      <td>0</td>\n",
              "      <td>-1.013504e-11</td>\n",
              "      <td>-1.020506e-11</td>\n",
              "      <td>-8.151322e-10</td>\n",
              "      <td>1.329240e-11</td>\n",
              "      <td>-1.932327e-13</td>\n",
              "      <td>-8.791559e-16</td>\n",
              "      <td>-4.405506e-12</td>\n",
              "      <td>-1.277616e-11</td>\n",
              "      <td>-7.267582e-11</td>\n",
              "      <td>7.779667e-12</td>\n",
              "      <td>-3.092717e-11</td>\n",
              "      <td>-1.539260e-13</td>\n",
              "      <td>-1.680870e-13</td>\n",
              "      <td>-1.820098e-11</td>\n",
              "      <td>-3.875075e-12</td>\n",
              "      <td>4.094999e-14</td>\n",
              "      <td>-9.946609e-13</td>\n",
              "      <td>-9.531765e-16</td>\n",
              "      <td>-2.586611e-12</td>\n",
              "      <td>-6.151550e-10</td>\n",
              "      <td>-1.758483e-11</td>\n",
              "      <td>5.141163e-13</td>\n",
              "      <td>-6.309601e-12</td>\n",
              "      <td>-2.312080e-14</td>\n",
              "      <td>3.346881e-21</td>\n",
              "      <td>9.347850e-21</td>\n",
              "      <td>15</td>\n",
              "    </tr>\n",
              "    <tr>\n",
              "      <th>1</th>\n",
              "      <td>133732</td>\n",
              "      <td>1744424</td>\n",
              "      <td>1.0</td>\n",
              "      <td>1.283636e-06</td>\n",
              "      <td>1.991973e-06</td>\n",
              "      <td>18</td>\n",
              "      <td>28</td>\n",
              "      <td>17</td>\n",
              "      <td>76</td>\n",
              "      <td>0</td>\n",
              "      <td>0</td>\n",
              "      <td>1</td>\n",
              "      <td>0.000000</td>\n",
              "      <td>1</td>\n",
              "      <td>3</td>\n",
              "      <td>1.188235e-15</td>\n",
              "      <td>7.123619e-15</td>\n",
              "      <td>8.700889e-13</td>\n",
              "      <td>2.077153e-14</td>\n",
              "      <td>0.000810</td>\n",
              "      <td>0.000881</td>\n",
              "      <td>0.235702</td>\n",
              "      <td>0.113961</td>\n",
              "      <td>0.349663</td>\n",
              "      <td>0.026861</td>\n",
              "      <td>0.585365</td>\n",
              "      <td>0.463623</td>\n",
              "      <td>0.000000</td>\n",
              "      <td>0.000000</td>\n",
              "      <td>0</td>\n",
              "      <td>0</td>\n",
              "      <td>-3.117627e-11</td>\n",
              "      <td>-7.388056e-12</td>\n",
              "      <td>-1.315653e-10</td>\n",
              "      <td>4.455497e-13</td>\n",
              "      <td>-4.271498e-10</td>\n",
              "      <td>-1.214184e-14</td>\n",
              "      <td>-8.705486e-12</td>\n",
              "      <td>-4.500375e-12</td>\n",
              "      <td>-1.813899e-10</td>\n",
              "      <td>1.684077e-12</td>\n",
              "      <td>-4.981181e-12</td>\n",
              "      <td>-4.199249e-14</td>\n",
              "      <td>-1.605539e-10</td>\n",
              "      <td>-4.235181e-11</td>\n",
              "      <td>-2.315640e-09</td>\n",
              "      <td>6.265999e-11</td>\n",
              "      <td>-5.824641e-11</td>\n",
              "      <td>-2.084172e-12</td>\n",
              "      <td>-1.007519e-09</td>\n",
              "      <td>-4.617828e-11</td>\n",
              "      <td>-9.664548e-09</td>\n",
              "      <td>1.095713e-11</td>\n",
              "      <td>-5.713669e-10</td>\n",
              "      <td>-3.919711e-13</td>\n",
              "      <td>3.348841e-19</td>\n",
              "      <td>1.764894e-18</td>\n",
              "      <td>1558</td>\n",
              "    </tr>\n",
              "    <tr>\n",
              "      <th>2</th>\n",
              "      <td>1553405</td>\n",
              "      <td>1388643</td>\n",
              "      <td>1.0</td>\n",
              "      <td>4.029345e-07</td>\n",
              "      <td>9.423598e-07</td>\n",
              "      <td>8</td>\n",
              "      <td>10</td>\n",
              "      <td>14</td>\n",
              "      <td>15</td>\n",
              "      <td>1</td>\n",
              "      <td>3</td>\n",
              "      <td>1</td>\n",
              "      <td>2.401433</td>\n",
              "      <td>1</td>\n",
              "      <td>2</td>\n",
              "      <td>3.479146e-10</td>\n",
              "      <td>2.555834e-14</td>\n",
              "      <td>1.748333e-13</td>\n",
              "      <td>3.603837e-14</td>\n",
              "      <td>0.000781</td>\n",
              "      <td>0.000794</td>\n",
              "      <td>0.258199</td>\n",
              "      <td>0.250000</td>\n",
              "      <td>0.508199</td>\n",
              "      <td>0.064550</td>\n",
              "      <td>0.766398</td>\n",
              "      <td>0.758199</td>\n",
              "      <td>0.058824</td>\n",
              "      <td>0.115385</td>\n",
              "      <td>0</td>\n",
              "      <td>0</td>\n",
              "      <td>-3.299207e-14</td>\n",
              "      <td>-1.490679e-12</td>\n",
              "      <td>-2.459959e-12</td>\n",
              "      <td>7.083803e-14</td>\n",
              "      <td>-4.867609e-13</td>\n",
              "      <td>-1.971053e-15</td>\n",
              "      <td>-4.546183e-15</td>\n",
              "      <td>-3.535089e-13</td>\n",
              "      <td>-2.982362e-11</td>\n",
              "      <td>1.310688e-13</td>\n",
              "      <td>-2.052950e-13</td>\n",
              "      <td>-1.181039e-14</td>\n",
              "      <td>-2.537344e-13</td>\n",
              "      <td>-1.350013e-11</td>\n",
              "      <td>-1.899798e-10</td>\n",
              "      <td>5.844518e-13</td>\n",
              "      <td>-9.711729e-12</td>\n",
              "      <td>-1.373892e-12</td>\n",
              "      <td>-7.027094e-13</td>\n",
              "      <td>-4.248941e-13</td>\n",
              "      <td>-8.831853e-11</td>\n",
              "      <td>3.227173e-13</td>\n",
              "      <td>-3.494714e-11</td>\n",
              "      <td>-8.205791e-14</td>\n",
              "      <td>4.922467e-22</td>\n",
              "      <td>2.641349e-21</td>\n",
              "      <td>225</td>\n",
              "    </tr>\n",
              "    <tr>\n",
              "      <th>3</th>\n",
              "      <td>150646</td>\n",
              "      <td>756622</td>\n",
              "      <td>1.0</td>\n",
              "      <td>1.919805e-06</td>\n",
              "      <td>6.261923e-07</td>\n",
              "      <td>33</td>\n",
              "      <td>11</td>\n",
              "      <td>29</td>\n",
              "      <td>11</td>\n",
              "      <td>2</td>\n",
              "      <td>1</td>\n",
              "      <td>1</td>\n",
              "      <td>0.706727</td>\n",
              "      <td>1</td>\n",
              "      <td>2</td>\n",
              "      <td>1.239051e-13</td>\n",
              "      <td>4.099742e-14</td>\n",
              "      <td>4.704815e-15</td>\n",
              "      <td>3.954595e-14</td>\n",
              "      <td>0.000900</td>\n",
              "      <td>0.000778</td>\n",
              "      <td>0.182574</td>\n",
              "      <td>0.288675</td>\n",
              "      <td>0.471249</td>\n",
              "      <td>0.052705</td>\n",
              "      <td>0.653824</td>\n",
              "      <td>0.759924</td>\n",
              "      <td>0.047619</td>\n",
              "      <td>0.025641</td>\n",
              "      <td>0</td>\n",
              "      <td>0</td>\n",
              "      <td>-6.467154e-14</td>\n",
              "      <td>-8.160091e-13</td>\n",
              "      <td>-9.706975e-13</td>\n",
              "      <td>4.441282e-15</td>\n",
              "      <td>-6.029357e-15</td>\n",
              "      <td>-9.694207e-18</td>\n",
              "      <td>0.000000e+00</td>\n",
              "      <td>0.000000e+00</td>\n",
              "      <td>0.000000e+00</td>\n",
              "      <td>0.000000e+00</td>\n",
              "      <td>0.000000e+00</td>\n",
              "      <td>0.000000e+00</td>\n",
              "      <td>-4.660801e-13</td>\n",
              "      <td>-8.672069e-12</td>\n",
              "      <td>-7.679275e-11</td>\n",
              "      <td>1.852353e-13</td>\n",
              "      <td>-4.981148e-13</td>\n",
              "      <td>-2.465778e-16</td>\n",
              "      <td>-5.562728e-12</td>\n",
              "      <td>-8.108201e-11</td>\n",
              "      <td>-7.282412e-11</td>\n",
              "      <td>2.864159e-13</td>\n",
              "      <td>-4.466802e-13</td>\n",
              "      <td>-1.248669e-15</td>\n",
              "      <td>8.165299e-23</td>\n",
              "      <td>0.000000e+00</td>\n",
              "      <td>385</td>\n",
              "    </tr>\n",
              "    <tr>\n",
              "      <th>4</th>\n",
              "      <td>1202220</td>\n",
              "      <td>1801227</td>\n",
              "      <td>1.0</td>\n",
              "      <td>1.561965e-06</td>\n",
              "      <td>1.999716e-07</td>\n",
              "      <td>18</td>\n",
              "      <td>2</td>\n",
              "      <td>22</td>\n",
              "      <td>3</td>\n",
              "      <td>1</td>\n",
              "      <td>1</td>\n",
              "      <td>1</td>\n",
              "      <td>0.691010</td>\n",
              "      <td>0</td>\n",
              "      <td>2</td>\n",
              "      <td>1.730764e-13</td>\n",
              "      <td>1.872830e-12</td>\n",
              "      <td>1.527289e-14</td>\n",
              "      <td>1.650978e-16</td>\n",
              "      <td>0.000798</td>\n",
              "      <td>0.000743</td>\n",
              "      <td>0.208514</td>\n",
              "      <td>0.500000</td>\n",
              "      <td>0.708514</td>\n",
              "      <td>0.104257</td>\n",
              "      <td>0.917029</td>\n",
              "      <td>1.208514</td>\n",
              "      <td>0.052632</td>\n",
              "      <td>0.041667</td>\n",
              "      <td>0</td>\n",
              "      <td>0</td>\n",
              "      <td>-1.666104e-14</td>\n",
              "      <td>-5.926408e-12</td>\n",
              "      <td>-3.847234e-11</td>\n",
              "      <td>2.094475e-14</td>\n",
              "      <td>-1.279233e-14</td>\n",
              "      <td>-7.493911e-16</td>\n",
              "      <td>-7.517071e-16</td>\n",
              "      <td>-6.009825e-14</td>\n",
              "      <td>-3.868591e-13</td>\n",
              "      <td>5.019907e-14</td>\n",
              "      <td>-3.909265e-16</td>\n",
              "      <td>-1.583462e-17</td>\n",
              "      <td>-1.019199e-14</td>\n",
              "      <td>-1.483647e-14</td>\n",
              "      <td>-1.232511e-13</td>\n",
              "      <td>1.099406e-14</td>\n",
              "      <td>-3.827849e-15</td>\n",
              "      <td>-8.583199e-17</td>\n",
              "      <td>-9.568888e-14</td>\n",
              "      <td>-2.241613e-13</td>\n",
              "      <td>-1.009752e-12</td>\n",
              "      <td>1.362678e-12</td>\n",
              "      <td>-1.272168e-14</td>\n",
              "      <td>-3.097154e-15</td>\n",
              "      <td>4.830132e-24</td>\n",
              "      <td>4.725858e-25</td>\n",
              "      <td>72</td>\n",
              "    </tr>\n",
              "  </tbody>\n",
              "</table>\n",
              "</div>"
            ],
            "text/plain": [
              "   source_node  destination  ...     svd_dot_v  preferential\n",
              "0      1038512      1050851  ...  9.347850e-21            15\n",
              "1       133732      1744424  ...  1.764894e-18          1558\n",
              "2      1553405      1388643  ...  2.641349e-21           225\n",
              "3       150646       756622  ...  0.000000e+00           385\n",
              "4      1202220      1801227  ...  4.725858e-25            72\n",
              "\n",
              "[5 rows x 58 columns]"
            ]
          },
          "metadata": {
            "tags": []
          },
          "execution_count": 92
        }
      ]
    },
    {
      "cell_type": "code",
      "metadata": {
        "id": "aEITNIRdQeNC",
        "colab_type": "code",
        "colab": {}
      },
      "source": [
        "final_train.to_pickle('/content/drive/My Drive/pickle/final_xtrain.p')\n",
        "final_test.to_pickle('/content/drive/My Drive/pickle/final_xt.p')"
      ],
      "execution_count": null,
      "outputs": []
    },
    {
      "cell_type": "markdown",
      "metadata": {
        "id": "ulQCcWBkekbS",
        "colab_type": "text"
      },
      "source": [
        "#FB_model"
      ]
    },
    {
      "cell_type": "code",
      "metadata": {
        "id": "C9N1AoKsRVk3",
        "colab_type": "code",
        "colab": {}
      },
      "source": [
        "import pandas as pd\n",
        "final_train=pd.read_pickle('/content/drive/My Drive/pickle/final_xtrain.p')\n",
        "final_test=pd.read_pickle('/content/drive/My Drive/pickle/final_xt.p')"
      ],
      "execution_count": null,
      "outputs": []
    },
    {
      "cell_type": "code",
      "metadata": {
        "id": "IT2n24BWRieo",
        "colab_type": "code",
        "colab": {
          "base_uri": "https://localhost:8080/",
          "height": 51
        },
        "outputId": "6ef14e9a-a7a9-4377-ea35-e672b3b932a7"
      },
      "source": [
        "print(final_train.shape)\n",
        "print(final_test.shape)"
      ],
      "execution_count": null,
      "outputs": [
        {
          "output_type": "stream",
          "text": [
            "(100000, 58)\n",
            "(50000, 58)\n"
          ],
          "name": "stdout"
        }
      ]
    },
    {
      "cell_type": "code",
      "metadata": {
        "id": "kcFudunzWOS4",
        "colab_type": "code",
        "colab": {
          "base_uri": "https://localhost:8080/",
          "height": 51
        },
        "outputId": "4d5ab4c0-2e2a-43cf-aabc-678664098fb8"
      },
      "source": [
        "y_train=final_train['indicator']\n",
        "y_test=final_test['indicator']\n",
        "print(y_train.shape)\n",
        "print(y_test.shape)"
      ],
      "execution_count": null,
      "outputs": [
        {
          "output_type": "stream",
          "text": [
            "(100000,)\n",
            "(50000,)\n"
          ],
          "name": "stdout"
        }
      ]
    },
    {
      "cell_type": "code",
      "metadata": {
        "id": "9xJY4Pqsc0yU",
        "colab_type": "code",
        "colab": {}
      },
      "source": [
        "y_train=y_train.fillna(0)"
      ],
      "execution_count": null,
      "outputs": []
    },
    {
      "cell_type": "code",
      "metadata": {
        "id": "W05IwqJLfwuI",
        "colab_type": "code",
        "colab": {}
      },
      "source": [
        "y_test=y_test.fillna(0)"
      ],
      "execution_count": null,
      "outputs": []
    },
    {
      "cell_type": "code",
      "metadata": {
        "id": "dSEy9T8ZWhIg",
        "colab_type": "code",
        "colab": {}
      },
      "source": [
        "X_train=final_train.drop(columns=['source_node','destination','indicator'])\n",
        "X_test=final_test.drop(columns=['source_node','destination','indicator'])"
      ],
      "execution_count": null,
      "outputs": []
    },
    {
      "cell_type": "code",
      "metadata": {
        "id": "lRRpPV_3W-Dc",
        "colab_type": "code",
        "colab": {
          "base_uri": "https://localhost:8080/",
          "height": 51
        },
        "outputId": "8dad9cf3-bfab-41de-d3af-d2bb1bc08b36"
      },
      "source": [
        "print(X_train.shape)\n",
        "print(X_test.shape)"
      ],
      "execution_count": null,
      "outputs": [
        {
          "output_type": "stream",
          "text": [
            "(100000, 55)\n",
            "(50000, 55)\n"
          ],
          "name": "stdout"
        }
      ]
    },
    {
      "cell_type": "code",
      "metadata": {
        "id": "HTtUH9Xcd02k",
        "colab_type": "code",
        "colab": {}
      },
      "source": [
        "X_test1=X_test.loc[:,[ 'page_rank_source',\n",
        "       'page_rank_destination', 'num_followers_a', 'num_followers_b',\n",
        "       'num_following_a', 'num_following_b', 'intersection_followers',\n",
        "       'intersection_following', 'follow_back', 'adar_index',\n",
        "       'check_for_community', 'shortest_path', 'node_a_hub',\n",
        "       'node_a_authority', 'node_b_hub', 'node_b_authority', 'katz_source',\n",
        "       'katz_destination', 'weight_in', 'weight_out', 'Weight _in+out',\n",
        "       'Weight_in*out', '2*weight_in_out', 'weight_in_2*out',\n",
        "       'jacard_followers', 'jacard_following', 'cosine_sim_following',\n",
        "       'cosine_sim_followers', 'svd_source_u1', 'svd_source_u2',\n",
        "       'svd_source_u3', 'svd_source_u4', 'svd_source_u5', 'svd_source_u6',\n",
        "       'svd_source_v1', 'svd_source_v2', 'svd_source_v3', 'svd_source_v4',\n",
        "       'svd_source_v5', 'svd_source_v6', 'svd_destination_u1',\n",
        "       'svd_destination_u2', 'svd_destination_u3', 'svd_destination_u4',\n",
        "       'svd_destination_u5', 'svd_destination_u6', 'svd_destination_v1',\n",
        "       'svd_destination_v2', 'svd_destination_v3', 'svd_destination_v4',\n",
        "       'svd_destination_v5', 'svd_destination_v6', 'svd_dot_u', 'svd_dot_v',\n",
        "       'preferential']]"
      ],
      "execution_count": null,
      "outputs": []
    },
    {
      "cell_type": "code",
      "metadata": {
        "id": "ftf3tm8DfIE0",
        "colab_type": "code",
        "colab": {
          "base_uri": "https://localhost:8080/",
          "height": 326
        },
        "outputId": "18e7644f-2b8a-4db1-8370-814009367a33"
      },
      "source": [
        "final_test1.head()"
      ],
      "execution_count": null,
      "outputs": [
        {
          "output_type": "execute_result",
          "data": {
            "text/html": [
              "<div>\n",
              "<style scoped>\n",
              "    .dataframe tbody tr th:only-of-type {\n",
              "        vertical-align: middle;\n",
              "    }\n",
              "\n",
              "    .dataframe tbody tr th {\n",
              "        vertical-align: top;\n",
              "    }\n",
              "\n",
              "    .dataframe thead th {\n",
              "        text-align: right;\n",
              "    }\n",
              "</style>\n",
              "<table border=\"1\" class=\"dataframe\">\n",
              "  <thead>\n",
              "    <tr style=\"text-align: right;\">\n",
              "      <th></th>\n",
              "      <th>page_rank_source</th>\n",
              "      <th>page_rank_destination</th>\n",
              "      <th>num_followers_a</th>\n",
              "      <th>num_followers_b</th>\n",
              "      <th>num_following_a</th>\n",
              "      <th>num_following_b</th>\n",
              "      <th>intersection_followers</th>\n",
              "      <th>intersection_following</th>\n",
              "      <th>follow_back</th>\n",
              "      <th>adar_index</th>\n",
              "      <th>check_for_community</th>\n",
              "      <th>shortest_path</th>\n",
              "      <th>node_a_hub</th>\n",
              "      <th>node_a_authority</th>\n",
              "      <th>node_b_hub</th>\n",
              "      <th>node_b_authority</th>\n",
              "      <th>katz_source</th>\n",
              "      <th>katz_destination</th>\n",
              "      <th>weight_in</th>\n",
              "      <th>weight_out</th>\n",
              "      <th>Weight _in+out</th>\n",
              "      <th>Weight_in*out</th>\n",
              "      <th>2*weight_in_out</th>\n",
              "      <th>weight_in_2*out</th>\n",
              "      <th>jacard_followers</th>\n",
              "      <th>jacard_following</th>\n",
              "      <th>cosine_sim_following</th>\n",
              "      <th>cosine_sim_followers</th>\n",
              "      <th>svd_source_u1</th>\n",
              "      <th>svd_source_u2</th>\n",
              "      <th>svd_source_u3</th>\n",
              "      <th>svd_source_u4</th>\n",
              "      <th>svd_source_u5</th>\n",
              "      <th>svd_source_u6</th>\n",
              "      <th>svd_source_v1</th>\n",
              "      <th>svd_source_v2</th>\n",
              "      <th>svd_source_v3</th>\n",
              "      <th>svd_source_v4</th>\n",
              "      <th>svd_source_v5</th>\n",
              "      <th>svd_source_v6</th>\n",
              "      <th>svd_destination_u1</th>\n",
              "      <th>svd_destination_u2</th>\n",
              "      <th>svd_destination_u3</th>\n",
              "      <th>svd_destination_u4</th>\n",
              "      <th>svd_destination_u5</th>\n",
              "      <th>svd_destination_u6</th>\n",
              "      <th>svd_destination_v1</th>\n",
              "      <th>svd_destination_v2</th>\n",
              "      <th>svd_destination_v3</th>\n",
              "      <th>svd_destination_v4</th>\n",
              "      <th>svd_destination_v5</th>\n",
              "      <th>svd_destination_v6</th>\n",
              "      <th>svd_dot_u</th>\n",
              "      <th>svd_dot_v</th>\n",
              "      <th>preferential</th>\n",
              "    </tr>\n",
              "  </thead>\n",
              "  <tbody>\n",
              "    <tr>\n",
              "      <th>0</th>\n",
              "      <td>1.862815e-06</td>\n",
              "      <td>1.433112e-06</td>\n",
              "      <td>12</td>\n",
              "      <td>6</td>\n",
              "      <td>12</td>\n",
              "      <td>12</td>\n",
              "      <td>2</td>\n",
              "      <td>4</td>\n",
              "      <td>1</td>\n",
              "      <td>4.625992</td>\n",
              "      <td>1</td>\n",
              "      <td>2</td>\n",
              "      <td>1.196459e-16</td>\n",
              "      <td>6.069925e-17</td>\n",
              "      <td>1.257735e-16</td>\n",
              "      <td>7.672609e-18</td>\n",
              "      <td>0.000758</td>\n",
              "      <td>0.000758</td>\n",
              "      <td>0.288675</td>\n",
              "      <td>0.277350</td>\n",
              "      <td>0.566025</td>\n",
              "      <td>0.080064</td>\n",
              "      <td>0.854700</td>\n",
              "      <td>0.843375</td>\n",
              "      <td>0.125000</td>\n",
              "      <td>0.210526</td>\n",
              "      <td>0.400320</td>\n",
              "      <td>0.327327</td>\n",
              "      <td>-9.858521e-15</td>\n",
              "      <td>-3.223806e-13</td>\n",
              "      <td>-3.211762e-11</td>\n",
              "      <td>1.064620e-14</td>\n",
              "      <td>-6.251258e-15</td>\n",
              "      <td>-1.903718e-15</td>\n",
              "      <td>-1.048781e-13</td>\n",
              "      <td>-2.259720e-13</td>\n",
              "      <td>-1.893626e-11</td>\n",
              "      <td>1.345729e-13</td>\n",
              "      <td>-1.212704e-11</td>\n",
              "      <td>-5.724484e-15</td>\n",
              "      <td>-2.342134e-14</td>\n",
              "      <td>-2.760632e-13</td>\n",
              "      <td>-6.228182e-10</td>\n",
              "      <td>3.273992e-12</td>\n",
              "      <td>-1.202814e-12</td>\n",
              "      <td>-1.861709e-15</td>\n",
              "      <td>-2.788170e-15</td>\n",
              "      <td>-1.522578e-13</td>\n",
              "      <td>-7.113458e-12</td>\n",
              "      <td>6.221665e-15</td>\n",
              "      <td>-3.175104e-12</td>\n",
              "      <td>-1.349489e-16</td>\n",
              "      <td>2.000357e-20</td>\n",
              "      <td>1.732425e-22</td>\n",
              "      <td>156</td>\n",
              "    </tr>\n",
              "    <tr>\n",
              "      <th>1</th>\n",
              "      <td>2.229511e-06</td>\n",
              "      <td>1.082083e-06</td>\n",
              "      <td>16</td>\n",
              "      <td>11</td>\n",
              "      <td>8</td>\n",
              "      <td>14</td>\n",
              "      <td>6</td>\n",
              "      <td>6</td>\n",
              "      <td>1</td>\n",
              "      <td>6.917230</td>\n",
              "      <td>1</td>\n",
              "      <td>2</td>\n",
              "      <td>3.641085e-16</td>\n",
              "      <td>3.186108e-11</td>\n",
              "      <td>2.385159e-13</td>\n",
              "      <td>1.044074e-14</td>\n",
              "      <td>0.000792</td>\n",
              "      <td>0.000773</td>\n",
              "      <td>0.333333</td>\n",
              "      <td>0.258199</td>\n",
              "      <td>0.591532</td>\n",
              "      <td>0.086066</td>\n",
              "      <td>0.924866</td>\n",
              "      <td>0.849731</td>\n",
              "      <td>0.285714</td>\n",
              "      <td>0.375000</td>\n",
              "      <td>0.566947</td>\n",
              "      <td>0.433013</td>\n",
              "      <td>-3.088242e-17</td>\n",
              "      <td>-2.584855e-12</td>\n",
              "      <td>-7.202935e-13</td>\n",
              "      <td>7.239230e-17</td>\n",
              "      <td>-1.397430e-16</td>\n",
              "      <td>-5.277149e-15</td>\n",
              "      <td>-3.194239e-13</td>\n",
              "      <td>-9.121057e-08</td>\n",
              "      <td>-1.599758e-08</td>\n",
              "      <td>2.223998e-12</td>\n",
              "      <td>-5.515909e-13</td>\n",
              "      <td>-5.193761e-10</td>\n",
              "      <td>-5.454198e-15</td>\n",
              "      <td>-9.180332e-10</td>\n",
              "      <td>-1.558774e-10</td>\n",
              "      <td>3.486055e-14</td>\n",
              "      <td>-6.593963e-15</td>\n",
              "      <td>-3.709154e-12</td>\n",
              "      <td>-8.705616e-16</td>\n",
              "      <td>-5.521931e-11</td>\n",
              "      <td>-1.976201e-11</td>\n",
              "      <td>1.609594e-15</td>\n",
              "      <td>-3.710435e-15</td>\n",
              "      <td>-1.586562e-13</td>\n",
              "      <td>2.485280e-21</td>\n",
              "      <td>5.352812e-18</td>\n",
              "      <td>112</td>\n",
              "    </tr>\n",
              "    <tr>\n",
              "      <th>2</th>\n",
              "      <td>4.023219e-07</td>\n",
              "      <td>3.844600e-07</td>\n",
              "      <td>23</td>\n",
              "      <td>17</td>\n",
              "      <td>65</td>\n",
              "      <td>19</td>\n",
              "      <td>10</td>\n",
              "      <td>13</td>\n",
              "      <td>0</td>\n",
              "      <td>9.044569</td>\n",
              "      <td>1</td>\n",
              "      <td>2</td>\n",
              "      <td>1.360911e-08</td>\n",
              "      <td>5.831454e-10</td>\n",
              "      <td>8.521547e-09</td>\n",
              "      <td>5.368440e-10</td>\n",
              "      <td>0.000839</td>\n",
              "      <td>0.000807</td>\n",
              "      <td>0.123091</td>\n",
              "      <td>0.223607</td>\n",
              "      <td>0.346698</td>\n",
              "      <td>0.027524</td>\n",
              "      <td>0.469790</td>\n",
              "      <td>0.570305</td>\n",
              "      <td>0.333333</td>\n",
              "      <td>0.183099</td>\n",
              "      <td>0.446596</td>\n",
              "      <td>0.505722</td>\n",
              "      <td>-1.061092e-14</td>\n",
              "      <td>-1.129609e-14</td>\n",
              "      <td>-5.267324e-14</td>\n",
              "      <td>4.470458e-08</td>\n",
              "      <td>-6.093578e-15</td>\n",
              "      <td>-2.506358e-07</td>\n",
              "      <td>-4.316781e-15</td>\n",
              "      <td>-2.745160e-15</td>\n",
              "      <td>-5.782572e-14</td>\n",
              "      <td>1.436398e-07</td>\n",
              "      <td>-1.125219e-15</td>\n",
              "      <td>-1.023301e-08</td>\n",
              "      <td>-1.896163e-15</td>\n",
              "      <td>-1.470440e-15</td>\n",
              "      <td>-1.266529e-14</td>\n",
              "      <td>1.947220e-08</td>\n",
              "      <td>-1.418482e-15</td>\n",
              "      <td>-1.507472e-07</td>\n",
              "      <td>-2.551773e-15</td>\n",
              "      <td>-3.187688e-15</td>\n",
              "      <td>-5.557221e-14</td>\n",
              "      <td>7.372532e-08</td>\n",
              "      <td>-8.698502e-16</td>\n",
              "      <td>-9.279473e-09</td>\n",
              "      <td>3.865314e-14</td>\n",
              "      <td>1.068484e-14</td>\n",
              "      <td>1449</td>\n",
              "    </tr>\n",
              "    <tr>\n",
              "      <th>3</th>\n",
              "      <td>1.568222e-07</td>\n",
              "      <td>4.702968e-07</td>\n",
              "      <td>0</td>\n",
              "      <td>4</td>\n",
              "      <td>2</td>\n",
              "      <td>3</td>\n",
              "      <td>0</td>\n",
              "      <td>0</td>\n",
              "      <td>0</td>\n",
              "      <td>0.000000</td>\n",
              "      <td>1</td>\n",
              "      <td>8</td>\n",
              "      <td>1.656348e-16</td>\n",
              "      <td>0.000000e+00</td>\n",
              "      <td>1.089470e-19</td>\n",
              "      <td>1.684249e-15</td>\n",
              "      <td>0.000731</td>\n",
              "      <td>0.000762</td>\n",
              "      <td>0.577350</td>\n",
              "      <td>0.500000</td>\n",
              "      <td>1.077350</td>\n",
              "      <td>0.288675</td>\n",
              "      <td>1.654701</td>\n",
              "      <td>1.577350</td>\n",
              "      <td>0.000000</td>\n",
              "      <td>0.000000</td>\n",
              "      <td>0.000000</td>\n",
              "      <td>0.000000</td>\n",
              "      <td>-1.234695e-13</td>\n",
              "      <td>-3.554482e-13</td>\n",
              "      <td>-2.369485e-11</td>\n",
              "      <td>4.338880e-13</td>\n",
              "      <td>-2.440110e-10</td>\n",
              "      <td>-3.188491e-14</td>\n",
              "      <td>0.000000e+00</td>\n",
              "      <td>0.000000e+00</td>\n",
              "      <td>0.000000e+00</td>\n",
              "      <td>0.000000e+00</td>\n",
              "      <td>0.000000e+00</td>\n",
              "      <td>0.000000e+00</td>\n",
              "      <td>-2.052139e-11</td>\n",
              "      <td>-1.065968e-11</td>\n",
              "      <td>-1.566065e-10</td>\n",
              "      <td>6.789209e-12</td>\n",
              "      <td>-3.088801e-12</td>\n",
              "      <td>-6.237459e-12</td>\n",
              "      <td>-6.922028e-13</td>\n",
              "      <td>-2.907599e-12</td>\n",
              "      <td>-5.258552e-12</td>\n",
              "      <td>7.307510e-14</td>\n",
              "      <td>-2.317419e-13</td>\n",
              "      <td>-2.590975e-14</td>\n",
              "      <td>4.473938e-21</td>\n",
              "      <td>0.000000e+00</td>\n",
              "      <td>8</td>\n",
              "    </tr>\n",
              "    <tr>\n",
              "      <th>4</th>\n",
              "      <td>4.149606e-07</td>\n",
              "      <td>1.519399e-06</td>\n",
              "      <td>5</td>\n",
              "      <td>12</td>\n",
              "      <td>6</td>\n",
              "      <td>21</td>\n",
              "      <td>0</td>\n",
              "      <td>0</td>\n",
              "      <td>0</td>\n",
              "      <td>0.000000</td>\n",
              "      <td>1</td>\n",
              "      <td>3</td>\n",
              "      <td>2.853294e-16</td>\n",
              "      <td>6.767062e-17</td>\n",
              "      <td>1.410906e-15</td>\n",
              "      <td>3.642584e-14</td>\n",
              "      <td>0.000747</td>\n",
              "      <td>0.000788</td>\n",
              "      <td>0.377964</td>\n",
              "      <td>0.213201</td>\n",
              "      <td>0.591165</td>\n",
              "      <td>0.080582</td>\n",
              "      <td>0.969130</td>\n",
              "      <td>0.804366</td>\n",
              "      <td>0.000000</td>\n",
              "      <td>0.000000</td>\n",
              "      <td>0.000000</td>\n",
              "      <td>0.000000</td>\n",
              "      <td>-7.706212e-14</td>\n",
              "      <td>-1.333071e-13</td>\n",
              "      <td>-1.662238e-12</td>\n",
              "      <td>6.893820e-13</td>\n",
              "      <td>-2.338946e-12</td>\n",
              "      <td>-4.824425e-15</td>\n",
              "      <td>-4.024367e-15</td>\n",
              "      <td>-9.903453e-12</td>\n",
              "      <td>-1.282445e-13</td>\n",
              "      <td>8.206293e-13</td>\n",
              "      <td>-3.149471e-12</td>\n",
              "      <td>-1.123807e-15</td>\n",
              "      <td>-1.094698e-13</td>\n",
              "      <td>-3.285977e-13</td>\n",
              "      <td>-1.258980e-12</td>\n",
              "      <td>9.344247e-12</td>\n",
              "      <td>-1.052819e-11</td>\n",
              "      <td>-2.151744e-14</td>\n",
              "      <td>-3.055913e-13</td>\n",
              "      <td>-3.809561e-13</td>\n",
              "      <td>-9.342146e-13</td>\n",
              "      <td>2.954945e-11</td>\n",
              "      <td>-7.992433e-11</td>\n",
              "      <td>-5.672962e-13</td>\n",
              "      <td>3.321169e-23</td>\n",
              "      <td>2.798629e-22</td>\n",
              "      <td>126</td>\n",
              "    </tr>\n",
              "  </tbody>\n",
              "</table>\n",
              "</div>"
            ],
            "text/plain": [
              "   page_rank_source  page_rank_destination  ...     svd_dot_v  preferential\n",
              "0      1.862815e-06           1.433112e-06  ...  1.732425e-22           156\n",
              "1      2.229511e-06           1.082083e-06  ...  5.352812e-18           112\n",
              "2      4.023219e-07           3.844600e-07  ...  1.068484e-14          1449\n",
              "3      1.568222e-07           4.702968e-07  ...  0.000000e+00             8\n",
              "4      4.149606e-07           1.519399e-06  ...  2.798629e-22           126\n",
              "\n",
              "[5 rows x 55 columns]"
            ]
          },
          "metadata": {
            "tags": []
          },
          "execution_count": 180
        }
      ]
    },
    {
      "cell_type": "code",
      "metadata": {
        "id": "Tl7GrAT6eqx4",
        "colab_type": "code",
        "colab": {
          "base_uri": "https://localhost:8080/",
          "height": 187
        },
        "outputId": "d67bde1e-a5d0-453e-f1b5-208f52a0ec53"
      },
      "source": [
        "from xgboost import XGBClassifier\n",
        "from sklearn.metrics import f1_score\n",
        "estimators=[10,50,100,250,450]\n",
        "train_score=[]\n",
        "test_score=[]\n",
        "for i in estimators:\n",
        "  XGB=XGBClassifier(max_depth=3,n_estimators=i,learning_rate=0.01,booster='gbtree',min_child_weight=1,colsample_bytree=0.7)\n",
        "  XGB.fit(X_train,y_train)\n",
        "  predict_tr=XGB.predict(X_train)\n",
        "  predict_test=XGB.predict(X_test1)\n",
        "  train_score.append(f1_score(y_train,predict_tr))\n",
        "  test_score.append(f1_score(y_test,predict_test))\n",
        "  print(' For {} estimator the train score is {}'.format(i,f1_score(y_train,predict_tr)))\n",
        "  print('For {} estimator the test score is {}'.format(i,f1_score(y_test,predict_test)))\n"
      ],
      "execution_count": null,
      "outputs": [
        {
          "output_type": "stream",
          "text": [
            " For 10 estimator the train score is 0.9429798578199052\n",
            "For 10 estimator the test score is 0.8842777334397447\n",
            " For 50 estimator the train score is 0.9429734157814068\n",
            "For 50 estimator the test score is 0.8840798226164079\n",
            " For 100 estimator the train score is 0.9490442513214447\n",
            "For 100 estimator the test score is 0.8838075805628868\n",
            " For 250 estimator the train score is 0.959689583788451\n",
            "For 250 estimator the test score is 0.9133695815692765\n",
            " For 450 estimator the train score is 0.9690831885339447\n",
            "For 450 estimator the test score is 0.9205805920010142\n"
          ],
          "name": "stdout"
        }
      ]
    },
    {
      "cell_type": "code",
      "metadata": {
        "id": "l361vOI8huoU",
        "colab_type": "code",
        "colab": {
          "base_uri": "https://localhost:8080/",
          "height": 265
        },
        "outputId": "da33d413-a017-4a08-b582-51396a6bfb06"
      },
      "source": [
        "import matplotlib.pyplot as plt\n",
        "plt.plot(estimators,train_score,label='train_score')\n",
        "plt.plot(estimators,test_score,label='test_score')\n",
        "plt.legend()\n",
        "plt.show()"
      ],
      "execution_count": null,
      "outputs": [
        {
          "output_type": "display_data",
          "data": {
            "image/png": "[encoded data removed]",
            "text/plain": [
              "<Figure size 432x288 with 1 Axes>"
            ]
          },
          "metadata": {
            "tags": [],
            "needs_background": "light"
          }
        }
      ]
    },
    {
      "cell_type": "code",
      "metadata": {
        "id": "Nk8CxI1Fiaov",
        "colab_type": "code",
        "colab": {
          "base_uri": "https://localhost:8080/",
          "height": 255
        },
        "outputId": "6377c163-137a-40b5-e2fa-e10a32f0b05a"
      },
      "source": [
        "train_score1=[]\n",
        "test_score1=[]\n",
        "max_depth=[3,9,11,15,20,35,50]\n",
        "for i in max_depth:\n",
        "  XGB=XGBClassifier(max_depth=i,n_estimators=450,learning_rate=0.01,booster='gbtree',min_child_weight=1,colsample_bytree=0.7)\n",
        "  XGB.fit(X_train,y_train)\n",
        "  predict_tr=XGB.predict(X_train)\n",
        "  predict_test=XGB.predict(X_test1)\n",
        "  train_score1.append(f1_score(y_train,predict_tr))\n",
        "  test_score1.append(f1_score(y_test,predict_test))\n",
        "  print(' For {} estimator the train score is {}'.format(i,f1_score(y_train,predict_tr)))\n",
        "  print('For {} estimator the test score is {}'.format(i,f1_score(y_test,predict_test)))"
      ],
      "execution_count": null,
      "outputs": [
        {
          "output_type": "stream",
          "text": [
            " For 3 estimator the train score is 0.9690831885339447\n",
            "For 3 estimator the test score is 0.9205805920010142\n",
            " For 9 estimator the train score is 0.9889779356844379\n",
            "For 9 estimator the test score is 0.9286699836936071\n",
            " For 11 estimator the train score is 0.9918110490328568\n",
            "For 11 estimator the test score is 0.9288820135462832\n",
            " For 15 estimator the train score is 0.9973546304026394\n",
            "For 15 estimator the test score is 0.9289402713607761\n",
            " For 20 estimator the train score is 0.9994373668769843\n",
            "For 20 estimator the test score is 0.9290206648697215\n",
            " For 35 estimator the train score is 0.9994976691850185\n",
            "For 35 estimator the test score is 0.9291460331390126\n",
            " For 50 estimator the train score is 0.9994976691850185\n",
            "For 50 estimator the test score is 0.9291684078562473\n"
          ],
          "name": "stdout"
        }
      ]
    },
    {
      "cell_type": "code",
      "metadata": {
        "id": "zqlo9KvyI89j",
        "colab_type": "code",
        "colab": {
          "base_uri": "https://localhost:8080/",
          "height": 265
        },
        "outputId": "54b70066-657c-4fd1-9b45-4a13aeb4bd9e"
      },
      "source": [
        "import matplotlib.pyplot as plt\n",
        "train_score1=[0.969,0.988,0.991,0.997,0.999,0.999,0.9994]\n",
        "test_score1=[0.920,0.928,0.928,0.928,0.929,0.929,0.929]\n",
        "max_depth=[3,9,11,15,20,35,50]\n",
        "plt.plot(max_depth,train_score1,label='train_score')\n",
        "plt.plot(max_depth,test_score1,label='test_score')\n",
        "plt.legend()\n",
        "plt.show()"
      ],
      "execution_count": null,
      "outputs": [
        {
          "output_type": "display_data",
          "data": {
            "image/png": "[encoded data removed]",
            "text/plain": [
              "<Figure size 432x288 with 1 Axes>"
            ]
          },
          "metadata": {
            "tags": [],
            "needs_background": "light"
          }
        }
      ]
    },
    {
      "cell_type": "code",
      "metadata": {
        "id": "uKo9VnyWLTMS",
        "colab_type": "code",
        "colab": {}
      },
      "source": [
        "from xgboost import XGBClassifier\n",
        "XGB=XGBClassifier(max_depth=3,n_estimators=450,learning_rate=0.01,booster='gbtree',min_child_weight=1,colsample_bytree=0.7)\n",
        "XGB.fit(X_train,y_train)\n",
        "predict_tr=XGB.predict(X_train)\n",
        "predict_test=XGB.predict(X_test1)"
      ],
      "execution_count": null,
      "outputs": []
    },
    {
      "cell_type": "code",
      "metadata": {
        "id": "vxqJK9abMPOo",
        "colab_type": "code",
        "colab": {
          "base_uri": "https://localhost:8080/",
          "height": 51
        },
        "outputId": "a6a51e6b-3d8b-40ff-9664-337350b1d7b3"
      },
      "source": [
        "from sklearn.metrics import f1_score\n",
        "f1score_tr=f1_score(y_train,predict_tr)\n",
        "print('Train F1-score={}'.format(f1score_tr))\n",
        "f1score_test=f1_score(y_test,predict_test)\n",
        "print('Test F1-score={}'.format(f1score_test))"
      ],
      "execution_count": null,
      "outputs": [
        {
          "output_type": "stream",
          "text": [
            "Train F1-score=0.9690831885339447\n",
            "Test F1-score=0.9205805920010142\n"
          ],
          "name": "stdout"
        }
      ]
    },
    {
      "cell_type": "code",
      "metadata": {
        "id": "mUXneJlHQIwq",
        "colab_type": "code",
        "colab": {
          "base_uri": "https://localhost:8080/",
          "height": 265
        },
        "outputId": "402a4957-9106-41ac-d563-fe38e97484b4"
      },
      "source": [
        "from sklearn.metrics import confusion_matrix\n",
        "import seaborn as sb\n",
        "confusion_tr=confusion_matrix(y_train,predict_tr)\n",
        "confusion_test=confusion_matrix(y_test,predict_test)\n",
        "train_sb=sb.heatmap(confusion_tr,annot=True)"
      ],
      "execution_count": null,
      "outputs": [
        {
          "output_type": "display_data",
          "data": {
            "image/png": "[encoded data removed]",
            "text/plain": [
              "<Figure size 432x288 with 2 Axes>"
            ]
          },
          "metadata": {
            "tags": [],
            "needs_background": "light"
          }
        }
      ]
    },
    {
      "cell_type": "code",
      "metadata": {
        "id": "_ZYSBcCCTjJ3",
        "colab_type": "code",
        "colab": {
          "base_uri": "https://localhost:8080/",
          "height": 51
        },
        "outputId": "e131ccfe-f301-4c82-af67-9930970fc42e"
      },
      "source": [
        "precision_tr=(confusion_tr/(confusion_tr.sum(axis=0)))\n",
        "print(precision_tr)"
      ],
      "execution_count": null,
      "outputs": [
        {
          "output_type": "stream",
          "text": [
            "[[0.94957535 0.00756012]\n",
            " [0.05042465 0.99243988]]\n"
          ],
          "name": "stdout"
        }
      ]
    },
    {
      "cell_type": "code",
      "metadata": {
        "id": "al0Rn1y1T5AE",
        "colab_type": "code",
        "colab": {
          "base_uri": "https://localhost:8080/",
          "height": 298
        },
        "outputId": "2c443aa0-4d2c-49d4-d43e-9eba82fbaf8d"
      },
      "source": [
        "precision_sb=sb.heatmap(precision_tr,annot=True)\n",
        "precision_sb.set_title('Precision_train')"
      ],
      "execution_count": null,
      "outputs": [
        {
          "output_type": "execute_result",
          "data": {
            "text/plain": [
              "Text(0.5, 1.0, 'Precision_train')"
            ]
          },
          "metadata": {
            "tags": []
          },
          "execution_count": 23
        },
        {
          "output_type": "display_data",
          "data": {
            "image/png": "[encoded data removed]",
            "text/plain": [
              "<Figure size 432x288 with 2 Axes>"
            ]
          },
          "metadata": {
            "tags": [],
            "needs_background": "light"
          }
        }
      ]
    },
    {
      "cell_type": "code",
      "metadata": {
        "id": "Iq9MeNN5V2jR",
        "colab_type": "code",
        "colab": {
          "base_uri": "https://localhost:8080/",
          "height": 51
        },
        "outputId": "9a015f59-8a17-47ee-acb9-9f3fadc92ce6"
      },
      "source": [
        "recall_tr=(confusion_tr/(confusion_tr.sum(axis=1)))\n",
        "print(recall_tr)"
      ],
      "execution_count": null,
      "outputs": [
        {
          "output_type": "stream",
          "text": [
            "[[0.99285217 0.00721246]\n",
            " [0.05272275 0.9468006 ]]\n"
          ],
          "name": "stdout"
        }
      ]
    },
    {
      "cell_type": "code",
      "metadata": {
        "id": "2BaRkzaZWN7u",
        "colab_type": "code",
        "colab": {
          "base_uri": "https://localhost:8080/",
          "height": 298
        },
        "outputId": "cb705698-873c-453b-8ad9-b5d8156a8e9f"
      },
      "source": [
        "recall_sb=sb.heatmap(recall_tr,annot=True)\n",
        "recall_sb.set_title('Recall_train')"
      ],
      "execution_count": null,
      "outputs": [
        {
          "output_type": "execute_result",
          "data": {
            "text/plain": [
              "Text(0.5, 1.0, 'Recall_train')"
            ]
          },
          "metadata": {
            "tags": []
          },
          "execution_count": 28
        },
        {
          "output_type": "display_data",
          "data": {
            "image/png": "[encoded data removed]",
            "text/plain": [
              "<Figure size 432x288 with 2 Axes>"
            ]
          },
          "metadata": {
            "tags": [],
            "needs_background": "light"
          }
        }
      ]
    },
    {
      "cell_type": "code",
      "metadata": {
        "id": "oSXjFtDiRIsZ",
        "colab_type": "code",
        "colab": {
          "base_uri": "https://localhost:8080/",
          "height": 298
        },
        "outputId": "4a348f6e-abd1-4519-be05-6b3c54851555"
      },
      "source": [
        "test_sb=sb.heatmap(confusion_test,annot=True)\n",
        "test_sb.set_title('Test Confusion matrix')"
      ],
      "execution_count": null,
      "outputs": [
        {
          "output_type": "execute_result",
          "data": {
            "text/plain": [
              "Text(0.5, 1.0, 'Test Confusion matrix')"
            ]
          },
          "metadata": {
            "tags": []
          },
          "execution_count": 21
        },
        {
          "output_type": "display_data",
          "data": {
            "image/png": "[encoded data removed]",
            "text/plain": [
              "<Figure size 432x288 with 2 Axes>"
            ]
          },
          "metadata": {
            "tags": [],
            "needs_background": "light"
          }
        }
      ]
    },
    {
      "cell_type": "code",
      "metadata": {
        "id": "GxHMWAvvULQH",
        "colab_type": "code",
        "colab": {
          "base_uri": "https://localhost:8080/",
          "height": 51
        },
        "outputId": "4e3cc051-2b95-4363-d6e0-8c4a6f53ef24"
      },
      "source": [
        "precision_test=confusion_test/(confusion_test.sum(axis=0))\n",
        "print(precision_test)"
      ],
      "execution_count": null,
      "outputs": [
        {
          "output_type": "stream",
          "text": [
            "[[0.87869642 0.01727638]\n",
            " [0.12130358 0.98272362]]\n"
          ],
          "name": "stdout"
        }
      ]
    },
    {
      "cell_type": "code",
      "metadata": {
        "id": "ISllXmYMUbJG",
        "colab_type": "code",
        "colab": {
          "base_uri": "https://localhost:8080/",
          "height": 282
        },
        "outputId": "9e1fb05c-ee24-491b-a479-360b585e3bfa"
      },
      "source": [
        "sb_testpr=sb.heatmap(precision_test,annot=True)\n",
        "sb_testpr"
      ],
      "execution_count": null,
      "outputs": [
        {
          "output_type": "execute_result",
          "data": {
            "text/plain": [
              "<matplotlib.axes._subplots.AxesSubplot at 0x7fc4c16e6be0>"
            ]
          },
          "metadata": {
            "tags": []
          },
          "execution_count": 26
        },
        {
          "output_type": "display_data",
          "data": {
            "image/png": "[encoded data removed]",
            "text/plain": [
              "<Figure size 432x288 with 2 Axes>"
            ]
          },
          "metadata": {
            "tags": [],
            "needs_background": "light"
          }
        }
      ]
    },
    {
      "cell_type": "code",
      "metadata": {
        "id": "8MWBBglhWbsr",
        "colab_type": "code",
        "colab": {
          "base_uri": "https://localhost:8080/",
          "height": 51
        },
        "outputId": "c10bbdde-63b2-4dd8-d104-0f4ac2010927"
      },
      "source": [
        "recall_test=confusion_test/(confusion_test.sum(axis=1))\n",
        "print(recall_test)"
      ],
      "execution_count": null,
      "outputs": [
        {
          "output_type": "stream",
          "text": [
            "[[0.98458008 0.01522137]\n",
            " [0.13592077 0.86582943]]\n"
          ],
          "name": "stdout"
        }
      ]
    },
    {
      "cell_type": "code",
      "metadata": {
        "id": "z-GqZmq6WmQ7",
        "colab_type": "code",
        "colab": {
          "base_uri": "https://localhost:8080/",
          "height": 298
        },
        "outputId": "e51473ab-2b05-4a3b-ea17-21dd56480c7d"
      },
      "source": [
        "sb_recallte=sb.heatmap(recall_test,annot=True)\n",
        "sb_recallte.set_title('Recall_test')"
      ],
      "execution_count": null,
      "outputs": [
        {
          "output_type": "execute_result",
          "data": {
            "text/plain": [
              "Text(0.5, 1.0, 'Recall_test')"
            ]
          },
          "metadata": {
            "tags": []
          },
          "execution_count": 30
        },
        {
          "output_type": "display_data",
          "data": {
            "image/png": "[encoded data removed]",
            "text/plain": [
              "<Figure size 432x288 with 2 Axes>"
            ]
          },
          "metadata": {
            "tags": [],
            "needs_background": "light"
          }
        }
      ]
    },
    {
      "cell_type": "code",
      "metadata": {
        "id": "GRTqVDH9XBXx",
        "colab_type": "code",
        "colab": {
          "base_uri": "https://localhost:8080/",
          "height": 279
        },
        "outputId": "df1d0881-982f-445f-a388-183889564352"
      },
      "source": [
        "from sklearn.metrics import roc_curve,auc\n",
        "tpr,fpr,thresh=roc_curve(y_test,predict_test)\n",
        "plt.plot(tpr,fpr,label='Roc curve={}'.format(auc(tpr,fpr)))\n",
        "plt.xlabel('TPR')\n",
        "plt.ylabel('FPR')\n",
        "plt.legend()\n",
        "plt.show()"
      ],
      "execution_count": null,
      "outputs": [
        {
          "output_type": "display_data",
          "data": {
            "image/png": "[encoded data removed]",
            "text/plain": [
              "<Figure size 432x288 with 1 Axes>"
            ]
          },
          "metadata": {
            "tags": [],
            "needs_background": "light"
          }
        }
      ]
    },
    {
      "cell_type": "code",
      "metadata": {
        "id": "aLTPndU9XvgC",
        "colab_type": "code",
        "colab": {
          "base_uri": "https://localhost:8080/",
          "height": 660
        },
        "outputId": "bc879d78-24b4-4945-a624-cfdd895dc68d"
      },
      "source": [
        "import numpy as np\n",
        "columns1=X_train.columns\n",
        "importances=XGB.feature_importances_ #This give feature importance to each and every column in a dataframe\n",
        "indices=np.argsort(importances)[-25:]\n",
        "plt.figure(figsize=(15,10))\n",
        "plt.barh(range(len(indices)),importances[[indices]])\n",
        "plt.yticks(range(len(indices)),[columns1[i] for i in indices])\n",
        "plt.xlabel('Relative importance')\n",
        "plt.show()"
      ],
      "execution_count": null,
      "outputs": [
        {
          "output_type": "stream",
          "text": [
            "/usr/local/lib/python3.6/dist-packages/ipykernel_launcher.py:6: FutureWarning: Using a non-tuple sequence for multidimensional indexing is deprecated; use `arr[tuple(seq)]` instead of `arr[seq]`. In the future this will be interpreted as an array index, `arr[np.array(seq)]`, which will result either in an error or a different result.\n",
            "  \n"
          ],
          "name": "stderr"
        },
        {
          "output_type": "display_data",
          "data": {
            "image/png": "[encoded data removed]",
            "text/plain": [
              "<Figure size 1080x720 with 1 Axes>"
            ]
          },
          "metadata": {
            "tags": [],
            "needs_background": "light"
          }
        }
      ]
    }
  ]
}