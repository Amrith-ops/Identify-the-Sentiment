{
  "nbformat": 4,
  "nbformat_minor": 0,
  "metadata": {
    "colab": {
      "name": "project1.ipynb",
      "provenance": [],
      "collapsed_sections": [],
      "mount_file_id": "1EL_DkuisQxtJtXGgUT7pl9CTU-pl61ly",
      "authorship_tag": "ABX9TyP4o2W5B9Th2W9IL5YGX6/I",
      "include_colab_link": true
    },
    "kernelspec": {
      "name": "python3",
      "display_name": "Python 3"
    }
  },
  "cells": [
    {
      "cell_type": "markdown",
      "metadata": {
        "id": "view-in-github",
        "colab_type": "text"
      },
      "source": [
        "<a href=\"https://colab.research.google.com/github/Amrith-ops/Identify-the-Sentiment/blob/master/project1.ipynb\" target=\"_parent\"><img src=\"https://colab.research.google.com/assets/colab-badge.svg\" alt=\"Open In Colab\"/></a>"
      ]
    },
    {
      "cell_type": "code",
      "metadata": {
        "id": "Uqrd5IPl5cnz",
        "colab_type": "code",
        "colab": {}
      },
      "source": [
        "import os\n",
        "import shutil\n",
        "import pandas as pd\n",
        "import seaborn as sb\n",
        "import numpy as np\n",
        "import re\n",
        "import matplotlib.pyplot as plt\n",
        "from collections import Counter\n",
        "from sklearn.metrics import accuracy_score\n",
        "from sklearn.metrics import f1_score\n",
        "from sklearn.linear_model import LogisticRegression\n",
        "from sklearn.metrics import roc_curve\n",
        "from sklearn.metrics import roc_auc_score"
      ],
      "execution_count": 0,
      "outputs": []
    },
    {
      "cell_type": "code",
      "metadata": {
        "id": "BxNMhBUbcJKB",
        "colab_type": "code",
        "colab": {}
      },
      "source": [
        "import nltk\n",
        "from nltk import word_tokenize\n",
        "from nltk.probability import FreqDist\n",
        "from nltk.corpus import stopwords\n",
        "nltk.download('stopwords')\n",
        "nltk.download('punkt')"
      ],
      "execution_count": 0,
      "outputs": []
    },
    {
      "cell_type": "code",
      "metadata": {
        "id": "tb3IcfiUJlPd",
        "colab_type": "code",
        "colab": {}
      },
      "source": [
        "pip install textblob"
      ],
      "execution_count": 0,
      "outputs": []
    },
    {
      "cell_type": "code",
      "metadata": {
        "id": "dJe5FmuY7FKq",
        "colab_type": "code",
        "colab": {}
      },
      "source": [
        "import spacy"
      ],
      "execution_count": 0,
      "outputs": []
    },
    {
      "cell_type": "code",
      "metadata": {
        "id": "AJxFsv5MSiU8",
        "colab_type": "code",
        "colab": {}
      },
      "source": [
        "pip install profanity-check"
      ],
      "execution_count": 0,
      "outputs": []
    },
    {
      "cell_type": "code",
      "metadata": {
        "id": "EahUVV1B5q6s",
        "colab_type": "code",
        "colab": {}
      },
      "source": [
        "os.chdir('/content/drive/My Drive/NLP/Project1-Sentiment Analysis')"
      ],
      "execution_count": 0,
      "outputs": []
    },
    {
      "cell_type": "code",
      "metadata": {
        "id": "EndunFDD502s",
        "colab_type": "code",
        "colab": {}
      },
      "source": [
        "train_text=pd.read_csv('/content/drive/My Drive/NLP/Project1-Sentiment Analysis/train_2kmZucJ.csv')"
      ],
      "execution_count": 0,
      "outputs": []
    },
    {
      "cell_type": "code",
      "metadata": {
        "id": "xzLcuBEOa2r-",
        "colab_type": "code",
        "colab": {}
      },
      "source": [
        "test_text=pd.read_csv('/content/drive/My Drive/NLP/Project1-Sentiment Analysis/test_oJQbWVk.csv')"
      ],
      "execution_count": 0,
      "outputs": []
    },
    {
      "cell_type": "code",
      "metadata": {
        "id": "NIBzCMx96oLC",
        "colab_type": "code",
        "outputId": "e0d56d27-48d4-4c80-ff8c-8b717e69f00d",
        "colab": {
          "base_uri": "https://localhost:8080/",
          "height": 54
        }
      },
      "source": [
        "print(train_text.shape)\n",
        "print(test_text.shape)\n"
      ],
      "execution_count": 0,
      "outputs": [
        {
          "output_type": "stream",
          "text": [
            "(7920, 3)\n",
            "(1953, 2)\n"
          ],
          "name": "stdout"
        }
      ]
    },
    {
      "cell_type": "code",
      "metadata": {
        "id": "8RQ1qE-mJvnG",
        "colab_type": "code",
        "colab": {}
      },
      "source": [
        "from textblob import Word"
      ],
      "execution_count": 0,
      "outputs": []
    },
    {
      "cell_type": "code",
      "metadata": {
        "id": "lI7VPJSH6tYT",
        "colab_type": "code",
        "outputId": "f2f6a51d-9524-4cb3-8469-60dafd00ae19",
        "colab": {
          "base_uri": "https://localhost:8080/",
          "height": 206
        }
      },
      "source": [
        "train_text.head()"
      ],
      "execution_count": 0,
      "outputs": [
        {
          "output_type": "execute_result",
          "data": {
            "text/html": [
              "<div>\n",
              "<style scoped>\n",
              "    .dataframe tbody tr th:only-of-type {\n",
              "        vertical-align: middle;\n",
              "    }\n",
              "\n",
              "    .dataframe tbody tr th {\n",
              "        vertical-align: top;\n",
              "    }\n",
              "\n",
              "    .dataframe thead th {\n",
              "        text-align: right;\n",
              "    }\n",
              "</style>\n",
              "<table border=\"1\" class=\"dataframe\">\n",
              "  <thead>\n",
              "    <tr style=\"text-align: right;\">\n",
              "      <th></th>\n",
              "      <th>id</th>\n",
              "      <th>label</th>\n",
              "      <th>tweet</th>\n",
              "    </tr>\n",
              "  </thead>\n",
              "  <tbody>\n",
              "    <tr>\n",
              "      <th>0</th>\n",
              "      <td>1</td>\n",
              "      <td>0</td>\n",
              "      <td>#fingerprint #Pregnancy Test https://goo.gl/h1...</td>\n",
              "    </tr>\n",
              "    <tr>\n",
              "      <th>1</th>\n",
              "      <td>2</td>\n",
              "      <td>0</td>\n",
              "      <td>Finally a transparant silicon case ^^ Thanks t...</td>\n",
              "    </tr>\n",
              "    <tr>\n",
              "      <th>2</th>\n",
              "      <td>3</td>\n",
              "      <td>0</td>\n",
              "      <td>We love this! Would you go? #talk #makememorie...</td>\n",
              "    </tr>\n",
              "    <tr>\n",
              "      <th>3</th>\n",
              "      <td>4</td>\n",
              "      <td>0</td>\n",
              "      <td>I'm wired I know I'm George I was made that wa...</td>\n",
              "    </tr>\n",
              "    <tr>\n",
              "      <th>4</th>\n",
              "      <td>5</td>\n",
              "      <td>1</td>\n",
              "      <td>What amazing service! Apple won't even talk to...</td>\n",
              "    </tr>\n",
              "  </tbody>\n",
              "</table>\n",
              "</div>"
            ],
            "text/plain": [
              "   id  label                                              tweet\n",
              "0   1      0  #fingerprint #Pregnancy Test https://goo.gl/h1...\n",
              "1   2      0  Finally a transparant silicon case ^^ Thanks t...\n",
              "2   3      0  We love this! Would you go? #talk #makememorie...\n",
              "3   4      0  I'm wired I know I'm George I was made that wa...\n",
              "4   5      1  What amazing service! Apple won't even talk to..."
            ]
          },
          "metadata": {
            "tags": []
          },
          "execution_count": 9
        }
      ]
    },
    {
      "cell_type": "code",
      "metadata": {
        "id": "waYItkoEtJmF",
        "colab_type": "code",
        "outputId": "0a61600d-079f-4e9f-fe01-4e90a0e0bcd7",
        "colab": {
          "base_uri": "https://localhost:8080/",
          "height": 206
        }
      },
      "source": [
        "test_text.head()"
      ],
      "execution_count": 0,
      "outputs": [
        {
          "output_type": "execute_result",
          "data": {
            "text/html": [
              "<div>\n",
              "<style scoped>\n",
              "    .dataframe tbody tr th:only-of-type {\n",
              "        vertical-align: middle;\n",
              "    }\n",
              "\n",
              "    .dataframe tbody tr th {\n",
              "        vertical-align: top;\n",
              "    }\n",
              "\n",
              "    .dataframe thead th {\n",
              "        text-align: right;\n",
              "    }\n",
              "</style>\n",
              "<table border=\"1\" class=\"dataframe\">\n",
              "  <thead>\n",
              "    <tr style=\"text-align: right;\">\n",
              "      <th></th>\n",
              "      <th>id</th>\n",
              "      <th>tweet</th>\n",
              "      <th>hate_prob</th>\n",
              "    </tr>\n",
              "  </thead>\n",
              "  <tbody>\n",
              "    <tr>\n",
              "      <th>0</th>\n",
              "      <td>7921</td>\n",
              "      <td>hate new iphone upgrade let download apps ugh ...</td>\n",
              "      <td>0.445458</td>\n",
              "    </tr>\n",
              "    <tr>\n",
              "      <th>1</th>\n",
              "      <td>7922</td>\n",
              "      <td>currently shitting fucking pants apple imac ca...</td>\n",
              "      <td>0.876793</td>\n",
              "    </tr>\n",
              "    <tr>\n",
              "      <th>2</th>\n",
              "      <td>7923</td>\n",
              "      <td>i'd like puts cdroms ipad possible' — yes bloc...</td>\n",
              "      <td>0.080861</td>\n",
              "    </tr>\n",
              "    <tr>\n",
              "      <th>3</th>\n",
              "      <td>7924</td>\n",
              "      <td>ipod officially dead lost pictures videos sos ...</td>\n",
              "      <td>0.071172</td>\n",
              "    </tr>\n",
              "    <tr>\n",
              "      <th>4</th>\n",
              "      <td>7925</td>\n",
              "      <td>fighting itunes night want music paid</td>\n",
              "      <td>0.115834</td>\n",
              "    </tr>\n",
              "  </tbody>\n",
              "</table>\n",
              "</div>"
            ],
            "text/plain": [
              "     id                                              tweet  hate_prob\n",
              "0  7921  hate new iphone upgrade let download apps ugh ...   0.445458\n",
              "1  7922  currently shitting fucking pants apple imac ca...   0.876793\n",
              "2  7923  i'd like puts cdroms ipad possible' — yes bloc...   0.080861\n",
              "3  7924  ipod officially dead lost pictures videos sos ...   0.071172\n",
              "4  7925              fighting itunes night want music paid   0.115834"
            ]
          },
          "metadata": {
            "tags": []
          },
          "execution_count": 102
        }
      ]
    },
    {
      "cell_type": "code",
      "metadata": {
        "id": "Nc-2DX6EfmOl",
        "colab_type": "code",
        "colab": {}
      },
      "source": [
        "count_labels=Counter(train_text.loc[:,'label'])"
      ],
      "execution_count": 0,
      "outputs": []
    },
    {
      "cell_type": "code",
      "metadata": {
        "id": "M2QfTbl_fv1r",
        "colab_type": "code",
        "outputId": "4b62b413-480a-42db-aeed-6038be924f14",
        "colab": {
          "base_uri": "https://localhost:8080/",
          "height": 35
        }
      },
      "source": [
        "print(count_labels)"
      ],
      "execution_count": 0,
      "outputs": [
        {
          "output_type": "stream",
          "text": [
            "Counter({0: 5894, 1: 2026})\n"
          ],
          "name": "stdout"
        }
      ]
    },
    {
      "cell_type": "code",
      "metadata": {
        "id": "oLMIh2kFPMpt",
        "colab_type": "code",
        "outputId": "473a63e1-8b2f-47f3-c98c-d71614169559",
        "colab": {
          "base_uri": "https://localhost:8080/",
          "height": 283
        }
      },
      "source": [
        "plt.bar(list(count_labels.keys()),list(count_labels.values()))"
      ],
      "execution_count": 0,
      "outputs": [
        {
          "output_type": "execute_result",
          "data": {
            "text/plain": [
              "<BarContainer object of 2 artists>"
            ]
          },
          "metadata": {
            "tags": []
          },
          "execution_count": 13
        },
        {
          "output_type": "display_data",
          "data": {
            "image/png": "[encoded data removed]",
            "text/plain": [
              "<Figure size 432x288 with 1 Axes>"
            ]
          },
          "metadata": {
            "tags": [],
            "needs_background": "light"
          }
        }
      ]
    },
    {
      "cell_type": "code",
      "metadata": {
        "id": "6VUbdRT4YRF8",
        "colab_type": "code",
        "outputId": "2ac551de-2d6c-4c30-f432-fb5bd1d4fa71",
        "colab": {
          "base_uri": "https://localhost:8080/",
          "height": 109
        }
      },
      "source": [
        "train_text.isnull().sum() #So no missing values"
      ],
      "execution_count": 0,
      "outputs": [
        {
          "output_type": "execute_result",
          "data": {
            "text/plain": [
              "id           0\n",
              "label        0\n",
              "tweet        0\n",
              "hate_prob    0\n",
              "dtype: int64"
            ]
          },
          "metadata": {
            "tags": []
          },
          "execution_count": 93
        }
      ]
    },
    {
      "cell_type": "code",
      "metadata": {
        "id": "ekvxqtbU98qF",
        "colab_type": "code",
        "colab": {}
      },
      "source": [
        "import re"
      ],
      "execution_count": 0,
      "outputs": []
    },
    {
      "cell_type": "code",
      "metadata": {
        "id": "Elu45BFjOjjE",
        "colab_type": "code",
        "colab": {}
      },
      "source": [
        "def preprocess_data(train_text):\n",
        "  raw_text=[i for i in train_text['tweet']]\n",
        "  html_removed=[re.sub('http[s]?://(?:[a-zA-Z]|[0-9]|[$-_@.&+]|[!*\\(\\),]|(?:%[0-9a-fA-F][0-9a-fA-F]))+','',i) for i in raw_text] #Remove the urls from the text data\n",
        "  pattern='(?:[0-9]|…|[\\#\\$\\@\\&\\!\\,\\:\\<\\>\\%\\@\\.\\)\\()\\?\\-\\_\\^\\*\\+\\=\\;\\}\\{\\[\\]])+'\n",
        "  raw_text1=[i for i in html_removed]                                            #Removing the non text characters\n",
        "  clean_data=[re.sub(pattern,'',i)for i in raw_text1]\n",
        "  lower=[j.lower() for j in clean_data]                                      # converting all text into lowercase\n",
        "  strip=[j.strip() for j in lower]\n",
        "  cleaned_spell=[]                                                          #correcting the spellings if there are any\n",
        "  stopword=set(stopwords.words('english'))\n",
        "  for k in strip:\n",
        "    s=''\n",
        "    for m in k.split():\n",
        "      if m not in stopword:\n",
        "        spell=Word(m)\n",
        "        s=s+spell+' '\n",
        "    s=s.strip()\n",
        "    cleaned_spell.append(s)\n",
        "  return(cleaned_spell)\n",
        "cleaned_data=preprocess_data(train_text)"
      ],
      "execution_count": 0,
      "outputs": []
    },
    {
      "cell_type": "code",
      "metadata": {
        "id": "qBS6-HLCc5yy",
        "colab_type": "code",
        "colab": {}
      },
      "source": [
        "cleaned_test=preprocess_data(test_text)"
      ],
      "execution_count": 0,
      "outputs": []
    },
    {
      "cell_type": "code",
      "metadata": {
        "id": "GMupNtK6Qnxk",
        "colab_type": "code",
        "colab": {}
      },
      "source": [
        "train_text.loc[:,'tweet']=cleaned_data"
      ],
      "execution_count": 0,
      "outputs": []
    },
    {
      "cell_type": "code",
      "metadata": {
        "id": "De5PeDz2dAzE",
        "colab_type": "code",
        "colab": {}
      },
      "source": [
        "test_text.loc[:,'tweet']=cleaned_test"
      ],
      "execution_count": 0,
      "outputs": []
    },
    {
      "cell_type": "code",
      "metadata": {
        "id": "7R3MWBYZQvsU",
        "colab_type": "code",
        "outputId": "766a8861-db23-497c-dd6e-216b16100903",
        "colab": {
          "base_uri": "https://localhost:8080/",
          "height": 238
        }
      },
      "source": [
        "train_text.head(6)"
      ],
      "execution_count": 0,
      "outputs": [
        {
          "output_type": "execute_result",
          "data": {
            "text/html": [
              "<div>\n",
              "<style scoped>\n",
              "    .dataframe tbody tr th:only-of-type {\n",
              "        vertical-align: middle;\n",
              "    }\n",
              "\n",
              "    .dataframe tbody tr th {\n",
              "        vertical-align: top;\n",
              "    }\n",
              "\n",
              "    .dataframe thead th {\n",
              "        text-align: right;\n",
              "    }\n",
              "</style>\n",
              "<table border=\"1\" class=\"dataframe\">\n",
              "  <thead>\n",
              "    <tr style=\"text-align: right;\">\n",
              "      <th></th>\n",
              "      <th>id</th>\n",
              "      <th>label</th>\n",
              "      <th>tweet</th>\n",
              "      <th>hate_prob</th>\n",
              "    </tr>\n",
              "  </thead>\n",
              "  <tbody>\n",
              "    <tr>\n",
              "      <th>0</th>\n",
              "      <td>1</td>\n",
              "      <td>0</td>\n",
              "      <td>fingerprint pregnancy test android apps beauti...</td>\n",
              "      <td>0.019974</td>\n",
              "    </tr>\n",
              "    <tr>\n",
              "      <th>1</th>\n",
              "      <td>2</td>\n",
              "      <td>0</td>\n",
              "      <td>finally transparant silicon case thanks uncle ...</td>\n",
              "      <td>0.093556</td>\n",
              "    </tr>\n",
              "    <tr>\n",
              "      <th>2</th>\n",
              "      <td>3</td>\n",
              "      <td>0</td>\n",
              "      <td>love would go talk makememories unplug relax i...</td>\n",
              "      <td>0.057801</td>\n",
              "    </tr>\n",
              "    <tr>\n",
              "      <th>3</th>\n",
              "      <td>4</td>\n",
              "      <td>0</td>\n",
              "      <td>i'm wired know i'm george made way iphone cute...</td>\n",
              "      <td>0.035412</td>\n",
              "    </tr>\n",
              "    <tr>\n",
              "      <th>4</th>\n",
              "      <td>5</td>\n",
              "      <td>1</td>\n",
              "      <td>amazing service apple even talk question unles...</td>\n",
              "      <td>0.255848</td>\n",
              "    </tr>\n",
              "    <tr>\n",
              "      <th>5</th>\n",
              "      <td>6</td>\n",
              "      <td>1</td>\n",
              "      <td>iphone software update fucked phone big time s...</td>\n",
              "      <td>0.850619</td>\n",
              "    </tr>\n",
              "  </tbody>\n",
              "</table>\n",
              "</div>"
            ],
            "text/plain": [
              "   id  label                                              tweet  hate_prob\n",
              "0   1      0  fingerprint pregnancy test android apps beauti...   0.019974\n",
              "1   2      0  finally transparant silicon case thanks uncle ...   0.093556\n",
              "2   3      0  love would go talk makememories unplug relax i...   0.057801\n",
              "3   4      0  i'm wired know i'm george made way iphone cute...   0.035412\n",
              "4   5      1  amazing service apple even talk question unles...   0.255848\n",
              "5   6      1  iphone software update fucked phone big time s...   0.850619"
            ]
          },
          "metadata": {
            "tags": []
          },
          "execution_count": 36
        }
      ]
    },
    {
      "cell_type": "code",
      "metadata": {
        "id": "rQZoc_xsdNGK",
        "colab_type": "code",
        "outputId": "889fdfd1-a2f0-4c9d-e02f-5d1181624b49",
        "colab": {
          "base_uri": "https://localhost:8080/",
          "height": 206
        }
      },
      "source": [
        "test_text.head()"
      ],
      "execution_count": 0,
      "outputs": [
        {
          "output_type": "execute_result",
          "data": {
            "text/html": [
              "<div>\n",
              "<style scoped>\n",
              "    .dataframe tbody tr th:only-of-type {\n",
              "        vertical-align: middle;\n",
              "    }\n",
              "\n",
              "    .dataframe tbody tr th {\n",
              "        vertical-align: top;\n",
              "    }\n",
              "\n",
              "    .dataframe thead th {\n",
              "        text-align: right;\n",
              "    }\n",
              "</style>\n",
              "<table border=\"1\" class=\"dataframe\">\n",
              "  <thead>\n",
              "    <tr style=\"text-align: right;\">\n",
              "      <th></th>\n",
              "      <th>id</th>\n",
              "      <th>tweet</th>\n",
              "    </tr>\n",
              "  </thead>\n",
              "  <tbody>\n",
              "    <tr>\n",
              "      <th>0</th>\n",
              "      <td>7921</td>\n",
              "      <td>hate new iphone upgrade let download apps ugh ...</td>\n",
              "    </tr>\n",
              "    <tr>\n",
              "      <th>1</th>\n",
              "      <td>7922</td>\n",
              "      <td>currently shitting fucking pants apple imac ca...</td>\n",
              "    </tr>\n",
              "    <tr>\n",
              "      <th>2</th>\n",
              "      <td>7923</td>\n",
              "      <td>i'd like puts cdroms ipad possible' — yes bloc...</td>\n",
              "    </tr>\n",
              "    <tr>\n",
              "      <th>3</th>\n",
              "      <td>7924</td>\n",
              "      <td>ipod officially dead lost pictures videos sos ...</td>\n",
              "    </tr>\n",
              "    <tr>\n",
              "      <th>4</th>\n",
              "      <td>7925</td>\n",
              "      <td>fighting itunes night want music paid</td>\n",
              "    </tr>\n",
              "  </tbody>\n",
              "</table>\n",
              "</div>"
            ],
            "text/plain": [
              "     id                                              tweet\n",
              "0  7921  hate new iphone upgrade let download apps ugh ...\n",
              "1  7922  currently shitting fucking pants apple imac ca...\n",
              "2  7923  i'd like puts cdroms ipad possible' — yes bloc...\n",
              "3  7924  ipod officially dead lost pictures videos sos ...\n",
              "4  7925              fighting itunes night want music paid"
            ]
          },
          "metadata": {
            "tags": []
          },
          "execution_count": 25
        }
      ]
    },
    {
      "cell_type": "code",
      "metadata": {
        "id": "Eku5UugSS3dQ",
        "colab_type": "code",
        "colab": {}
      },
      "source": [
        "#feature engineering"
      ],
      "execution_count": 0,
      "outputs": []
    },
    {
      "cell_type": "code",
      "metadata": {
        "id": "ia-9WE7vS5nm",
        "colab_type": "code",
        "colab": {}
      },
      "source": [
        "from profanity_check import predict,predict_prob\n",
        "x=predict_prob(train_text.loc[:,'tweet'])\n",
        "y=predict(train_text.loc[:,'tweet'])\n",
        "test=predict_prob(test_text.loc[:,'tweet'])"
      ],
      "execution_count": 0,
      "outputs": []
    },
    {
      "cell_type": "code",
      "metadata": {
        "id": "5mwanx4GT8Bh",
        "colab_type": "code",
        "colab": {}
      },
      "source": [
        "train_text.loc[:,'hate_prob']=x"
      ],
      "execution_count": 0,
      "outputs": []
    },
    {
      "cell_type": "code",
      "metadata": {
        "id": "KDqf2hRQUD_d",
        "colab_type": "code",
        "colab": {}
      },
      "source": [
        "test_text.loc[:,'hate_prob']=test\n"
      ],
      "execution_count": 0,
      "outputs": []
    },
    {
      "cell_type": "code",
      "metadata": {
        "id": "CqVM3gl2UPLt",
        "colab_type": "code",
        "outputId": "c2b6ed0c-6292-4fa3-e757-deed6f9b911c",
        "colab": {
          "base_uri": "https://localhost:8080/",
          "height": 297
        }
      },
      "source": [
        "sb.boxplot(x=train_text.loc[:,'label'],y=train_text.loc[:,'hate_prob'])"
      ],
      "execution_count": 0,
      "outputs": [
        {
          "output_type": "execute_result",
          "data": {
            "text/plain": [
              "<matplotlib.axes._subplots.AxesSubplot at 0x7f6b9205ccc0>"
            ]
          },
          "metadata": {
            "tags": []
          },
          "execution_count": 16
        },
        {
          "output_type": "display_data",
          "data": {
            "image/png": "[encoded data removed]",
            "text/plain": [
              "<Figure size 432x288 with 1 Axes>"
            ]
          },
          "metadata": {
            "tags": [],
            "needs_background": "light"
          }
        }
      ]
    },
    {
      "cell_type": "code",
      "metadata": {
        "id": "Wk6pLSpiVIa3",
        "colab_type": "code",
        "outputId": "2c98d4b4-999a-4605-af9a-ecf37e3106e7",
        "colab": {
          "base_uri": "https://localhost:8080/",
          "height": 337
        }
      },
      "source": [
        "sb.pairplot(train_text.loc[:,['label','hate_prob']],hue='label',height=4)"
      ],
      "execution_count": 0,
      "outputs": [
        {
          "output_type": "execute_result",
          "data": {
            "text/plain": [
              "<seaborn.axisgrid.PairGrid at 0x7fb3d3a22b70>"
            ]
          },
          "metadata": {
            "tags": []
          },
          "execution_count": 90
        },
        {
          "output_type": "display_data",
          "data": {
            "image/png": "[encoded data removed]",
            "text/plain": [
              "<Figure size 330.375x288 with 2 Axes>"
            ]
          },
          "metadata": {
            "tags": [],
            "needs_background": "light"
          }
        }
      ]
    },
    {
      "cell_type": "code",
      "metadata": {
        "id": "wgNRlBo9XooK",
        "colab_type": "code",
        "outputId": "2fb2f6f6-2f33-4843-c480-1e148cd1b823",
        "colab": {
          "base_uri": "https://localhost:8080/",
          "height": 112
        }
      },
      "source": [
        "train_text.loc[:,['label','hate_prob']].corr()"
      ],
      "execution_count": 0,
      "outputs": [
        {
          "output_type": "execute_result",
          "data": {
            "text/html": [
              "<div>\n",
              "<style scoped>\n",
              "    .dataframe tbody tr th:only-of-type {\n",
              "        vertical-align: middle;\n",
              "    }\n",
              "\n",
              "    .dataframe tbody tr th {\n",
              "        vertical-align: top;\n",
              "    }\n",
              "\n",
              "    .dataframe thead th {\n",
              "        text-align: right;\n",
              "    }\n",
              "</style>\n",
              "<table border=\"1\" class=\"dataframe\">\n",
              "  <thead>\n",
              "    <tr style=\"text-align: right;\">\n",
              "      <th></th>\n",
              "      <th>label</th>\n",
              "      <th>hate_prob</th>\n",
              "    </tr>\n",
              "  </thead>\n",
              "  <tbody>\n",
              "    <tr>\n",
              "      <th>label</th>\n",
              "      <td>1.000000</td>\n",
              "      <td>0.338324</td>\n",
              "    </tr>\n",
              "    <tr>\n",
              "      <th>hate_prob</th>\n",
              "      <td>0.338324</td>\n",
              "      <td>1.000000</td>\n",
              "    </tr>\n",
              "  </tbody>\n",
              "</table>\n",
              "</div>"
            ],
            "text/plain": [
              "              label  hate_prob\n",
              "label      1.000000   0.338324\n",
              "hate_prob  0.338324   1.000000"
            ]
          },
          "metadata": {
            "tags": []
          },
          "execution_count": 91
        }
      ]
    },
    {
      "cell_type": "code",
      "metadata": {
        "id": "j1AIURr_8JwF",
        "colab_type": "code",
        "colab": {}
      },
      "source": [
        "nlp=spacy.load(\"en_core_web_sm\")"
      ],
      "execution_count": 0,
      "outputs": []
    },
    {
      "cell_type": "code",
      "metadata": {
        "id": "O7Uz7grG8R3M",
        "colab_type": "code",
        "colab": {}
      },
      "source": [
        "a=nlp(train_text.loc[8,'tweet'])"
      ],
      "execution_count": 0,
      "outputs": []
    },
    {
      "cell_type": "code",
      "metadata": {
        "id": "qSnUqaqI8ZK1",
        "colab_type": "code",
        "outputId": "932bd698-a840-4ca8-86ab-cc1fc0ec8727",
        "colab": {
          "base_uri": "https://localhost:8080/",
          "height": 201
        }
      },
      "source": [
        "for token in a:\n",
        "  print(token.pos_)"
      ],
      "execution_count": 0,
      "outputs": [
        {
          "output_type": "stream",
          "text": [
            "PROPN\n",
            "PROPN\n",
            "VERB\n",
            "VERB\n",
            "NOUN\n",
            "PROPN\n",
            "PROPN\n",
            "NOUN\n",
            "PROPN\n",
            "NOUN\n"
          ],
          "name": "stdout"
        }
      ]
    },
    {
      "cell_type": "code",
      "metadata": {
        "id": "nMBNjFKi_TwQ",
        "colab_type": "code",
        "colab": {}
      },
      "source": [
        "d=[]\n",
        "for i in train_text.loc[:,'tweet']:\n",
        "  c=nlp(i)\n",
        "  count=0\n",
        "  for c1 in c:\n",
        "    if c1.pos_=='PROPN':\n",
        "      count+=1\n",
        "  d.append(count)"
      ],
      "execution_count": 0,
      "outputs": []
    },
    {
      "cell_type": "code",
      "metadata": {
        "id": "DQjiNmB4Bd7y",
        "colab_type": "code",
        "colab": {}
      },
      "source": [
        "train_text.loc[:,'Propernoun']=d"
      ],
      "execution_count": 0,
      "outputs": []
    },
    {
      "cell_type": "code",
      "metadata": {
        "id": "QiwjXbATjkMa",
        "colab_type": "code",
        "colab": {}
      },
      "source": [
        "train_text.drop(columns='id',inplace=True)"
      ],
      "execution_count": 0,
      "outputs": []
    },
    {
      "cell_type": "code",
      "metadata": {
        "id": "APiyOMohjzhi",
        "colab_type": "code",
        "colab": {}
      },
      "source": [
        "x=train_text.loc[:,['Propernoun','tweet','hate_prob']]\n",
        "y=train_text.loc[:,'label']"
      ],
      "execution_count": 0,
      "outputs": []
    },
    {
      "cell_type": "code",
      "metadata": {
        "id": "1MmW38NMBm_L",
        "colab_type": "code",
        "outputId": "98f045ef-14c9-4cdc-ecab-d4c95be69928",
        "colab": {
          "base_uri": "https://localhost:8080/",
          "height": 297
        }
      },
      "source": [
        "sb.boxplot(x=train_text.loc[:,'label'],y=train_text.loc[:,'Propernoun'])"
      ],
      "execution_count": 0,
      "outputs": [
        {
          "output_type": "execute_result",
          "data": {
            "text/plain": [
              "<matplotlib.axes._subplots.AxesSubplot at 0x7fe93579cb38>"
            ]
          },
          "metadata": {
            "tags": []
          },
          "execution_count": 66
        },
        {
          "output_type": "display_data",
          "data": {
            "image/png": "[encoded data removed]",
            "text/plain": [
              "<Figure size 432x288 with 1 Axes>"
            ]
          },
          "metadata": {
            "tags": [],
            "needs_background": "light"
          }
        }
      ]
    },
    {
      "cell_type": "code",
      "metadata": {
        "id": "KUTL1yCxDpBT",
        "colab_type": "code",
        "outputId": "58002a54-94aa-430c-9a84-81e2f607cfed",
        "colab": {
          "base_uri": "https://localhost:8080/",
          "height": 297
        }
      },
      "source": [
        "sb.distplot(train_text.loc[train_text.loc[:,'label']==0,'Propernoun'],label='0')\n",
        "sb.distplot(train_text.loc[train_text.loc[:,'label']==1,'Propernoun'],label='1')"
      ],
      "execution_count": 0,
      "outputs": [
        {
          "output_type": "execute_result",
          "data": {
            "text/plain": [
              "<matplotlib.axes._subplots.AxesSubplot at 0x7fe933de1dd8>"
            ]
          },
          "metadata": {
            "tags": []
          },
          "execution_count": 68
        },
        {
          "output_type": "display_data",
          "data": {
            "image/png": "[encoded data removed]",
            "text/plain": [
              "<Figure size 432x288 with 1 Axes>"
            ]
          },
          "metadata": {
            "tags": [],
            "needs_background": "light"
          }
        }
      ]
    },
    {
      "cell_type": "code",
      "metadata": {
        "id": "yy-bpRMVaGzL",
        "colab_type": "code",
        "colab": {}
      },
      "source": [
        "from sklearn.model_selection import train_test_split\n",
        "X_train,X_cv,y_train,y_cv=train_test_split(x,y,test_size=0.2)"
      ],
      "execution_count": 0,
      "outputs": []
    },
    {
      "cell_type": "code",
      "metadata": {
        "id": "1Lt8TPfEapaq",
        "colab_type": "code",
        "outputId": "92f1ca8f-c67a-43e7-9390-db4362d673e0",
        "colab": {
          "base_uri": "https://localhost:8080/",
          "height": 54
        }
      },
      "source": [
        "print(X_train.shape,y_train.shape)\n",
        "print(X_cv.shape,y_cv.shape)"
      ],
      "execution_count": 180,
      "outputs": [
        {
          "output_type": "stream",
          "text": [
            "(6336, 2) (6336,)\n",
            "(1584, 2) (1584,)\n"
          ],
          "name": "stdout"
        }
      ]
    },
    {
      "cell_type": "code",
      "metadata": {
        "id": "06vtOElvY6C3",
        "colab_type": "code",
        "colab": {}
      },
      "source": [
        "from sklearn.feature_extraction.text import CountVectorizer"
      ],
      "execution_count": 0,
      "outputs": []
    },
    {
      "cell_type": "code",
      "metadata": {
        "id": "9My1PfAQZtY_",
        "colab_type": "code",
        "colab": {}
      },
      "source": [
        "count=CountVectorizer(min_df=5)\n",
        "count.fit(X_train['tweet'])\n",
        "onehottr=count.transform(X_train['tweet'])\n",
        "onehotcv=count.transform(X_cv['tweet'])\n",
        "onehottest=count.transform(test_text['tweet'])"
      ],
      "execution_count": 0,
      "outputs": []
    },
    {
      "cell_type": "code",
      "metadata": {
        "id": "GoxIRIszdbF0",
        "colab_type": "code",
        "outputId": "57ddb159-30e6-44b2-ca97-33ee832da67d",
        "colab": {
          "base_uri": "https://localhost:8080/",
          "height": 72
        }
      },
      "source": [
        "print(onehottr.shape,y_train.shape)\n",
        "print(onehotcv.shape,y_cv.shape)\n",
        "print(onehottest.shape)"
      ],
      "execution_count": 192,
      "outputs": [
        {
          "output_type": "stream",
          "text": [
            "(6336, 1939) (6336,)\n",
            "(1584, 1939) (1584,)\n",
            "(1953, 1939)\n"
          ],
          "name": "stdout"
        }
      ]
    },
    {
      "cell_type": "code",
      "metadata": {
        "id": "vl1r7x4SkAbA",
        "colab_type": "code",
        "colab": {}
      },
      "source": [
        "from scipy.sparse import csr_matrix"
      ],
      "execution_count": 0,
      "outputs": []
    },
    {
      "cell_type": "code",
      "metadata": {
        "id": "etf76tzoeHo6",
        "colab_type": "code",
        "colab": {}
      },
      "source": [
        "final_tr=np.hstack((onehottr.toarray(),X_train['hate_prob'].values.reshape(-1,1),X_train['Propernoun'].values.reshape(-1,1)))\n",
        "final_cv=np.hstack((onehotcv.toarray(),X_cv['hate_prob'].values.reshape(-1,1),X_cv['Propernoun'].values.reshape(-1,1)))\n"
      ],
      "execution_count": 0,
      "outputs": []
    },
    {
      "cell_type": "code",
      "metadata": {
        "id": "XhzdyaOdMurY",
        "colab_type": "code",
        "outputId": "f3d4cdb6-430a-49f5-acab-3ce98ba0c003",
        "colab": {
          "base_uri": "https://localhost:8080/",
          "height": 35
        }
      },
      "source": [
        "final_tr.shape"
      ],
      "execution_count": 194,
      "outputs": [
        {
          "output_type": "execute_result",
          "data": {
            "text/plain": [
              "(6336, 1941)"
            ]
          },
          "metadata": {
            "tags": []
          },
          "execution_count": 194
        }
      ]
    },
    {
      "cell_type": "code",
      "metadata": {
        "id": "cmGmqmZPJ4mJ",
        "colab_type": "code",
        "colab": {}
      },
      "source": [
        "final_test=np.hstack((onehottest.toarray(),test_text['hate_prob'].values.reshape(-1,1),X_test['Propernoun'].values.reshape(-1,1)))"
      ],
      "execution_count": 0,
      "outputs": []
    },
    {
      "cell_type": "code",
      "metadata": {
        "id": "R0Q1LCzlexWv",
        "colab_type": "code",
        "colab": {}
      },
      "source": [
        "#Hyperparameter tuning"
      ],
      "execution_count": 0,
      "outputs": []
    },
    {
      "cell_type": "code",
      "metadata": {
        "id": "4VRb1g_BhVBG",
        "colab_type": "code",
        "colab": {}
      },
      "source": [
        "log=LogisticRegression()"
      ],
      "execution_count": 0,
      "outputs": []
    },
    {
      "cell_type": "code",
      "metadata": {
        "id": "05r4XOPag-Py",
        "colab_type": "code",
        "colab": {}
      },
      "source": [
        "c=[0.001,0.1,1,5]\n",
        "trauc=[]\n",
        "cvauc=[]\n",
        "for i in c:\n",
        "  log=LogisticRegression(C=i,max_iter=1000)\n",
        "  log.fit(final_tr,y_train.values)\n",
        "  predicted_tr=log.predict_proba(final_tr)\n",
        "  predicted_cv=log.predict_proba(final_cv)\n",
        "  train_auc=roc_auc_score(y_train.values,predicted_tr[:,1])\n",
        "  cv_auc=roc_auc_score(y_cv.values,predicted_cv[:,1])\n",
        "  trauc.append(train_auc)\n",
        "  cvauc.append(cv_auc)"
      ],
      "execution_count": 0,
      "outputs": []
    },
    {
      "cell_type": "code",
      "metadata": {
        "id": "e6tRgsYcqzSX",
        "colab_type": "code",
        "outputId": "42534767-b527-45a3-dffd-3f33cb676fbf",
        "colab": {
          "base_uri": "https://localhost:8080/",
          "height": 265
        }
      },
      "source": [
        "plt.plot(c,trauc,label='train_auc')\n",
        "plt.plot(c,cvauc,label='cv_auc')\n",
        "plt.legend()\n",
        "plt.show()"
      ],
      "execution_count": 197,
      "outputs": [
        {
          "output_type": "display_data",
          "data": {
            "image/png": "[encoded data removed]",
            "text/plain": [
              "<Figure size 432x288 with 1 Axes>"
            ]
          },
          "metadata": {
            "tags": [],
            "needs_background": "light"
          }
        }
      ]
    },
    {
      "cell_type": "code",
      "metadata": {
        "id": "eYgjRqcRr0Cu",
        "colab_type": "code",
        "colab": {}
      },
      "source": [
        "log1=LogisticRegression(C=1,max_iter=1000)\n",
        "log1.fit(final_tr,y_train.values)\n",
        "test_predict=log1.predict(final_tr)\n",
        "test_predictcv=log1.predict(final_cv)\n"
      ],
      "execution_count": 0,
      "outputs": []
    },
    {
      "cell_type": "code",
      "metadata": {
        "id": "MuRW5O2FK_A8",
        "colab_type": "code",
        "colab": {}
      },
      "source": [
        "ascend=np.argsort(log1.coef_).flatten()\n",
        "top=ascend[-200:]"
      ],
      "execution_count": 0,
      "outputs": []
    },
    {
      "cell_type": "code",
      "metadata": {
        "id": "Mb2eKwxKQGvs",
        "colab_type": "code",
        "colab": {}
      },
      "source": [
        "coef=(log1.coef_).flatten()[-200:]"
      ],
      "execution_count": 0,
      "outputs": []
    },
    {
      "cell_type": "code",
      "metadata": {
        "id": "tfaNH99zMYbN",
        "colab_type": "code",
        "colab": {}
      },
      "source": [
        "names=[]\n",
        "features=count.get_feature_names()\n",
        "for i in top:\n",
        "  if(i<final_tr.shape[1]-2):\n",
        "    names.append(features[i])\n",
        "  elif(i==final_tr.shape[1]-1):\n",
        "    names.append('hate_prob')\n",
        "  else:\n",
        "    names.append('Propernoun')"
      ],
      "execution_count": 0,
      "outputs": []
    },
    {
      "cell_type": "code",
      "metadata": {
        "id": "PnxMVcHaO1_Q",
        "colab_type": "code",
        "outputId": "b8a2f6ec-9ce3-408b-9e0f-db9a4651f701",
        "colab": {
          "base_uri": "https://localhost:8080/",
          "height": 54
        }
      },
      "source": [
        "p=names.index('Propernoun')\n",
        "print(p)\n",
        "print(names[p])"
      ],
      "execution_count": 205,
      "outputs": [
        {
          "output_type": "stream",
          "text": [
            "199\n",
            "Propernoun\n"
          ],
          "name": "stdout"
        }
      ]
    },
    {
      "cell_type": "code",
      "metadata": {
        "id": "Jqxzny1qsgbJ",
        "colab_type": "code",
        "outputId": "6d2a41f4-7c18-43dc-ee5c-ae777ad79555",
        "colab": {
          "base_uri": "https://localhost:8080/",
          "height": 35
        }
      },
      "source": [
        "f1_score(y_train.values,test_predict,average='weighted')"
      ],
      "execution_count": 206,
      "outputs": [
        {
          "output_type": "execute_result",
          "data": {
            "text/plain": [
              "0.9380690551939985"
            ]
          },
          "metadata": {
            "tags": []
          },
          "execution_count": 206
        }
      ]
    },
    {
      "cell_type": "code",
      "metadata": {
        "id": "OzgrrMvAs4oq",
        "colab_type": "code",
        "outputId": "60de2019-b6a0-4249-d19f-279e9ec6f4ec",
        "colab": {
          "base_uri": "https://localhost:8080/",
          "height": 35
        }
      },
      "source": [
        "f1_score(y_cv.values,test_predictcv,average='weighted')"
      ],
      "execution_count": 207,
      "outputs": [
        {
          "output_type": "execute_result",
          "data": {
            "text/plain": [
              "0.8739499370812502"
            ]
          },
          "metadata": {
            "tags": []
          },
          "execution_count": 207
        }
      ]
    },
    {
      "cell_type": "code",
      "metadata": {
        "id": "f4AofKxskb9j",
        "colab_type": "code",
        "colab": {}
      },
      "source": [
        "v=pd.DataFrame(test_text['id'].values,columns=['id'])\n",
        "v.loc[:,'labels']=test_predicttest\n",
        "v.to_csv('/content/drive/My Drive/NLP/Project1-Sentiment Analysis/clean1.csv')"
      ],
      "execution_count": 0,
      "outputs": []
    },
    {
      "cell_type": "code",
      "metadata": {
        "id": "58OTOVo79F6g",
        "colab_type": "code",
        "colab": {}
      },
      "source": [
        "#Trying tf_idf approach"
      ],
      "execution_count": 0,
      "outputs": []
    },
    {
      "cell_type": "code",
      "metadata": {
        "id": "0uY28iWk9MaH",
        "colab_type": "code",
        "colab": {}
      },
      "source": [
        "from sklearn.feature_extraction.text import TfidfVectorizer"
      ],
      "execution_count": 0,
      "outputs": []
    },
    {
      "cell_type": "code",
      "metadata": {
        "id": "MFRk1QpC9cck",
        "colab_type": "code",
        "colab": {}
      },
      "source": [
        "tfidf=TfidfVectorizer(min_df=5)"
      ],
      "execution_count": 0,
      "outputs": []
    },
    {
      "cell_type": "code",
      "metadata": {
        "id": "AGvklQUc9gyW",
        "colab_type": "code",
        "colab": {}
      },
      "source": [
        "tfidf.fit(X_train['tweet'])\n",
        "tfidftr=tfidf.transform(X_train['tweet'])\n",
        "tfidfcv=tfidf.transform(X_cv['tweet'])\n",
        "tfidftest=tfidf.transform(test_text['tweet'])"
      ],
      "execution_count": 0,
      "outputs": []
    },
    {
      "cell_type": "code",
      "metadata": {
        "id": "GPx-80Iz95vB",
        "colab_type": "code",
        "outputId": "6b25975d-4dc3-44cb-bbd8-fa10ee6d4b2a",
        "colab": {
          "base_uri": "https://localhost:8080/",
          "height": 72
        }
      },
      "source": [
        "print(tfidftr.shape,y_train.shape)\n",
        "print(tfidfcv.shape,y_cv.shape)\n",
        "print(tfidftest.shape)"
      ],
      "execution_count": 211,
      "outputs": [
        {
          "output_type": "stream",
          "text": [
            "(6336, 1939) (6336,)\n",
            "(1584, 1939) (1584,)\n",
            "(1953, 1939)\n"
          ],
          "name": "stdout"
        }
      ]
    },
    {
      "cell_type": "code",
      "metadata": {
        "id": "OVBtShm0-PSM",
        "colab_type": "code",
        "colab": {}
      },
      "source": [
        "tffinal_tr=(np.hstack((tfidftr.toarray(),X_train['hate_prob'].values.reshape(-1,1),X_train['Propernoun'].values.reshape(-1,1))))\n",
        "tffinal_cv=(np.hstack((tfidfcv.toarray(),X_cv['hate_prob'].values.reshape(-1,1),X_cv['Propernoun'].values.reshape(-1,1))))\n"
      ],
      "execution_count": 0,
      "outputs": []
    },
    {
      "cell_type": "code",
      "metadata": {
        "id": "ronLj-8Xmpam",
        "colab_type": "code",
        "colab": {}
      },
      "source": [
        "tffinal_test=(np.hstack((tfidftest.toarray(),test_text['hate_prob'].values.reshape(-1,1))))"
      ],
      "execution_count": 0,
      "outputs": []
    },
    {
      "cell_type": "code",
      "metadata": {
        "id": "o3gcUg9I-hzD",
        "colab_type": "code",
        "colab": {}
      },
      "source": [
        "c=[0.001,0.1,1,5]\n",
        "tf_trauc=[]\n",
        "tf_cvauc=[]\n",
        "for i in c:\n",
        "  logi=LogisticRegression(C=i,max_iter=1000)\n",
        "  logi.fit(tffinal_tr,y_train.values)\n",
        "  predicted_tr=logi.predict_proba(tffinal_tr)\n",
        "  predicted_cv=logi.predict_proba(tffinal_cv)\n",
        "  train_auc=roc_auc_score(y_train,predicted_tr[:,1])\n",
        "  cv_auc=roc_auc_score(y_cv,predicted_cv[:,1])\n",
        "  tf_trauc.append(train_auc)\n",
        "  tf_cvauc.append(cv_auc)"
      ],
      "execution_count": 0,
      "outputs": []
    },
    {
      "cell_type": "code",
      "metadata": {
        "id": "-5lYjFq7-6hS",
        "colab_type": "code",
        "outputId": "028f882a-dd85-43bb-a8bc-0a409398d611",
        "colab": {
          "base_uri": "https://localhost:8080/",
          "height": 265
        }
      },
      "source": [
        "plt.plot(c,tf_trauc,label='train_auc')\n",
        "plt.plot(c,tf_cvauc,label='cv_auc')\n",
        "plt.legend()\n",
        "plt.show()"
      ],
      "execution_count": 214,
      "outputs": [
        {
          "output_type": "display_data",
          "data": {
            "image/png": "[encoded data removed]",
            "text/plain": [
              "<Figure size 432x288 with 1 Axes>"
            ]
          },
          "metadata": {
            "tags": [],
            "needs_background": "light"
          }
        }
      ]
    },
    {
      "cell_type": "code",
      "metadata": {
        "id": "i5KY_rcq_YkZ",
        "colab_type": "code",
        "colab": {}
      },
      "source": [
        "log1=LogisticRegression(C=1,max_iter=1000)\n",
        "log1.fit(tffinal_tr,y_train.values)\n",
        "test_predict=log1.predict(tffinal_tr)\n",
        "test_predictcv=log1.predict(tffinal_cv)"
      ],
      "execution_count": 0,
      "outputs": []
    },
    {
      "cell_type": "code",
      "metadata": {
        "id": "HistNOeV_oOU",
        "colab_type": "code",
        "outputId": "95293f62-7850-47f8-f276-836e9e020aef",
        "colab": {
          "base_uri": "https://localhost:8080/",
          "height": 35
        }
      },
      "source": [
        "f1_score(y_train,test_predict,average='weighted')"
      ],
      "execution_count": 216,
      "outputs": [
        {
          "output_type": "execute_result",
          "data": {
            "text/plain": [
              "0.9076087853752399"
            ]
          },
          "metadata": {
            "tags": []
          },
          "execution_count": 216
        }
      ]
    },
    {
      "cell_type": "code",
      "metadata": {
        "id": "deUPaRmPADfY",
        "colab_type": "code",
        "outputId": "4083ef0e-5e4c-4d60-846f-4ca8baf7ae66",
        "colab": {
          "base_uri": "https://localhost:8080/",
          "height": 35
        }
      },
      "source": [
        "f1_score(y_cv,test_predictcv,average='weighted')"
      ],
      "execution_count": 217,
      "outputs": [
        {
          "output_type": "execute_result",
          "data": {
            "text/plain": [
              "0.8767361950598571"
            ]
          },
          "metadata": {
            "tags": []
          },
          "execution_count": 217
        }
      ]
    },
    {
      "cell_type": "code",
      "metadata": {
        "id": "qx430j4ZGxbH",
        "colab_type": "code",
        "colab": {}
      },
      "source": [
        "#trying trigrams in tfidf vectorizer"
      ],
      "execution_count": 0,
      "outputs": []
    },
    {
      "cell_type": "code",
      "metadata": {
        "id": "pHdIVDdiG_VL",
        "colab_type": "code",
        "colab": {}
      },
      "source": [
        "tfidf_gram=TfidfVectorizer(min_df=5,ngram_range=(2,2))\n"
      ],
      "execution_count": 0,
      "outputs": []
    },
    {
      "cell_type": "code",
      "metadata": {
        "id": "4AMOVZqCG31t",
        "colab_type": "code",
        "colab": {}
      },
      "source": [
        "tfidf_gram.fit(X_train['tweet'])\n",
        "tfidftr_gram=tfidf.transform(X_train['tweet'])\n",
        "tfidfcv_gram=tfidf.transform(X_cv['tweet'])\n",
        "tfidftest_gram=tfidf.transform(test_text['tweet'])"
      ],
      "execution_count": 0,
      "outputs": []
    },
    {
      "cell_type": "code",
      "metadata": {
        "id": "qbR2ix2gHX3N",
        "colab_type": "code",
        "outputId": "a133b87f-e314-4be9-922f-f2d166cca0c4",
        "colab": {
          "base_uri": "https://localhost:8080/",
          "height": 72
        }
      },
      "source": [
        "print(tfidftr_gram.shape,y_train.shape)\n",
        "print(tfidfcv_gram.shape,y_cv.shape)\n",
        "print(tfidftest_gram.shape)"
      ],
      "execution_count": 0,
      "outputs": [
        {
          "output_type": "stream",
          "text": [
            "(6336, 1940) (6336,)\n",
            "(1584, 1940) (1584,)\n",
            "(1953, 1940)\n"
          ],
          "name": "stdout"
        }
      ]
    },
    {
      "cell_type": "code",
      "metadata": {
        "id": "Ssr2rOmHIZit",
        "colab_type": "code",
        "colab": {}
      },
      "source": [
        "finalgram_tr=(np.hstack((tfidftr_gram.toarray(),X_train['hate_prob'].values.reshape(-1,1))))\n",
        "finalgram_cv=(np.hstack((tfidfcv_gram.toarray(),X_cv['hate_prob'].values.reshape(-1,1))))\n",
        "finalgram_test=(np.hstack((tfidftest_gram.toarray(),test_text['hate_prob'].values.reshape(-1,1))))"
      ],
      "execution_count": 0,
      "outputs": []
    },
    {
      "cell_type": "code",
      "metadata": {
        "id": "WoTv2ccXSa9v",
        "colab_type": "code",
        "colab": {}
      },
      "source": [
        "from sklearn import preprocessing"
      ],
      "execution_count": 0,
      "outputs": []
    },
    {
      "cell_type": "code",
      "metadata": {
        "id": "cSj1d3miY_Ya",
        "colab_type": "code",
        "colab": {}
      },
      "source": [
        "finalgram_tr=preprocessing.scale(finalgram_tr)\n",
        "finalgram_cv=preprocessing.scale(finalgram_cv)\n",
        "finalgram_test=preprocessing.scale(finalgram_test)"
      ],
      "execution_count": 0,
      "outputs": []
    },
    {
      "cell_type": "code",
      "metadata": {
        "id": "GaQEdEtoMDP1",
        "colab_type": "code",
        "outputId": "19e8d7ba-3600-4dd3-bb94-73d64a99f6c7",
        "colab": {
          "base_uri": "https://localhost:8080/",
          "height": 54
        }
      },
      "source": [
        "print(finalgram_tr.shape)\n",
        "print(finalgram_cv.shape)"
      ],
      "execution_count": 0,
      "outputs": [
        {
          "output_type": "stream",
          "text": [
            "(6336, 1919)\n",
            "(1584, 1919)\n"
          ],
          "name": "stdout"
        }
      ]
    },
    {
      "cell_type": "code",
      "metadata": {
        "id": "OoUOe8VzHnNQ",
        "colab_type": "code",
        "colab": {}
      },
      "source": [
        "c=[0.001,0.1,1,5]\n",
        "tfgram_trauc=[]\n",
        "tfgram_cvauc=[]\n",
        "for i in c:\n",
        "  logi_gram=LogisticRegression(C=i,solver='lbfgs',max_iter=1000)\n",
        "  logi_gram.fit(finalgram_tr,y_train.values)\n",
        "  predicted_trgr=logi_gram.predict_proba(finalgram_tr)\n",
        "  predicted_cvgr=logi_gram.predict_proba(finalgram_cv)\n",
        "  train_aucgr=roc_auc_score(y_train,predicted_trgr[:,1])\n",
        "  cv_aucgr=roc_auc_score(y_cv,predicted_cvgr[:,1])\n",
        "  tfgram_trauc.append(train_aucgr)\n",
        "  tfgram_cvauc.append(cv_aucgr)"
      ],
      "execution_count": 0,
      "outputs": []
    },
    {
      "cell_type": "code",
      "metadata": {
        "id": "4-3SXOoUIIw5",
        "colab_type": "code",
        "outputId": "b061e919-94f8-4acb-f5aa-ab56b444ad70",
        "colab": {
          "base_uri": "https://localhost:8080/",
          "height": 265
        }
      },
      "source": [
        "plt.plot(c,tfgram_trauc,label='train_auc')\n",
        "plt.plot(c,tfgram_cvauc,label='cv_auc')\n",
        "plt.legend()\n",
        "plt.show()"
      ],
      "execution_count": 0,
      "outputs": [
        {
          "output_type": "display_data",
          "data": {
            "image/png": "[encoded data removed]",
            "text/plain": [
              "<Figure size 432x288 with 1 Axes>"
            ]
          },
          "metadata": {
            "tags": [],
            "needs_background": "light"
          }
        }
      ]
    },
    {
      "cell_type": "code",
      "metadata": {
        "id": "rsODTWNaLGxy",
        "colab_type": "code",
        "colab": {}
      },
      "source": [
        "log2=LogisticRegression(C=1)\n",
        "log2.fit(finalgram_tr,y_train.values)\n",
        "testgram_predict=log2.predict(finalgram_tr)\n",
        "testgram_predictcv=log2.predict(finalgram_cv)"
      ],
      "execution_count": 0,
      "outputs": []
    },
    {
      "cell_type": "code",
      "metadata": {
        "id": "gLD7t4VKuLdG",
        "colab_type": "code",
        "colab": {}
      },
      "source": [
        "testgram_predicttest=log2.predict(finalgram_test)"
      ],
      "execution_count": 0,
      "outputs": []
    },
    {
      "cell_type": "code",
      "metadata": {
        "id": "4ly1eQeCyImI",
        "colab_type": "code",
        "outputId": "75f10b44-0894-427a-b887-3ef30847e05b",
        "colab": {
          "base_uri": "https://localhost:8080/",
          "height": 35
        }
      },
      "source": [
        "testgram_predicttest.shape"
      ],
      "execution_count": 0,
      "outputs": [
        {
          "output_type": "execute_result",
          "data": {
            "text/plain": [
              "(1953,)"
            ]
          },
          "metadata": {
            "tags": []
          },
          "execution_count": 86
        }
      ]
    },
    {
      "cell_type": "code",
      "metadata": {
        "id": "DmZIPGhWxvOj",
        "colab_type": "code",
        "colab": {}
      },
      "source": [
        "a=test_text.loc[:,['id']]\n",
        "a.loc[:,'label']=testgram_predicttest"
      ],
      "execution_count": 0,
      "outputs": []
    },
    {
      "cell_type": "code",
      "metadata": {
        "id": "fhbrrO-cz9s7",
        "colab_type": "code",
        "colab": {}
      },
      "source": [
        "a.to_csv('/content/drive/My Drive/NLP/Project1-Sentiment Analysis/predict.csv')"
      ],
      "execution_count": 0,
      "outputs": []
    },
    {
      "cell_type": "code",
      "metadata": {
        "id": "iwPWv9dRLbZy",
        "colab_type": "code",
        "outputId": "072c3cb1-ce09-44f7-82bc-23e9aa4ffd0d",
        "colab": {
          "base_uri": "https://localhost:8080/",
          "height": 35
        }
      },
      "source": [
        "f1_score(y_train,testgram_predict,average='weighted')"
      ],
      "execution_count": 0,
      "outputs": [
        {
          "output_type": "execute_result",
          "data": {
            "text/plain": [
              "0.9055165914738665"
            ]
          },
          "metadata": {
            "tags": []
          },
          "execution_count": 82
        }
      ]
    },
    {
      "cell_type": "code",
      "metadata": {
        "id": "rd5HAUzBL2vj",
        "colab_type": "code",
        "outputId": "7d50ed19-3c62-40ee-ce41-7365d3252055",
        "colab": {
          "base_uri": "https://localhost:8080/",
          "height": 35
        }
      },
      "source": [
        "f1_score(y_cv,testgram_predictcv,average='weighted')"
      ],
      "execution_count": 0,
      "outputs": [
        {
          "output_type": "execute_result",
          "data": {
            "text/plain": [
              "0.8831444581374511"
            ]
          },
          "metadata": {
            "tags": []
          },
          "execution_count": 83
        }
      ]
    },
    {
      "cell_type": "code",
      "metadata": {
        "id": "2OZosJDF5JAx",
        "colab_type": "code",
        "colab": {}
      },
      "source": [
        "from sklearn.svm import LinearSVC"
      ],
      "execution_count": 0,
      "outputs": []
    },
    {
      "cell_type": "code",
      "metadata": {
        "id": "BIeu5Jca55qn",
        "colab_type": "code",
        "colab": {}
      },
      "source": [
        "c=[0.001,0.1,1,5]\n",
        "tfgramtr_svc=[]\n",
        "tfgramcv_svc=[]\n",
        "for i in c:\n",
        "  svc=LinearSVC(C=i)\n",
        "  svc.fit(finalgram_tr,y_train.values)\n",
        "  predicted_trgr=svc.predict(finalgram_tr)\n",
        "  predicted_cvgr=svc.predict(finalgram_cv)\n",
        "  train_aucgr=roc_auc_score(y_train.values,predicted_trgr)\n",
        "  cv_aucgr=roc_auc_score(y_cv.values,predicted_cvgr)\n",
        "  tfgramtr_svc.append(train_aucgr)\n",
        "  tfgramcv_svc.append(cv_aucgr)"
      ],
      "execution_count": 0,
      "outputs": []
    },
    {
      "cell_type": "code",
      "metadata": {
        "id": "GWKCS1x89Y0K",
        "colab_type": "code",
        "outputId": "f85ea8e4-b1c4-47f9-a5d1-bc4433dc9109",
        "colab": {
          "base_uri": "https://localhost:8080/",
          "height": 265
        }
      },
      "source": [
        "plt.plot(c,tfgramtr_svc,label='train_svc')\n",
        "plt.plot(c,tfgramcv_svc,label='cv_svc')\n",
        "plt.legend()\n",
        "plt.show()"
      ],
      "execution_count": 0,
      "outputs": [
        {
          "output_type": "display_data",
          "data": {
            "image/png": "[encoded data removed]",
            "text/plain": [
              "<Figure size 432x288 with 1 Axes>"
            ]
          },
          "metadata": {
            "tags": [],
            "needs_background": "light"
          }
        }
      ]
    },
    {
      "cell_type": "code",
      "metadata": {
        "id": "jGDKIdnU9-CV",
        "colab_type": "code",
        "colab": {}
      },
      "source": [
        "svc1=LinearSVC(C=0.1)\n",
        "svc1.fit(finalgram_tr,y_train.values)\n",
        "svc_predict=svc1.predict(finalgram_tr)\n",
        "svc_predictcv=svc1.predict(finalgram_cv)"
      ],
      "execution_count": 0,
      "outputs": []
    },
    {
      "cell_type": "code",
      "metadata": {
        "id": "7SBbQo-L-8N1",
        "colab_type": "code",
        "outputId": "bc8aed99-0972-4f4a-a3b6-b22dda2ce377",
        "colab": {
          "base_uri": "https://localhost:8080/",
          "height": 35
        }
      },
      "source": [
        "f1_score(y_train,svc_predict,average='weighted')"
      ],
      "execution_count": 0,
      "outputs": [
        {
          "output_type": "execute_result",
          "data": {
            "text/plain": [
              "0.915700301756314"
            ]
          },
          "metadata": {
            "tags": []
          },
          "execution_count": 94
        }
      ]
    },
    {
      "cell_type": "code",
      "metadata": {
        "id": "er3oiODA_Ge0",
        "colab_type": "code",
        "outputId": "2949bbc3-6b1f-4981-f5f7-8bb91aa866ea",
        "colab": {
          "base_uri": "https://localhost:8080/",
          "height": 35
        }
      },
      "source": [
        "f1_score(y_cv,svc_predictcv,average='weighted')"
      ],
      "execution_count": 0,
      "outputs": [
        {
          "output_type": "execute_result",
          "data": {
            "text/plain": [
              "0.8784959665577453"
            ]
          },
          "metadata": {
            "tags": []
          },
          "execution_count": 95
        }
      ]
    },
    {
      "cell_type": "code",
      "metadata": {
        "id": "XkEPNvownKIu",
        "colab_type": "code",
        "colab": {}
      },
      "source": [
        "#Using topic modeling"
      ],
      "execution_count": 0,
      "outputs": []
    },
    {
      "cell_type": "code",
      "metadata": {
        "id": "M1_nCkBdnOUa",
        "colab_type": "code",
        "colab": {}
      },
      "source": [
        "from sklearn.decomposition import TruncatedSVD\n",
        "svd=TruncatedSVD(n_components=300)\n",
        "svd.fit(tfidftr)\n",
        "X=svd.transform(tfidftr)\n",
        "X_cv1=svd.transform(tfidfcv)"
      ],
      "execution_count": 0,
      "outputs": []
    },
    {
      "cell_type": "code",
      "metadata": {
        "id": "abd7MdRixboM",
        "colab_type": "code",
        "colab": {}
      },
      "source": [
        "X=np.hstack((X,X_train['Propernoun'].values.reshape(-1,1)))\n",
        "X_cv1=np.hstack((X_cv1,X_cv['Propernoun'].values.reshape(-1,1)))"
      ],
      "execution_count": 0,
      "outputs": []
    },
    {
      "cell_type": "code",
      "metadata": {
        "id": "Ju2KvAWFqIfW",
        "colab_type": "code",
        "colab": {
          "base_uri": "https://localhost:8080/",
          "height": 54
        },
        "outputId": "8f00a1c5-4c46-41df-b948-bd2f7a33d5b9"
      },
      "source": [
        "print(X.shape)\n",
        "print(X_cv1.shape)"
      ],
      "execution_count": 49,
      "outputs": [
        {
          "output_type": "stream",
          "text": [
            "(6336, 301)\n",
            "(1584, 301)\n"
          ],
          "name": "stdout"
        }
      ]
    },
    {
      "cell_type": "code",
      "metadata": {
        "id": "MIvxx8FbsVv5",
        "colab_type": "code",
        "colab": {}
      },
      "source": [
        "c=[0.001,0.1,1,5]\n",
        "tfsvd=[]\n",
        "tfsvd_cv=[]\n",
        "for i in c:\n",
        "  logi_svd=LogisticRegression(C=i,solver='lbfgs',max_iter=1000)\n",
        "  logi_svd.fit(X,y_train.values)\n",
        "  predicted_trsvd=logi_svd.predict_proba(X)\n",
        "  predicted_cvsvd=logi_svd.predict_proba(X_cv1)\n",
        "  train_aucsvd=roc_auc_score(y_train,predicted_trsvd[:,1])\n",
        "  cv_aucsvd=roc_auc_score(y_cv,predicted_cvsvd[:,1])\n",
        "  tfsvd.append(train_aucsvd)\n",
        "  tfsvd_cv.append(cv_aucsvd)"
      ],
      "execution_count": 0,
      "outputs": []
    },
    {
      "cell_type": "code",
      "metadata": {
        "id": "X76JnG37tIAT",
        "colab_type": "code",
        "colab": {
          "base_uri": "https://localhost:8080/",
          "height": 266
        },
        "outputId": "bc31d3d9-3659-4aaf-8c58-d2fbb3ab90f4"
      },
      "source": [
        "plt.plot(c,tfsvd,label='train_svd')\n",
        "plt.plot(c,tfsvd_cv,label='cv_svd')\n",
        "plt.legend()\n",
        "plt.show()"
      ],
      "execution_count": 51,
      "outputs": [
        {
          "output_type": "display_data",
          "data": {
            "image/png": "[encoded data removed]",
            "text/plain": [
              "<Figure size 432x288 with 1 Axes>"
            ]
          },
          "metadata": {
            "tags": [],
            "needs_background": "light"
          }
        }
      ]
    },
    {
      "cell_type": "code",
      "metadata": {
        "id": "1dFx76N0qNcE",
        "colab_type": "code",
        "colab": {}
      },
      "source": [
        "logh=LogisticRegression(C=1,max_iter=1000)\n",
        "logh.fit(X,y_train)\n",
        "logtr=logh.predict(X)\n",
        "logcv=logh.predict(X_cv1)"
      ],
      "execution_count": 0,
      "outputs": []
    },
    {
      "cell_type": "code",
      "metadata": {
        "id": "c3S9BNhpqyCj",
        "colab_type": "code",
        "colab": {
          "base_uri": "https://localhost:8080/",
          "height": 35
        },
        "outputId": "99a28b01-cf32-4b56-cdb1-ca674fd66216"
      },
      "source": [
        "f1_score(y_train,logtr,average='weighted')"
      ],
      "execution_count": 60,
      "outputs": [
        {
          "output_type": "execute_result",
          "data": {
            "text/plain": [
              "0.8855010701746723"
            ]
          },
          "metadata": {
            "tags": []
          },
          "execution_count": 60
        }
      ]
    },
    {
      "cell_type": "code",
      "metadata": {
        "id": "pIBb2F8FrFmA",
        "colab_type": "code",
        "colab": {
          "base_uri": "https://localhost:8080/",
          "height": 35
        },
        "outputId": "ddca5a78-fdd8-4dcb-d628-a649ed3ce95d"
      },
      "source": [
        "f1_score(y_cv,logcv,average='weighted')"
      ],
      "execution_count": 61,
      "outputs": [
        {
          "output_type": "execute_result",
          "data": {
            "text/plain": [
              "0.8670789048406004"
            ]
          },
          "metadata": {
            "tags": []
          },
          "execution_count": 61
        }
      ]
    }
  ]
}