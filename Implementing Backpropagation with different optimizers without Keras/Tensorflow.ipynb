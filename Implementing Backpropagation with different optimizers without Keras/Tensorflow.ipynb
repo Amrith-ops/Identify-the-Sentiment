{
  "nbformat": 4,
  "nbformat_minor": 0,
  "metadata": {
    "colab": {
      "name": " Backpropagation_assignment.ipynb",
      "provenance": [],
      "collapsed_sections": [],
      "include_colab_link": true
    },
    "kernelspec": {
      "name": "python3",
      "display_name": "Python 3"
    }
  },
  "cells": [
    {
      "cell_type": "markdown",
      "metadata": {
        "id": "view-in-github",
        "colab_type": "text"
      },
      "source": [
        "<a href=\"https://colab.research.google.com/github/Amrith-ops/Identify-the-Sentiment/blob/master/Implementing%20Backpropagation%20with%20different%20optimizers%20without%20Keras/Tensorflow.ipynb\" target=\"_parent\"><img src=\"https://colab.research.google.com/assets/colab-badge.svg\" alt=\"Open In Colab\"/></a>"
      ]
    },
    {
      "cell_type": "markdown",
      "metadata": {
        "id": "y871RZtRhCEH",
        "colab_type": "text"
      },
      "source": [
        "# <font color='red'>BackPropagation</font>"
      ]
    },
    {
      "cell_type": "markdown",
      "metadata": {
        "id": "LqePYi-4mFvK",
        "colab_type": "text"
      },
      "source": [
        "**There will be some functions that start with the word \"grader\" ex: grader_sigmoid(), grader_forwardprop(), grader_backprop() etc, you should not change those function definition.<br><br>Every Grader function has to return True.**"
      ]
    },
    {
      "cell_type": "markdown",
      "metadata": {
        "id": "0huUQ0byiI0I",
        "colab_type": "text"
      },
      "source": [
        "## <font color='red'>Loading data </font>"
      ]
    },
    {
      "cell_type": "code",
      "metadata": {
        "id": "QyEGGuGYKEMR",
        "colab_type": "code",
        "colab": {
          "base_uri": "https://localhost:8080/",
          "height": 129
        },
        "outputId": "e81b52ec-6389-4de6-a772-ac475e955e54"
      },
      "source": [
        "from google.colab import drive\n",
        "drive.mount('/content/drive')"
      ],
      "execution_count": 6,
      "outputs": [
        {
          "output_type": "stream",
          "text": [
            "Go to this URL in a browser: https://accounts.google.com/o/oauth2/auth?client_id=947318989803-6bn6qk8qdgf4n4g3pfee6491hc0brc4i.apps.googleusercontent.com&redirect_uri=urn%3aietf%3awg%3aoauth%3a2.0%3aoob&response_type=code&scope=email%20https%3a%2f%2fwww.googleapis.com%2fauth%2fdocs.test%20https%3a%2f%2fwww.googleapis.com%2fauth%2fdrive%20https%3a%2f%2fwww.googleapis.com%2fauth%2fdrive.photos.readonly%20https%3a%2f%2fwww.googleapis.com%2fauth%2fpeopleapi.readonly\n",
            "\n",
            "Enter your authorization code:\n",
            "··········\n",
            "Mounted at /content/drive\n"
          ],
          "name": "stdout"
        }
      ]
    },
    {
      "cell_type": "code",
      "metadata": {
        "id": "1hSje5CBgcUb",
        "colab_type": "code",
        "colab": {}
      },
      "source": [
        "import pickle\n",
        "import numpy as np\n",
        "from tqdm import tqdm\n",
        "import matplotlib.pyplot as plt\n",
        "import math\n",
        "with open('/content/drive/My Drive/Copy of data.pkl', 'rb') as f:\n",
        "    data = pickle.load(f)\n",
        "print(data.shape)\n",
        "X = data[:, :5]\n",
        "y = data[:, -1]\n",
        "print(X.shape, y.shape)"
      ],
      "execution_count": null,
      "outputs": []
    },
    {
      "cell_type": "code",
      "metadata": {
        "id": "IEyaVfdqsdlk",
        "colab_type": "code",
        "colab": {
          "base_uri": "https://localhost:8080/",
          "height": 34
        },
        "outputId": "dc31c89e-bf57-4f25-b1c5-d780370caee2"
      },
      "source": [
        "X[0,:]"
      ],
      "execution_count": null,
      "outputs": [
        {
          "output_type": "execute_result",
          "data": {
            "text/plain": [
              "array([-1.2879095 , -0.12001342, -1.45900038, -0.66660821, -0.14421743])"
            ]
          },
          "metadata": {
            "tags": []
          },
          "execution_count": 31
        }
      ]
    },
    {
      "cell_type": "markdown",
      "metadata": {
        "id": "5JL-0soQistC",
        "colab_type": "text"
      },
      "source": [
        "# <font color='red'>Computational graph</font>"
      ]
    },
    {
      "cell_type": "markdown",
      "metadata": {
        "id": "nREnTTJ3i0Vd",
        "colab_type": "text"
      },
      "source": [
        "<img src='https://i.imgur.com/seSGbNS.png'>"
      ]
    },
    {
      "cell_type": "markdown",
      "metadata": {
        "id": "DSPX_H_4i_HT",
        "colab_type": "text"
      },
      "source": [
        "\n",
        "*  **If you observe the graph, we are having input features [f1, f2, f3, f4, f5] and 9 weights [w1, w2, w3, w4, w5, w6,    w7, w8, w9]**.<br><br>\n",
        "*  **The final output of this graph is a value L which is computed as (Y-Y')^2** "
      ]
    },
    {
      "cell_type": "markdown",
      "metadata": {
        "id": "D54eDEv6jkO4",
        "colab_type": "text"
      },
      "source": [
        "# <font color='red'>Task 1: Implementing backpropagation and Gradient checking </font>"
      ]
    },
    {
      "cell_type": "markdown",
      "metadata": {
        "id": "qocI1Vzqkod9",
        "colab_type": "text"
      },
      "source": [
        "<font color='blue'><b>Check this video for better understanding of the computational graphs and back propagation</font>"
      ]
    },
    {
      "cell_type": "code",
      "metadata": {
        "id": "Wb5WMdwJinlX",
        "colab_type": "code",
        "colab": {
          "base_uri": "https://localhost:8080/",
          "height": 521
        },
        "outputId": "b10489ec-890a-445a-c6a4-a3e0ea2a66be"
      },
      "source": [
        "from IPython.display import YouTubeVideo\n",
        "YouTubeVideo('i94OvYb6noo',width=\"1000\",height=\"500\")"
      ],
      "execution_count": null,
      "outputs": [
        {
          "output_type": "execute_result",
          "data": {
            "text/html": [
              "\n",
              "        <iframe\n",
              "            width=\"1000\"\n",
              "            height=\"500\"\n",
              "            src=\"https://www.youtube.com/embed/i94OvYb6noo\"\n",
              "            frameborder=\"0\"\n",
              "            allowfullscreen\n",
              "        ></iframe>\n",
              "        "
            ],
            "text/plain": [
              "<IPython.lib.display.YouTubeVideo at 0x7f676b82acf8>"
            ],
            "image/jpeg": "[encoded data removed]"
          },
          "metadata": {
            "tags": []
          },
          "execution_count": 11
        }
      ]
    },
    {
      "cell_type": "markdown",
      "metadata": {
        "id": "2jecTyVRlh-6",
        "colab_type": "text"
      },
      "source": [
        "\n",
        "*  <b>Write two functions<br>\n",
        "    *  Forward propagation</b>(Write your code in<font color='blue'> def forward_propagation()</b></font>)<br><br>\n",
        "    For easy debugging, we will break the computational graph into 3 parts.\n",
        "\n",
        "    <font color='green'><b>Part 1</b></font></b>\n",
        "    <img src='https://i.imgur.com/0xUaxy6.png'><br><br>\n",
        "    <font color='green'><b>Part 2</b></font></b><br>\n",
        "    <img src='https://i.imgur.com/J29pAJL.png'><br><br>\n",
        "    <font color='green'><b>Part 3</b></font></b>\n",
        "    <img src='https://i.imgur.com/vMyCsd9.png'>\n",
        "\n",
        "    <pre>\n",
        "    <font color='green'>\n",
        "def forward_propagation(X, y, W):\n",
        "        <font color='grey'>\n",
        "        # X: input data point, note that in this assignment you are having 5-d data points\n",
        "        # y: output varible\n",
        "        # W: weight array, its of length 9, W[0] corresponds to w1 in graph, W[1] corresponds to w2 in graph, <br>         ..., W[8] corresponds to w9 in graph.  \n",
        "        # you have to return the following variables\n",
        "        # exp= part1 (compute the forward propagation until exp and then store the values in exp)\n",
        "        # tanh =part2(compute the forward propagation until tanh and then store the values in tanh)\n",
        "        # sig = part3(compute the forward propagation until sigmoid and then store the values in sig)\n",
        "        # now compute remaining values from computional graph and get y'\n",
        "        # write code to compute the value of L=(y-y')^2\n",
        "        # compute derivative of L  w.r.to Y' and store it in dl\n",
        "        # Create a dictionary to store all the intermediate values\n",
        "        # store L, exp,tanh,sig,dl variables\n",
        "        </font>\n",
        "        return (dictionary, which you might need to use for back propagation)\n",
        "        <font color='grey'>\n",
        "        </font>\n",
        "</font>\n",
        "</pre>\n",
        "    *  <b>Backward propagation</b>(Write your code in<font color='blue'> def backward_propagation()</b></font>)\n",
        "    </b>\n",
        "    <pre>\n",
        "    <font color='green'>\n",
        "    def backward_propagation(L, W,dictionary):\n",
        "        <font color='grey'>\n",
        "        # L: the loss we calculated for the current point\n",
        "        # dictionary: the outputs of the forward_propagation() function\n",
        "        # write code to compute the gradients of each weight [w1,w2,w3,...,w9]\n",
        "        # Hint: you can use dict type to store the required variables \n",
        "        # return dW, dW is a dictionary with gradients of all the weights\n",
        "        </font>\n",
        "        return dW\n",
        "        </font>\n",
        "</font>\n",
        "</pre>"
      ]
    },
    {
      "cell_type": "markdown",
      "metadata": {
        "id": "STS4NrQQc6OH",
        "colab_type": "text"
      },
      "source": [
        " ## <font color='red'>Gradient clipping</font>"
      ]
    },
    {
      "cell_type": "markdown",
      "metadata": {
        "id": "XY7ivRNzdPok",
        "colab_type": "text"
      },
      "source": [
        "<b> Check this  <a href='https://towardsdatascience.com/how-to-debug-a-neural-network-with-gradient-checking-41deec0357a9'>blog link</a> for more details on Gradient clipping"
      ]
    },
    {
      "cell_type": "markdown",
      "metadata": {
        "id": "BrsfpDoidtZ5",
        "colab_type": "text"
      },
      "source": [
        " we know that the derivative of any function is\n",
        " \n",
        " $$\\lim_{\\epsilon\\to0}\\frac{f(x+\\epsilon)-f(x-\\epsilon)}{2\\epsilon}$$\n"
      ]
    },
    {
      "cell_type": "markdown",
      "metadata": {
        "id": "vUcmt0kPd02f",
        "colab_type": "text"
      },
      "source": [
        "*  The definition above can be used as a numerical approximation of the derivative. Taking an epsilon small enough, the calculated approximation will have an error in the range of epsilon squared. \n",
        "\n",
        "*  In other words, if epsilon is 0.001, the approximation will be off by 0.00001.\n",
        "\n",
        "Therefore, we can use this to approximate the gradient, and in turn make sure that backpropagation is implemented properly. This forms the basis of <b>gradient checking!</b>"
      ]
    },
    {
      "cell_type": "markdown",
      "metadata": {
        "id": "pFSu16KCeU0x",
        "colab_type": "text"
      },
      "source": [
        "## <Font color='blue'>Gradient checking example</font>"
      ]
    },
    {
      "cell_type": "markdown",
      "metadata": {
        "id": "Gz0mmT_xecfC",
        "colab_type": "text"
      },
      "source": [
        "<font >\n",
        "lets understand the concept with a simple example:\n",
        "$f(w1,w2,x1,x2)=w_{1}^{2} . x_{1} + w_{2} . x_{2}$ \n",
        "\n",
        "from the above function , lets assume $w_{1}=1$, $w_{2}=2$, $x_{1}=3$, $x_{2}=4$ the gradient of $f$ w.r.t $w_{1}$ is\n",
        "\n",
        "\\begin{array} {lcl}\n",
        "\\frac{df}{dw_{1}} = dw_{1} &=&2.w_{1}.x_{1} \\\\& = &2.1.3\\\\& = &6\n",
        "\\end{array}\n",
        "\n",
        "\n",
        "let calculate the aproximate gradient of $w_{1}$ as mentinoned in the above formula and considering $\\epsilon=0.0001$\n",
        "\n",
        "\\begin{array} {lcl}\n",
        "dw_1^{approx} & = & \\frac{f(w1+\\epsilon,w2,x1,x2)-f(w1-\\epsilon,w2,x1,x2)}{2\\epsilon} \\\\ & = & \\frac{((1+0.0001)^{2} . 3 + 2 . 4) - ((1-0.0001)^{2} . 3 + 2 . 4)}{2\\epsilon} \\\\ & = & \\frac{(1.00020001 . 3 + 2 . 4) - (0.99980001. 3 + 2 . 4)}{2*0.0001} \\\\ & = & \\frac{(11.00060003) - (10.99940003)}{0.0002}\\\\ & = & 5.99999999999\n",
        "\\end{array}\n",
        "\n",
        "Then, we apply the following formula for gradient check: <i>gradient_check</i> = \n",
        "$\\frac{\\left\\Vert\\left (dW-dW^{approx}\\rm\\right) \\right\\Vert_2}{\\left\\Vert\\left (dW\\rm\\right) \\right\\Vert_2+\\left\\Vert\\left (dW^{approx}\\rm\\right) \\right\\Vert_2}$\n",
        "\n",
        "The equation above is basically the Euclidean distance normalized by the sum of the norm of the vectors. We use normalization in case that one of the vectors is very small.\n",
        "As a value for epsilon, we usually opt for 1e-7. Therefore, if gradient check return a value less than 1e-7, then it means that backpropagation was implemented correctly. Otherwise, there is potentially a mistake in your implementation. If the value exceeds 1e-3, then you are sure that the code is not correct.\n",
        "\n",
        "in our example: <i>gradient_check</i> $ = \\frac{(6 - 5.999999999994898)}{(6 + 5.999999999994898)} = 4.2514140356330737e^{-13}$\n",
        "\n",
        "you can mathamatically derive the same thing like this\n",
        "\n",
        "\\begin{array} {lcl}\n",
        "dw_1^{approx} & = & \\frac{f(w1+\\epsilon,w2,x1,x2)-f(w1-\\epsilon,w2,x1,x2)}{2\\epsilon} \\\\ & = & \\frac{((w_{1}+\\epsilon)^{2} . x_{1} + w_{2} . x_{2}) - ((w_{1}-\\epsilon)^{2} . x_{1} + w_{2} . x_{2})}{2\\epsilon} \\\\ & = & \\frac{4. \\epsilon.w_{1}. x_{1}}{2\\epsilon} \\\\ & = &  2.w_{1}.x_{1}\n",
        "\\end{array}\n"
      ]
    },
    {
      "cell_type": "markdown",
      "metadata": {
        "id": "f1BFQQaCermK",
        "colab_type": "text"
      },
      "source": [
        "## <font color='red'> Implement Gradient checking </font> <br>\n",
        " (Write your code in <font color='blue'> def gradient_checking()</font>)"
      ]
    },
    {
      "cell_type": "markdown",
      "metadata": {
        "id": "GqpfA3AqfJba",
        "colab_type": "text"
      },
      "source": [
        "**Algorithm** \n",
        "\n"
      ]
    },
    {
      "cell_type": "markdown",
      "metadata": {
        "id": "FL39KeRFfNoD",
        "colab_type": "text"
      },
      "source": [
        "<pre>\n",
        "<font color='darkblue'>\n",
        "W = initilize_randomly\n",
        "def gradient_checking(data_point, W):<font color='grey'>\n",
        "    # compute the L value using forward_propagation()\n",
        "    # compute the gradients of W using backword_propagation()</font>\n",
        "    approx_gradients = []\n",
        "    for each wi weight value in W:<font color='grey'>\n",
        "        # add a small value to weight wi, and then find the values of L with the updated weights\n",
        "        # subtract a small value to weight wi, and then find the values of L with the updated weights\n",
        "        # compute the approximation gradients of weight wi</font>\n",
        "        approx_gradients.append(approximation gradients of weight wi)<font color='grey'>\n",
        "    # compare the gradient of weights W from backword_propagation() with the aproximation gradients of weights with <br>  gradient_check formula</font>\n",
        "    return gradient_check</font>\n",
        "<b>NOTE: you can do sanity check by checking all the return values of gradient_checking(),<br> they have to be zero. if not you have bug in your code\n",
        "</pre></b>"
      ]
    },
    {
      "cell_type": "markdown",
      "metadata": {
        "id": "0ufbFBFfhgL0",
        "colab_type": "text"
      },
      "source": [
        "# <font color='red'> Task 2 : Optimizers </font>"
      ]
    },
    {
      "cell_type": "markdown",
      "metadata": {
        "id": "7zt05soYh1RM",
        "colab_type": "text"
      },
      "source": [
        "* As a part of this task, you will be implementing 3 type of optimizers(methods to update weight)\n",
        "* Use the same computational graph that was mentioned above to do this task\n",
        "* Initilze the 9 weights from normal distribution with mean=0 and std=0.01"
      ]
    },
    {
      "cell_type": "markdown",
      "metadata": {
        "id": "CAyi7aSAicbr",
        "colab_type": "text"
      },
      "source": [
        "**Check below video and <a href='https://cs231n.github.io/neural-networks-3/'>this</a> blog**"
      ]
    },
    {
      "cell_type": "code",
      "metadata": {
        "id": "ZogcxiegkQpz",
        "colab_type": "code",
        "colab": {
          "base_uri": "https://localhost:8080/",
          "height": 521
        },
        "outputId": "9b4e0235-e638-4f20-d9c1-ac3ca4fb3ce8"
      },
      "source": [
        "from IPython.display import YouTubeVideo\n",
        "YouTubeVideo('gYpoJMlgyXA',width=\"1000\",height=\"500\")"
      ],
      "execution_count": null,
      "outputs": [
        {
          "output_type": "execute_result",
          "data": {
            "text/html": [
              "\n",
              "        <iframe\n",
              "            width=\"1000\"\n",
              "            height=\"500\"\n",
              "            src=\"https://www.youtube.com/embed/gYpoJMlgyXA\"\n",
              "            frameborder=\"0\"\n",
              "            allowfullscreen\n",
              "        ></iframe>\n",
              "        "
            ],
            "text/plain": [
              "<IPython.lib.display.YouTubeVideo at 0x7f676043e208>"
            ],
            "image/jpeg": "[encoded data removed]"
          },
          "metadata": {
            "tags": []
          },
          "execution_count": 56
        }
      ]
    },
    {
      "cell_type": "markdown",
      "metadata": {
        "id": "jmefh7ktjbaR",
        "colab_type": "text"
      },
      "source": [
        "<font color='blue'><b>Algorithm</b>"
      ]
    },
    {
      "cell_type": "markdown",
      "metadata": {
        "id": "nAc4NudkjdNa",
        "colab_type": "text"
      },
      "source": [
        "<pre>\n",
        "    for each epoch(1-100):\n",
        "        for each data point in your data:\n",
        "            using the functions forward_propagation() and backword_propagation() compute the gradients of weights\n",
        "            update the weigts with help of gradients  ex: w1 = w1-learning_rate*dw1\n",
        "</pre>"
      ]
    },
    {
      "cell_type": "markdown",
      "metadata": {
        "id": "_fdmPNqtjm3X",
        "colab_type": "text"
      },
      "source": [
        "## <font color='red'> Implement below tasks</b>"
      ]
    },
    {
      "cell_type": "markdown",
      "metadata": {
        "id": "Ll9-CRsLjx_D",
        "colab_type": "text"
      },
      "source": [
        "\n",
        "*  <b>Task 2.1</b>: you will be implementing the above algorithm with <b>Vanilla update</b> of weights<br><br>\n",
        "*  <b>Task 2.2</b>: you will be implementing the above algorithm with <b>Momentum update</b> of weights<br><br>\n",
        "*  <b>Task 2.3</b>: you will be implementing the above algorithm with <b>Adam update</b> of weights\n"
      ]
    },
    {
      "cell_type": "markdown",
      "metadata": {
        "id": "atp082demrUR",
        "colab_type": "text"
      },
      "source": [
        "\n",
        "**Note : If you get any assertion error while running grader functions, please print the variables in grader functions and check which variable is returning False .Recheck your logic for that variable .**"
      ]
    },
    {
      "cell_type": "markdown",
      "metadata": {
        "id": "phG2WDkjkuIL",
        "colab_type": "text"
      },
      "source": [
        "<br>\n",
        "<br>\n",
        "<br>"
      ]
    },
    {
      "cell_type": "markdown",
      "metadata": {
        "id": "CBaPzHP63grG",
        "colab_type": "text"
      },
      "source": [
        "# <font color='red'>Task 1 </font>"
      ]
    },
    {
      "cell_type": "markdown",
      "metadata": {
        "id": "QfmV3FUgSrBo",
        "colab_type": "text"
      },
      "source": [
        "## <font color='blue'>Forward propagation </font>"
      ]
    },
    {
      "cell_type": "code",
      "metadata": {
        "id": "mxvmPsllZlCJ",
        "colab_type": "code",
        "colab": {}
      },
      "source": [
        "def sigmoid(a):\n",
        "  return(1/(1+np.exp(-a)))"
      ],
      "execution_count": 1,
      "outputs": []
    },
    {
      "cell_type": "code",
      "metadata": {
        "id": "WwoepemhYCvb",
        "colab_type": "code",
        "colab": {}
      },
      "source": [
        "def forward_propogation(X,y,w,One):\n",
        "  param={}\n",
        "  norm=((w[0]*X[0]+w[1]*X[1])*(w[0]*X[0]+w[1]*X[1])+w[5])\n",
        "  exp=math.exp(norm)\n",
        "  param['exp']=exp\n",
        "  tan=math.tanh(exp+w[6])\n",
        "  param['tanh']=tan\n",
        "  sigma=sigmoid((math.sin(w[2]*X[2])*(w[3]*X[3]+w[4]*X[4]))+w[7])\n",
        "  param['sigmoid']=sigma\n",
        "  norm1=sigma*w[8]\n",
        "  y_pred=tan+norm1\n",
        "  loss=(y-y_pred)**2\n",
        "  param['loss']=loss\n",
        "  dL=-2*(y-y_pred)\n",
        "  param['dl']=dL\n",
        "  if One:\n",
        "    return(param,y_pred,loss)\n",
        "  else:\n",
        "    return(loss,y_pred)"
      ],
      "execution_count": 2,
      "outputs": []
    },
    {
      "cell_type": "code",
      "metadata": {
        "id": "ojFpnobubWnd",
        "colab_type": "code",
        "colab": {}
      },
      "source": [
        "def backward_propogation(y_pred,X,y,w,eta):\n",
        "  W=np.zeros(9)\n",
        "  dw={}\n",
        "  O_1=w[0]*X[0]\n",
        "  O_3=w[1]*X[1]\n",
        "  O_0=O_1+O_3\n",
        "  O_2=O_1+O_3\n",
        "  O1=w[0]**2*X[0]**2+w[1]**2*X[1]**2+2*w[0]*w[1]*X[0]*X[1]\n",
        "  O2=O1+w[5]\n",
        "  O3=math.exp(O2)\n",
        "  O4=O3+w[6]\n",
        "  O5=math.tanh(O4)\n",
        "  L1=w[2]*X[2]\n",
        "  L2=math.sin(L1)\n",
        "  L3=w[3]*X[3]+w[4]*X[4]\n",
        "  L4=L3*L2\n",
        "  L5=L4+w[7]\n",
        "  L6=sigmoid(L5)\n",
        "  L7=L6*w[8]\n",
        "  L8=w[3]*X[3]\n",
        "  L9=w[4]*X[4]\n",
        "  gradient_w7=-2*(y-y_pred)*(1-(math.tanh(O4))**2)\n",
        "  dw['dw7']=gradient_w7\n",
        "  w7=w[6]-eta*gradient_w7\n",
        "  W[6]=w7\n",
        "  gradient_w6=gradient_w7*math.exp(O2)\n",
        "  dw['dw6']=gradient_w6\n",
        "  w6=w[5]-eta*gradient_w6\n",
        "  W[5]=w6\n",
        "  gradient_w9=-2*(y-y_pred)*sigmoid(L5)\n",
        "  dw['dw9']=gradient_w9\n",
        "  w9=w[8]-eta*gradient_w9\n",
        "  W[8]=w9\n",
        "  gradient_w8=gradient_w9*(1-sigmoid(L5))*w9\n",
        "  dw['dw8']=gradient_w8\n",
        "  w8=w[7]-eta*gradient_w8\n",
        "  W[7]=w8\n",
        "  gradient_w3=gradient_w8*L3*math.cos(L1)*X[2]\n",
        "  dw['dw3']=gradient_w3\n",
        "  w3=w[2]-eta*gradient_w3\n",
        "  W[2]=w3\n",
        "  gradient_w4=gradient_w8*L2*X[3]\n",
        "  dw['dw4']=gradient_w4\n",
        "  w4=w[3]-eta*gradient_w4\n",
        "  W[3]=w4\n",
        "  gradient_w5=gradient_w8*L2*X[4]\n",
        "  dw['dw5']=gradient_w5\n",
        "  w5=w[4]-eta*gradient_w5\n",
        "  W[4]=w3\n",
        "  gradient_w1=gradient_w6*O_0*2*X[0]\n",
        "  dw['dw1']=gradient_w1\n",
        "  w1=w[0]-eta*gradient_w1\n",
        "  W[0]=w1\n",
        "  gradient_w2=gradient_w6*O_0*2*X[1]\n",
        "  dw['dw2']=gradient_w2\n",
        "  w2=w[1]-eta*gradient_w2\n",
        "  W[1]=w2\n",
        "  return(W,dw)"
      ],
      "execution_count": 3,
      "outputs": []
    },
    {
      "cell_type": "code",
      "metadata": {
        "id": "Gekm7WIZhf0E",
        "colab_type": "code",
        "colab": {}
      },
      "source": [
        "w=np.ones(9)*0.1\n",
        "eta=0.001\n",
        "param,y_pred=forward_propogation(X[0,:],data[0,-1],w,True)\n",
        "W,dw=backward_propogation(y_pred,X[0,:],data[0,-1],w,eta)"
      ],
      "execution_count": null,
      "outputs": []
    },
    {
      "cell_type": "code",
      "metadata": {
        "id": "1kvmpK_106qM",
        "colab_type": "code",
        "colab": {
          "base_uri": "https://localhost:8080/",
          "height": 34
        },
        "outputId": "b457d9b7-83e6-4321-f382-f2c70778760c"
      },
      "source": [
        "print(param)"
      ],
      "execution_count": null,
      "outputs": [
        {
          "output_type": "stream",
          "text": [
            "{'exp': 1.1272967040973583, 'tanh': 0.8417934192562146, 'sigmoid': 0.5279179387419721, 'loss': 0.9298048963072919, 'dl': -1.9285278284819143}\n"
          ],
          "name": "stdout"
        }
      ]
    },
    {
      "cell_type": "markdown",
      "metadata": {
        "id": "z-z1rGKqCHNN",
        "colab_type": "text"
      },
      "source": [
        "<font color='cyan'>Grader function - 1</font>"
      ]
    },
    {
      "cell_type": "code",
      "metadata": {
        "id": "6ZxFF00zBmx1",
        "colab_type": "code",
        "colab": {}
      },
      "source": [
        "def grader_sigmoid(z):\n",
        "  val=sigmoid(z)\n",
        "  assert(val==0.8807970779778823)\n",
        "  return True\n",
        "grader_sigmoid(2)"
      ],
      "execution_count": null,
      "outputs": []
    },
    {
      "cell_type": "markdown",
      "metadata": {
        "id": "KgAUXq_aChey",
        "colab_type": "text"
      },
      "source": [
        "<font color='cyan'>Grader function - 2 </font>"
      ]
    },
    {
      "cell_type": "code",
      "metadata": {
        "id": "3uzsUqcjCorN",
        "colab_type": "code",
        "colab": {
          "base_uri": "https://localhost:8080/",
          "height": 34
        },
        "outputId": "557aefcc-cdaf-4f46-9760-03448f82facc"
      },
      "source": [
        "def grader_forwardprop(data):\n",
        "    dl = (np.round(data['dl'],4)==-1.9285)\n",
        "    loss=(np.round(data['loss'],4)==0.9298)\n",
        "    part1=(np.round(data['exp'],4)==1.1273)\n",
        "    part2=(np.round(data['tanh'],4)==0.8418)\n",
        "    part3=(np.round(data['sigmoid'],4)==0.5279)\n",
        "    assert(dl and loss and part1 and part2 and part3)\n",
        "    return True\n",
        "w=np.ones(9)*0.1\n",
        "d1,y_pred=forward_propogation(X[0],y[0],w,True)\n",
        "grader_forwardprop(d1)"
      ],
      "execution_count": null,
      "outputs": [
        {
          "output_type": "execute_result",
          "data": {
            "text/plain": [
              "True"
            ]
          },
          "metadata": {
            "tags": []
          },
          "execution_count": 39
        }
      ]
    },
    {
      "cell_type": "markdown",
      "metadata": {
        "id": "obOaAqj3Sxvb",
        "colab_type": "text"
      },
      "source": [
        "## <font color='blue'>Backward propagation</font>"
      ]
    },
    {
      "cell_type": "code",
      "metadata": {
        "id": "dS49ykcOGhIv",
        "colab_type": "code",
        "colab": {}
      },
      "source": [
        "def backward_propagation(L,W,dict):\n",
        "    '''In this function, we will compute the backward propagation '''\n",
        "    # L: the loss we calculated for the current point\n",
        "    # dictionary: the outputs of the forward_propagation() function\n",
        "    # write code to compute the gradients of each weight [w1,w2,w3,...,w9]\n",
        "    # Hint: you can use dict type to store the required variables \n",
        "    # dw1 = # in dw1 compute derivative of L w.r.to w1\n",
        "    # dw2 = # in dw2 compute derivative of L w.r.to w2\n",
        "    # dw3 = # in dw3 compute derivative of L w.r.to w3\n",
        "    # dw4 = # in dw4 compute derivative of L w.r.to w4\n",
        "    # dw5 = # in dw5 compute derivative of L w.r.to w5\n",
        "    # dw6 = # in dw6 compute derivative of L w.r.to w6\n",
        "    # dw7 = # in dw7 compute derivative of L w.r.to w7\n",
        "    # dw8 = # in dw8 compute derivative of L w.r.to w8\n",
        "    # dw9 = # in dw9 compute derivative of L w.r.to w9\n",
        "\n",
        "    # return dW, dW is a dictionary with gradients of all the weights"
      ],
      "execution_count": null,
      "outputs": []
    },
    {
      "cell_type": "markdown",
      "metadata": {
        "id": "2NpZWAVlS4jb",
        "colab_type": "text"
      },
      "source": [
        "<font color='cyan'>Grader function - 3 </font>"
      ]
    },
    {
      "cell_type": "code",
      "metadata": {
        "id": "1a8Kll2xGhMJ",
        "colab_type": "code",
        "colab": {}
      },
      "source": [
        "def grader_backprop(data):\n",
        "    dw1=(np.round(data['dw1'],4)==-0.2297)\n",
        "    dw2=(np.round(data['dw2'],4)==-0.0214)\n",
        "    dw3=(np.round(data['dw3'],4)==-0.0056)\n",
        "    dw4=(np.round(data['dw4'],4)==-0.0047)\n",
        "    dw5=(np.round(data['dw5'],4)==-0.001)\n",
        "    dw6=(np.round(data['dw6'],4)==-0.6335)\n",
        "    dw7=(np.round(data['dw7'],4)==-0.5619)\n",
        "    dw8=(np.round(data['dw8'],4)==-0.0481)\n",
        "    dw9=(np.round(data['dw9'],4)==-1.0181)\n",
        "    assert(dw1 and dw2 and dw3 and dw4 and dw5 and dw6 and dw7 and dw8 and dw9)\n",
        "    return True \n",
        "\n",
        "grader_backprop(dw)"
      ],
      "execution_count": null,
      "outputs": []
    },
    {
      "cell_type": "code",
      "metadata": {
        "id": "Lw-YSHPb1lbL",
        "colab_type": "code",
        "colab": {
          "base_uri": "https://localhost:8080/",
          "height": 170
        },
        "outputId": "171cdd37-3265-4931-bdb4-819e0731b287"
      },
      "source": [
        "dw"
      ],
      "execution_count": null,
      "outputs": [
        {
          "output_type": "execute_result",
          "data": {
            "text/plain": [
              "{'dw1': -0.22973323498702,\n",
              " 'dw2': -0.02140761471775293,\n",
              " 'dw3': -0.005682678084023055,\n",
              " 'dw4': -0.004705363928928002,\n",
              " 'dw5': -0.0010179825208945972,\n",
              " 'dw6': -0.6334751873437471,\n",
              " 'dw7': -0.561941842854033,\n",
              " 'dw8': -0.04855221442799258,\n",
              " 'dw9': -1.0181044360187037}"
            ]
          },
          "metadata": {
            "tags": []
          },
          "execution_count": 58
        }
      ]
    },
    {
      "cell_type": "markdown",
      "metadata": {
        "id": "1rfHHXZwgwo6",
        "colab_type": "text"
      },
      "source": [
        "## <font color='blue'> Implement gradient checking</font>"
      ]
    },
    {
      "cell_type": "code",
      "metadata": {
        "id": "oh8wj1yjGhOi",
        "colab_type": "code",
        "colab": {}
      },
      "source": [
        "W = initilize_randomly\n",
        "def gradient_checking(data_point, W):\n",
        "    # compute the L value using forward_propagation()\n",
        "    # compute the gradients of W using backword_propagation()\n",
        "    approx_gradients = []\n",
        "    for each wi weight value in W:\n",
        "        # add a small value to weight wi, and then find the values of L with the updated weights\n",
        "        # subtract a small value to weight wi, and then find the values of L with the updated weights\n",
        "        # compute the approximation gradients of weight wi\n",
        "        approx_gradients.append(approximation gradients of weight wi)\n",
        "    # compare the gradient of weights W from backword_propagation() with the aproximation gradients of weights with gradient_check formula\n",
        "    return gradient_check"
      ],
      "execution_count": null,
      "outputs": []
    },
    {
      "cell_type": "code",
      "metadata": {
        "id": "ltRFV9GtkQKk",
        "colab_type": "code",
        "colab": {}
      },
      "source": [
        "W=np.ones(9)*0.1\n",
        "def gradient_checking(X,y,W,dw):\n",
        "  approx=[]\n",
        "  for i,weight in enumerate(W):\n",
        "    W=np.ones(9)*0.1\n",
        "    np.put(W,i,W[i]+0.001)\n",
        "    add_loss=forward_propogation(X,y,W,False)\n",
        "    W=np.ones(9)*0.1\n",
        "    W[i]=W[i]-0.002\n",
        "    subtract_loss=forward_propogation(X,y,W,False)\n",
        "    a=(add_loss[0]-subtract_loss[0])/(0.002)\n",
        "    b=dw['dw{}'.format(i+1)]\n",
        "    check=(b-a)/(b+a)\n",
        "    approx.append(check)\n",
        "  return(approx)\n",
        "\n",
        "approx=gradient_checking(X[0,:],data[0,-1],W,dw)"
      ],
      "execution_count": null,
      "outputs": []
    },
    {
      "cell_type": "code",
      "metadata": {
        "id": "TWBqQIlHDvaI",
        "colab_type": "code",
        "colab": {
          "base_uri": "https://localhost:8080/",
          "height": 54
        },
        "outputId": "0a0b9161-fe98-4860-b868-fa0c8c978b17"
      },
      "source": [
        "print(approx)"
      ],
      "execution_count": null,
      "outputs": [
        {
          "output_type": "stream",
          "text": [
            "[-0.1979039268557396, -0.19980539254318458, -0.19518625996961111, -0.19513482203204632, -0.19513333128714258, -0.2002969220469977, -0.2004772071744033, -0.19515244377303814, -0.2001313743021651]\n"
          ],
          "name": "stdout"
        }
      ]
    },
    {
      "cell_type": "markdown",
      "metadata": {
        "id": "MhwDSe99kJ32",
        "colab_type": "text"
      },
      "source": [
        "# <font color='red'>Task 2: Optimizers"
      ]
    },
    {
      "cell_type": "markdown",
      "metadata": {
        "id": "jJzI-vnPk1dB",
        "colab_type": "text"
      },
      "source": [
        "###<font color='blue'>Algorithm with Vanilla update of weights</font>"
      ]
    },
    {
      "cell_type": "code",
      "metadata": {
        "id": "56uEjBMZG6MX",
        "colab_type": "code",
        "colab": {
          "base_uri": "https://localhost:8080/",
          "height": 34
        },
        "outputId": "0ce3bc3b-b712-4f80-d088-1faea12def1d"
      },
      "source": [
        "from tqdm import tqdm\n",
        "W=np.ones(9)*0.1\n",
        "loss_list=[]\n",
        "for i in tqdm(range(15)):\n",
        "  loss=0\n",
        "  for j in data:\n",
        "    X=j[:5]\n",
        "    y=j[-1]\n",
        "    eta=0.001\n",
        "    Loss,y_pred=forward_propogation(X,y,W,One=False)\n",
        "    loss=loss+Loss\n",
        "    W,dw=backward_propogation(y_pred,X,y,W,eta)\n",
        "  loss_list.append(loss/data.shape[0])"
      ],
      "execution_count": null,
      "outputs": [
        {
          "output_type": "stream",
          "text": [
            "100%|██████████| 15/15 [00:00<00:00, 53.03it/s]\n"
          ],
          "name": "stderr"
        }
      ]
    },
    {
      "cell_type": "code",
      "metadata": {
        "id": "H-Iy7tRqP4ZI",
        "colab_type": "code",
        "colab": {
          "base_uri": "https://localhost:8080/",
          "height": 54
        },
        "outputId": "54153b0a-8db8-43bb-d8e8-53780b0f30c9"
      },
      "source": [
        "print(loss_list)"
      ],
      "execution_count": null,
      "outputs": [
        {
          "output_type": "stream",
          "text": [
            "[0.5485998620078091, 0.2653769098177815, 0.13566897873460246, 0.07358508573453544, 0.04553772688924872, 0.033617350290884154, 0.028699762737262893, 0.026584510610626375, 0.025498570712961657, 0.024742858504956815, 0.024058111862744043, 0.02335538186670113, 0.022608800333377806, 0.02181499518314853, 0.020978419903962507]\n"
          ],
          "name": "stdout"
        }
      ]
    },
    {
      "cell_type": "markdown",
      "metadata": {
        "id": "UlTLXrvmlR26",
        "colab_type": "text"
      },
      "source": [
        "<font color='blue'>Plot between epochs and loss</font>"
      ]
    },
    {
      "cell_type": "code",
      "metadata": {
        "id": "cloNxlmnP_Lm",
        "colab_type": "code",
        "colab": {
          "base_uri": "https://localhost:8080/",
          "height": 282
        },
        "outputId": "14d1dcd8-1a87-40cc-d099-ba19962ce8a1"
      },
      "source": [
        "plt.plot(np.arange(15),loss_list)"
      ],
      "execution_count": null,
      "outputs": [
        {
          "output_type": "execute_result",
          "data": {
            "text/plain": [
              "[<matplotlib.lines.Line2D at 0x7f03c0d3da20>]"
            ]
          },
          "metadata": {
            "tags": []
          },
          "execution_count": 21
        },
        {
          "output_type": "display_data",
          "data": {
            "image/png": "[encoded data removed]",
            "text/plain": [
              "<Figure size 432x288 with 1 Axes>"
            ]
          },
          "metadata": {
            "tags": [],
            "needs_background": "light"
          }
        }
      ]
    },
    {
      "cell_type": "markdown",
      "metadata": {
        "id": "cv_hZFWalS2z",
        "colab_type": "text"
      },
      "source": [
        "###<font color='blue'>Algorithm with Vanilla update of weights</font>"
      ]
    },
    {
      "cell_type": "code",
      "metadata": {
        "id": "uucCdyQrGhZt",
        "colab_type": "code",
        "colab": {}
      },
      "source": [
        "def backward_propogation_moment(y_pred,X,y,w,Update,eta,gamma):\n",
        "  W=np.zeros(9)\n",
        "  update=np.zeros(9)\n",
        "  dw={}\n",
        "  O_1=w[0]*X[0]\n",
        "  O_3=w[1]*X[1]\n",
        "  O_0=O_1+O_3\n",
        "  O_2=O_1+O_3\n",
        "  O1=w[0]**2*X[0]**2+w[1]**2*X[1]**2+2*w[0]*w[1]*X[0]*X[1]\n",
        "  O2=O1+w[5]\n",
        "  O3=math.exp(O2)\n",
        "  O4=O3+w[6]\n",
        "  O5=math.tanh(O4)\n",
        "  L1=w[2]*X[2]\n",
        "  L2=math.sin(L1)\n",
        "  L3=w[3]*X[3]+w[4]*X[4]\n",
        "  L4=L3*L2\n",
        "  L5=L4+w[7]\n",
        "  L6=sigmoid(L5)\n",
        "  L7=L6*w[8]\n",
        "  L8=w[3]*X[3]\n",
        "  L9=w[4]*X[4]\n",
        "  gradient_w7=-2*(y-y_pred)*(1-(math.tanh(O4))**2)\n",
        "  dw['dw7']=gradient_w7\n",
        "  w7=w[6]-eta*gradient_w7-Update[6]\n",
        "  W[6]=w7\n",
        "  update_w7=gamma*gradient_w7\n",
        "  update[6]=update_w7\n",
        "  gradient_w6=gradient_w7*math.exp(O2)\n",
        "  dw['dw6']=gradient_w6\n",
        "  w6=w[5]-eta*gradient_w6-Update[5]\n",
        "  W[5]=w6\n",
        "  update_w6=gamma*gradient_w6\n",
        "  update[5]=update_w6\n",
        "  gradient_w9=-2*(y-y_pred)*sigmoid(L5)\n",
        "  dw['dw9']=gradient_w9\n",
        "  w9=w[8]-eta*gradient_w9-Update[8]\n",
        "  W[8]=w9\n",
        "  update_w9=gamma*gradient_w9\n",
        "  update[8]=update_w9\n",
        "  gradient_w8=gradient_w9*(1-sigmoid(L5))*w9\n",
        "  dw['dw8']=gradient_w8\n",
        "  w8=w[7]-eta*gradient_w8-Update[7]\n",
        "  W[7]=w8\n",
        "  update_w8=gamma*gradient_w8\n",
        "  update[7]=update_w8\n",
        "  gradient_w3=gradient_w8*L3*math.cos(L1)*X[2]\n",
        "  dw['dw3']=gradient_w3\n",
        "  w3=w[2]-eta*gradient_w3-Update[2]\n",
        "  W[2]=w3\n",
        "  update_w3=gamma*gradient_w3\n",
        "  update[2]=update_w3\n",
        "  gradient_w4=gradient_w8*L2*X[3]\n",
        "  dw['dw4']=gradient_w4\n",
        "  w4=w[3]-eta*gradient_w4-Update[3]\n",
        "  W[3]=w4\n",
        "  update_w4=gamma*gradient_w4\n",
        "  update[3]=update_w4\n",
        "  gradient_w5=gradient_w8*L2*X[4]\n",
        "  dw['dw5']=gradient_w5\n",
        "  w5=w[4]-eta*gradient_w5-Update[4]\n",
        "  W[4]=w3\n",
        "  update_w5=gamma*gradient_w5\n",
        "  update[4]=update_w5\n",
        "  gradient_w1=gradient_w6*O_0*2*X[0]\n",
        "  dw['dw1']=gradient_w1\n",
        "  w1=w[0]-eta*gradient_w1-Update[0]\n",
        "  W[0]=w1\n",
        "  update_w1=gamma*gradient_w1\n",
        "  update[0]=update_w1\n",
        "  gradient_w2=gradient_w6*O_0*2*X[1]\n",
        "  dw['dw2']=gradient_w2\n",
        "  w2=w[1]-eta*gradient_w2-Update[1]\n",
        "  W[1]=w2\n",
        "  update_w2=gradient_w2*gamma\n",
        "  update[1]=update_w2\n",
        "  return(W,dw,update)"
      ],
      "execution_count": null,
      "outputs": []
    },
    {
      "cell_type": "code",
      "metadata": {
        "id": "CjTCVUIoGhTo",
        "colab_type": "code",
        "colab": {}
      },
      "source": [
        "from tqdm import tqdm\n",
        "W=np.ones(9)*0.1\n",
        "update=np.zeros(9)\n",
        "loss_list1=[]\n",
        "epoch=0\n",
        "for i in tqdm(range(15)):\n",
        "  epoch+=1\n",
        "  print(epoch)\n",
        "  loss=0\n",
        "  for j in data:\n",
        "    X=j[:5]\n",
        "    y=j[-1]\n",
        "    eta=0.001\n",
        "    Loss,y_pred=forward_propogation(X,y,W,One=False)\n",
        "    loss=loss+Loss\n",
        "    W,dw,update=backward_propogation_moment(y_pred,X,y,W,update,eta,0.9)\n",
        "  loss_list1.append(loss/data.shape[0])"
      ],
      "execution_count": null,
      "outputs": []
    },
    {
      "cell_type": "code",
      "metadata": {
        "id": "szT4q-_CYyTT",
        "colab_type": "code",
        "colab": {
          "base_uri": "https://localhost:8080/",
          "height": 54
        },
        "outputId": "196df71c-6881-4a06-d7c8-e66d33018f0f"
      },
      "source": [
        "print(loss_list1)"
      ],
      "execution_count": null,
      "outputs": [
        {
          "output_type": "stream",
          "text": [
            "[0.02984841920957355, 0.024125497503976346, 0.022792212430846323, 0.02255509977891266, 0.022492987217410568, 0.022476524648893777, 0.022471743879487752, 0.02247002238216113, 0.022469206215328223, 0.022468722922231992, 0.02246839724153909, 0.02246816184910817, 0.02246798383912799, 0.022467844183955473, 0.02246773088191093]\n"
          ],
          "name": "stdout"
        }
      ]
    },
    {
      "cell_type": "markdown",
      "metadata": {
        "id": "Ow20azfKlVhn",
        "colab_type": "text"
      },
      "source": [
        "<font color='blue'>Plot between epochs and loss</font>"
      ]
    },
    {
      "cell_type": "code",
      "metadata": {
        "id": "KQGeM_bqG-R1",
        "colab_type": "code",
        "colab": {
          "base_uri": "https://localhost:8080/",
          "height": 282
        },
        "outputId": "92817be1-9537-4c47-ac9d-42c2c73d53af"
      },
      "source": [
        "plt.plot(list(range(15)),loss_list1)"
      ],
      "execution_count": null,
      "outputs": [
        {
          "output_type": "execute_result",
          "data": {
            "text/plain": [
              "[<matplotlib.lines.Line2D at 0x7f03c0c96da0>]"
            ]
          },
          "metadata": {
            "tags": []
          },
          "execution_count": 25
        },
        {
          "output_type": "display_data",
          "data": {
            "image/png": "[encoded data removed]",
            "text/plain": [
              "<Figure size 432x288 with 1 Axes>"
            ]
          },
          "metadata": {
            "tags": [],
            "needs_background": "light"
          }
        }
      ]
    },
    {
      "cell_type": "markdown",
      "metadata": {
        "id": "V4RWWrZ7lWap",
        "colab_type": "text"
      },
      "source": [
        "###<font color='blue'>Algorithm with Vanilla update of weights</font>"
      ]
    },
    {
      "cell_type": "code",
      "metadata": {
        "id": "72rRC8rJGhf5",
        "colab_type": "code",
        "colab": {}
      },
      "source": [
        "def backward_propogation_adam(y_pred,X,y,w,eta,m,v,beta1,beta2):\n",
        "  W=np.zeros(9)\n",
        "  M=np.zeros(9)\n",
        "  V=np.zeros(9)\n",
        "  dw={}\n",
        "  O_1=w[0]*X[0]\n",
        "  O_3=w[1]*X[1]\n",
        "  O_0=O_1+O_3\n",
        "  O_2=O_1+O_3\n",
        "  O1=w[0]**2*X[0]**2+w[1]**2*X[1]**2+2*w[0]*w[1]*X[0]*X[1]\n",
        "  O2=O1+w[5]\n",
        "  O3=math.exp(O2)\n",
        "  O4=O3+w[6]\n",
        "  O5=math.tanh(O4)\n",
        "  L1=w[2]*X[2]\n",
        "  L2=math.sin(L1)\n",
        "  L3=w[3]*X[3]+w[4]*X[4]\n",
        "  L4=L3*L2\n",
        "  L5=L4+w[7]\n",
        "  L6=sigmoid(L5)\n",
        "  L7=L6*w[8]\n",
        "  L8=w[3]*X[3]\n",
        "  L9=w[4]*X[4]\n",
        "  gradient_w7=-2*(y-y_pred)*(1-(math.tanh(O4))**2)\n",
        "  dw['dw7']=gradient_w7\n",
        "  w7=w[6]-(eta/math.sqrt(v[6]+0.01))*m[6]\n",
        "  W[6]=w7\n",
        "  m_7=beta1*m[6]+(1-beta1)*gradient_w7\n",
        "  M[6]=m_7\n",
        "  v_7=beta2*v[6]+(1-beta2)*(gradient_w7)**2\n",
        "  V[6]=v_7\n",
        "  gradient_w6=gradient_w7*math.exp(O2)\n",
        "  dw['dw6']=gradient_w6\n",
        "  w6=w[5]-(eta/(math.sqrt(v[5]+0.01)))*m[5]\n",
        "  W[5]=w6\n",
        "  m_6=beta1*m[5]+(1-beta1)**gradient_w6\n",
        "  M[5]=m_6\n",
        "  v_6=beta2*v[5]+(1-beta2)*(gradient_w6)**2\n",
        "  V[5]=v_6\n",
        "  gradient_w9=-2*(y-y_pred)*sigmoid(L5)\n",
        "  dw['dw9']=gradient_w9\n",
        "  w9=w[8]-(eta/(math.sqrt(v[8]+0.01)))*m[8]\n",
        "  W[8]=w9\n",
        "  m_9=beta1*m[8]+(1-beta1)*gradient_w9\n",
        "  M[8]=m_9\n",
        "  v_9=beta2*v[8]+(1-beta2)*(gradient_w9)**2\n",
        "  V[8]=v_9\n",
        "  gradient_w8=gradient_w9*(1-sigmoid(L5))*w9\n",
        "  dw['dw8']=gradient_w8\n",
        "  w8=w[7]-(eta/(math.sqrt(v[7]+0.01)))*m[7]\n",
        "  W[7]=w8\n",
        "  m_8=beta1*m[7]+(1-beta1)*gradient_w8\n",
        "  M[7]=m_8\n",
        "  v_8=beta2*v[7]+(1-beta2)*(gradient_w8)**2\n",
        "  V[7]=v_8\n",
        "  gradient_w3=gradient_w8*L3*math.cos(L1)*X[2]\n",
        "  dw['dw3']=gradient_w3\n",
        "  w3=w[2]-(eta/(math.sqrt(v[2]+0.01)))*m[2]\n",
        "  W[2]=w3\n",
        "  m_3=beta1*m[2]+(1-beta1)*gradient_w3\n",
        "  M[2]=m_3\n",
        "  v_3=beta1*v[2]+(1-beta1)*(gradient_w3)**2\n",
        "  V[2]=v_3\n",
        "  gradient_w4=gradient_w8*L2*X[3]\n",
        "  dw['dw4']=gradient_w4\n",
        "  w4=w[3]-(eta/(math.sqrt(v[3]+0.01)))*m[3]\n",
        "  W[3]=w4\n",
        "  m_4=beta1*m[3]+(1-beta1)*gradient_w4\n",
        "  M[3]=m_4\n",
        "  v_4=beta2*v[3]+(1-beta2)*(gradient_w4)**2\n",
        "  V[3]=v_4\n",
        "  gradient_w5=gradient_w8*L2*X[4]\n",
        "  dw['dw5']=gradient_w5\n",
        "  w5=w[4]-(eta/(math.sqrt(v[4]+0.01)))*m[4]\n",
        "  W[4]=w3\n",
        "  m_5=beta1*m[4]+(1-beta1)*gradient_w5\n",
        "  M[4]=m_5\n",
        "  v_5=beta2*v[4]+(1-beta2)*(gradient_w5)**2\n",
        "  V[4]=v_5\n",
        "  gradient_w1=gradient_w6*O_0*2*X[0]\n",
        "  dw['dw1']=gradient_w1\n",
        "  w1=w[0]-(eta/(math.sqrt(v[0]+0.01)))*m[0]\n",
        "  W[0]=w1\n",
        "  m_1=beta1*m[0]+(1-beta1)*gradient_w1\n",
        "  M[0]=m_1\n",
        "  v_1=beta2*v[0]+(1-beta2)*(gradient_w1)**2\n",
        "  V[0]=v_1\n",
        "  gradient_w2=gradient_w6*O_0*2*X[1]\n",
        "  dw['dw2']=gradient_w2\n",
        "  w2=w[1]-(eta/math.sqrt(v[1]+0.01))*m[1]\n",
        "  W[1]=w2\n",
        "  m_2=beta1*m[1]+(1-beta1)*gradient_w2\n",
        "  M[1]=m_2\n",
        "  v_2=beta2*v[1]+(1-beta2)*(gradient_w2)**2\n",
        "  V[1]=v_2\n",
        "  return(W,dw,M,V)"
      ],
      "execution_count": null,
      "outputs": []
    },
    {
      "cell_type": "code",
      "metadata": {
        "id": "VERsKDEdxk6Q",
        "colab_type": "code",
        "colab": {}
      },
      "source": [
        "from tqdm import tqdm\n",
        "W=np.ones(9)*0.1\n",
        "M=np.zeros(9)\n",
        "V=np.zeros(9)\n",
        "loss_list2=[]\n",
        "epoch=0\n",
        "for i in tqdm(range(15)):\n",
        "  epoch+=1\n",
        "  print(epoch)\n",
        "  loss=0\n",
        "  for j in data:\n",
        "    X=j[:5]\n",
        "    y=j[-1]\n",
        "    eta=0.001\n",
        "    Loss,y_pred=forward_propogation(X,y,W,One=False)\n",
        "    loss=loss+Loss\n",
        "    W,dw,M,V=backward_propogation_adam(y_pred,X,y,W,eta,M,V,0.95,0.95)\n",
        "  loss_list2.append(loss/data.shape[0])"
      ],
      "execution_count": null,
      "outputs": []
    },
    {
      "cell_type": "code",
      "metadata": {
        "id": "a9YpjyE10_M9",
        "colab_type": "code",
        "colab": {
          "base_uri": "https://localhost:8080/",
          "height": 54
        },
        "outputId": "b01c1a9c-4777-4ae7-b848-4b7d9d920111"
      },
      "source": [
        "print(loss_list2)"
      ],
      "execution_count": null,
      "outputs": [
        {
          "output_type": "stream",
          "text": [
            "[1.5905192367054888, 0.3204984005164726, 0.017765140400216893, 0.010960765589606439, 0.006465246753778289, 0.0036456132859184753, 0.002182130492975015, 0.00145535795280602, 0.0010865075830945536, 0.0008950587351588935, 0.0007940181671698351, 0.0007393516750422043, 0.0007081135445208998, 0.0006882571683195539, 0.0006735298328854235]\n"
          ],
          "name": "stdout"
        }
      ]
    },
    {
      "cell_type": "markdown",
      "metadata": {
        "id": "MMy0nBw-lXml",
        "colab_type": "text"
      },
      "source": [
        "<font color='blue'>Plot between epochs and loss</font>"
      ]
    },
    {
      "cell_type": "code",
      "metadata": {
        "id": "eI0Fuo5w1Ibr",
        "colab_type": "code",
        "colab": {
          "base_uri": "https://localhost:8080/",
          "height": 282
        },
        "outputId": "ba067c7a-2a1a-4973-8314-24a3663209d2"
      },
      "source": [
        "plt.plot(list(range(15)),loss_list2)"
      ],
      "execution_count": null,
      "outputs": [
        {
          "output_type": "execute_result",
          "data": {
            "text/plain": [
              "[<matplotlib.lines.Line2D at 0x7f03c1251ac8>]"
            ]
          },
          "metadata": {
            "tags": []
          },
          "execution_count": 15
        },
        {
          "output_type": "display_data",
          "data": {
            "image/png": "[encoded data removed]",
            "text/plain": [
              "<Figure size 432x288 with 1 Axes>"
            ]
          },
          "metadata": {
            "tags": [],
            "needs_background": "light"
          }
        }
      ]
    },
    {
      "cell_type": "markdown",
      "metadata": {
        "id": "7627cy8YlnYO",
        "colab_type": "text"
      },
      "source": [
        "<font color='blue'>Comparision plot between epochs and loss with different optimizers</font>"
      ]
    },
    {
      "cell_type": "code",
      "metadata": {
        "id": "scleSfIXl_bC",
        "colab_type": "code",
        "colab": {
          "base_uri": "https://localhost:8080/",
          "height": 265
        },
        "outputId": "2b93c575-9226-45dc-8b2f-64cabdc4f331"
      },
      "source": [
        "plt.plot(list(range(15)),loss_list,label='vanilla_gradient')\n",
        "plt.plot(list(range(15)),loss_list1,label='gradient+momentum')\n",
        "plt.plot(list(range(15)),loss_list2,label='Adam')\n",
        "plt.legend()\n",
        "plt.show()"
      ],
      "execution_count": null,
      "outputs": [
        {
          "output_type": "display_data",
          "data": {
            "image/png": "[encoded data removed]",
            "text/plain": [
              "<Figure size 432x288 with 1 Axes>"
            ]
          },
          "metadata": {
            "tags": [],
            "needs_background": "light"
          }
        }
      ]
    }
  ]
}